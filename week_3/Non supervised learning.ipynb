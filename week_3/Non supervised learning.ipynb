{
 "cells": [
  {
   "cell_type": "code",
   "execution_count": 1,
   "id": "0018ba10",
   "metadata": {},
   "outputs": [],
   "source": [
    "import pandas as pd"
   ]
  },
  {
   "cell_type": "code",
   "execution_count": 2,
   "id": "830420f8",
   "metadata": {},
   "outputs": [
    {
     "name": "stdout",
     "output_type": "stream",
     "text": [
      "Non supervised learning.ipynb\n",
      "dados-padaria.csv\n"
     ]
    }
   ],
   "source": [
    "!ls"
   ]
  },
  {
   "cell_type": "code",
   "execution_count": 3,
   "id": "e1ba1761",
   "metadata": {},
   "outputs": [],
   "source": [
    "dados = pd.read_csv('dados-padaria.csv')"
   ]
  },
  {
   "cell_type": "code",
   "execution_count": 4,
   "id": "83607d59",
   "metadata": {},
   "outputs": [
    {
     "name": "stdout",
     "output_type": "stream",
     "text": [
      "<class 'pandas.core.frame.DataFrame'>\n",
      "RangeIndex: 20507 entries, 0 to 20506\n",
      "Data columns (total 5 columns):\n",
      " #   Column         Non-Null Count  Dtype \n",
      "---  ------         --------------  ----- \n",
      " 0   TransactionNo  20507 non-null  int64 \n",
      " 1   Items          20507 non-null  object\n",
      " 2   DateTime       20507 non-null  object\n",
      " 3   Daypart        20507 non-null  object\n",
      " 4   DayType        20507 non-null  object\n",
      "dtypes: int64(1), object(4)\n",
      "memory usage: 801.2+ KB\n"
     ]
    }
   ],
   "source": [
    "dados.info()"
   ]
  },
  {
   "cell_type": "code",
   "execution_count": 5,
   "id": "b6a634ab",
   "metadata": {},
   "outputs": [
    {
     "data": {
      "text/html": [
       "<div>\n",
       "<style scoped>\n",
       "    .dataframe tbody tr th:only-of-type {\n",
       "        vertical-align: middle;\n",
       "    }\n",
       "\n",
       "    .dataframe tbody tr th {\n",
       "        vertical-align: top;\n",
       "    }\n",
       "\n",
       "    .dataframe thead th {\n",
       "        text-align: right;\n",
       "    }\n",
       "</style>\n",
       "<table border=\"1\" class=\"dataframe\">\n",
       "  <thead>\n",
       "    <tr style=\"text-align: right;\">\n",
       "      <th></th>\n",
       "      <th>TransactionNo</th>\n",
       "      <th>Items</th>\n",
       "      <th>DateTime</th>\n",
       "      <th>Daypart</th>\n",
       "      <th>DayType</th>\n",
       "    </tr>\n",
       "  </thead>\n",
       "  <tbody>\n",
       "    <tr>\n",
       "      <th>0</th>\n",
       "      <td>1</td>\n",
       "      <td>Bread</td>\n",
       "      <td>2016-10-30 09:58:11</td>\n",
       "      <td>Morning</td>\n",
       "      <td>Weekend</td>\n",
       "    </tr>\n",
       "    <tr>\n",
       "      <th>1</th>\n",
       "      <td>2</td>\n",
       "      <td>Scandinavian</td>\n",
       "      <td>2016-10-30 10:05:34</td>\n",
       "      <td>Morning</td>\n",
       "      <td>Weekend</td>\n",
       "    </tr>\n",
       "    <tr>\n",
       "      <th>2</th>\n",
       "      <td>2</td>\n",
       "      <td>Scandinavian</td>\n",
       "      <td>2016-10-30 10:05:34</td>\n",
       "      <td>Morning</td>\n",
       "      <td>Weekend</td>\n",
       "    </tr>\n",
       "    <tr>\n",
       "      <th>3</th>\n",
       "      <td>3</td>\n",
       "      <td>Hot chocolate</td>\n",
       "      <td>2016-10-30 10:07:57</td>\n",
       "      <td>Morning</td>\n",
       "      <td>Weekend</td>\n",
       "    </tr>\n",
       "    <tr>\n",
       "      <th>4</th>\n",
       "      <td>3</td>\n",
       "      <td>Jam</td>\n",
       "      <td>2016-10-30 10:07:57</td>\n",
       "      <td>Morning</td>\n",
       "      <td>Weekend</td>\n",
       "    </tr>\n",
       "  </tbody>\n",
       "</table>\n",
       "</div>"
      ],
      "text/plain": [
       "   TransactionNo          Items             DateTime  Daypart  DayType\n",
       "0              1          Bread  2016-10-30 09:58:11  Morning  Weekend\n",
       "1              2   Scandinavian  2016-10-30 10:05:34  Morning  Weekend\n",
       "2              2   Scandinavian  2016-10-30 10:05:34  Morning  Weekend\n",
       "3              3  Hot chocolate  2016-10-30 10:07:57  Morning  Weekend\n",
       "4              3            Jam  2016-10-30 10:07:57  Morning  Weekend"
      ]
     },
     "execution_count": 5,
     "metadata": {},
     "output_type": "execute_result"
    }
   ],
   "source": [
    "dados.head()"
   ]
  },
  {
   "cell_type": "code",
   "execution_count": 6,
   "id": "4a714734",
   "metadata": {},
   "outputs": [],
   "source": [
    "transacao = []\n",
    "\n",
    "for item in dados['TransactionNo'].unique():\n",
    "    lista = list(set(dados[dados['TransactionNo']==item]['Items']))\n",
    "    transacao.append(lista)"
   ]
  },
  {
   "cell_type": "code",
   "execution_count": 7,
   "id": "493fc691",
   "metadata": {},
   "outputs": [
    {
     "data": {
      "text/plain": [
       "[['Bread'],\n",
       " ['Scandinavian'],\n",
       " ['Cookies', 'Hot chocolate', 'Jam'],\n",
       " ['Muffin'],\n",
       " ['Bread', 'Pastry', 'Coffee']]"
      ]
     },
     "execution_count": 7,
     "metadata": {},
     "output_type": "execute_result"
    }
   ],
   "source": [
    "transacao[0:5]"
   ]
  },
  {
   "cell_type": "markdown",
   "id": "32846825",
   "metadata": {},
   "source": [
    " # Regras de associação"
   ]
  },
  {
   "cell_type": "code",
   "execution_count": 8,
   "id": "00866cf2",
   "metadata": {
    "scrolled": true
   },
   "outputs": [
    {
     "name": "stdout",
     "output_type": "stream",
     "text": [
      "Requirement already satisfied: mlxtend in c:\\users\\pichau\\anaconda3\\lib\\site-packages (0.22.0)\n",
      "Requirement already satisfied: scipy>=1.2.1 in c:\\users\\pichau\\anaconda3\\lib\\site-packages (from mlxtend) (1.10.1)\n",
      "Requirement already satisfied: numpy>=1.16.2 in c:\\users\\pichau\\anaconda3\\lib\\site-packages (from mlxtend) (1.24.3)\n",
      "Requirement already satisfied: pandas>=0.24.2 in c:\\users\\pichau\\anaconda3\\lib\\site-packages (from mlxtend) (1.5.3)\n",
      "Requirement already satisfied: scikit-learn>=1.0.2 in c:\\users\\pichau\\anaconda3\\lib\\site-packages (from mlxtend) (1.2.2)\n",
      "Requirement already satisfied: matplotlib>=3.0.0 in c:\\users\\pichau\\anaconda3\\lib\\site-packages (from mlxtend) (3.7.1)\n",
      "Requirement already satisfied: joblib>=0.13.2 in c:\\users\\pichau\\anaconda3\\lib\\site-packages (from mlxtend) (1.2.0)\n",
      "Requirement already satisfied: setuptools in c:\\users\\pichau\\anaconda3\\lib\\site-packages (from mlxtend) (67.8.0)\n",
      "Requirement already satisfied: contourpy>=1.0.1 in c:\\users\\pichau\\anaconda3\\lib\\site-packages (from matplotlib>=3.0.0->mlxtend) (1.0.5)\n",
      "Requirement already satisfied: cycler>=0.10 in c:\\users\\pichau\\anaconda3\\lib\\site-packages (from matplotlib>=3.0.0->mlxtend) (0.11.0)\n",
      "Requirement already satisfied: fonttools>=4.22.0 in c:\\users\\pichau\\anaconda3\\lib\\site-packages (from matplotlib>=3.0.0->mlxtend) (4.25.0)\n",
      "Requirement already satisfied: kiwisolver>=1.0.1 in c:\\users\\pichau\\anaconda3\\lib\\site-packages (from matplotlib>=3.0.0->mlxtend) (1.4.4)\n",
      "Requirement already satisfied: packaging>=20.0 in c:\\users\\pichau\\appdata\\roaming\\python\\python311\\site-packages (from matplotlib>=3.0.0->mlxtend) (23.1)\n",
      "Requirement already satisfied: pillow>=6.2.0 in c:\\users\\pichau\\anaconda3\\lib\\site-packages (from matplotlib>=3.0.0->mlxtend) (9.4.0)\n",
      "Requirement already satisfied: pyparsing>=2.3.1 in c:\\users\\pichau\\anaconda3\\lib\\site-packages (from matplotlib>=3.0.0->mlxtend) (3.0.9)\n",
      "Requirement already satisfied: python-dateutil>=2.7 in c:\\users\\pichau\\anaconda3\\lib\\site-packages (from matplotlib>=3.0.0->mlxtend) (2.8.2)\n",
      "Requirement already satisfied: pytz>=2020.1 in c:\\users\\pichau\\anaconda3\\lib\\site-packages (from pandas>=0.24.2->mlxtend) (2022.7)\n",
      "Requirement already satisfied: threadpoolctl>=2.0.0 in c:\\users\\pichau\\anaconda3\\lib\\site-packages (from scikit-learn>=1.0.2->mlxtend) (2.2.0)\n",
      "Requirement already satisfied: six>=1.5 in c:\\users\\pichau\\anaconda3\\lib\\site-packages (from python-dateutil>=2.7->matplotlib>=3.0.0->mlxtend) (1.16.0)\n"
     ]
    }
   ],
   "source": [
    "!pip install mlxtend --upgrade"
   ]
  },
  {
   "cell_type": "code",
   "execution_count": 9,
   "id": "640e794a",
   "metadata": {},
   "outputs": [],
   "source": [
    "from mlxtend.preprocessing import TransactionEncoder"
   ]
  },
  {
   "cell_type": "code",
   "execution_count": 10,
   "id": "8fbbbf7e",
   "metadata": {},
   "outputs": [],
   "source": [
    "# One hot encoding\n",
    "te = TransactionEncoder()"
   ]
  },
  {
   "cell_type": "code",
   "execution_count": 11,
   "id": "2adda44a",
   "metadata": {},
   "outputs": [],
   "source": [
    "transacao_te = te.fit(transacao).transform(transacao)"
   ]
  },
  {
   "cell_type": "code",
   "execution_count": 12,
   "id": "b9532f73",
   "metadata": {},
   "outputs": [
    {
     "data": {
      "text/plain": [
       "array([[False, False, False, ..., False, False, False],\n",
       "       [False, False, False, ..., False, False, False],\n",
       "       [False, False, False, ..., False, False, False],\n",
       "       ...,\n",
       "       [False, False, False, ..., False, False, False],\n",
       "       [False, False, False, ..., False, False, False],\n",
       "       [False, False, False, ..., False, False, False]])"
      ]
     },
     "execution_count": 12,
     "metadata": {},
     "output_type": "execute_result"
    }
   ],
   "source": [
    "transacao_te"
   ]
  },
  {
   "cell_type": "code",
   "execution_count": 13,
   "id": "0a952396",
   "metadata": {},
   "outputs": [
    {
     "data": {
      "text/html": [
       "<div>\n",
       "<style scoped>\n",
       "    .dataframe tbody tr th:only-of-type {\n",
       "        vertical-align: middle;\n",
       "    }\n",
       "\n",
       "    .dataframe tbody tr th {\n",
       "        vertical-align: top;\n",
       "    }\n",
       "\n",
       "    .dataframe thead th {\n",
       "        text-align: right;\n",
       "    }\n",
       "</style>\n",
       "<table border=\"1\" class=\"dataframe\">\n",
       "  <thead>\n",
       "    <tr style=\"text-align: right;\">\n",
       "      <th></th>\n",
       "      <th>Adjustment</th>\n",
       "      <th>Afternoon with the baker</th>\n",
       "      <th>Alfajores</th>\n",
       "      <th>Argentina Night</th>\n",
       "      <th>Art Tray</th>\n",
       "      <th>Bacon</th>\n",
       "      <th>Baguette</th>\n",
       "      <th>Bakewell</th>\n",
       "      <th>Bare Popcorn</th>\n",
       "      <th>Basket</th>\n",
       "      <th>...</th>\n",
       "      <th>The BART</th>\n",
       "      <th>The Nomad</th>\n",
       "      <th>Tiffin</th>\n",
       "      <th>Toast</th>\n",
       "      <th>Truffles</th>\n",
       "      <th>Tshirt</th>\n",
       "      <th>Valentine's card</th>\n",
       "      <th>Vegan Feast</th>\n",
       "      <th>Vegan mincepie</th>\n",
       "      <th>Victorian Sponge</th>\n",
       "    </tr>\n",
       "  </thead>\n",
       "  <tbody>\n",
       "    <tr>\n",
       "      <th>0</th>\n",
       "      <td>False</td>\n",
       "      <td>False</td>\n",
       "      <td>False</td>\n",
       "      <td>False</td>\n",
       "      <td>False</td>\n",
       "      <td>False</td>\n",
       "      <td>False</td>\n",
       "      <td>False</td>\n",
       "      <td>False</td>\n",
       "      <td>False</td>\n",
       "      <td>...</td>\n",
       "      <td>False</td>\n",
       "      <td>False</td>\n",
       "      <td>False</td>\n",
       "      <td>False</td>\n",
       "      <td>False</td>\n",
       "      <td>False</td>\n",
       "      <td>False</td>\n",
       "      <td>False</td>\n",
       "      <td>False</td>\n",
       "      <td>False</td>\n",
       "    </tr>\n",
       "    <tr>\n",
       "      <th>1</th>\n",
       "      <td>False</td>\n",
       "      <td>False</td>\n",
       "      <td>False</td>\n",
       "      <td>False</td>\n",
       "      <td>False</td>\n",
       "      <td>False</td>\n",
       "      <td>False</td>\n",
       "      <td>False</td>\n",
       "      <td>False</td>\n",
       "      <td>False</td>\n",
       "      <td>...</td>\n",
       "      <td>False</td>\n",
       "      <td>False</td>\n",
       "      <td>False</td>\n",
       "      <td>False</td>\n",
       "      <td>False</td>\n",
       "      <td>False</td>\n",
       "      <td>False</td>\n",
       "      <td>False</td>\n",
       "      <td>False</td>\n",
       "      <td>False</td>\n",
       "    </tr>\n",
       "    <tr>\n",
       "      <th>2</th>\n",
       "      <td>False</td>\n",
       "      <td>False</td>\n",
       "      <td>False</td>\n",
       "      <td>False</td>\n",
       "      <td>False</td>\n",
       "      <td>False</td>\n",
       "      <td>False</td>\n",
       "      <td>False</td>\n",
       "      <td>False</td>\n",
       "      <td>False</td>\n",
       "      <td>...</td>\n",
       "      <td>False</td>\n",
       "      <td>False</td>\n",
       "      <td>False</td>\n",
       "      <td>False</td>\n",
       "      <td>False</td>\n",
       "      <td>False</td>\n",
       "      <td>False</td>\n",
       "      <td>False</td>\n",
       "      <td>False</td>\n",
       "      <td>False</td>\n",
       "    </tr>\n",
       "    <tr>\n",
       "      <th>3</th>\n",
       "      <td>False</td>\n",
       "      <td>False</td>\n",
       "      <td>False</td>\n",
       "      <td>False</td>\n",
       "      <td>False</td>\n",
       "      <td>False</td>\n",
       "      <td>False</td>\n",
       "      <td>False</td>\n",
       "      <td>False</td>\n",
       "      <td>False</td>\n",
       "      <td>...</td>\n",
       "      <td>False</td>\n",
       "      <td>False</td>\n",
       "      <td>False</td>\n",
       "      <td>False</td>\n",
       "      <td>False</td>\n",
       "      <td>False</td>\n",
       "      <td>False</td>\n",
       "      <td>False</td>\n",
       "      <td>False</td>\n",
       "      <td>False</td>\n",
       "    </tr>\n",
       "    <tr>\n",
       "      <th>4</th>\n",
       "      <td>False</td>\n",
       "      <td>False</td>\n",
       "      <td>False</td>\n",
       "      <td>False</td>\n",
       "      <td>False</td>\n",
       "      <td>False</td>\n",
       "      <td>False</td>\n",
       "      <td>False</td>\n",
       "      <td>False</td>\n",
       "      <td>False</td>\n",
       "      <td>...</td>\n",
       "      <td>False</td>\n",
       "      <td>False</td>\n",
       "      <td>False</td>\n",
       "      <td>False</td>\n",
       "      <td>False</td>\n",
       "      <td>False</td>\n",
       "      <td>False</td>\n",
       "      <td>False</td>\n",
       "      <td>False</td>\n",
       "      <td>False</td>\n",
       "    </tr>\n",
       "  </tbody>\n",
       "</table>\n",
       "<p>5 rows × 94 columns</p>\n",
       "</div>"
      ],
      "text/plain": [
       "   Adjustment  Afternoon with the baker  Alfajores  Argentina Night  Art Tray  \\\n",
       "0       False                     False      False            False     False   \n",
       "1       False                     False      False            False     False   \n",
       "2       False                     False      False            False     False   \n",
       "3       False                     False      False            False     False   \n",
       "4       False                     False      False            False     False   \n",
       "\n",
       "   Bacon  Baguette  Bakewell  Bare Popcorn  Basket  ...  The BART  The Nomad  \\\n",
       "0  False     False     False         False   False  ...     False      False   \n",
       "1  False     False     False         False   False  ...     False      False   \n",
       "2  False     False     False         False   False  ...     False      False   \n",
       "3  False     False     False         False   False  ...     False      False   \n",
       "4  False     False     False         False   False  ...     False      False   \n",
       "\n",
       "   Tiffin  Toast  Truffles  Tshirt  Valentine's card  Vegan Feast  \\\n",
       "0   False  False     False   False             False        False   \n",
       "1   False  False     False   False             False        False   \n",
       "2   False  False     False   False             False        False   \n",
       "3   False  False     False   False             False        False   \n",
       "4   False  False     False   False             False        False   \n",
       "\n",
       "   Vegan mincepie  Victorian Sponge  \n",
       "0           False             False  \n",
       "1           False             False  \n",
       "2           False             False  \n",
       "3           False             False  \n",
       "4           False             False  \n",
       "\n",
       "[5 rows x 94 columns]"
      ]
     },
     "execution_count": 13,
     "metadata": {},
     "output_type": "execute_result"
    }
   ],
   "source": [
    "transacao_transformado = pd.DataFrame(transacao_te, columns=te.columns_)\n",
    "transacao_transformado.head()"
   ]
  },
  {
   "cell_type": "code",
   "execution_count": 14,
   "id": "99da7bb2",
   "metadata": {},
   "outputs": [],
   "source": [
    "from mlxtend.frequent_patterns import apriori"
   ]
  },
  {
   "cell_type": "code",
   "execution_count": 15,
   "id": "67686b6e",
   "metadata": {},
   "outputs": [
    {
     "data": {
      "text/html": [
       "<div>\n",
       "<style scoped>\n",
       "    .dataframe tbody tr th:only-of-type {\n",
       "        vertical-align: middle;\n",
       "    }\n",
       "\n",
       "    .dataframe tbody tr th {\n",
       "        vertical-align: top;\n",
       "    }\n",
       "\n",
       "    .dataframe thead th {\n",
       "        text-align: right;\n",
       "    }\n",
       "</style>\n",
       "<table border=\"1\" class=\"dataframe\">\n",
       "  <thead>\n",
       "    <tr style=\"text-align: right;\">\n",
       "      <th></th>\n",
       "      <th>support</th>\n",
       "      <th>itemsets</th>\n",
       "    </tr>\n",
       "  </thead>\n",
       "  <tbody>\n",
       "    <tr>\n",
       "      <th>4</th>\n",
       "      <td>0.478394</td>\n",
       "      <td>(Coffee)</td>\n",
       "    </tr>\n",
       "    <tr>\n",
       "      <th>1</th>\n",
       "      <td>0.327205</td>\n",
       "      <td>(Bread)</td>\n",
       "    </tr>\n",
       "    <tr>\n",
       "      <th>16</th>\n",
       "      <td>0.142631</td>\n",
       "      <td>(Tea)</td>\n",
       "    </tr>\n",
       "    <tr>\n",
       "      <th>3</th>\n",
       "      <td>0.103856</td>\n",
       "      <td>(Cake)</td>\n",
       "    </tr>\n",
       "    <tr>\n",
       "      <th>20</th>\n",
       "      <td>0.090016</td>\n",
       "      <td>(Coffee, Bread)</td>\n",
       "    </tr>\n",
       "    <tr>\n",
       "      <th>11</th>\n",
       "      <td>0.086107</td>\n",
       "      <td>(Pastry)</td>\n",
       "    </tr>\n",
       "    <tr>\n",
       "      <th>12</th>\n",
       "      <td>0.071844</td>\n",
       "      <td>(Sandwich)</td>\n",
       "    </tr>\n",
       "    <tr>\n",
       "      <th>9</th>\n",
       "      <td>0.061807</td>\n",
       "      <td>(Medialuna)</td>\n",
       "    </tr>\n",
       "    <tr>\n",
       "      <th>7</th>\n",
       "      <td>0.058320</td>\n",
       "      <td>(Hot chocolate)</td>\n",
       "    </tr>\n",
       "    <tr>\n",
       "      <th>23</th>\n",
       "      <td>0.054728</td>\n",
       "      <td>(Cake, Coffee)</td>\n",
       "    </tr>\n",
       "    <tr>\n",
       "      <th>5</th>\n",
       "      <td>0.054411</td>\n",
       "      <td>(Cookies)</td>\n",
       "    </tr>\n",
       "    <tr>\n",
       "      <th>31</th>\n",
       "      <td>0.049868</td>\n",
       "      <td>(Tea, Coffee)</td>\n",
       "    </tr>\n",
       "    <tr>\n",
       "      <th>29</th>\n",
       "      <td>0.047544</td>\n",
       "      <td>(Pastry, Coffee)</td>\n",
       "    </tr>\n",
       "    <tr>\n",
       "      <th>2</th>\n",
       "      <td>0.040042</td>\n",
       "      <td>(Brownie)</td>\n",
       "    </tr>\n",
       "    <tr>\n",
       "      <th>6</th>\n",
       "      <td>0.039197</td>\n",
       "      <td>(Farm House)</td>\n",
       "    </tr>\n",
       "    <tr>\n",
       "      <th>8</th>\n",
       "      <td>0.038563</td>\n",
       "      <td>(Juice)</td>\n",
       "    </tr>\n",
       "    <tr>\n",
       "      <th>10</th>\n",
       "      <td>0.038457</td>\n",
       "      <td>(Muffin)</td>\n",
       "    </tr>\n",
       "    <tr>\n",
       "      <th>30</th>\n",
       "      <td>0.038246</td>\n",
       "      <td>(Sandwich, Coffee)</td>\n",
       "    </tr>\n",
       "    <tr>\n",
       "      <th>0</th>\n",
       "      <td>0.036344</td>\n",
       "      <td>(Alfajores)</td>\n",
       "    </tr>\n",
       "    <tr>\n",
       "      <th>28</th>\n",
       "      <td>0.035182</td>\n",
       "      <td>(Medialuna, Coffee)</td>\n",
       "    </tr>\n",
       "    <tr>\n",
       "      <th>14</th>\n",
       "      <td>0.034548</td>\n",
       "      <td>(Scone)</td>\n",
       "    </tr>\n",
       "    <tr>\n",
       "      <th>15</th>\n",
       "      <td>0.034443</td>\n",
       "      <td>(Soup)</td>\n",
       "    </tr>\n",
       "    <tr>\n",
       "      <th>17</th>\n",
       "      <td>0.033597</td>\n",
       "      <td>(Toast)</td>\n",
       "    </tr>\n",
       "    <tr>\n",
       "      <th>26</th>\n",
       "      <td>0.029583</td>\n",
       "      <td>(Hot chocolate, Coffee)</td>\n",
       "    </tr>\n",
       "    <tr>\n",
       "      <th>21</th>\n",
       "      <td>0.029160</td>\n",
       "      <td>(Pastry, Bread)</td>\n",
       "    </tr>\n",
       "    <tr>\n",
       "      <th>13</th>\n",
       "      <td>0.029054</td>\n",
       "      <td>(Scandinavian)</td>\n",
       "    </tr>\n",
       "    <tr>\n",
       "      <th>25</th>\n",
       "      <td>0.028209</td>\n",
       "      <td>(Cookies, Coffee)</td>\n",
       "    </tr>\n",
       "    <tr>\n",
       "      <th>22</th>\n",
       "      <td>0.028104</td>\n",
       "      <td>(Tea, Bread)</td>\n",
       "    </tr>\n",
       "    <tr>\n",
       "      <th>24</th>\n",
       "      <td>0.023772</td>\n",
       "      <td>(Cake, Tea)</td>\n",
       "    </tr>\n",
       "    <tr>\n",
       "      <th>32</th>\n",
       "      <td>0.023666</td>\n",
       "      <td>(Toast, Coffee)</td>\n",
       "    </tr>\n",
       "    <tr>\n",
       "      <th>19</th>\n",
       "      <td>0.023349</td>\n",
       "      <td>(Cake, Bread)</td>\n",
       "    </tr>\n",
       "    <tr>\n",
       "      <th>27</th>\n",
       "      <td>0.020602</td>\n",
       "      <td>(Coffee, Juice)</td>\n",
       "    </tr>\n",
       "    <tr>\n",
       "      <th>18</th>\n",
       "      <td>0.020285</td>\n",
       "      <td>(Truffles)</td>\n",
       "    </tr>\n",
       "  </tbody>\n",
       "</table>\n",
       "</div>"
      ],
      "text/plain": [
       "     support                 itemsets\n",
       "4   0.478394                 (Coffee)\n",
       "1   0.327205                  (Bread)\n",
       "16  0.142631                    (Tea)\n",
       "3   0.103856                   (Cake)\n",
       "20  0.090016          (Coffee, Bread)\n",
       "11  0.086107                 (Pastry)\n",
       "12  0.071844               (Sandwich)\n",
       "9   0.061807              (Medialuna)\n",
       "7   0.058320          (Hot chocolate)\n",
       "23  0.054728           (Cake, Coffee)\n",
       "5   0.054411                (Cookies)\n",
       "31  0.049868            (Tea, Coffee)\n",
       "29  0.047544         (Pastry, Coffee)\n",
       "2   0.040042                (Brownie)\n",
       "6   0.039197             (Farm House)\n",
       "8   0.038563                  (Juice)\n",
       "10  0.038457                 (Muffin)\n",
       "30  0.038246       (Sandwich, Coffee)\n",
       "0   0.036344              (Alfajores)\n",
       "28  0.035182      (Medialuna, Coffee)\n",
       "14  0.034548                  (Scone)\n",
       "15  0.034443                   (Soup)\n",
       "17  0.033597                  (Toast)\n",
       "26  0.029583  (Hot chocolate, Coffee)\n",
       "21  0.029160          (Pastry, Bread)\n",
       "13  0.029054           (Scandinavian)\n",
       "25  0.028209        (Cookies, Coffee)\n",
       "22  0.028104             (Tea, Bread)\n",
       "24  0.023772              (Cake, Tea)\n",
       "32  0.023666          (Toast, Coffee)\n",
       "19  0.023349            (Cake, Bread)\n",
       "27  0.020602          (Coffee, Juice)\n",
       "18  0.020285               (Truffles)"
      ]
     },
     "execution_count": 15,
     "metadata": {},
     "output_type": "execute_result"
    }
   ],
   "source": [
    "items_frequentes_apriori = apriori(transacao_transformado, use_colnames=True, min_support=0.02)\n",
    "items_frequentes_apriori.sort_values(['support'], ascending=False)"
   ]
  },
  {
   "cell_type": "code",
   "execution_count": 16,
   "id": "bf081618",
   "metadata": {},
   "outputs": [],
   "source": [
    "from mlxtend.frequent_patterns import association_rules"
   ]
  },
  {
   "cell_type": "code",
   "execution_count": 17,
   "id": "245061dd",
   "metadata": {},
   "outputs": [
    {
     "data": {
      "text/html": [
       "<div>\n",
       "<style scoped>\n",
       "    .dataframe tbody tr th:only-of-type {\n",
       "        vertical-align: middle;\n",
       "    }\n",
       "\n",
       "    .dataframe tbody tr th {\n",
       "        vertical-align: top;\n",
       "    }\n",
       "\n",
       "    .dataframe thead th {\n",
       "        text-align: right;\n",
       "    }\n",
       "</style>\n",
       "<table border=\"1\" class=\"dataframe\">\n",
       "  <thead>\n",
       "    <tr style=\"text-align: right;\">\n",
       "      <th></th>\n",
       "      <th>antecedents</th>\n",
       "      <th>consequents</th>\n",
       "      <th>antecedent support</th>\n",
       "      <th>consequent support</th>\n",
       "      <th>support</th>\n",
       "      <th>confidence</th>\n",
       "      <th>lift</th>\n",
       "      <th>leverage</th>\n",
       "      <th>conviction</th>\n",
       "      <th>zhangs_metric</th>\n",
       "    </tr>\n",
       "  </thead>\n",
       "  <tbody>\n",
       "    <tr>\n",
       "      <th>0</th>\n",
       "      <td>(Cake)</td>\n",
       "      <td>(Coffee)</td>\n",
       "      <td>0.103856</td>\n",
       "      <td>0.478394</td>\n",
       "      <td>0.054728</td>\n",
       "      <td>0.526958</td>\n",
       "      <td>1.101515</td>\n",
       "      <td>0.005044</td>\n",
       "      <td>1.102664</td>\n",
       "      <td>0.102840</td>\n",
       "    </tr>\n",
       "    <tr>\n",
       "      <th>1</th>\n",
       "      <td>(Cookies)</td>\n",
       "      <td>(Coffee)</td>\n",
       "      <td>0.054411</td>\n",
       "      <td>0.478394</td>\n",
       "      <td>0.028209</td>\n",
       "      <td>0.518447</td>\n",
       "      <td>1.083723</td>\n",
       "      <td>0.002179</td>\n",
       "      <td>1.083174</td>\n",
       "      <td>0.081700</td>\n",
       "    </tr>\n",
       "    <tr>\n",
       "      <th>2</th>\n",
       "      <td>(Hot chocolate)</td>\n",
       "      <td>(Coffee)</td>\n",
       "      <td>0.058320</td>\n",
       "      <td>0.478394</td>\n",
       "      <td>0.029583</td>\n",
       "      <td>0.507246</td>\n",
       "      <td>1.060311</td>\n",
       "      <td>0.001683</td>\n",
       "      <td>1.058553</td>\n",
       "      <td>0.060403</td>\n",
       "    </tr>\n",
       "    <tr>\n",
       "      <th>3</th>\n",
       "      <td>(Juice)</td>\n",
       "      <td>(Coffee)</td>\n",
       "      <td>0.038563</td>\n",
       "      <td>0.478394</td>\n",
       "      <td>0.020602</td>\n",
       "      <td>0.534247</td>\n",
       "      <td>1.116750</td>\n",
       "      <td>0.002154</td>\n",
       "      <td>1.119919</td>\n",
       "      <td>0.108738</td>\n",
       "    </tr>\n",
       "    <tr>\n",
       "      <th>4</th>\n",
       "      <td>(Medialuna)</td>\n",
       "      <td>(Coffee)</td>\n",
       "      <td>0.061807</td>\n",
       "      <td>0.478394</td>\n",
       "      <td>0.035182</td>\n",
       "      <td>0.569231</td>\n",
       "      <td>1.189878</td>\n",
       "      <td>0.005614</td>\n",
       "      <td>1.210871</td>\n",
       "      <td>0.170091</td>\n",
       "    </tr>\n",
       "    <tr>\n",
       "      <th>5</th>\n",
       "      <td>(Pastry)</td>\n",
       "      <td>(Coffee)</td>\n",
       "      <td>0.086107</td>\n",
       "      <td>0.478394</td>\n",
       "      <td>0.047544</td>\n",
       "      <td>0.552147</td>\n",
       "      <td>1.154168</td>\n",
       "      <td>0.006351</td>\n",
       "      <td>1.164682</td>\n",
       "      <td>0.146161</td>\n",
       "    </tr>\n",
       "    <tr>\n",
       "      <th>6</th>\n",
       "      <td>(Sandwich)</td>\n",
       "      <td>(Coffee)</td>\n",
       "      <td>0.071844</td>\n",
       "      <td>0.478394</td>\n",
       "      <td>0.038246</td>\n",
       "      <td>0.532353</td>\n",
       "      <td>1.112792</td>\n",
       "      <td>0.003877</td>\n",
       "      <td>1.115384</td>\n",
       "      <td>0.109205</td>\n",
       "    </tr>\n",
       "    <tr>\n",
       "      <th>7</th>\n",
       "      <td>(Toast)</td>\n",
       "      <td>(Coffee)</td>\n",
       "      <td>0.033597</td>\n",
       "      <td>0.478394</td>\n",
       "      <td>0.023666</td>\n",
       "      <td>0.704403</td>\n",
       "      <td>1.472431</td>\n",
       "      <td>0.007593</td>\n",
       "      <td>1.764582</td>\n",
       "      <td>0.332006</td>\n",
       "    </tr>\n",
       "  </tbody>\n",
       "</table>\n",
       "</div>"
      ],
      "text/plain": [
       "       antecedents consequents  antecedent support  consequent support  \\\n",
       "0           (Cake)    (Coffee)            0.103856            0.478394   \n",
       "1        (Cookies)    (Coffee)            0.054411            0.478394   \n",
       "2  (Hot chocolate)    (Coffee)            0.058320            0.478394   \n",
       "3          (Juice)    (Coffee)            0.038563            0.478394   \n",
       "4      (Medialuna)    (Coffee)            0.061807            0.478394   \n",
       "5         (Pastry)    (Coffee)            0.086107            0.478394   \n",
       "6       (Sandwich)    (Coffee)            0.071844            0.478394   \n",
       "7          (Toast)    (Coffee)            0.033597            0.478394   \n",
       "\n",
       "    support  confidence      lift  leverage  conviction  zhangs_metric  \n",
       "0  0.054728    0.526958  1.101515  0.005044    1.102664       0.102840  \n",
       "1  0.028209    0.518447  1.083723  0.002179    1.083174       0.081700  \n",
       "2  0.029583    0.507246  1.060311  0.001683    1.058553       0.060403  \n",
       "3  0.020602    0.534247  1.116750  0.002154    1.119919       0.108738  \n",
       "4  0.035182    0.569231  1.189878  0.005614    1.210871       0.170091  \n",
       "5  0.047544    0.552147  1.154168  0.006351    1.164682       0.146161  \n",
       "6  0.038246    0.532353  1.112792  0.003877    1.115384       0.109205  \n",
       "7  0.023666    0.704403  1.472431  0.007593    1.764582       0.332006  "
      ]
     },
     "execution_count": 17,
     "metadata": {},
     "output_type": "execute_result"
    }
   ],
   "source": [
    "regras_apriori = association_rules(items_frequentes_apriori, metric='confidence', min_threshold=0.5)\n",
    "regras_apriori"
   ]
  },
  {
   "cell_type": "markdown",
   "id": "231855fa",
   "metadata": {},
   "source": [
    "# Clustering"
   ]
  },
  {
   "cell_type": "code",
   "execution_count": 18,
   "id": "bb68862e",
   "metadata": {},
   "outputs": [],
   "source": [
    "dados_lab = pd.read_excel('dados_feijao.xlsx')"
   ]
  },
  {
   "cell_type": "code",
   "execution_count": 19,
   "id": "4405b741",
   "metadata": {},
   "outputs": [
    {
     "data": {
      "text/html": [
       "<div>\n",
       "<style scoped>\n",
       "    .dataframe tbody tr th:only-of-type {\n",
       "        vertical-align: middle;\n",
       "    }\n",
       "\n",
       "    .dataframe tbody tr th {\n",
       "        vertical-align: top;\n",
       "    }\n",
       "\n",
       "    .dataframe thead th {\n",
       "        text-align: right;\n",
       "    }\n",
       "</style>\n",
       "<table border=\"1\" class=\"dataframe\">\n",
       "  <thead>\n",
       "    <tr style=\"text-align: right;\">\n",
       "      <th></th>\n",
       "      <th>Unnamed: 0</th>\n",
       "      <th>Area</th>\n",
       "      <th>Perimeter</th>\n",
       "      <th>MajorAxisLength</th>\n",
       "      <th>MinorAxisLength</th>\n",
       "      <th>AspectRation</th>\n",
       "      <th>Eccentricity</th>\n",
       "      <th>ConvexArea</th>\n",
       "      <th>EquivDiameter</th>\n",
       "      <th>Extent</th>\n",
       "      <th>Solidity</th>\n",
       "      <th>roundness</th>\n",
       "      <th>Compactness</th>\n",
       "      <th>ShapeFactor1</th>\n",
       "      <th>ShapeFactor2</th>\n",
       "      <th>ShapeFactor3</th>\n",
       "      <th>ShapeFactor4</th>\n",
       "    </tr>\n",
       "  </thead>\n",
       "  <tbody>\n",
       "    <tr>\n",
       "      <th>0</th>\n",
       "      <td>0</td>\n",
       "      <td>28395</td>\n",
       "      <td>610.291</td>\n",
       "      <td>208.178117</td>\n",
       "      <td>173.888747</td>\n",
       "      <td>1.197191</td>\n",
       "      <td>0.549812</td>\n",
       "      <td>28715</td>\n",
       "      <td>190.141097</td>\n",
       "      <td>0.763923</td>\n",
       "      <td>0.988856</td>\n",
       "      <td>0.958027</td>\n",
       "      <td>0.913358</td>\n",
       "      <td>0.007332</td>\n",
       "      <td>0.003147</td>\n",
       "      <td>0.834222</td>\n",
       "      <td>0.998724</td>\n",
       "    </tr>\n",
       "    <tr>\n",
       "      <th>1</th>\n",
       "      <td>1</td>\n",
       "      <td>28734</td>\n",
       "      <td>638.018</td>\n",
       "      <td>200.524796</td>\n",
       "      <td>182.734419</td>\n",
       "      <td>1.097356</td>\n",
       "      <td>0.411785</td>\n",
       "      <td>29172</td>\n",
       "      <td>191.272750</td>\n",
       "      <td>0.783968</td>\n",
       "      <td>0.984986</td>\n",
       "      <td>0.887034</td>\n",
       "      <td>0.953861</td>\n",
       "      <td>0.006979</td>\n",
       "      <td>0.003564</td>\n",
       "      <td>0.909851</td>\n",
       "      <td>0.998430</td>\n",
       "    </tr>\n",
       "    <tr>\n",
       "      <th>2</th>\n",
       "      <td>2</td>\n",
       "      <td>29380</td>\n",
       "      <td>624.110</td>\n",
       "      <td>212.826130</td>\n",
       "      <td>175.931143</td>\n",
       "      <td>1.209713</td>\n",
       "      <td>0.562727</td>\n",
       "      <td>29690</td>\n",
       "      <td>193.410904</td>\n",
       "      <td>0.778113</td>\n",
       "      <td>0.989559</td>\n",
       "      <td>0.947849</td>\n",
       "      <td>0.908774</td>\n",
       "      <td>0.007244</td>\n",
       "      <td>0.003048</td>\n",
       "      <td>0.825871</td>\n",
       "      <td>0.999066</td>\n",
       "    </tr>\n",
       "    <tr>\n",
       "      <th>3</th>\n",
       "      <td>3</td>\n",
       "      <td>30008</td>\n",
       "      <td>645.884</td>\n",
       "      <td>210.557999</td>\n",
       "      <td>182.516516</td>\n",
       "      <td>1.153638</td>\n",
       "      <td>0.498616</td>\n",
       "      <td>30724</td>\n",
       "      <td>195.467062</td>\n",
       "      <td>0.782681</td>\n",
       "      <td>0.976696</td>\n",
       "      <td>0.903936</td>\n",
       "      <td>0.928329</td>\n",
       "      <td>0.007017</td>\n",
       "      <td>0.003215</td>\n",
       "      <td>0.861794</td>\n",
       "      <td>0.994199</td>\n",
       "    </tr>\n",
       "    <tr>\n",
       "      <th>4</th>\n",
       "      <td>4</td>\n",
       "      <td>30140</td>\n",
       "      <td>620.134</td>\n",
       "      <td>201.847882</td>\n",
       "      <td>190.279279</td>\n",
       "      <td>1.060798</td>\n",
       "      <td>0.333680</td>\n",
       "      <td>30417</td>\n",
       "      <td>195.896503</td>\n",
       "      <td>0.773098</td>\n",
       "      <td>0.990893</td>\n",
       "      <td>0.984877</td>\n",
       "      <td>0.970516</td>\n",
       "      <td>0.006697</td>\n",
       "      <td>0.003665</td>\n",
       "      <td>0.941900</td>\n",
       "      <td>0.999166</td>\n",
       "    </tr>\n",
       "  </tbody>\n",
       "</table>\n",
       "</div>"
      ],
      "text/plain": [
       "   Unnamed: 0   Area  Perimeter  MajorAxisLength  MinorAxisLength  \\\n",
       "0           0  28395    610.291       208.178117       173.888747   \n",
       "1           1  28734    638.018       200.524796       182.734419   \n",
       "2           2  29380    624.110       212.826130       175.931143   \n",
       "3           3  30008    645.884       210.557999       182.516516   \n",
       "4           4  30140    620.134       201.847882       190.279279   \n",
       "\n",
       "   AspectRation  Eccentricity  ConvexArea  EquivDiameter    Extent  Solidity  \\\n",
       "0      1.197191      0.549812       28715     190.141097  0.763923  0.988856   \n",
       "1      1.097356      0.411785       29172     191.272750  0.783968  0.984986   \n",
       "2      1.209713      0.562727       29690     193.410904  0.778113  0.989559   \n",
       "3      1.153638      0.498616       30724     195.467062  0.782681  0.976696   \n",
       "4      1.060798      0.333680       30417     195.896503  0.773098  0.990893   \n",
       "\n",
       "   roundness  Compactness  ShapeFactor1  ShapeFactor2  ShapeFactor3  \\\n",
       "0   0.958027     0.913358      0.007332      0.003147      0.834222   \n",
       "1   0.887034     0.953861      0.006979      0.003564      0.909851   \n",
       "2   0.947849     0.908774      0.007244      0.003048      0.825871   \n",
       "3   0.903936     0.928329      0.007017      0.003215      0.861794   \n",
       "4   0.984877     0.970516      0.006697      0.003665      0.941900   \n",
       "\n",
       "   ShapeFactor4  \n",
       "0      0.998724  \n",
       "1      0.998430  \n",
       "2      0.999066  \n",
       "3      0.994199  \n",
       "4      0.999166  "
      ]
     },
     "execution_count": 19,
     "metadata": {},
     "output_type": "execute_result"
    }
   ],
   "source": [
    "dados_lab.head()"
   ]
  },
  {
   "cell_type": "code",
   "execution_count": 21,
   "id": "a9fe38f6",
   "metadata": {},
   "outputs": [],
   "source": [
    "dados_lab.drop(columns='Unnamed: 0', axis=1, inplace=True)"
   ]
  },
  {
   "cell_type": "code",
   "execution_count": 22,
   "id": "a11713d3",
   "metadata": {},
   "outputs": [
    {
     "name": "stdout",
     "output_type": "stream",
     "text": [
      "<class 'pandas.core.frame.DataFrame'>\n",
      "RangeIndex: 13611 entries, 0 to 13610\n",
      "Data columns (total 16 columns):\n",
      " #   Column           Non-Null Count  Dtype  \n",
      "---  ------           --------------  -----  \n",
      " 0   Area             13611 non-null  int64  \n",
      " 1   Perimeter        13611 non-null  float64\n",
      " 2   MajorAxisLength  13611 non-null  float64\n",
      " 3   MinorAxisLength  13611 non-null  float64\n",
      " 4   AspectRation     13611 non-null  float64\n",
      " 5   Eccentricity     13611 non-null  float64\n",
      " 6   ConvexArea       13611 non-null  int64  \n",
      " 7   EquivDiameter    13611 non-null  float64\n",
      " 8   Extent           13611 non-null  float64\n",
      " 9   Solidity         13611 non-null  float64\n",
      " 10  roundness        13611 non-null  float64\n",
      " 11  Compactness      13611 non-null  float64\n",
      " 12  ShapeFactor1     13611 non-null  float64\n",
      " 13  ShapeFactor2     13611 non-null  float64\n",
      " 14  ShapeFactor3     13611 non-null  float64\n",
      " 15  ShapeFactor4     13611 non-null  float64\n",
      "dtypes: float64(14), int64(2)\n",
      "memory usage: 1.7 MB\n"
     ]
    }
   ],
   "source": [
    "dados_lab.info()"
   ]
  },
  {
   "cell_type": "code",
   "execution_count": 23,
   "id": "52da0893",
   "metadata": {},
   "outputs": [
    {
     "data": {
      "text/html": [
       "<div>\n",
       "<style scoped>\n",
       "    .dataframe tbody tr th:only-of-type {\n",
       "        vertical-align: middle;\n",
       "    }\n",
       "\n",
       "    .dataframe tbody tr th {\n",
       "        vertical-align: top;\n",
       "    }\n",
       "\n",
       "    .dataframe thead th {\n",
       "        text-align: right;\n",
       "    }\n",
       "</style>\n",
       "<table border=\"1\" class=\"dataframe\">\n",
       "  <thead>\n",
       "    <tr style=\"text-align: right;\">\n",
       "      <th></th>\n",
       "      <th>Area</th>\n",
       "      <th>Perimeter</th>\n",
       "      <th>MajorAxisLength</th>\n",
       "      <th>MinorAxisLength</th>\n",
       "      <th>AspectRation</th>\n",
       "      <th>Eccentricity</th>\n",
       "      <th>ConvexArea</th>\n",
       "      <th>EquivDiameter</th>\n",
       "      <th>Extent</th>\n",
       "      <th>Solidity</th>\n",
       "      <th>roundness</th>\n",
       "      <th>Compactness</th>\n",
       "      <th>ShapeFactor1</th>\n",
       "      <th>ShapeFactor2</th>\n",
       "      <th>ShapeFactor3</th>\n",
       "      <th>ShapeFactor4</th>\n",
       "    </tr>\n",
       "  </thead>\n",
       "  <tbody>\n",
       "    <tr>\n",
       "      <th>count</th>\n",
       "      <td>13611.000000</td>\n",
       "      <td>13611.000000</td>\n",
       "      <td>13611.000000</td>\n",
       "      <td>13611.000000</td>\n",
       "      <td>13611.000000</td>\n",
       "      <td>13611.000000</td>\n",
       "      <td>13611.000000</td>\n",
       "      <td>13611.000000</td>\n",
       "      <td>13611.000000</td>\n",
       "      <td>13611.000000</td>\n",
       "      <td>13611.000000</td>\n",
       "      <td>13611.000000</td>\n",
       "      <td>13611.000000</td>\n",
       "      <td>13611.000000</td>\n",
       "      <td>13611.000000</td>\n",
       "      <td>13611.000000</td>\n",
       "    </tr>\n",
       "    <tr>\n",
       "      <th>mean</th>\n",
       "      <td>53048.284549</td>\n",
       "      <td>855.283459</td>\n",
       "      <td>320.141867</td>\n",
       "      <td>202.270714</td>\n",
       "      <td>1.583242</td>\n",
       "      <td>0.750895</td>\n",
       "      <td>53768.200206</td>\n",
       "      <td>253.064220</td>\n",
       "      <td>0.749733</td>\n",
       "      <td>0.987143</td>\n",
       "      <td>0.873282</td>\n",
       "      <td>0.799864</td>\n",
       "      <td>0.006564</td>\n",
       "      <td>0.001716</td>\n",
       "      <td>0.643590</td>\n",
       "      <td>0.995063</td>\n",
       "    </tr>\n",
       "    <tr>\n",
       "      <th>std</th>\n",
       "      <td>29324.095717</td>\n",
       "      <td>214.289696</td>\n",
       "      <td>85.694186</td>\n",
       "      <td>44.970091</td>\n",
       "      <td>0.246678</td>\n",
       "      <td>0.092002</td>\n",
       "      <td>29774.915817</td>\n",
       "      <td>59.177120</td>\n",
       "      <td>0.049086</td>\n",
       "      <td>0.004660</td>\n",
       "      <td>0.059520</td>\n",
       "      <td>0.061713</td>\n",
       "      <td>0.001128</td>\n",
       "      <td>0.000596</td>\n",
       "      <td>0.098996</td>\n",
       "      <td>0.004366</td>\n",
       "    </tr>\n",
       "    <tr>\n",
       "      <th>min</th>\n",
       "      <td>20420.000000</td>\n",
       "      <td>524.736000</td>\n",
       "      <td>183.601165</td>\n",
       "      <td>122.512653</td>\n",
       "      <td>1.024868</td>\n",
       "      <td>0.218951</td>\n",
       "      <td>20684.000000</td>\n",
       "      <td>161.243764</td>\n",
       "      <td>0.555315</td>\n",
       "      <td>0.919246</td>\n",
       "      <td>0.489618</td>\n",
       "      <td>0.640577</td>\n",
       "      <td>0.002778</td>\n",
       "      <td>0.000564</td>\n",
       "      <td>0.410339</td>\n",
       "      <td>0.947687</td>\n",
       "    </tr>\n",
       "    <tr>\n",
       "      <th>25%</th>\n",
       "      <td>36328.000000</td>\n",
       "      <td>703.523500</td>\n",
       "      <td>253.303633</td>\n",
       "      <td>175.848170</td>\n",
       "      <td>1.432307</td>\n",
       "      <td>0.715928</td>\n",
       "      <td>36714.500000</td>\n",
       "      <td>215.068003</td>\n",
       "      <td>0.718634</td>\n",
       "      <td>0.985670</td>\n",
       "      <td>0.832096</td>\n",
       "      <td>0.762469</td>\n",
       "      <td>0.005900</td>\n",
       "      <td>0.001154</td>\n",
       "      <td>0.581359</td>\n",
       "      <td>0.993703</td>\n",
       "    </tr>\n",
       "    <tr>\n",
       "      <th>50%</th>\n",
       "      <td>44652.000000</td>\n",
       "      <td>794.941000</td>\n",
       "      <td>296.883367</td>\n",
       "      <td>192.431733</td>\n",
       "      <td>1.551124</td>\n",
       "      <td>0.764441</td>\n",
       "      <td>45178.000000</td>\n",
       "      <td>238.438026</td>\n",
       "      <td>0.759859</td>\n",
       "      <td>0.988283</td>\n",
       "      <td>0.883157</td>\n",
       "      <td>0.801277</td>\n",
       "      <td>0.006645</td>\n",
       "      <td>0.001694</td>\n",
       "      <td>0.642044</td>\n",
       "      <td>0.996386</td>\n",
       "    </tr>\n",
       "    <tr>\n",
       "      <th>75%</th>\n",
       "      <td>61332.000000</td>\n",
       "      <td>977.213000</td>\n",
       "      <td>376.495012</td>\n",
       "      <td>217.031741</td>\n",
       "      <td>1.707109</td>\n",
       "      <td>0.810466</td>\n",
       "      <td>62294.000000</td>\n",
       "      <td>279.446467</td>\n",
       "      <td>0.786851</td>\n",
       "      <td>0.990013</td>\n",
       "      <td>0.916869</td>\n",
       "      <td>0.834270</td>\n",
       "      <td>0.007271</td>\n",
       "      <td>0.002170</td>\n",
       "      <td>0.696006</td>\n",
       "      <td>0.997883</td>\n",
       "    </tr>\n",
       "    <tr>\n",
       "      <th>max</th>\n",
       "      <td>254616.000000</td>\n",
       "      <td>1985.370000</td>\n",
       "      <td>738.860153</td>\n",
       "      <td>460.198497</td>\n",
       "      <td>2.430306</td>\n",
       "      <td>0.911423</td>\n",
       "      <td>263261.000000</td>\n",
       "      <td>569.374358</td>\n",
       "      <td>0.866195</td>\n",
       "      <td>0.994677</td>\n",
       "      <td>0.990685</td>\n",
       "      <td>0.987303</td>\n",
       "      <td>0.010451</td>\n",
       "      <td>0.003665</td>\n",
       "      <td>0.974767</td>\n",
       "      <td>0.999733</td>\n",
       "    </tr>\n",
       "  </tbody>\n",
       "</table>\n",
       "</div>"
      ],
      "text/plain": [
       "                Area     Perimeter  MajorAxisLength  MinorAxisLength  \\\n",
       "count   13611.000000  13611.000000     13611.000000     13611.000000   \n",
       "mean    53048.284549    855.283459       320.141867       202.270714   \n",
       "std     29324.095717    214.289696        85.694186        44.970091   \n",
       "min     20420.000000    524.736000       183.601165       122.512653   \n",
       "25%     36328.000000    703.523500       253.303633       175.848170   \n",
       "50%     44652.000000    794.941000       296.883367       192.431733   \n",
       "75%     61332.000000    977.213000       376.495012       217.031741   \n",
       "max    254616.000000   1985.370000       738.860153       460.198497   \n",
       "\n",
       "       AspectRation  Eccentricity     ConvexArea  EquivDiameter        Extent  \\\n",
       "count  13611.000000  13611.000000   13611.000000   13611.000000  13611.000000   \n",
       "mean       1.583242      0.750895   53768.200206     253.064220      0.749733   \n",
       "std        0.246678      0.092002   29774.915817      59.177120      0.049086   \n",
       "min        1.024868      0.218951   20684.000000     161.243764      0.555315   \n",
       "25%        1.432307      0.715928   36714.500000     215.068003      0.718634   \n",
       "50%        1.551124      0.764441   45178.000000     238.438026      0.759859   \n",
       "75%        1.707109      0.810466   62294.000000     279.446467      0.786851   \n",
       "max        2.430306      0.911423  263261.000000     569.374358      0.866195   \n",
       "\n",
       "           Solidity     roundness   Compactness  ShapeFactor1  ShapeFactor2  \\\n",
       "count  13611.000000  13611.000000  13611.000000  13611.000000  13611.000000   \n",
       "mean       0.987143      0.873282      0.799864      0.006564      0.001716   \n",
       "std        0.004660      0.059520      0.061713      0.001128      0.000596   \n",
       "min        0.919246      0.489618      0.640577      0.002778      0.000564   \n",
       "25%        0.985670      0.832096      0.762469      0.005900      0.001154   \n",
       "50%        0.988283      0.883157      0.801277      0.006645      0.001694   \n",
       "75%        0.990013      0.916869      0.834270      0.007271      0.002170   \n",
       "max        0.994677      0.990685      0.987303      0.010451      0.003665   \n",
       "\n",
       "       ShapeFactor3  ShapeFactor4  \n",
       "count  13611.000000  13611.000000  \n",
       "mean       0.643590      0.995063  \n",
       "std        0.098996      0.004366  \n",
       "min        0.410339      0.947687  \n",
       "25%        0.581359      0.993703  \n",
       "50%        0.642044      0.996386  \n",
       "75%        0.696006      0.997883  \n",
       "max        0.974767      0.999733  "
      ]
     },
     "execution_count": 23,
     "metadata": {},
     "output_type": "execute_result"
    }
   ],
   "source": [
    "dados_lab.describe()"
   ]
  },
  {
   "cell_type": "markdown",
   "id": "2ef91ef0",
   "metadata": {},
   "source": [
    "## Pre processing"
   ]
  },
  {
   "cell_type": "code",
   "execution_count": 24,
   "id": "1a4ccbcd",
   "metadata": {},
   "outputs": [],
   "source": [
    "import numpy as np"
   ]
  },
  {
   "cell_type": "code",
   "execution_count": 25,
   "id": "d61f7ff9",
   "metadata": {},
   "outputs": [
    {
     "data": {
      "text/plain": [
       "Index(['Area', 'Perimeter', 'MajorAxisLength', 'MinorAxisLength',\n",
       "       'AspectRation', 'Eccentricity', 'ConvexArea', 'EquivDiameter', 'Extent',\n",
       "       'Solidity', 'roundness', 'Compactness', 'ShapeFactor1', 'ShapeFactor2',\n",
       "       'ShapeFactor3', 'ShapeFactor4'],\n",
       "      dtype='object')"
      ]
     },
     "execution_count": 25,
     "metadata": {},
     "output_type": "execute_result"
    }
   ],
   "source": [
    "dados_lab.columns"
   ]
  },
  {
   "cell_type": "code",
   "execution_count": 27,
   "id": "88ec82cc",
   "metadata": {},
   "outputs": [
    {
     "data": {
      "text/plain": [
       "array([[2.83950000e+04, 6.10291000e+02, 2.08178117e+02, ...,\n",
       "        3.14728917e-03, 8.34222388e-01, 9.98723889e-01],\n",
       "       [2.87340000e+04, 6.38018000e+02, 2.00524796e+02, ...,\n",
       "        3.56362371e-03, 9.09850506e-01, 9.98430331e-01],\n",
       "       [2.93800000e+04, 6.24110000e+02, 2.12826130e+02, ...,\n",
       "        3.04773322e-03, 8.25870617e-01, 9.99066137e-01],\n",
       "       ...,\n",
       "       [4.21390000e+04, 7.59321000e+02, 2.81539928e+02, ...,\n",
       "        1.88827064e-03, 6.76884164e-01, 9.96767264e-01],\n",
       "       [4.21470000e+04, 7.63779000e+02, 2.83382636e+02, ...,\n",
       "        1.85202548e-03, 6.68236684e-01, 9.95222420e-01],\n",
       "       [4.21590000e+04, 7.72237000e+02, 2.95142741e+02, ...,\n",
       "        1.63981171e-03, 6.16220592e-01, 9.98179623e-01]])"
      ]
     },
     "execution_count": 27,
     "metadata": {},
     "output_type": "execute_result"
    }
   ],
   "source": [
    "X = dados_lab.iloc[:, range(16)].values\n",
    "X"
   ]
  },
  {
   "cell_type": "code",
   "execution_count": 28,
   "id": "4f22d05e",
   "metadata": {},
   "outputs": [],
   "source": [
    "from sklearn.preprocessing import StandardScaler"
   ]
  },
  {
   "cell_type": "code",
   "execution_count": 29,
   "id": "797279b6",
   "metadata": {},
   "outputs": [],
   "source": [
    "scaler = StandardScaler()"
   ]
  },
  {
   "cell_type": "code",
   "execution_count": 30,
   "id": "95160673",
   "metadata": {},
   "outputs": [],
   "source": [
    "X_normalizado = scaler.fit_transform(X)"
   ]
  },
  {
   "cell_type": "code",
   "execution_count": 31,
   "id": "f78617af",
   "metadata": {},
   "outputs": [
    {
     "data": {
      "text/plain": [
       "array([[-0.84074853, -1.1433189 , -1.30659814, ...,  2.40217287,\n",
       "         1.92572347,  0.83837103],\n",
       "       [-0.82918764, -1.01392388, -1.39591111, ...,  3.10089314,\n",
       "         2.68970162,  0.77113842],\n",
       "       [-0.80715717, -1.07882906, -1.25235661, ...,  2.23509147,\n",
       "         1.84135576,  0.91675514],\n",
       "       ...,\n",
       "       [-0.37203825, -0.44783294, -0.45047814, ...,  0.28920441,\n",
       "         0.33632829,  0.39025114],\n",
       "       [-0.37176543, -0.42702856, -0.42897404, ...,  0.22837538,\n",
       "         0.2489734 ,  0.03644001],\n",
       "       [-0.37135619, -0.38755718, -0.2917356 , ..., -0.12777587,\n",
       "        -0.2764814 ,  0.71371948]])"
      ]
     },
     "execution_count": 31,
     "metadata": {},
     "output_type": "execute_result"
    }
   ],
   "source": [
    "X_normalizado"
   ]
  },
  {
   "cell_type": "code",
   "execution_count": 32,
   "id": "a15da5a4",
   "metadata": {},
   "outputs": [
    {
     "data": {
      "text/plain": [
       "array([-0.84074853, -1.1433189 , -1.30659814, -0.63115304, -1.56505251,\n",
       "       -2.18572039, -0.84145059, -1.0633406 ,  0.28908744,  0.36761343,\n",
       "        1.42386707,  1.8391164 ,  0.68078638,  2.40217287,  1.92572347,\n",
       "        0.83837103])"
      ]
     },
     "execution_count": 32,
     "metadata": {},
     "output_type": "execute_result"
    }
   ],
   "source": [
    "X_normalizado[0]"
   ]
  },
  {
   "cell_type": "markdown",
   "id": "1fb32214",
   "metadata": {},
   "source": [
    "# K Means"
   ]
  },
  {
   "cell_type": "code",
   "execution_count": 33,
   "id": "b6492eb9",
   "metadata": {},
   "outputs": [],
   "source": [
    "from sklearn.cluster import KMeans"
   ]
  },
  {
   "cell_type": "code",
   "execution_count": 34,
   "id": "20a4ccf3",
   "metadata": {},
   "outputs": [
    {
     "name": "stderr",
     "output_type": "stream",
     "text": [
      "C:\\Users\\Pichau\\anaconda3\\Lib\\site-packages\\sklearn\\cluster\\_kmeans.py:870: FutureWarning: The default value of `n_init` will change from 10 to 'auto' in 1.4. Set the value of `n_init` explicitly to suppress the warning\n",
      "  warnings.warn(\n"
     ]
    }
   ],
   "source": [
    "kmeans_dados = KMeans(n_clusters=7, random_state=42)\n",
    "rotulos_kmeans = kmeans_dados.fit_predict(X_normalizado)"
   ]
  },
  {
   "cell_type": "code",
   "execution_count": 35,
   "id": "c0e84ebb",
   "metadata": {},
   "outputs": [
    {
     "data": {
      "text/plain": [
       "array([4, 4, 4, 4, 4])"
      ]
     },
     "execution_count": 35,
     "metadata": {},
     "output_type": "execute_result"
    }
   ],
   "source": [
    "rotulos_kmeans[0:5]"
   ]
  },
  {
   "cell_type": "markdown",
   "id": "ce62faf6",
   "metadata": {},
   "source": [
    "## Elbow method"
   ]
  },
  {
   "cell_type": "code",
   "execution_count": 36,
   "id": "e96295d3",
   "metadata": {},
   "outputs": [
    {
     "name": "stderr",
     "output_type": "stream",
     "text": [
      "C:\\Users\\Pichau\\anaconda3\\Lib\\site-packages\\sklearn\\cluster\\_kmeans.py:870: FutureWarning: The default value of `n_init` will change from 10 to 'auto' in 1.4. Set the value of `n_init` explicitly to suppress the warning\n",
      "  warnings.warn(\n",
      "C:\\Users\\Pichau\\anaconda3\\Lib\\site-packages\\sklearn\\cluster\\_kmeans.py:870: FutureWarning: The default value of `n_init` will change from 10 to 'auto' in 1.4. Set the value of `n_init` explicitly to suppress the warning\n",
      "  warnings.warn(\n",
      "C:\\Users\\Pichau\\anaconda3\\Lib\\site-packages\\sklearn\\cluster\\_kmeans.py:870: FutureWarning: The default value of `n_init` will change from 10 to 'auto' in 1.4. Set the value of `n_init` explicitly to suppress the warning\n",
      "  warnings.warn(\n",
      "C:\\Users\\Pichau\\anaconda3\\Lib\\site-packages\\sklearn\\cluster\\_kmeans.py:870: FutureWarning: The default value of `n_init` will change from 10 to 'auto' in 1.4. Set the value of `n_init` explicitly to suppress the warning\n",
      "  warnings.warn(\n",
      "C:\\Users\\Pichau\\anaconda3\\Lib\\site-packages\\sklearn\\cluster\\_kmeans.py:870: FutureWarning: The default value of `n_init` will change from 10 to 'auto' in 1.4. Set the value of `n_init` explicitly to suppress the warning\n",
      "  warnings.warn(\n",
      "C:\\Users\\Pichau\\anaconda3\\Lib\\site-packages\\sklearn\\cluster\\_kmeans.py:870: FutureWarning: The default value of `n_init` will change from 10 to 'auto' in 1.4. Set the value of `n_init` explicitly to suppress the warning\n",
      "  warnings.warn(\n",
      "C:\\Users\\Pichau\\anaconda3\\Lib\\site-packages\\sklearn\\cluster\\_kmeans.py:870: FutureWarning: The default value of `n_init` will change from 10 to 'auto' in 1.4. Set the value of `n_init` explicitly to suppress the warning\n",
      "  warnings.warn(\n",
      "C:\\Users\\Pichau\\anaconda3\\Lib\\site-packages\\sklearn\\cluster\\_kmeans.py:870: FutureWarning: The default value of `n_init` will change from 10 to 'auto' in 1.4. Set the value of `n_init` explicitly to suppress the warning\n",
      "  warnings.warn(\n",
      "C:\\Users\\Pichau\\anaconda3\\Lib\\site-packages\\sklearn\\cluster\\_kmeans.py:870: FutureWarning: The default value of `n_init` will change from 10 to 'auto' in 1.4. Set the value of `n_init` explicitly to suppress the warning\n",
      "  warnings.warn(\n",
      "C:\\Users\\Pichau\\anaconda3\\Lib\\site-packages\\sklearn\\cluster\\_kmeans.py:870: FutureWarning: The default value of `n_init` will change from 10 to 'auto' in 1.4. Set the value of `n_init` explicitly to suppress the warning\n",
      "  warnings.warn(\n"
     ]
    }
   ],
   "source": [
    "wcss = []\n",
    "for i in range(1,11):\n",
    "    kmeans_dados_e = KMeans(n_clusters=i, random_state=42)\n",
    "    kmeans_dados_e.fit(X_normalizado)\n",
    "    wcss.append(kmeans_dados_e.inertia_)"
   ]
  },
  {
   "cell_type": "code",
   "execution_count": 37,
   "id": "8dc3f203",
   "metadata": {},
   "outputs": [
    {
     "data": {
      "text/plain": [
       "[217776.00000000015,\n",
       " 129900.03393116537,\n",
       " 94742.01517193277,\n",
       " 76474.30922656824,\n",
       " 61893.64435199692,\n",
       " 55529.36268782058,\n",
       " 48811.94576449369,\n",
       " 45242.215491668445,\n",
       " 41975.59394817775,\n",
       " 39766.20247161435]"
      ]
     },
     "execution_count": 37,
     "metadata": {},
     "output_type": "execute_result"
    }
   ],
   "source": [
    "wcss"
   ]
  },
  {
   "cell_type": "code",
   "execution_count": 38,
   "id": "dae6c982",
   "metadata": {},
   "outputs": [],
   "source": [
    "import matplotlib.pyplot as plt\n",
    "import seaborn as sns"
   ]
  },
  {
   "cell_type": "code",
   "execution_count": 39,
   "id": "91a7ed3c",
   "metadata": {},
   "outputs": [
    {
     "data": {
      "image/png": "[encoded data removed]",
      "text/plain": [
       "<Figure size 640x480 with 1 Axes>"
      ]
     },
     "metadata": {},
     "output_type": "display_data"
    }
   ],
   "source": [
    "plt.plot(range(1,11), wcss)\n",
    "plt.xlabel('N clusters')\n",
    "plt.ylabel('WCSS')\n",
    "plt.show()"
   ]
  },
  {
   "cell_type": "code",
   "execution_count": 40,
   "id": "90addb3c",
   "metadata": {},
   "outputs": [
    {
     "name": "stdout",
     "output_type": "stream",
     "text": [
      "Collecting yellowbrick\n",
      "  Downloading yellowbrick-1.5-py3-none-any.whl (282 kB)\n",
      "                                              0.0/282.6 kB ? eta -:--:--\n",
      "     -------------------------------------- 282.6/282.6 kB 8.8 MB/s eta 0:00:00\n",
      "Requirement already satisfied: matplotlib!=3.0.0,>=2.0.2 in c:\\users\\pichau\\anaconda3\\lib\\site-packages (from yellowbrick) (3.7.1)\n",
      "Requirement already satisfied: scipy>=1.0.0 in c:\\users\\pichau\\anaconda3\\lib\\site-packages (from yellowbrick) (1.10.1)\n",
      "Requirement already satisfied: scikit-learn>=1.0.0 in c:\\users\\pichau\\anaconda3\\lib\\site-packages (from yellowbrick) (1.2.2)\n",
      "Requirement already satisfied: numpy>=1.16.0 in c:\\users\\pichau\\anaconda3\\lib\\site-packages (from yellowbrick) (1.24.3)\n",
      "Requirement already satisfied: cycler>=0.10.0 in c:\\users\\pichau\\anaconda3\\lib\\site-packages (from yellowbrick) (0.11.0)\n",
      "Requirement already satisfied: contourpy>=1.0.1 in c:\\users\\pichau\\anaconda3\\lib\\site-packages (from matplotlib!=3.0.0,>=2.0.2->yellowbrick) (1.0.5)\n",
      "Requirement already satisfied: fonttools>=4.22.0 in c:\\users\\pichau\\anaconda3\\lib\\site-packages (from matplotlib!=3.0.0,>=2.0.2->yellowbrick) (4.25.0)\n",
      "Requirement already satisfied: kiwisolver>=1.0.1 in c:\\users\\pichau\\anaconda3\\lib\\site-packages (from matplotlib!=3.0.0,>=2.0.2->yellowbrick) (1.4.4)\n",
      "Requirement already satisfied: packaging>=20.0 in c:\\users\\pichau\\appdata\\roaming\\python\\python311\\site-packages (from matplotlib!=3.0.0,>=2.0.2->yellowbrick) (23.1)\n",
      "Requirement already satisfied: pillow>=6.2.0 in c:\\users\\pichau\\anaconda3\\lib\\site-packages (from matplotlib!=3.0.0,>=2.0.2->yellowbrick) (9.4.0)\n",
      "Requirement already satisfied: pyparsing>=2.3.1 in c:\\users\\pichau\\anaconda3\\lib\\site-packages (from matplotlib!=3.0.0,>=2.0.2->yellowbrick) (3.0.9)\n",
      "Requirement already satisfied: python-dateutil>=2.7 in c:\\users\\pichau\\anaconda3\\lib\\site-packages (from matplotlib!=3.0.0,>=2.0.2->yellowbrick) (2.8.2)\n",
      "Requirement already satisfied: joblib>=1.1.1 in c:\\users\\pichau\\anaconda3\\lib\\site-packages (from scikit-learn>=1.0.0->yellowbrick) (1.2.0)\n",
      "Requirement already satisfied: threadpoolctl>=2.0.0 in c:\\users\\pichau\\anaconda3\\lib\\site-packages (from scikit-learn>=1.0.0->yellowbrick) (2.2.0)\n",
      "Requirement already satisfied: six>=1.5 in c:\\users\\pichau\\anaconda3\\lib\\site-packages (from python-dateutil>=2.7->matplotlib!=3.0.0,>=2.0.2->yellowbrick) (1.16.0)\n",
      "Installing collected packages: yellowbrick\n",
      "Successfully installed yellowbrick-1.5\n"
     ]
    }
   ],
   "source": [
    "!pip install yellowbrick"
   ]
  },
  {
   "cell_type": "code",
   "execution_count": 41,
   "id": "a5fa6545",
   "metadata": {},
   "outputs": [],
   "source": [
    "from yellowbrick.cluster import KElbowVisualizer"
   ]
  },
  {
   "cell_type": "code",
   "execution_count": 42,
   "id": "1393d7e6",
   "metadata": {},
   "outputs": [],
   "source": [
    "kmeans_dados_elbow = KMeans(random_state=42)"
   ]
  },
  {
   "cell_type": "code",
   "execution_count": 43,
   "id": "8547ece5",
   "metadata": {},
   "outputs": [
    {
     "name": "stderr",
     "output_type": "stream",
     "text": [
      "C:\\Users\\Pichau\\anaconda3\\Lib\\site-packages\\sklearn\\cluster\\_kmeans.py:870: FutureWarning: The default value of `n_init` will change from 10 to 'auto' in 1.4. Set the value of `n_init` explicitly to suppress the warning\n",
      "  warnings.warn(\n",
      "C:\\Users\\Pichau\\anaconda3\\Lib\\site-packages\\sklearn\\cluster\\_kmeans.py:870: FutureWarning: The default value of `n_init` will change from 10 to 'auto' in 1.4. Set the value of `n_init` explicitly to suppress the warning\n",
      "  warnings.warn(\n",
      "C:\\Users\\Pichau\\anaconda3\\Lib\\site-packages\\sklearn\\cluster\\_kmeans.py:870: FutureWarning: The default value of `n_init` will change from 10 to 'auto' in 1.4. Set the value of `n_init` explicitly to suppress the warning\n",
      "  warnings.warn(\n",
      "C:\\Users\\Pichau\\anaconda3\\Lib\\site-packages\\sklearn\\cluster\\_kmeans.py:870: FutureWarning: The default value of `n_init` will change from 10 to 'auto' in 1.4. Set the value of `n_init` explicitly to suppress the warning\n",
      "  warnings.warn(\n",
      "C:\\Users\\Pichau\\anaconda3\\Lib\\site-packages\\sklearn\\cluster\\_kmeans.py:870: FutureWarning: The default value of `n_init` will change from 10 to 'auto' in 1.4. Set the value of `n_init` explicitly to suppress the warning\n",
      "  warnings.warn(\n",
      "C:\\Users\\Pichau\\anaconda3\\Lib\\site-packages\\sklearn\\cluster\\_kmeans.py:870: FutureWarning: The default value of `n_init` will change from 10 to 'auto' in 1.4. Set the value of `n_init` explicitly to suppress the warning\n",
      "  warnings.warn(\n"
     ]
    },
    {
     "data": {
      "image/png": "[encoded data removed]",
      "text/plain": [
       "<Figure size 800x550 with 2 Axes>"
      ]
     },
     "metadata": {},
     "output_type": "display_data"
    },
    {
     "data": {
      "text/plain": [
       "<Axes: title={'center': 'Distortion Score Elbow for KMeans Clustering'}, xlabel='k', ylabel='distortion score'>"
      ]
     },
     "execution_count": 43,
     "metadata": {},
     "output_type": "execute_result"
    }
   ],
   "source": [
    "grafico = KElbowVisualizer(kmeans_dados_elbow, k=(2,8))\n",
    "\n",
    "grafico.fit(X_normalizado)\n",
    "grafico.show()"
   ]
  },
  {
   "cell_type": "code",
   "execution_count": 75,
   "id": "cb621685",
   "metadata": {},
   "outputs": [
    {
     "name": "stderr",
     "output_type": "stream",
     "text": [
      "C:\\Users\\Pichau\\anaconda3\\Lib\\site-packages\\sklearn\\cluster\\_kmeans.py:870: FutureWarning: The default value of `n_init` will change from 10 to 'auto' in 1.4. Set the value of `n_init` explicitly to suppress the warning\n",
      "  warnings.warn(\n"
     ]
    }
   ],
   "source": [
    "kmeans_dados_final = KMeans(n_clusters=4, random_state=42)\n",
    "rotulos_kmeans_final = kmeans_dados_final.fit_predict(X_normalizado)"
   ]
  },
  {
   "cell_type": "code",
   "execution_count": 83,
   "id": "648f895f",
   "metadata": {},
   "outputs": [
    {
     "data": {
      "image/png": "[encoded data removed]",
      "text/plain": [
       "<Figure size 1000x600 with 1 Axes>"
      ]
     },
     "metadata": {},
     "output_type": "display_data"
    }
   ],
   "source": [
    "sns.set(style='white', rc={'figure.figsize':(10,6)},font_scale=1.1)\n",
    "\n",
    "plt.scatter(x=X_normalizado[:,0], y=X_normalizado[:,2], c=rotulos_kmeans_final, cmap='winter')\n",
    "\n",
    "plt.scatter(kmeans_dados_final.cluster_centers_[:, 0],\n",
    "           kmeans_dados_final.cluster_centers_[:, 2],\n",
    "           s=100,\n",
    "           c='red')\n",
    "\n",
    "plt.title('Dados Agrupados com K-means', fontweight='bold')\n",
    "plt.show()"
   ]
  },
  {
   "cell_type": "code",
   "execution_count": null,
   "id": "79a114a3",
   "metadata": {},
   "outputs": [],
   "source": []
  }
 ],
 "metadata": {
  "kernelspec": {
   "display_name": "Python 3 (ipykernel)",
   "language": "python",
   "name": "python3"
  },
  "language_info": {
   "codemirror_mode": {
    "name": "ipython",
    "version": 3
   },
   "file_extension": ".py",
   "mimetype": "text/x-python",
   "name": "python",
   "nbconvert_exporter": "python",
   "pygments_lexer": "ipython3",
   "version": "3.11.3"
  }
 },
 "nbformat": 4,
 "nbformat_minor": 5
}
