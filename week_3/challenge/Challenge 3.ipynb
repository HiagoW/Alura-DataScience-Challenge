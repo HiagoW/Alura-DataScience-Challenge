{
 "cells": [
  {
   "cell_type": "code",
   "execution_count": 1,
   "id": "bac454d2",
   "metadata": {},
   "outputs": [
    {
     "data": {
      "text/html": [
       "<style>pre { white-space: pre !important; }</style>"
      ],
      "text/plain": [
       "<IPython.core.display.HTML object>"
      ]
     },
     "metadata": {},
     "output_type": "display_data"
    }
   ],
   "source": [
    "import os\n",
    "import findspark\n",
    "\n",
    "#os.environ[\"SPARK_HOME\"] = \"C:\\spark\"\n",
    "#findspark.init()\n",
    "\n",
    "# To display scroll:\n",
    "from IPython.core.display import HTML\n",
    "display(HTML(\"<style>pre { white-space: pre !important; }</style>\"))"
   ]
  },
  {
   "cell_type": "code",
   "execution_count": 2,
   "id": "c2773c85",
   "metadata": {},
   "outputs": [
    {
     "name": "stderr",
     "output_type": "stream",
     "text": [
      "Setting default log level to \"WARN\".\n",
      "To adjust logging level use sc.setLogLevel(newLevel). For SparkR, use setLogLevel(newLevel).\n"
     ]
    },
    {
     "name": "stdout",
     "output_type": "stream",
     "text": [
      "23/10/05 22:44:29 WARN NativeCodeLoader: Unable to load native-hadoop library for your platform... using builtin-java classes where applicable\n"
     ]
    },
    {
     "data": {
      "text/html": [
       "\n",
       "            <div>\n",
       "                <p><b>SparkSession - in-memory</b></p>\n",
       "                \n",
       "        <div>\n",
       "            <p><b>SparkContext</b></p>\n",
       "\n",
       "            <p><a href=\"http://ec3ae2ffc58d:4040\">Spark UI</a></p>\n",
       "\n",
       "            <dl>\n",
       "              <dt>Version</dt>\n",
       "                <dd><code>v3.3.0</code></dd>\n",
       "              <dt>Master</dt>\n",
       "                <dd><code>local[*]</code></dd>\n",
       "              <dt>AppName</dt>\n",
       "                <dd><code>Challenge 3</code></dd>\n",
       "            </dl>\n",
       "        </div>\n",
       "        \n",
       "            </div>\n",
       "        "
      ],
      "text/plain": [
       "<pyspark.sql.session.SparkSession at 0x7f623f9a4730>"
      ]
     },
     "execution_count": 2,
     "metadata": {},
     "output_type": "execute_result"
    }
   ],
   "source": [
    "from pyspark.sql import SparkSession\n",
    "spark = SparkSession.builder\\\n",
    "    .appName('Challenge 3')\\\n",
    "    .getOrCreate()\n",
    "spark"
   ]
  },
  {
   "cell_type": "code",
   "execution_count": 3,
   "id": "c3fd9142",
   "metadata": {},
   "outputs": [
    {
     "name": "stderr",
     "output_type": "stream",
     "text": [
      "                                                                                \r"
     ]
    }
   ],
   "source": [
    "df = spark.read.parquet('dataset_ml_parquet')"
   ]
  },
  {
   "cell_type": "code",
   "execution_count": 4,
   "id": "44bac7d2-3f5f-46e2-acd3-2ccfb5b9e274",
   "metadata": {
    "scrolled": true
   },
   "outputs": [
    {
     "name": "stdout",
     "output_type": "stream",
     "text": [
      "+--------------------+-----+---------+---------+-------+------+----+------------+----------+-----+--------+------------+----------+----------+--------+--------+------------------+-------------+------------------+--------+-------+----------+------------+-----------------+---------------+\n",
      "|                  id|andar|area_util|banheiros|quartos|suites|vaga|      bairro|condominio| iptu|   valor|Zona Central|Zona Norte|Zona Oeste|Zona Sul|Academia|Animais permitidos|Churrasqueira|Condomínio fechado|Elevador|Piscina|Playground|Portaria 24h|Portão eletrônico|Salão de festas|\n",
      "+--------------------+-----+---------+---------+-------+------+----+------------+----------+-----+--------+------------+----------+----------+--------+--------+------------------+-------------+------------------+--------+-------+----------+------------+-----------------+---------------+\n",
      "|00002dd9-cc74-480...|    2|       35|        1|      1|   0.0| 0.0|Santo Cristo|     100.0|100.0|245000.0|           1|         0|         0|       0|       1|                 1|            1|                 1|       1|      1|         1|           1|                1|              1|\n",
      "|0009ca94-2b37-438...|    1|       84|        2|      2|   0.0| 1.0|      Tijuca|     770.0|105.0|474980.0|           0|         1|         0|       0|       0|                 0|            1|                 0|       1|      0|         1|           1|                0|              1|\n",
      "|000e3d28-e3e5-411...|    0|       85|        2|      2|   0.0| 0.0|Santa Teresa|     460.0|661.0|290000.0|           0|         0|         0|       1|       0|                 1|            0|                 0|       1|      0|         0|           0|                0|              0|\n",
      "|000fb707-6cad-496...|    0|       58|        1|      2|   0.0| 1.0|   Pechincha|     550.0|550.0|249000.0|           0|         0|         1|       0|       0|                 0|            0|                 0|       0|      1|         1|           0|                0|              0|\n",
      "|001b6db0-e88d-4eb...|    0|       64|        2|      2|   1.0| 1.0|      Tijuca|     850.0|  0.0|530000.0|           0|         1|         0|       0|       0|                 0|            0|                 0|       0|      0|         0|           0|                0|              0|\n",
      "+--------------------+-----+---------+---------+-------+------+----+------------+----------+-----+--------+------------+----------+----------+--------+--------+------------------+-------------+------------------+--------+-------+----------+------------+-----------------+---------------+\n",
      "only showing top 5 rows\n",
      "\n"
     ]
    }
   ],
   "source": [
    "df.show(5)"
   ]
  },
  {
   "cell_type": "markdown",
   "id": "e0503f39",
   "metadata": {},
   "source": [
    "# Transforming data"
   ]
  },
  {
   "cell_type": "code",
   "execution_count": 5,
   "id": "41fda66f",
   "metadata": {},
   "outputs": [],
   "source": [
    "from pyspark.ml.feature import StringIndexer"
   ]
  },
  {
   "cell_type": "code",
   "execution_count": 6,
   "id": "d8dbe8ad",
   "metadata": {},
   "outputs": [],
   "source": [
    "# TODO: Try exploding into different columns\n",
    "indexed = StringIndexer(inputCol='bairro', outputCol='bairro_ind').fit(df).transform(df)"
   ]
  },
  {
   "cell_type": "code",
   "execution_count": 7,
   "id": "739b732d",
   "metadata": {},
   "outputs": [
    {
     "name": "stdout",
     "output_type": "stream",
     "text": [
      "23/10/05 22:45:12 WARN package: Truncated the string representation of a plan since it was too large. This behavior can be adjusted by setting 'spark.sql.debug.maxToStringFields'.\n",
      "+--------------------+-----+---------+---------+-------+------+----+------------+----------+-----+--------+------------+----------+----------+--------+--------+------------------+-------------+------------------+--------+-------+----------+------------+-----------------+---------------+----------+\n",
      "|                  id|andar|area_util|banheiros|quartos|suites|vaga|      bairro|condominio| iptu|   valor|Zona Central|Zona Norte|Zona Oeste|Zona Sul|Academia|Animais permitidos|Churrasqueira|Condomínio fechado|Elevador|Piscina|Playground|Portaria 24h|Portão eletrônico|Salão de festas|bairro_ind|\n",
      "+--------------------+-----+---------+---------+-------+------+----+------------+----------+-----+--------+------------+----------+----------+--------+--------+------------------+-------------+------------------+--------+-------+----------+------------+-----------------+---------------+----------+\n",
      "|00002dd9-cc74-480...|    2|       35|        1|      1|   0.0| 0.0|Santo Cristo|     100.0|100.0|245000.0|           1|         0|         0|       0|       1|                 1|            1|                 1|       1|      1|         1|           1|                1|              1|      27.0|\n",
      "|0009ca94-2b37-438...|    1|       84|        2|      2|   0.0| 1.0|      Tijuca|     770.0|105.0|474980.0|           0|         1|         0|       0|       0|                 0|            1|                 0|       1|      0|         1|           1|                0|              1|       4.0|\n",
      "|000e3d28-e3e5-411...|    0|       85|        2|      2|   0.0| 0.0|Santa Teresa|     460.0|661.0|290000.0|           0|         0|         0|       1|       0|                 1|            0|                 0|       1|      0|         0|           0|                0|              0|      57.0|\n",
      "|000fb707-6cad-496...|    0|       58|        1|      2|   0.0| 1.0|   Pechincha|     550.0|550.0|249000.0|           0|         0|         1|       0|       0|                 0|            0|                 0|       0|      1|         1|           0|                0|              0|      12.0|\n",
      "|001b6db0-e88d-4eb...|    0|       64|        2|      2|   1.0| 1.0|      Tijuca|     850.0|  0.0|530000.0|           0|         1|         0|       0|       0|                 0|            0|                 0|       0|      0|         0|           0|                0|              0|       4.0|\n",
      "+--------------------+-----+---------+---------+-------+------+----+------------+----------+-----+--------+------------+----------+----------+--------+--------+------------------+-------------+------------------+--------+-------+----------+------------+-----------------+---------------+----------+\n",
      "only showing top 5 rows\n",
      "\n"
     ]
    }
   ],
   "source": [
    "indexed.show(5)"
   ]
  },
  {
   "cell_type": "code",
   "execution_count": 8,
   "id": "4ec0e04b",
   "metadata": {},
   "outputs": [],
   "source": [
    "from pyspark.ml.feature import VectorAssembler"
   ]
  },
  {
   "cell_type": "code",
   "execution_count": 84,
   "id": "041525bc",
   "metadata": {},
   "outputs": [
    {
     "data": {
      "text/plain": [
       "['andar',\n",
       " 'area_util',\n",
       " 'banheiros',\n",
       " 'quartos',\n",
       " 'suites',\n",
       " 'vaga',\n",
       " 'condominio',\n",
       " 'iptu',\n",
       " 'valor',\n",
       " 'Zona Central',\n",
       " 'Zona Norte',\n",
       " 'Zona Oeste',\n",
       " 'Zona Sul',\n",
       " 'Academia',\n",
       " 'Animais permitidos',\n",
       " 'Churrasqueira',\n",
       " 'Condomínio fechado',\n",
       " 'Elevador',\n",
       " 'Piscina',\n",
       " 'Playground',\n",
       " 'Portaria 24h',\n",
       " 'Portão eletrônico',\n",
       " 'Salão de festas',\n",
       " 'bairro_ind']"
      ]
     },
     "execution_count": 84,
     "metadata": {},
     "output_type": "execute_result"
    }
   ],
   "source": [
    "X = [col for col in indexed.columns if col not in ['id', 'bairro']]\n",
    "X"
   ]
  },
  {
   "cell_type": "code",
   "execution_count": 10,
   "id": "e9ed52da",
   "metadata": {},
   "outputs": [],
   "source": [
    "vectorized = VectorAssembler(inputCols=X, outputCol='features')\\\n",
    "    .transform(indexed)"
   ]
  },
  {
   "cell_type": "code",
   "execution_count": 11,
   "id": "b0e30304",
   "metadata": {},
   "outputs": [
    {
     "name": "stdout",
     "output_type": "stream",
     "text": [
      "+--------------------+-----+---------+---------+-------+------+----+--------------------+----------+------+---------+------------+----------+----------+--------+--------+------------------+-------------+------------------+--------+-------+----------+------------+-----------------+---------------+----------+--------------------+\n",
      "|                  id|andar|area_util|banheiros|quartos|suites|vaga|              bairro|condominio|  iptu|    valor|Zona Central|Zona Norte|Zona Oeste|Zona Sul|Academia|Animais permitidos|Churrasqueira|Condomínio fechado|Elevador|Piscina|Playground|Portaria 24h|Portão eletrônico|Salão de festas|bairro_ind|            features|\n",
      "+--------------------+-----+---------+---------+-------+------+----+--------------------+----------+------+---------+------------+----------+----------+--------+--------+------------------+-------------+------------------+--------+-------+----------+------------+-----------------+---------------+----------+--------------------+\n",
      "|00002dd9-cc74-480...|    2|       35|        1|      1|   0.0| 0.0|        Santo Cristo|     100.0| 100.0| 245000.0|           1|         0|         0|       0|       1|                 1|            1|                 1|       1|      1|         1|           1|                1|              1|      27.0|[2.0,35.0,1.0,1.0...|\n",
      "|0009ca94-2b37-438...|    1|       84|        2|      2|   0.0| 1.0|              Tijuca|     770.0| 105.0| 474980.0|           0|         1|         0|       0|       0|                 0|            1|                 0|       1|      0|         1|           1|                0|              1|       4.0|[1.0,84.0,2.0,2.0...|\n",
      "|000e3d28-e3e5-411...|    0|       85|        2|      2|   0.0| 0.0|        Santa Teresa|     460.0| 661.0| 290000.0|           0|         0|         0|       1|       0|                 1|            0|                 0|       1|      0|         0|           0|                0|              0|      57.0|(24,[1,2,3,6,7,8,...|\n",
      "|000fb707-6cad-496...|    0|       58|        1|      2|   0.0| 1.0|           Pechincha|     550.0| 550.0| 249000.0|           0|         0|         1|       0|       0|                 0|            0|                 0|       0|      1|         1|           0|                0|              0|      12.0|(24,[1,2,3,5,6,7,...|\n",
      "|001b6db0-e88d-4eb...|    0|       64|        2|      2|   1.0| 1.0|              Tijuca|     850.0|   0.0| 530000.0|           0|         1|         0|       0|       0|                 0|            0|                 0|       0|      0|         0|           0|                0|              0|       4.0|(24,[1,2,3,4,5,6,...|\n",
      "|002db67e-52cc-480...|    0|      200|        6|      4|   4.0| 2.0|     Barra da Tijuca|    2500.0| 420.0|2900000.0|           0|         0|         1|       0|       1|                 1|            1|                 1|       1|      1|         1|           0|                0|              1|       0.0|[0.0,200.0,6.0,4....|\n",
      "|002dc4e0-f1a5-4ad...|    0|       70|        2|      2|   0.0| 0.0|         Vila Isabel|     570.0|   0.0| 389000.0|           0|         1|         0|       0|       0|                 0|            0|                 0|       1|      0|         0|           0|                0|              0|      14.0|(24,[1,2,3,6,8,10...|\n",
      "|0030dd84-f657-41f...|    3|       70|        2|      2|   1.0| 1.0|        Pitangueiras|     670.0| 107.0| 470000.0|           0|         1|         0|       0|       0|                 0|            0|                 0|       1|      0|         0|           0|                1|              0|     115.0|(24,[0,1,2,3,4,5,...|\n",
      "|003213bb-ec21-4ad...|    0|      302|        7|      4|   4.0| 2.0|     Barra da Tijuca|       0.0|   0.0|4400000.0|           0|         0|         1|       0|       1|                 0|            1|                 1|       0|      1|         1|           0|                0|              1|       0.0|(24,[1,2,3,4,5,8,...|\n",
      "|0032884c-aa5f-455...|    0|       41|        1|      1|   1.0| 1.0|            Cachambi|     450.0|  40.0| 269900.0|           0|         1|         0|       0|       1|                 1|            1|                 1|       1|      1|         1|           1|                1|              1|      18.0|[0.0,41.0,1.0,1.0...|\n",
      "|00348cd1-923a-4db...|    5|       78|        1|      2|   1.0| 1.0|     Barra da Tijuca|       1.0|   1.0|1050300.0|           0|         0|         1|       0|       1|                 1|            1|                 1|       1|      1|         1|           1|                1|              1|       0.0|[5.0,78.0,1.0,2.0...|\n",
      "|0034df72-124a-438...|    0|      170|        3|      3|   2.0| 2.0|Recreio dos Bande...|    1300.0|4100.0| 950000.0|           0|         0|         1|       0|       1|                 0|            1|                 1|       0|      1|         0|           0|                0|              1|       1.0|[0.0,170.0,3.0,3....|\n",
      "|0036114a-4a0f-492...|    0|      173|        3|      3|   1.0| 2.0|         Jacarepaguá|    1750.0|4600.0|1300000.0|           0|         0|         1|       0|       1|                 0|            1|                 0|       0|      1|         1|           0|                0|              1|       3.0|[0.0,173.0,3.0,3....|\n",
      "|00370d62-f774-405...|    0|       82|        1|      3|   1.0| 1.0|Recreio dos Bande...|     650.0| 200.0| 650000.0|           0|         0|         1|       0|       0|                 0|            0|                 0|       0|      0|         0|           0|                0|              0|       1.0|(24,[1,2,3,4,5,6,...|\n",
      "|00396d9d-2d0e-4b5...|    9|      120|        2|      2|   1.0| 2.0|          Copacabana|     950.0| 200.0| 970000.0|           0|         0|         0|       1|       0|                 1|            0|                 1|       1|      0|         0|           1|                1|              0|       2.0|[9.0,120.0,2.0,2....|\n",
      "|003cb63c-a666-458...|   20|      341|        2|      3|   1.0| 2.0|          Copacabana|      20.0|  20.0|4800000.0|           0|         0|         0|       1|       0|                 1|            0|                 1|       1|      0|         0|           1|                1|              0|       2.0|[20.0,341.0,2.0,3...|\n",
      "|0040f5a7-6c6a-40e...|    0|      194|        5|      4|   4.0| 3.0|     Barra da Tijuca|       0.0|   0.0|2750000.0|           0|         0|         1|       0|       1|                 0|            1|                 1|       1|      1|         1|           1|                1|              1|       0.0|[0.0,194.0,5.0,4....|\n",
      "|00529a9d-d876-4dc...|    0|       32|        1|      1|   0.0| 0.0|             Piedade|       0.0|   0.0| 194687.0|           0|         1|         0|       0|       0|                 0|            0|                 0|       0|      0|         0|           0|                0|              1|      50.0|(24,[1,2,3,8,10,2...|\n",
      "|00584813-33b4-477...|    1|       70|        1|      2|   0.0| 0.0|          Bonsucesso|       0.0|   0.0| 220000.0|           0|         1|         0|       0|       0|                 0|            0|                 0|       0|      0|         0|           0|                0|              0|      33.0|(24,[0,1,2,3,8,10...|\n",
      "|005b5441-16b2-483...|   10|       72|        1|      2|   0.0| 1.0|            Botafogo|    1086.0|1498.0|1000000.0|           0|         0|         0|       1|       0|                 1|            0|                 1|       1|      0|         0|           1|                1|              0|       5.0|[10.0,72.0,1.0,2....|\n",
      "+--------------------+-----+---------+---------+-------+------+----+--------------------+----------+------+---------+------------+----------+----------+--------+--------+------------------+-------------+------------------+--------+-------+----------+------------+-----------------+---------------+----------+--------------------+\n",
      "only showing top 20 rows\n",
      "\n"
     ]
    }
   ],
   "source": [
    "vectorized.show()"
   ]
  },
  {
   "cell_type": "markdown",
   "id": "1668157e",
   "metadata": {},
   "source": [
    "# Scaling"
   ]
  },
  {
   "cell_type": "code",
   "execution_count": 12,
   "id": "06976045",
   "metadata": {},
   "outputs": [],
   "source": [
    "from pyspark.ml.feature import StandardScaler"
   ]
  },
  {
   "cell_type": "code",
   "execution_count": 13,
   "id": "410fe24b",
   "metadata": {},
   "outputs": [],
   "source": [
    "scaled = StandardScaler(inputCol='features', outputCol='scaled_features').fit(vectorized).transform(vectorized)"
   ]
  },
  {
   "cell_type": "code",
   "execution_count": 14,
   "id": "0ce8d424",
   "metadata": {},
   "outputs": [
    {
     "name": "stdout",
     "output_type": "stream",
     "text": [
      "+--------------------+-----+---------+---------+-------+------+----+--------------------+----------+------+---------+------------+----------+----------+--------+--------+------------------+-------------+------------------+--------+-------+----------+------------+-----------------+---------------+----------+--------------------+--------------------+\n",
      "|                  id|andar|area_util|banheiros|quartos|suites|vaga|              bairro|condominio|  iptu|    valor|Zona Central|Zona Norte|Zona Oeste|Zona Sul|Academia|Animais permitidos|Churrasqueira|Condomínio fechado|Elevador|Piscina|Playground|Portaria 24h|Portão eletrônico|Salão de festas|bairro_ind|            features|     scaled_features|\n",
      "+--------------------+-----+---------+---------+-------+------+----+--------------------+----------+------+---------+------------+----------+----------+--------+--------+------------------+-------------+------------------+--------+-------+----------+------------+-----------------+---------------+----------+--------------------+--------------------+\n",
      "|00002dd9-cc74-480...|    2|       35|        1|      1|   0.0| 0.0|        Santo Cristo|     100.0| 100.0| 245000.0|           1|         0|         0|       0|       1|                 1|            1|                 1|       1|      1|         1|           1|                1|              1|      27.0|[2.0,35.0,1.0,1.0...|[0.13607726247524...|\n",
      "|0009ca94-2b37-438...|    1|       84|        2|      2|   0.0| 1.0|              Tijuca|     770.0| 105.0| 474980.0|           0|         1|         0|       0|       0|                 0|            1|                 0|       1|      0|         1|           1|                0|              1|       4.0|[1.0,84.0,2.0,2.0...|[0.06803863123762...|\n",
      "|000e3d28-e3e5-411...|    0|       85|        2|      2|   0.0| 0.0|        Santa Teresa|     460.0| 661.0| 290000.0|           0|         0|         0|       1|       0|                 1|            0|                 0|       1|      0|         0|           0|                0|              0|      57.0|(24,[1,2,3,6,7,8,...|(24,[1,2,3,6,7,8,...|\n",
      "|000fb707-6cad-496...|    0|       58|        1|      2|   0.0| 1.0|           Pechincha|     550.0| 550.0| 249000.0|           0|         0|         1|       0|       0|                 0|            0|                 0|       0|      1|         1|           0|                0|              0|      12.0|(24,[1,2,3,5,6,7,...|(24,[1,2,3,5,6,7,...|\n",
      "|001b6db0-e88d-4eb...|    0|       64|        2|      2|   1.0| 1.0|              Tijuca|     850.0|   0.0| 530000.0|           0|         1|         0|       0|       0|                 0|            0|                 0|       0|      0|         0|           0|                0|              0|       4.0|(24,[1,2,3,4,5,6,...|(24,[1,2,3,4,5,6,...|\n",
      "|002db67e-52cc-480...|    0|      200|        6|      4|   4.0| 2.0|     Barra da Tijuca|    2500.0| 420.0|2900000.0|           0|         0|         1|       0|       1|                 1|            1|                 1|       1|      1|         1|           0|                0|              1|       0.0|[0.0,200.0,6.0,4....|[0.0,2.2447697820...|\n",
      "|002dc4e0-f1a5-4ad...|    0|       70|        2|      2|   0.0| 0.0|         Vila Isabel|     570.0|   0.0| 389000.0|           0|         1|         0|       0|       0|                 0|            0|                 0|       1|      0|         0|           0|                0|              0|      14.0|(24,[1,2,3,6,8,10...|(24,[1,2,3,6,8,10...|\n",
      "|0030dd84-f657-41f...|    3|       70|        2|      2|   1.0| 1.0|        Pitangueiras|     670.0| 107.0| 470000.0|           0|         1|         0|       0|       0|                 0|            0|                 0|       1|      0|         0|           0|                1|              0|     115.0|(24,[0,1,2,3,4,5,...|(24,[0,1,2,3,4,5,...|\n",
      "|003213bb-ec21-4ad...|    0|      302|        7|      4|   4.0| 2.0|     Barra da Tijuca|       0.0|   0.0|4400000.0|           0|         0|         1|       0|       1|                 0|            1|                 1|       0|      1|         1|           0|                0|              1|       0.0|(24,[1,2,3,4,5,8,...|(24,[1,2,3,4,5,8,...|\n",
      "|0032884c-aa5f-455...|    0|       41|        1|      1|   1.0| 1.0|            Cachambi|     450.0|  40.0| 269900.0|           0|         1|         0|       0|       1|                 1|            1|                 1|       1|      1|         1|           1|                1|              1|      18.0|[0.0,41.0,1.0,1.0...|[0.0,0.4601778053...|\n",
      "|00348cd1-923a-4db...|    5|       78|        1|      2|   1.0| 1.0|     Barra da Tijuca|       1.0|   1.0|1050300.0|           0|         0|         1|       0|       1|                 1|            1|                 1|       1|      1|         1|           1|                1|              1|       0.0|[5.0,78.0,1.0,2.0...|[0.34019315618810...|\n",
      "|0034df72-124a-438...|    0|      170|        3|      3|   2.0| 2.0|Recreio dos Bande...|    1300.0|4100.0| 950000.0|           0|         0|         1|       0|       1|                 0|            1|                 1|       0|      1|         0|           0|                0|              1|       1.0|[0.0,170.0,3.0,3....|[0.0,1.9080543147...|\n",
      "|0036114a-4a0f-492...|    0|      173|        3|      3|   1.0| 2.0|         Jacarepaguá|    1750.0|4600.0|1300000.0|           0|         0|         1|       0|       1|                 0|            1|                 0|       0|      1|         1|           0|                0|              1|       3.0|[0.0,173.0,3.0,3....|[0.0,1.9417258614...|\n",
      "|00370d62-f774-405...|    0|       82|        1|      3|   1.0| 1.0|Recreio dos Bande...|     650.0| 200.0| 650000.0|           0|         0|         1|       0|       0|                 0|            0|                 0|       0|      0|         0|           0|                0|              0|       1.0|(24,[1,2,3,4,5,6,...|(24,[1,2,3,4,5,6,...|\n",
      "|00396d9d-2d0e-4b5...|    9|      120|        2|      2|   1.0| 2.0|          Copacabana|     950.0| 200.0| 970000.0|           0|         0|         0|       1|       0|                 1|            0|                 1|       1|      0|         0|           1|                1|              0|       2.0|[9.0,120.0,2.0,2....|[0.61234768113858...|\n",
      "|003cb63c-a666-458...|   20|      341|        2|      3|   1.0| 2.0|          Copacabana|      20.0|  20.0|4800000.0|           0|         0|         0|       1|       0|                 1|            0|                 1|       1|      0|         0|           1|                1|              0|       2.0|[20.0,341.0,2.0,3...|[1.36077262475241...|\n",
      "|0040f5a7-6c6a-40e...|    0|      194|        5|      4|   4.0| 3.0|     Barra da Tijuca|       0.0|   0.0|2750000.0|           0|         0|         1|       0|       1|                 0|            1|                 1|       1|      1|         1|           1|                1|              1|       0.0|[0.0,194.0,5.0,4....|[0.0,2.1774266885...|\n",
      "|00529a9d-d876-4dc...|    0|       32|        1|      1|   0.0| 0.0|             Piedade|       0.0|   0.0| 194687.0|           0|         1|         0|       0|       0|                 0|            0|                 0|       0|      0|         0|           0|                0|              1|      50.0|(24,[1,2,3,8,10,2...|(24,[1,2,3,8,10,2...|\n",
      "|00584813-33b4-477...|    1|       70|        1|      2|   0.0| 0.0|          Bonsucesso|       0.0|   0.0| 220000.0|           0|         1|         0|       0|       0|                 0|            0|                 0|       0|      0|         0|           0|                0|              0|      33.0|(24,[0,1,2,3,8,10...|(24,[0,1,2,3,8,10...|\n",
      "|005b5441-16b2-483...|   10|       72|        1|      2|   0.0| 1.0|            Botafogo|    1086.0|1498.0|1000000.0|           0|         0|         0|       1|       0|                 1|            0|                 1|       1|      0|         0|           1|                1|              0|       5.0|[10.0,72.0,1.0,2....|[0.68038631237620...|\n",
      "+--------------------+-----+---------+---------+-------+------+----+--------------------+----------+------+---------+------------+----------+----------+--------+--------+------------------+-------------+------------------+--------+-------+----------+------------+-----------------+---------------+----------+--------------------+--------------------+\n",
      "only showing top 20 rows\n",
      "\n"
     ]
    }
   ],
   "source": [
    "scaled.show()"
   ]
  },
  {
   "cell_type": "markdown",
   "id": "6a2340a1",
   "metadata": {},
   "source": [
    "# PCA"
   ]
  },
  {
   "cell_type": "code",
   "execution_count": 15,
   "id": "7089fbe4",
   "metadata": {},
   "outputs": [],
   "source": [
    "from pyspark.ml.feature import PCA\n",
    "import numpy as np"
   ]
  },
  {
   "cell_type": "code",
   "execution_count": 16,
   "id": "8d0ca910",
   "metadata": {},
   "outputs": [],
   "source": [
    "def calculate_pca(df, k, inputCol, outputCol):\n",
    "    pca = PCA(k=k, inputCol=inputCol, outputCol=outputCol)\n",
    "    model_pca = pca.fit(df)\n",
    "    df_pca = model_pca.transform(df)\n",
    "    print(model_pca.explainedVariance)\n",
    "    acc_variance = np.array([sum(model_pca.explainedVariance[0:i+1]) for i in range(k)])\n",
    "    print(acc_variance)\n",
    "    return df_pca, acc_variance"
   ]
  },
  {
   "cell_type": "code",
   "execution_count": 17,
   "id": "1b5db382",
   "metadata": {},
   "outputs": [],
   "source": [
    "k = 10"
   ]
  },
  {
   "cell_type": "code",
   "execution_count": 18,
   "id": "a310ec18",
   "metadata": {},
   "outputs": [
    {
     "name": "stdout",
     "output_type": "stream",
     "text": [
      "23/10/05 22:45:15 WARN InstanceBuilder$NativeBLAS: Failed to load implementation from:dev.ludovic.netlib.blas.JNIBLAS\n",
      "23/10/05 22:45:15 WARN InstanceBuilder$NativeBLAS: Failed to load implementation from:dev.ludovic.netlib.blas.ForeignLinkerBLAS\n",
      "23/10/05 22:45:15 WARN LAPACK: Failed to load implementation from: com.github.fommil.netlib.NativeSystemLAPACK\n",
      "23/10/05 22:45:15 WARN LAPACK: Failed to load implementation from: com.github.fommil.netlib.NativeRefLAPACK\n",
      "[0.25617113522577784,0.16924451836029555,0.08747806051799469,0.06243888206389001,0.05005883774979993,0.04467783455787977,0.04282209701045735,0.04006574190056978,0.033239795862782,0.028268304577343584]\n",
      "[0.25617114 0.42541565 0.51289371 0.5753326  0.62539143 0.67006927\n",
      " 0.71289137 0.75295711 0.7861969  0.81446521]\n"
     ]
    }
   ],
   "source": [
    "df_pca_indexed, acc_variance = calculate_pca(scaled, k, 'scaled_features', 'pca_features')"
   ]
  },
  {
   "cell_type": "code",
   "execution_count": 19,
   "id": "5a376bb6",
   "metadata": {},
   "outputs": [
    {
     "data": {
      "text/plain": [
       "7"
      ]
     },
     "execution_count": 19,
     "metadata": {},
     "output_type": "execute_result"
    }
   ],
   "source": [
    "k = np.where(acc_variance >= 0.7)[0][0]+1\n",
    "k"
   ]
  },
  {
   "cell_type": "code",
   "execution_count": 20,
   "id": "38fde383",
   "metadata": {},
   "outputs": [
    {
     "name": "stdout",
     "output_type": "stream",
     "text": [
      "[0.2561711352257778,0.1692445183602958,0.08747806051799457,0.06243888206389001,0.05005883774979986,0.044677834557879686,0.04282209701045737]\n",
      "[0.25617114 0.42541565 0.51289371 0.5753326  0.62539143 0.67006927\n",
      " 0.71289137]\n"
     ]
    }
   ],
   "source": [
    "df_pca_indexed, acc_variance = calculate_pca(scaled, k, 'scaled_features', 'pca_features')"
   ]
  },
  {
   "cell_type": "markdown",
   "id": "2f921dab",
   "metadata": {},
   "source": [
    "# Dummy variable"
   ]
  },
  {
   "cell_type": "code",
   "execution_count": 21,
   "id": "cca5b3b2",
   "metadata": {},
   "outputs": [],
   "source": [
    "import pyspark.sql.functions as f"
   ]
  },
  {
   "cell_type": "code",
   "execution_count": 22,
   "id": "10cba597",
   "metadata": {},
   "outputs": [
    {
     "name": "stdout",
     "output_type": "stream",
     "text": [
      "+--------------------+--------+-----------------+--------+-------+----+---------+-----+---------------+------------------+------------+-------+-------------+----------+--------+------------+--------+------+----+-------+--------+------------+-----------------+---------+------+-------+----------+------+-----------+--------------+------+-----------+-------+----------+--------+-----------+------+--------+------------+-------+---------+---------------+------------+-----------------+-----------------+-------+--------+------------------------------+-----------------------+------+------+-------------+------+------+---------+---------+-----+------------+--------------+-------+-------+--------+-------+-----+---------+-----------+------+--------------+---------------+--------------+----------------+--------------+---+-----+-----------+------+----+-------------------+---------+----------------+---------+----------+--------+---------------+--------------+------+-----+------+------------+---------+------------+-------+---------------+---------------+---------------+------+---------+------------------+-----+--------------+-------+-------+------------+----------+-----------------+----------+-----------------+-----------------+-----+--------+------------------------+---------+-------+----------------------+------------+-----+-------------+-------+----------+------------+------------+----------+-----+--------------+-------------------+--------+-----------+-------------+--------------------+------+-------+----+------+---------------+------------+-------+----+-------------+--------------+-------------+--------+-------------------+-------+-------------+-----------+-----------+--------------+-------------+------------+-----+----------+\n",
      "|                  id|Abolição|Alto da Boa Vista|Anchieta|Andaraí|Anil|Bancários|Bangu|Barra da Tijuca|Barra de Guaratiba|Barros Filho|Benfica|Bento Ribeiro|Bonsucesso|Botafogo|Braz de Pina|Cachambi|Cacuia|Caju|Camorim|Campinho|Campo Grande|Campo dos Afonsos|Cascadura|Catete|Catumbi|Cavalcanti|Centro|Cidade Nova|Cidade de Deus|Cocotá|Coelho Neto|Colégio|Copacabana|Cordovil|Cosme Velho|Cosmos|Curicica|Del Castilho|Deodoro|Encantado|Engenheiro Leal|Engenho Novo|Engenho da Rainha|Engenho de Dentro|Estácio|Flamengo|Freguesia (Ilha do Governador)|Freguesia (Jacarepaguá)|Galeão|Gamboa|Gardênia Azul|Glória|Grajaú|Guadalupe|Guaratiba|Gávea|Higienópolis|Honório Gurgel|Humaitá|Inhaúma|Inhoaíba|Ipanema|Irajá|Itanhangá|Jacarepaguá|Jacaré|Jardim América|Jardim Botânico|Jardim Carioca|Jardim Guanabara|Jardim Sulacap|Joá|Lagoa|Laranjeiras|Leblon|Leme|Lins de Vasconcelos|Madureira|Magalhães Bastos|Mangueira|Manguinhos|Maracanã|Marechal Hermes|Maria da Graça|Moneró|Méier|Olaria|Oswaldo Cruz|Paciência|Padre Miguel|Paquetá|Parada de Lucas|Parque Anchieta|Parque Colúmbia|Pavuna|Pechincha|Pedra de Guaratiba|Penha|Penha Circular|Piedade|Pilares|Pitangueiras|Portuguesa|Praia da Bandeira|Praça Seca|Praça da Bandeira|Quintino Bocaiúva|Ramos|Realengo|Recreio dos Bandeirantes|Riachuelo|Ribeira|Ricardo de Albuquerque|Rio Comprido|Rocha|Rocha Miranda|Sampaio|Santa Cruz|Santa Teresa|Santo Cristo|Santíssimo|Saúde|Senador Camará|Senador Vasconcelos|Sepetiba|São Conrado|São Cristóvão|São Francisco Xavier|Tanque|Taquara|Tauá|Tijuca|Todos os Santos|Tomás Coelho|Turiaçu|Urca|Vargem Grande|Vargem Pequena|Vasco da Gama|Vaz Lobo|Vicente de Carvalho|Vidigal|Vigário Geral|Vila Isabel|Vila Kosmos|Vila Valqueire|Vila da Penha|Vista Alegre|Zumbi|Água Santa|\n",
      "+--------------------+--------+-----------------+--------+-------+----+---------+-----+---------------+------------------+------------+-------+-------------+----------+--------+------------+--------+------+----+-------+--------+------------+-----------------+---------+------+-------+----------+------+-----------+--------------+------+-----------+-------+----------+--------+-----------+------+--------+------------+-------+---------+---------------+------------+-----------------+-----------------+-------+--------+------------------------------+-----------------------+------+------+-------------+------+------+---------+---------+-----+------------+--------------+-------+-------+--------+-------+-----+---------+-----------+------+--------------+---------------+--------------+----------------+--------------+---+-----+-----------+------+----+-------------------+---------+----------------+---------+----------+--------+---------------+--------------+------+-----+------+------------+---------+------------+-------+---------------+---------------+---------------+------+---------+------------------+-----+--------------+-------+-------+------------+----------+-----------------+----------+-----------------+-----------------+-----+--------+------------------------+---------+-------+----------------------+------------+-----+-------------+-------+----------+------------+------------+----------+-----+--------------+-------------------+--------+-----------+-------------+--------------------+------+-------+----+------+---------------+------------+-------+----+-------------+--------------+-------------+--------+-------------------+-------+-------------+-----------+-----------+--------------+-------------+------------+-----+----------+\n",
      "|5af54707-b58f-448...|       0|                0|       0|      0|   0|        0|    0|              0|                 0|           0|      0|            0|         0|       0|           0|       0|     0|   0|      0|       0|           0|                0|        0|     0|      0|         0|     0|          0|             0|     0|          0|      0|         0|       0|          0|     0|       0|           0|      0|        0|              0|           0|                0|                0|      0|       0|                             0|                      0|     0|     0|            0|     0|     0|        0|        0|    0|           0|             0|      0|      0|       0|      0|    0|        0|          0|     0|             0|              0|             0|               0|             0|  0|    0|          0|     0|   0|                  0|        0|               0|        0|         0|       0|              0|             0|     0|    1|     0|           0|        0|           0|      0|              0|              0|              0|     0|        0|                 0|    0|             0|      0|      0|           0|         0|                0|         0|                0|                0|    0|       0|                       0|        0|      0|                     0|           0|    0|            0|      0|         0|           0|           0|         0|    0|             0|                  0|       0|          0|            0|                   0|     0|      0|   0|     0|              0|           0|      0|   0|            0|             0|            0|       0|                  0|      0|            0|          0|          0|             0|            0|           0|    0|         0|\n",
      "|70299fbf-2a15-4de...|       0|                0|       0|      0|   0|        0|    0|              0|                 0|           0|      0|            0|         0|       1|           0|       0|     0|   0|      0|       0|           0|                0|        0|     0|      0|         0|     0|          0|             0|     0|          0|      0|         0|       0|          0|     0|       0|           0|      0|        0|              0|           0|                0|                0|      0|       0|                             0|                      0|     0|     0|            0|     0|     0|        0|        0|    0|           0|             0|      0|      0|       0|      0|    0|        0|          0|     0|             0|              0|             0|               0|             0|  0|    0|          0|     0|   0|                  0|        0|               0|        0|         0|       0|              0|             0|     0|    0|     0|           0|        0|           0|      0|              0|              0|              0|     0|        0|                 0|    0|             0|      0|      0|           0|         0|                0|         0|                0|                0|    0|       0|                       0|        0|      0|                     0|           0|    0|            0|      0|         0|           0|           0|         0|    0|             0|                  0|       0|          0|            0|                   0|     0|      0|   0|     0|              0|           0|      0|   0|            0|             0|            0|       0|                  0|      0|            0|          0|          0|             0|            0|           0|    0|         0|\n",
      "|88536221-3b27-46a...|       0|                0|       0|      0|   0|        0|    0|              0|                 0|           0|      0|            0|         0|       0|           0|       0|     0|   0|      0|       0|           0|                0|        0|     0|      0|         0|     0|          0|             0|     0|          0|      0|         0|       0|          0|     0|       0|           0|      0|        0|              0|           0|                0|                0|      0|       0|                             0|                      0|     0|     0|            0|     0|     0|        0|        0|    0|           0|             0|      0|      0|       0|      0|    0|        0|          0|     0|             0|              0|             0|               0|             0|  0|    0|          0|     0|   0|                  0|        0|               0|        0|         0|       0|              0|             0|     0|    0|     0|           0|        0|           0|      0|              0|              0|              0|     0|        0|                 0|    0|             0|      0|      0|           0|         0|                0|         0|                0|                0|    0|       0|                       1|        0|      0|                     0|           0|    0|            0|      0|         0|           0|           0|         0|    0|             0|                  0|       0|          0|            0|                   0|     0|      0|   0|     0|              0|           0|      0|   0|            0|             0|            0|       0|                  0|      0|            0|          0|          0|             0|            0|           0|    0|         0|\n",
      "|d8b1ea6f-4ed6-428...|       0|                0|       0|      0|   0|        0|    0|              0|                 0|           0|      0|            0|         0|       0|           0|       0|     0|   0|      0|       0|           0|                0|        0|     0|      0|         0|     0|          0|             0|     0|          0|      0|         1|       0|          0|     0|       0|           0|      0|        0|              0|           0|                0|                0|      0|       0|                             0|                      0|     0|     0|            0|     0|     0|        0|        0|    0|           0|             0|      0|      0|       0|      0|    0|        0|          0|     0|             0|              0|             0|               0|             0|  0|    0|          0|     0|   0|                  0|        0|               0|        0|         0|       0|              0|             0|     0|    0|     0|           0|        0|           0|      0|              0|              0|              0|     0|        0|                 0|    0|             0|      0|      0|           0|         0|                0|         0|                0|                0|    0|       0|                       0|        0|      0|                     0|           0|    0|            0|      0|         0|           0|           0|         0|    0|             0|                  0|       0|          0|            0|                   0|     0|      0|   0|     0|              0|           0|      0|   0|            0|             0|            0|       0|                  0|      0|            0|          0|          0|             0|            0|           0|    0|         0|\n",
      "|f3f93bd5-c794-47d...|       0|                0|       0|      0|   0|        0|    0|              0|                 0|           0|      0|            0|         0|       0|           0|       0|     0|   0|      0|       0|           0|                0|        0|     0|      0|         0|     0|          0|             0|     0|          0|      0|         0|       0|          0|     0|       0|           0|      0|        0|              0|           0|                0|                0|      0|       0|                             0|                      0|     0|     0|            0|     0|     0|        0|        0|    0|           0|             0|      0|      0|       0|      0|    0|        0|          0|     0|             0|              0|             0|               0|             0|  0|    1|          0|     0|   0|                  0|        0|               0|        0|         0|       0|              0|             0|     0|    0|     0|           0|        0|           0|      0|              0|              0|              0|     0|        0|                 0|    0|             0|      0|      0|           0|         0|                0|         0|                0|                0|    0|       0|                       0|        0|      0|                     0|           0|    0|            0|      0|         0|           0|           0|         0|    0|             0|                  0|       0|          0|            0|                   0|     0|      0|   0|     0|              0|           0|      0|   0|            0|             0|            0|       0|                  0|      0|            0|          0|          0|             0|            0|           0|    0|         0|\n",
      "+--------------------+--------+-----------------+--------+-------+----+---------+-----+---------------+------------------+------------+-------+-------------+----------+--------+------------+--------+------+----+-------+--------+------------+-----------------+---------+------+-------+----------+------+-----------+--------------+------+-----------+-------+----------+--------+-----------+------+--------+------------+-------+---------+---------------+------------+-----------------+-----------------+-------+--------+------------------------------+-----------------------+------+------+-------------+------+------+---------+---------+-----+------------+--------------+-------+-------+--------+-------+-----+---------+-----------+------+--------------+---------------+--------------+----------------+--------------+---+-----+-----------+------+----+-------------------+---------+----------------+---------+----------+--------+---------------+--------------+------+-----+------+------------+---------+------------+-------+---------------+---------------+---------------+------+---------+------------------+-----+--------------+-------+-------+------------+----------+-----------------+----------+-----------------+-----------------+-----+--------+------------------------+---------+-------+----------------------+------------+-----+-------------+-------+----------+------------+------------+----------+-----+--------------+-------------------+--------+-----------+-------------+--------------------+------+-------+----+------+---------------+------------+-------+----+-------------+--------------+-------------+--------+-------------------+-------+-------------+-----------+-----------+--------------+-------------+------------+-----+----------+\n",
      "only showing top 5 rows\n",
      "\n"
     ]
    }
   ],
   "source": [
    "bairro = df\\\n",
    "    .groupBy('id')\\\n",
    "    .pivot('bairro')\\\n",
    "    .agg(f.lit(1))\\\n",
    "    .na.fill(0)\n",
    "bairro.show(5)"
   ]
  },
  {
   "cell_type": "code",
   "execution_count": 23,
   "id": "e07e43b8",
   "metadata": {},
   "outputs": [
    {
     "name": "stdout",
     "output_type": "stream",
     "text": [
      "+--------------------+--------+-----------------+--------+-------+----+---------+-----+---------------+------------------+------------+-------+-------------+----------+--------+------------+--------+------+----+-------+--------+------------+-----------------+---------+------+-------+----------+------+-----------+--------------+------+-----------+-------+----------+--------+-----------+------+--------+------------+-------+---------+---------------+------------+-----------------+-----------------+-------+--------+------------------------------+-----------------------+------+------+-------------+------+------+---------+---------+-----+------------+--------------+-------+-------+--------+-------+-----+---------+-----------+------+--------------+---------------+--------------+----------------+--------------+---+-----+-----------+------+----+-------------------+---------+----------------+---------+----------+--------+---------------+--------------+------+-----+------+------------+---------+------------+-------+---------------+---------------+---------------+------+---------+------------------+-----+--------------+-------+-------+------------+----------+-----------------+----------+-----------------+-----------------+-----+--------+------------------------+---------+-------+----------------------+------------+-----+-------------+-------+----------+------------+------------+----------+-----+--------------+-------------------+--------+-----------+-------------+--------------------+------+-------+----+------+---------------+------------+-------+----+-------------+--------------+-------------+--------+-------------------+-------+-------------+-----------+-----------+--------------+-------------+------------+-----+----------+-----+---------+---------+-------+------+----+--------------------+----------+------+---------+------------+----------+----------+--------+--------+------------------+-------------+------------------+--------+-------+----------+------------+-----------------+---------------+\n",
      "|                  id|Abolição|Alto da Boa Vista|Anchieta|Andaraí|Anil|Bancários|Bangu|Barra da Tijuca|Barra de Guaratiba|Barros Filho|Benfica|Bento Ribeiro|Bonsucesso|Botafogo|Braz de Pina|Cachambi|Cacuia|Caju|Camorim|Campinho|Campo Grande|Campo dos Afonsos|Cascadura|Catete|Catumbi|Cavalcanti|Centro|Cidade Nova|Cidade de Deus|Cocotá|Coelho Neto|Colégio|Copacabana|Cordovil|Cosme Velho|Cosmos|Curicica|Del Castilho|Deodoro|Encantado|Engenheiro Leal|Engenho Novo|Engenho da Rainha|Engenho de Dentro|Estácio|Flamengo|Freguesia (Ilha do Governador)|Freguesia (Jacarepaguá)|Galeão|Gamboa|Gardênia Azul|Glória|Grajaú|Guadalupe|Guaratiba|Gávea|Higienópolis|Honório Gurgel|Humaitá|Inhaúma|Inhoaíba|Ipanema|Irajá|Itanhangá|Jacarepaguá|Jacaré|Jardim América|Jardim Botânico|Jardim Carioca|Jardim Guanabara|Jardim Sulacap|Joá|Lagoa|Laranjeiras|Leblon|Leme|Lins de Vasconcelos|Madureira|Magalhães Bastos|Mangueira|Manguinhos|Maracanã|Marechal Hermes|Maria da Graça|Moneró|Méier|Olaria|Oswaldo Cruz|Paciência|Padre Miguel|Paquetá|Parada de Lucas|Parque Anchieta|Parque Colúmbia|Pavuna|Pechincha|Pedra de Guaratiba|Penha|Penha Circular|Piedade|Pilares|Pitangueiras|Portuguesa|Praia da Bandeira|Praça Seca|Praça da Bandeira|Quintino Bocaiúva|Ramos|Realengo|Recreio dos Bandeirantes|Riachuelo|Ribeira|Ricardo de Albuquerque|Rio Comprido|Rocha|Rocha Miranda|Sampaio|Santa Cruz|Santa Teresa|Santo Cristo|Santíssimo|Saúde|Senador Camará|Senador Vasconcelos|Sepetiba|São Conrado|São Cristóvão|São Francisco Xavier|Tanque|Taquara|Tauá|Tijuca|Todos os Santos|Tomás Coelho|Turiaçu|Urca|Vargem Grande|Vargem Pequena|Vasco da Gama|Vaz Lobo|Vicente de Carvalho|Vidigal|Vigário Geral|Vila Isabel|Vila Kosmos|Vila Valqueire|Vila da Penha|Vista Alegre|Zumbi|Água Santa|andar|area_util|banheiros|quartos|suites|vaga|              bairro|condominio|  iptu|    valor|Zona Central|Zona Norte|Zona Oeste|Zona Sul|Academia|Animais permitidos|Churrasqueira|Condomínio fechado|Elevador|Piscina|Playground|Portaria 24h|Portão eletrônico|Salão de festas|\n",
      "+--------------------+--------+-----------------+--------+-------+----+---------+-----+---------------+------------------+------------+-------+-------------+----------+--------+------------+--------+------+----+-------+--------+------------+-----------------+---------+------+-------+----------+------+-----------+--------------+------+-----------+-------+----------+--------+-----------+------+--------+------------+-------+---------+---------------+------------+-----------------+-----------------+-------+--------+------------------------------+-----------------------+------+------+-------------+------+------+---------+---------+-----+------------+--------------+-------+-------+--------+-------+-----+---------+-----------+------+--------------+---------------+--------------+----------------+--------------+---+-----+-----------+------+----+-------------------+---------+----------------+---------+----------+--------+---------------+--------------+------+-----+------+------------+---------+------------+-------+---------------+---------------+---------------+------+---------+------------------+-----+--------------+-------+-------+------------+----------+-----------------+----------+-----------------+-----------------+-----+--------+------------------------+---------+-------+----------------------+------------+-----+-------------+-------+----------+------------+------------+----------+-----+--------------+-------------------+--------+-----------+-------------+--------------------+------+-------+----+------+---------------+------------+-------+----+-------------+--------------+-------------+--------+-------------------+-------+-------------+-----------+-----------+--------------+-------------+------------+-----+----------+-----+---------+---------+-------+------+----+--------------------+----------+------+---------+------------+----------+----------+--------+--------+------------------+-------------+------------------+--------+-------+----------+------------+-----------------+---------------+\n",
      "|5af54707-b58f-448...|       0|                0|       0|      0|   0|        0|    0|              0|                 0|           0|      0|            0|         0|       0|           0|       0|     0|   0|      0|       0|           0|                0|        0|     0|      0|         0|     0|          0|             0|     0|          0|      0|         0|       0|          0|     0|       0|           0|      0|        0|              0|           0|                0|                0|      0|       0|                             0|                      0|     0|     0|            0|     0|     0|        0|        0|    0|           0|             0|      0|      0|       0|      0|    0|        0|          0|     0|             0|              0|             0|               0|             0|  0|    0|          0|     0|   0|                  0|        0|               0|        0|         0|       0|              0|             0|     0|    1|     0|           0|        0|           0|      0|              0|              0|              0|     0|        0|                 0|    0|             0|      0|      0|           0|         0|                0|         0|                0|                0|    0|       0|                       0|        0|      0|                     0|           0|    0|            0|      0|         0|           0|           0|         0|    0|             0|                  0|       0|          0|            0|                   0|     0|      0|   0|     0|              0|           0|      0|   0|            0|             0|            0|       0|                  0|      0|            0|          0|          0|             0|            0|           0|    0|         0|    0|       70|        1|      2|   0.0| 1.0|               Méier|     700.0|   0.0| 245000.0|           0|         1|         0|       0|       0|                 0|            0|                 0|       0|      0|         0|           0|                0|              0|\n",
      "|70299fbf-2a15-4de...|       0|                0|       0|      0|   0|        0|    0|              0|                 0|           0|      0|            0|         0|       1|           0|       0|     0|   0|      0|       0|           0|                0|        0|     0|      0|         0|     0|          0|             0|     0|          0|      0|         0|       0|          0|     0|       0|           0|      0|        0|              0|           0|                0|                0|      0|       0|                             0|                      0|     0|     0|            0|     0|     0|        0|        0|    0|           0|             0|      0|      0|       0|      0|    0|        0|          0|     0|             0|              0|             0|               0|             0|  0|    0|          0|     0|   0|                  0|        0|               0|        0|         0|       0|              0|             0|     0|    0|     0|           0|        0|           0|      0|              0|              0|              0|     0|        0|                 0|    0|             0|      0|      0|           0|         0|                0|         0|                0|                0|    0|       0|                       0|        0|      0|                     0|           0|    0|            0|      0|         0|           0|           0|         0|    0|             0|                  0|       0|          0|            0|                   0|     0|      0|   0|     0|              0|           0|      0|   0|            0|             0|            0|       0|                  0|      0|            0|          0|          0|             0|            0|           0|    0|         0|    2|      100|        4|      2|   1.0| 1.0|            Botafogo|     850.0|1100.0|1370000.0|           0|         0|         0|       1|       1|                 1|            1|                 1|       1|      1|         1|           1|                0|              1|\n",
      "|88536221-3b27-46a...|       0|                0|       0|      0|   0|        0|    0|              0|                 0|           0|      0|            0|         0|       0|           0|       0|     0|   0|      0|       0|           0|                0|        0|     0|      0|         0|     0|          0|             0|     0|          0|      0|         0|       0|          0|     0|       0|           0|      0|        0|              0|           0|                0|                0|      0|       0|                             0|                      0|     0|     0|            0|     0|     0|        0|        0|    0|           0|             0|      0|      0|       0|      0|    0|        0|          0|     0|             0|              0|             0|               0|             0|  0|    0|          0|     0|   0|                  0|        0|               0|        0|         0|       0|              0|             0|     0|    0|     0|           0|        0|           0|      0|              0|              0|              0|     0|        0|                 0|    0|             0|      0|      0|           0|         0|                0|         0|                0|                0|    0|       0|                       1|        0|      0|                     0|           0|    0|            0|      0|         0|           0|           0|         0|    0|             0|                  0|       0|          0|            0|                   0|     0|      0|   0|     0|              0|           0|      0|   0|            0|             0|            0|       0|                  0|      0|            0|          0|          0|             0|            0|           0|    0|         0|    1|      110|        2|      3|   1.0| 2.0|Recreio dos Bande...|     800.0| 289.0| 845000.0|           0|         0|         1|       0|       0|                 1|            0|                 1|       1|      0|         0|           0|                1|              0|\n",
      "|d8b1ea6f-4ed6-428...|       0|                0|       0|      0|   0|        0|    0|              0|                 0|           0|      0|            0|         0|       0|           0|       0|     0|   0|      0|       0|           0|                0|        0|     0|      0|         0|     0|          0|             0|     0|          0|      0|         1|       0|          0|     0|       0|           0|      0|        0|              0|           0|                0|                0|      0|       0|                             0|                      0|     0|     0|            0|     0|     0|        0|        0|    0|           0|             0|      0|      0|       0|      0|    0|        0|          0|     0|             0|              0|             0|               0|             0|  0|    0|          0|     0|   0|                  0|        0|               0|        0|         0|       0|              0|             0|     0|    0|     0|           0|        0|           0|      0|              0|              0|              0|     0|        0|                 0|    0|             0|      0|      0|           0|         0|                0|         0|                0|                0|    0|       0|                       0|        0|      0|                     0|           0|    0|            0|      0|         0|           0|           0|         0|    0|             0|                  0|       0|          0|            0|                   0|     0|      0|   0|     0|              0|           0|      0|   0|            0|             0|            0|       0|                  0|      0|            0|          0|          0|             0|            0|           0|    0|         0|    3|      130|        3|      3|   1.0| 0.0|          Copacabana|    1860.0|3784.0| 790000.0|           0|         0|         0|       1|       0|                 1|            0|                 1|       1|      0|         1|           1|                1|              0|\n",
      "|f3f93bd5-c794-47d...|       0|                0|       0|      0|   0|        0|    0|              0|                 0|           0|      0|            0|         0|       0|           0|       0|     0|   0|      0|       0|           0|                0|        0|     0|      0|         0|     0|          0|             0|     0|          0|      0|         0|       0|          0|     0|       0|           0|      0|        0|              0|           0|                0|                0|      0|       0|                             0|                      0|     0|     0|            0|     0|     0|        0|        0|    0|           0|             0|      0|      0|       0|      0|    0|        0|          0|     0|             0|              0|             0|               0|             0|  0|    1|          0|     0|   0|                  0|        0|               0|        0|         0|       0|              0|             0|     0|    0|     0|           0|        0|           0|      0|              0|              0|              0|     0|        0|                 0|    0|             0|      0|      0|           0|         0|                0|         0|                0|                0|    0|       0|                       0|        0|      0|                     0|           0|    0|            0|      0|         0|           0|           0|         0|    0|             0|                  0|       0|          0|            0|                   0|     0|      0|   0|     0|              0|           0|      0|   0|            0|             0|            0|       0|                  0|      0|            0|          0|          0|             0|            0|           0|    0|         0|    0|      100|        3|      2|   1.0| 1.0|               Lagoa|    1555.0| 560.0|1600000.0|           0|         0|         0|       1|       0|                 1|            0|                 0|       1|      0|         0|           0|                0|              1|\n",
      "+--------------------+--------+-----------------+--------+-------+----+---------+-----+---------------+------------------+------------+-------+-------------+----------+--------+------------+--------+------+----+-------+--------+------------+-----------------+---------+------+-------+----------+------+-----------+--------------+------+-----------+-------+----------+--------+-----------+------+--------+------------+-------+---------+---------------+------------+-----------------+-----------------+-------+--------+------------------------------+-----------------------+------+------+-------------+------+------+---------+---------+-----+------------+--------------+-------+-------+--------+-------+-----+---------+-----------+------+--------------+---------------+--------------+----------------+--------------+---+-----+-----------+------+----+-------------------+---------+----------------+---------+----------+--------+---------------+--------------+------+-----+------+------------+---------+------------+-------+---------------+---------------+---------------+------+---------+------------------+-----+--------------+-------+-------+------------+----------+-----------------+----------+-----------------+-----------------+-----+--------+------------------------+---------+-------+----------------------+------------+-----+-------------+-------+----------+------------+------------+----------+-----+--------------+-------------------+--------+-----------+-------------+--------------------+------+-------+----+------+---------------+------------+-------+----+-------------+--------------+-------------+--------+-------------------+-------+-------------+-----------+-----------+--------------+-------------+------------+-----+----------+-----+---------+---------+-------+------+----+--------------------+----------+------+---------+------------+----------+----------+--------+--------+------------------+-------------+------------------+--------+-------+----------+------------+-----------------+---------------+\n",
      "only showing top 5 rows\n",
      "\n"
     ]
    }
   ],
   "source": [
    "df_merged = bairro.join(df, 'id', how='left')\n",
    "df_merged.show(5)"
   ]
  },
  {
   "cell_type": "code",
   "execution_count": 24,
   "id": "d9bfa885",
   "metadata": {},
   "outputs": [
    {
     "name": "stdout",
     "output_type": "stream",
     "text": [
      "['Abolição', 'Alto da Boa Vista', 'Anchieta', 'Andaraí', 'Anil', 'Bancários', 'Bangu', 'Barra da Tijuca', 'Barra de Guaratiba', 'Barros Filho', 'Benfica', 'Bento Ribeiro', 'Bonsucesso', 'Botafogo', 'Braz de Pina', 'Cachambi', 'Cacuia', 'Caju', 'Camorim', 'Campinho', 'Campo Grande', 'Campo dos Afonsos', 'Cascadura', 'Catete', 'Catumbi', 'Cavalcanti', 'Centro', 'Cidade Nova', 'Cidade de Deus', 'Cocotá', 'Coelho Neto', 'Colégio', 'Copacabana', 'Cordovil', 'Cosme Velho', 'Cosmos', 'Curicica', 'Del Castilho', 'Deodoro', 'Encantado', 'Engenheiro Leal', 'Engenho Novo', 'Engenho da Rainha', 'Engenho de Dentro', 'Estácio', 'Flamengo', 'Freguesia (Ilha do Governador)', 'Freguesia (Jacarepaguá)', 'Galeão', 'Gamboa', 'Gardênia Azul', 'Glória', 'Grajaú', 'Guadalupe', 'Guaratiba', 'Gávea', 'Higienópolis', 'Honório Gurgel', 'Humaitá', 'Inhaúma', 'Inhoaíba', 'Ipanema', 'Irajá', 'Itanhangá', 'Jacarepaguá', 'Jacaré', 'Jardim América', 'Jardim Botânico', 'Jardim Carioca', 'Jardim Guanabara', 'Jardim Sulacap', 'Joá', 'Lagoa', 'Laranjeiras', 'Leblon', 'Leme', 'Lins de Vasconcelos', 'Madureira', 'Magalhães Bastos', 'Mangueira', 'Manguinhos', 'Maracanã', 'Marechal Hermes', 'Maria da Graça', 'Moneró', 'Méier', 'Olaria', 'Oswaldo Cruz', 'Paciência', 'Padre Miguel', 'Paquetá', 'Parada de Lucas', 'Parque Anchieta', 'Parque Colúmbia', 'Pavuna', 'Pechincha', 'Pedra de Guaratiba', 'Penha', 'Penha Circular', 'Piedade', 'Pilares', 'Pitangueiras', 'Portuguesa', 'Praia da Bandeira', 'Praça Seca', 'Praça da Bandeira', 'Quintino Bocaiúva', 'Ramos', 'Realengo', 'Recreio dos Bandeirantes', 'Riachuelo', 'Ribeira', 'Ricardo de Albuquerque', 'Rio Comprido', 'Rocha', 'Rocha Miranda', 'Sampaio', 'Santa Cruz', 'Santa Teresa', 'Santo Cristo', 'Santíssimo', 'Saúde', 'Senador Camará', 'Senador Vasconcelos', 'Sepetiba', 'São Conrado', 'São Cristóvão', 'São Francisco Xavier', 'Tanque', 'Taquara', 'Tauá', 'Tijuca', 'Todos os Santos', 'Tomás Coelho', 'Turiaçu', 'Urca', 'Vargem Grande', 'Vargem Pequena', 'Vasco da Gama', 'Vaz Lobo', 'Vicente de Carvalho', 'Vidigal', 'Vigário Geral', 'Vila Isabel', 'Vila Kosmos', 'Vila Valqueire', 'Vila da Penha', 'Vista Alegre', 'Zumbi', 'Água Santa', 'andar', 'area_util', 'banheiros', 'quartos', 'suites', 'vaga', 'condominio', 'iptu', 'valor', 'Zona Central', 'Zona Norte', 'Zona Oeste', 'Zona Sul', 'Academia', 'Animais permitidos', 'Churrasqueira', 'Condomínio fechado', 'Elevador', 'Piscina', 'Playground', 'Portaria 24h', 'Portão eletrônico', 'Salão de festas']\n"
     ]
    },
    {
     "data": {
      "text/plain": [
       "173"
      ]
     },
     "execution_count": 24,
     "metadata": {},
     "output_type": "execute_result"
    }
   ],
   "source": [
    "X = [col for col in df_merged.columns if col not in ['id', 'bairro']]\n",
    "print(X)\n",
    "len(X)"
   ]
  },
  {
   "cell_type": "code",
   "execution_count": 25,
   "id": "359214c0",
   "metadata": {},
   "outputs": [
    {
     "name": "stderr",
     "output_type": "stream",
     "text": [
      "                                                                                \r"
     ]
    },
    {
     "name": "stdout",
     "output_type": "stream",
     "text": [
      "[0.03761111270041066,0.02505465017300273,0.015936871434463488,0.012623940620265983,0.011217014079505528,0.008433828195566737,0.006996949482641588,0.006752460972939041,0.006348965384102638,0.006244271351715651,0.0061352361004930545,0.006047031184244012,0.005978387135771272,0.005973549839333749,0.005964198340410108,0.005929922226283077,0.00592379731651459,0.005900675791963088,0.005892102545382854,0.00588337266213748,0.005868168991476261,0.005854201388425569,0.005849057276579744,0.0058458026544006125,0.005842915382120797,0.00583582218410036,0.005830623845015404,0.005828425509696559,0.005827550760413321,0.0058250026166693095,0.005823383351422806,0.0058209619196291544,0.005818821623603262,0.005816966838660082,0.005811979950542116,0.005810929734963233,0.005809879498425504,0.005807078472207324,0.00580491209365269,0.005804452189516589,0.005801193489966357,0.005800727413790046,0.005800325377244486,0.005799316325997567,0.005797809432762474,0.0057973669502384695,0.005796844227692192,0.005796364294069837,0.005794418632151979,0.00579366265686957,0.005793333922943195,0.005792567385537611,0.005792415912512228,0.005791536443205556,0.005791159886126008,0.005790429621030865,0.0057900408804598645,0.00578922390711265,0.00578909945152873,0.005788783509979942,0.00578868744488553,0.0057881921060455995,0.005787987814226321,0.005787604852167185,0.00578723392185381,0.00578698893054995,0.005786726655216525,0.005786575706167235,0.005786385697441775,0.00578615137468001,0.005786102216674427,0.005785864516471749,0.00578564795036401,0.005785608798349472,0.005785311657686177,0.005785220263852004,0.005785161302409955,0.00578482907209823,0.005784563482180359,0.00578451845005742,0.005784271627651387,0.005784248084875801,0.00578413082202204,0.005783973421224854,0.005783824459130452,0.005783782782805991,0.005783688541699214,0.00578354772491325,0.005783355506276706,0.005783310991330243,0.005783196300209016,0.00578319009344702,0.005783167988967633,0.005783115605582526,0.005783051061125043,0.005782977464195901,0.005782930909656607,0.005782916166743825,0.005782834464336684,0.005782823656130535,0.005782743211587945,0.005782697350917618,0.005782672722632298,0.005782581936579707,0.005782549692575823,0.005782451273068029,0.005782258079437736,0.005782231887354711,0.005782156289136924,0.0057821033228867965,0.005782045199581286,0.005781939373294238,0.005781910845154531,0.005781860559612388,0.0057818404342075405,0.0057817726085172385,0.005781692349313615,0.005781625340241322,0.005781583934142158,0.0057815720784712196,0.005781446784683077,0.005781355545777953,0.005781352473216315,0.005781304717017791,0.005781272372178341,0.0057812419403266944,0.00578121025958428,0.005781179932602946,0.0057811759756294274,0.005781111700398792,0.0057811001677196905,0.005781067441313382,0.005781047938342588,0.0057810139815954,0.0057809455767348136,0.005780887296879817,0.005780798231618496,0.005780750348541582,0.005780691702603661,0.005780682790680285,0.005780657525114651,0.0057806393974172325,0.005780585556955818,0.005780546851245606,0.005780541527936895,0.005780515555723796,0.005780474283743235,0.005780446985715759,0.005780438219665007,0.005776939478543972,0.00560051015638835,0.005562412153988611,0.004962482591340422,0.004606552729762029,0.004445897782450031,0.0035657600144511268,0.0028879198754533514,0.0025021899109669895,0.0024003007259334997,0.0021290948916465476,0.0020399558161494653,0.001801469249709946,0.0015454197639057639,0.001476353304508339,0.0013254026444268925,0.0011848702252000235,0.001159229882404623,0.0009159705478777378,0.00011890426781682992,3.078292584191641e-05,7.216065966546477e-06,4.0141648612278545e-16,6.504761527860928e-17]\n",
      "[0.03761111 0.06266576 0.07860263 0.09122657 0.10244359 0.11087742\n",
      " 0.11787437 0.12462683 0.13097579 0.13722006 0.1433553  0.14940233\n",
      " 0.15538072 0.16135427 0.16731847 0.17324839 0.17917219 0.18507286\n",
      " 0.19096496 0.19684834 0.20271651 0.20857071 0.21441977 0.22026557\n",
      " 0.22610848 0.23194431 0.23777493 0.24360335 0.24943091 0.25525591\n",
      " 0.26107929 0.26690025 0.27271908 0.27853604 0.28434802 0.29015895\n",
      " 0.29596883 0.30177591 0.30758082 0.31338527 0.31918647 0.32498719\n",
      " 0.33078752 0.33658684 0.34238465 0.34818201 0.35397886 0.35977522\n",
      " 0.36556964 0.3713633  0.37715664 0.3829492  0.38874162 0.39453316\n",
      " 0.40032432 0.40611475 0.41190479 0.41769401 0.42348311 0.42927189\n",
      " 0.43506058 0.44084877 0.44663676 0.45242437 0.4582116  0.46399859\n",
      " 0.46978532 0.47557189 0.48135828 0.48714443 0.49293053 0.49871639\n",
      " 0.50450204 0.51028765 0.51607296 0.52185818 0.52764334 0.53342817\n",
      " 0.53921274 0.54499726 0.55078153 0.55656578 0.56234991 0.56813388\n",
      " 0.5739177  0.57970149 0.58548518 0.59126872 0.59705208 0.60283539\n",
      " 0.60861859 0.61440178 0.62018494 0.62596806 0.63175111 0.63753409\n",
      " 0.64331702 0.64909994 0.65488277 0.66066559 0.66644834 0.67223103\n",
      " 0.67801371 0.68379629 0.68957884 0.69536129 0.70114355 0.70692578\n",
      " 0.71270794 0.71849004 0.72427208 0.73005402 0.73583593 0.7416178\n",
      " 0.74739964 0.75318141 0.7589631  0.76474473 0.77052631 0.77630788\n",
      " 0.78208933 0.78787068 0.79365204 0.79943334 0.80521461 0.81099586\n",
      " 0.81677707 0.82255825 0.82833942 0.83412053 0.83990163 0.8456827\n",
      " 0.85146375 0.85724476 0.86302571 0.8688066  0.87458739 0.88036814\n",
      " 0.88614884 0.89192952 0.89771018 0.90349082 0.9092714  0.91505195\n",
      " 0.92083249 0.92661301 0.93239348 0.93817393 0.94395436 0.9497313\n",
      " 0.95533181 0.96089423 0.96585671 0.97046326 0.97490916 0.97847492\n",
      " 0.98136284 0.98386503 0.98626533 0.98839443 0.99043438 0.99223585\n",
      " 0.99378127 0.99525762 0.99658303 0.9977679  0.99892713 0.9998431\n",
      " 0.999962   0.99999278 1.         1.         1.        ]\n"
     ]
    }
   ],
   "source": [
    "vectorized_dummy = VectorAssembler(inputCols=X, outputCol='features')\\\n",
    "    .transform(df_merged)\n",
    "scaled_dummy = StandardScaler(inputCol='features', outputCol='scaled_features').fit(vectorized_dummy).transform(vectorized_dummy)\n",
    "k = 173\n",
    "df_pca_dummy, acc_variance = calculate_pca(scaled_dummy, k, 'scaled_features', 'pca_features')"
   ]
  },
  {
   "cell_type": "code",
   "execution_count": 26,
   "id": "d2e57157",
   "metadata": {},
   "outputs": [
    {
     "data": {
      "text/plain": [
       "107"
      ]
     },
     "execution_count": 26,
     "metadata": {},
     "output_type": "execute_result"
    }
   ],
   "source": [
    "k = np.where(acc_variance >= 0.7)[0][0]+1\n",
    "k"
   ]
  },
  {
   "cell_type": "markdown",
   "id": "45d1c42b",
   "metadata": {},
   "source": [
    "# KMeans"
   ]
  },
  {
   "cell_type": "code",
   "execution_count": 29,
   "id": "74b4c1b6",
   "metadata": {},
   "outputs": [],
   "source": [
    "from pyspark.ml.clustering import KMeans\n",
    "from pyspark.ml.evaluation import ClusteringEvaluator\n",
    "import matplotlib.pyplot as plt\n",
    "import seaborn as sns"
   ]
  },
  {
   "cell_type": "markdown",
   "id": "5f744b19",
   "metadata": {},
   "source": [
    "## Indexed"
   ]
  },
  {
   "cell_type": "code",
   "execution_count": 30,
   "id": "002d37b9",
   "metadata": {},
   "outputs": [],
   "source": [
    "def elbow_method(df, start, end):\n",
    "    wcss = []\n",
    "    for i in range(start,end):\n",
    "        kmeans_model = KMeans(k=i, featuresCol='pca_features', predictionCol='prediction')\n",
    "        predictions = kmeans_model.fit(df).transform(df)\n",
    "        evaluator = ClusteringEvaluator()\n",
    "        silhouette = evaluator.evaluate(predictions)\n",
    "        # Append WCSS to list\n",
    "        wcss.append(silhouette)\n",
    "    plt.plot(range(start,end), wcss)\n",
    "    plt.xlabel('N clusters')\n",
    "    plt.ylabel('WCSS')\n",
    "    plt.show()"
   ]
  },
  {
   "cell_type": "code",
   "execution_count": 31,
   "id": "0bf5194c",
   "metadata": {},
   "outputs": [
    {
     "name": "stderr",
     "output_type": "stream",
     "text": [
      "                                                                                \r"
     ]
    },
    {
     "data": {
      "image/png": "[encoded data removed]",
      "text/plain": [
       "<Figure size 640x480 with 1 Axes>"
      ]
     },
     "metadata": {},
     "output_type": "display_data"
    }
   ],
   "source": [
    "elbow_method(df_pca_dummy, 5, 15)"
   ]
  },
  {
   "cell_type": "code",
   "execution_count": 32,
   "id": "dd4640f8",
   "metadata": {},
   "outputs": [
    {
     "data": {
      "image/png": "[encoded data removed]",
      "text/plain": [
       "<Figure size 640x480 with 1 Axes>"
      ]
     },
     "metadata": {},
     "output_type": "display_data"
    }
   ],
   "source": [
    "elbow_method(df_pca_indexed, 5, 15)"
   ]
  },
  {
   "cell_type": "markdown",
   "id": "2639196c",
   "metadata": {},
   "source": [
    "* Use df_pca_indexed with k = 7"
   ]
  },
  {
   "cell_type": "code",
   "execution_count": 67,
   "id": "a96ff246",
   "metadata": {},
   "outputs": [],
   "source": [
    "kmeans_model = KMeans(k=9, featuresCol='pca_features', predictionCol='prediction')\n",
    "predictions = kmeans_model.fit(df_pca_indexed).transform(df_pca_indexed)"
   ]
  },
  {
   "cell_type": "code",
   "execution_count": 68,
   "id": "029a3c65",
   "metadata": {},
   "outputs": [
    {
     "name": "stdout",
     "output_type": "stream",
     "text": [
      "+--------------------+-----+---------+---------+-------+------+----+------------+----------+-----+--------+------------+----------+----------+--------+--------+------------------+-------------+------------------+--------+-------+----------+------------+-----------------+---------------+----------+--------------------+--------------------+--------------------+----------+\n",
      "|                  id|andar|area_util|banheiros|quartos|suites|vaga|      bairro|condominio| iptu|   valor|Zona Central|Zona Norte|Zona Oeste|Zona Sul|Academia|Animais permitidos|Churrasqueira|Condomínio fechado|Elevador|Piscina|Playground|Portaria 24h|Portão eletrônico|Salão de festas|bairro_ind|            features|     scaled_features|        pca_features|prediction|\n",
      "+--------------------+-----+---------+---------+-------+------+----+------------+----------+-----+--------+------------+----------+----------+--------+--------+------------------+-------------+------------------+--------+-------+----------+------------+-----------------+---------------+----------+--------------------+--------------------+--------------------+----------+\n",
      "|00002dd9-cc74-480...|    2|       35|        1|      1|   0.0| 0.0|Santo Cristo|     100.0|100.0|245000.0|           1|         0|         0|       0|       1|                 1|            1|                 1|       1|      1|         1|           1|                1|              1|      27.0|[2.0,35.0,1.0,1.0...|[0.13607726247524...|[-5.9577714324505...|         3|\n",
      "|0009ca94-2b37-438...|    1|       84|        2|      2|   0.0| 1.0|      Tijuca|     770.0|105.0|474980.0|           0|         1|         0|       0|       0|                 0|            1|                 0|       1|      0|         1|           1|                0|              1|       4.0|[1.0,84.0,2.0,2.0...|[0.06803863123762...|[-3.2217825453408...|         6|\n",
      "|000e3d28-e3e5-411...|    0|       85|        2|      2|   0.0| 0.0|Santa Teresa|     460.0|661.0|290000.0|           0|         0|         0|       1|       0|                 1|            0|                 0|       1|      0|         0|           0|                0|              0|      57.0|(24,[1,2,3,6,7,8,...|(24,[1,2,3,6,7,8,...|[-0.8087347266358...|         0|\n",
      "|000fb707-6cad-496...|    0|       58|        1|      2|   0.0| 1.0|   Pechincha|     550.0|550.0|249000.0|           0|         0|         1|       0|       0|                 0|            0|                 0|       0|      1|         1|           0|                0|              0|      12.0|(24,[1,2,3,5,6,7,...|(24,[1,2,3,5,6,7,...|[-1.9688015316493...|         4|\n",
      "|001b6db0-e88d-4eb...|    0|       64|        2|      2|   1.0| 1.0|      Tijuca|     850.0|  0.0|530000.0|           0|         1|         0|       0|       0|                 0|            0|                 0|       0|      0|         0|           0|                0|              0|       4.0|(24,[1,2,3,4,5,6,...|(24,[1,2,3,4,5,6,...|[-0.4255348035139...|         6|\n",
      "+--------------------+-----+---------+---------+-------+------+----+------------+----------+-----+--------+------------+----------+----------+--------+--------+------------------+-------------+------------------+--------+-------+----------+------------+-----------------+---------------+----------+--------------------+--------------------+--------------------+----------+\n",
      "only showing top 5 rows\n",
      "\n"
     ]
    }
   ],
   "source": [
    "predictions.show(5)"
   ]
  },
  {
   "cell_type": "markdown",
   "id": "2ba0f66e",
   "metadata": {},
   "source": [
    "# Fiding similar"
   ]
  },
  {
   "cell_type": "code",
   "execution_count": 69,
   "id": "a171ced9",
   "metadata": {},
   "outputs": [],
   "source": [
    "def find_similar(df, item_id):\n",
    "    cluster = df.filter(predictions.id == item_id).select('prediction').collect()[0][0]\n",
    "    print(cluster)\n",
    "    return df.filter(predictions.prediction == cluster)"
   ]
  },
  {
   "cell_type": "code",
   "execution_count": 70,
   "id": "eb9d6e42-b912-4b4e-9d18-55aad89ee87f",
   "metadata": {},
   "outputs": [],
   "source": [
    "item_id = predictions.take(1)[0]['id']"
   ]
  },
  {
   "cell_type": "code",
   "execution_count": 71,
   "id": "69dab786",
   "metadata": {},
   "outputs": [
    {
     "name": "stdout",
     "output_type": "stream",
     "text": [
      "3\n"
     ]
    }
   ],
   "source": [
    "similar = find_similar(predictions, item_id)"
   ]
  },
  {
   "cell_type": "code",
   "execution_count": 72,
   "id": "23695c23",
   "metadata": {},
   "outputs": [
    {
     "name": "stdout",
     "output_type": "stream",
     "text": [
      "+--------------------+-----+---------+---------+-------+------+----+-----------------+----------+------+---------+------------+----------+----------+--------+--------+------------------+-------------+------------------+--------+-------+----------+------------+-----------------+---------------+----------+--------------------+--------------------+--------------------+----------+\n",
      "|                  id|andar|area_util|banheiros|quartos|suites|vaga|           bairro|condominio|  iptu|    valor|Zona Central|Zona Norte|Zona Oeste|Zona Sul|Academia|Animais permitidos|Churrasqueira|Condomínio fechado|Elevador|Piscina|Playground|Portaria 24h|Portão eletrônico|Salão de festas|bairro_ind|            features|     scaled_features|        pca_features|prediction|\n",
      "+--------------------+-----+---------+---------+-------+------+----+-----------------+----------+------+---------+------------+----------+----------+--------+--------+------------------+-------------+------------------+--------+-------+----------+------------+-----------------+---------------+----------+--------------------+--------------------+--------------------+----------+\n",
      "|00002dd9-cc74-480...|    2|       35|        1|      1|   0.0| 0.0|     Santo Cristo|     100.0| 100.0| 245000.0|           1|         0|         0|       0|       1|                 1|            1|                 1|       1|      1|         1|           1|                1|              1|      27.0|[2.0,35.0,1.0,1.0...|[0.13607726247524...|[-5.9577714324505...|         3|\n",
      "|0032884c-aa5f-455...|    0|       41|        1|      1|   1.0| 1.0|         Cachambi|     450.0|  40.0| 269900.0|           0|         1|         0|       0|       1|                 1|            1|                 1|       1|      1|         1|           1|                1|              1|      18.0|[0.0,41.0,1.0,1.0...|[0.0,0.4601778053...|[-6.0504356112514...|         3|\n",
      "|00710677-8a36-4c4...|    4|       88|        2|      3|   1.0| 1.0|Praça da Bandeira|     889.0|1950.0|1039029.0|           0|         1|         0|       0|       1|                 0|            1|                 1|       1|      1|         1|           1|                1|              1|      39.0|[4.0,88.0,2.0,3.0...|[0.27215452495048...|[-5.7786427916076...|         3|\n",
      "|0078ffbf-a0a6-4d1...|    8|      115|        3|      4|   1.0| 2.0|            Méier|     796.0|2200.0| 750000.0|           0|         1|         0|       0|       1|                 1|            1|                 1|       1|      1|         1|           1|                1|              1|      23.0|[8.0,115.0,3.0,4....|[0.54430904990096...|[-6.6294088174671...|         3|\n",
      "|00a5991a-9aee-405...|    0|       85|        3|      3|   1.0| 2.0|           Grajaú|    1133.0| 120.0| 699000.0|           0|         1|         0|       0|       1|                 0|            0|                 0|       1|      1|         1|           1|                0|              1|      24.0|[0.0,85.0,3.0,3.0...|[0.0,0.9540271573...|[-4.2341587530198...|         3|\n",
      "+--------------------+-----+---------+---------+-------+------+----+-----------------+----------+------+---------+------------+----------+----------+--------+--------+------------------+-------------+------------------+--------+-------+----------+------------+-----------------+---------------+----------+--------------------+--------------------+--------------------+----------+\n",
      "only showing top 5 rows\n",
      "\n"
     ]
    }
   ],
   "source": [
    "similar.show(5)"
   ]
  },
  {
   "cell_type": "code",
   "execution_count": 73,
   "id": "73cfb1c1",
   "metadata": {},
   "outputs": [
    {
     "name": "stdout",
     "output_type": "stream",
     "text": [
      "+-----------------+\n",
      "|           bairro|\n",
      "+-----------------+\n",
      "|     Santo Cristo|\n",
      "|         Cachambi|\n",
      "|Praça da Bandeira|\n",
      "|            Méier|\n",
      "|           Grajaú|\n",
      "|       Água Santa|\n",
      "|     Santo Cristo|\n",
      "|         Maracanã|\n",
      "|         Maracanã|\n",
      "|  Todos os Santos|\n",
      "|      Vila Isabel|\n",
      "|      Vila Isabel|\n",
      "|         Cachambi|\n",
      "|  Todos os Santos|\n",
      "|         Cachambi|\n",
      "+-----------------+\n",
      "only showing top 15 rows\n",
      "\n"
     ]
    }
   ],
   "source": [
    "similar.select('bairro').show(15)"
   ]
  },
  {
   "cell_type": "code",
   "execution_count": 74,
   "id": "a2a44c3f",
   "metadata": {},
   "outputs": [
    {
     "name": "stdout",
     "output_type": "stream",
     "text": [
      "0\n",
      "+------------+\n",
      "|      bairro|\n",
      "+------------+\n",
      "|Santa Teresa|\n",
      "|  Copacabana|\n",
      "|    Botafogo|\n",
      "|  Copacabana|\n",
      "|      Leblon|\n",
      "|  Copacabana|\n",
      "|  Copacabana|\n",
      "|  Copacabana|\n",
      "|    Botafogo|\n",
      "|     Ipanema|\n",
      "|    Botafogo|\n",
      "|    Botafogo|\n",
      "| Laranjeiras|\n",
      "|        Leme|\n",
      "| Laranjeiras|\n",
      "+------------+\n",
      "only showing top 15 rows\n",
      "\n"
     ]
    }
   ],
   "source": [
    "find_similar(predictions, predictions.take(3)[-1]['id']).select('bairro').show(15)"
   ]
  },
  {
   "cell_type": "markdown",
   "id": "eb0f8e49-deac-42cc-a085-ba7d42004ccb",
   "metadata": {},
   "source": [
    "# Euclidian distance"
   ]
  },
  {
   "cell_type": "code",
   "execution_count": 75,
   "id": "d57bbb15-4ee4-49e7-9475-49be7f58b776",
   "metadata": {},
   "outputs": [],
   "source": [
    "from scipy.spatial.distance import euclidean\n",
    "from pyspark.sql.types import FloatType"
   ]
  },
  {
   "cell_type": "code",
   "execution_count": 76,
   "id": "d0e45a56-9f62-42d1-86d1-75b900b188ff",
   "metadata": {},
   "outputs": [
    {
     "data": {
      "text/plain": [
       "DenseVector([-5.9578, 1.8636, -1.6782, 1.3222, -0.1491, -0.3092, -6.3923])"
      ]
     },
     "execution_count": 76,
     "metadata": {},
     "output_type": "execute_result"
    }
   ],
   "source": [
    "components = predictions.filter(predictions.id == item_id)\\\n",
    "    .select(\"pca_features\").collect()[0][0]\n",
    "components"
   ]
  },
  {
   "cell_type": "code",
   "execution_count": 161,
   "id": "561f7580-9e3a-4468-8bc7-8f507d32531a",
   "metadata": {},
   "outputs": [],
   "source": [
    "def euclidian_distance(value):\n",
    "    return euclidean(components, value)\n",
    "\n",
    "udf_euclidian_distance = f.udf(euclidian_distance, FloatType())"
   ]
  },
  {
   "cell_type": "code",
   "execution_count": 162,
   "id": "7e72abe0-f98f-46fb-8d0a-f188f80b93a9",
   "metadata": {},
   "outputs": [
    {
     "name": "stderr",
     "output_type": "stream",
     "text": [
      "                                                                                \r"
     ]
    },
    {
     "name": "stdout",
     "output_type": "stream",
     "text": [
      "+------------+--------------------+--------------------+\n",
      "|      bairro|                  id|                Dist|\n",
      "+------------+--------------------+--------------------+\n",
      "|Santo Cristo|00002dd9-cc74-480...|1.149408395068399...|\n",
      "|Santo Cristo|d187d98b-2291-486...|  0.0722355842590332|\n",
      "|Santo Cristo|1238503b-dbbc-466...| 0.07299035042524338|\n",
      "|Santo Cristo|3fe19ed1-3b37-4ac...| 0.07362913340330124|\n",
      "|Santo Cristo|63b14166-0cd2-40f...| 0.07365346699953079|\n",
      "|Santo Cristo|562af84b-6b6d-422...|  0.0736599788069725|\n",
      "|Santo Cristo|6509131b-e29b-453...| 0.07378256320953369|\n",
      "|Santo Cristo|ed0abaaa-696d-4ca...|  0.0775553360581398|\n",
      "|Santo Cristo|f2eef5f7-a2cc-437...| 0.08346345275640488|\n",
      "|Santo Cristo|770c3a65-48e3-477...| 0.08796977996826172|\n",
      "|Santo Cristo|de52ec69-c928-45f...|  0.1456371247768402|\n",
      "|Santo Cristo|c242a1a5-e85d-477...|  0.1457023024559021|\n",
      "|Santo Cristo|d09bd1f5-a9a3-4cb...|  0.1472882330417633|\n",
      "|Santo Cristo|1e6db0e9-b8fe-4a0...| 0.20086818933486938|\n",
      "|Santo Cristo|7e45a4f9-20da-4a1...|  0.2180994600057602|\n",
      "|Santo Cristo|3e7f0539-bf12-4cc...|  0.2189594805240631|\n",
      "|Santo Cristo|fad5f805-8d1a-4dc...| 0.21931016445159912|\n",
      "|Santo Cristo|bb157e52-4148-46f...| 0.21931016445159912|\n",
      "|Santo Cristo|a9db0cf0-3178-458...| 0.22000400722026825|\n",
      "|Santo Cristo|193fe265-695f-409...| 0.22141629457473755|\n",
      "+------------+--------------------+--------------------+\n",
      "only showing top 20 rows\n",
      "\n"
     ]
    }
   ],
   "source": [
    "recommended = predictions.withColumn('Dist', udf_euclidian_distance('pca_features'))\n",
    "                               \n",
    "recommended_10 = spark.createDataFrame(recommended.sort('Dist').take(50))\\\n",
    "    .select(['bairro','id','Dist'])\n",
    "\n",
    "recommended_10.show()"
   ]
  },
  {
   "cell_type": "markdown",
   "id": "81f9ec5b-ab3a-4500-807b-ec9cf798180d",
   "metadata": {},
   "source": [
    "# Pipeline"
   ]
  },
  {
   "cell_type": "code",
   "execution_count": 85,
   "id": "b0fbd5a4-a416-4bff-ac5a-585e7c369f0e",
   "metadata": {},
   "outputs": [
    {
     "data": {
      "text/plain": [
       "['andar',\n",
       " 'area_util',\n",
       " 'banheiros',\n",
       " 'quartos',\n",
       " 'suites',\n",
       " 'vaga',\n",
       " 'condominio',\n",
       " 'iptu',\n",
       " 'valor',\n",
       " 'Zona Central',\n",
       " 'Zona Norte',\n",
       " 'Zona Oeste',\n",
       " 'Zona Sul',\n",
       " 'Academia',\n",
       " 'Animais permitidos',\n",
       " 'Churrasqueira',\n",
       " 'Condomínio fechado',\n",
       " 'Elevador',\n",
       " 'Piscina',\n",
       " 'Playground',\n",
       " 'Portaria 24h',\n",
       " 'Portão eletrônico',\n",
       " 'Salão de festas',\n",
       " 'bairro_ind']"
      ]
     },
     "execution_count": 85,
     "metadata": {},
     "output_type": "execute_result"
    }
   ],
   "source": [
    "X = [col for col in indexed.columns if col not in ['id', 'bairro']]\n",
    "X"
   ]
  },
  {
   "cell_type": "code",
   "execution_count": 80,
   "id": "5c076aed-5d1a-4739-b462-cff35141a19d",
   "metadata": {},
   "outputs": [],
   "source": [
    "from pyspark.ml import Pipeline"
   ]
  },
  {
   "cell_type": "code",
   "execution_count": 86,
   "id": "89bc6182-7224-4471-8eb6-8bf7487f9bac",
   "metadata": {},
   "outputs": [],
   "source": [
    "indexer_pipeline = Pipeline(stages=[\n",
    "    StringIndexer(inputCol='bairro', outputCol='bairro_ind'),\n",
    "    VectorAssembler(inputCols=X, outputCol='features'),\n",
    "    StandardScaler(inputCol='features', outputCol='scaled_features'),\n",
    "    PCA(k=7, inputCol='scaled_features', outputCol='pca_features'),\n",
    "    KMeans(k=7, featuresCol='pca_features', predictionCol='prediction')\n",
    "])"
   ]
  },
  {
   "cell_type": "code",
   "execution_count": 87,
   "id": "04ae8ba0-1989-430e-a067-d2b65d153d0e",
   "metadata": {},
   "outputs": [],
   "source": [
    "predictions = indexer_pipeline.fit(df).transform(df)"
   ]
  },
  {
   "cell_type": "markdown",
   "id": "60024b50-d3c2-4aa1-bd75-72851491f352",
   "metadata": {},
   "source": [
    "# Recommender function"
   ]
  },
  {
   "cell_type": "code",
   "execution_count": 115,
   "id": "c93e30f3-43ed-4b57-8c2b-82f15863ec1f",
   "metadata": {},
   "outputs": [
    {
     "name": "stdout",
     "output_type": "stream",
     "text": [
      "+--------------------+-----+---------+---------+-------+------+----+------------+----------+-----+--------+------------+----------+----------+--------+--------+------------------+-------------+------------------+--------+-------+----------+------------+-----------------+---------------+----------+--------------------+--------------------+--------------------+----------+\n",
      "|                  id|andar|area_util|banheiros|quartos|suites|vaga|      bairro|condominio| iptu|   valor|Zona Central|Zona Norte|Zona Oeste|Zona Sul|Academia|Animais permitidos|Churrasqueira|Condomínio fechado|Elevador|Piscina|Playground|Portaria 24h|Portão eletrônico|Salão de festas|bairro_ind|            features|     scaled_features|        pca_features|prediction|\n",
      "+--------------------+-----+---------+---------+-------+------+----+------------+----------+-----+--------+------------+----------+----------+--------+--------+------------------+-------------+------------------+--------+-------+----------+------------+-----------------+---------------+----------+--------------------+--------------------+--------------------+----------+\n",
      "|00002dd9-cc74-480...|    2|       35|        1|      1|   0.0| 0.0|Santo Cristo|     100.0|100.0|245000.0|           1|         0|         0|       0|       1|                 1|            1|                 1|       1|      1|         1|           1|                1|              1|      27.0|[2.0,35.0,1.0,1.0...|[0.13607726247524...|[-5.9577714324505...|         5|\n",
      "|0009ca94-2b37-438...|    1|       84|        2|      2|   0.0| 1.0|      Tijuca|     770.0|105.0|474980.0|           0|         1|         0|       0|       0|                 0|            1|                 0|       1|      0|         1|           1|                0|              1|       4.0|[1.0,84.0,2.0,2.0...|[0.06803863123762...|[-3.2217825453408...|         2|\n",
      "|000e3d28-e3e5-411...|    0|       85|        2|      2|   0.0| 0.0|Santa Teresa|     460.0|661.0|290000.0|           0|         0|         0|       1|       0|                 1|            0|                 0|       1|      0|         0|           0|                0|              0|      57.0|(24,[1,2,3,6,7,8,...|(24,[1,2,3,6,7,8,...|[-0.8087347266358...|         4|\n",
      "|000fb707-6cad-496...|    0|       58|        1|      2|   0.0| 1.0|   Pechincha|     550.0|550.0|249000.0|           0|         0|         1|       0|       0|                 0|            0|                 0|       0|      1|         1|           0|                0|              0|      12.0|(24,[1,2,3,5,6,7,...|(24,[1,2,3,5,6,7,...|[-1.9688015316493...|         1|\n",
      "|001b6db0-e88d-4eb...|    0|       64|        2|      2|   1.0| 1.0|      Tijuca|     850.0|  0.0|530000.0|           0|         1|         0|       0|       0|                 0|            0|                 0|       0|      0|         0|           0|                0|              0|       4.0|(24,[1,2,3,4,5,6,...|(24,[1,2,3,4,5,6,...|[-0.4255348035139...|         1|\n",
      "+--------------------+-----+---------+---------+-------+------+----+------------+----------+-----+--------+------------+----------+----------+--------+--------+------------------+-------------+------------------+--------+-------+----------+------------+-----------------+---------------+----------+--------------------+--------------------+--------------------+----------+\n",
      "only showing top 5 rows\n",
      "\n"
     ]
    }
   ],
   "source": [
    "predictions.show(5)"
   ]
  },
  {
   "cell_type": "code",
   "execution_count": 173,
   "id": "8e813843-c043-43bb-9be8-122d25c8396b",
   "metadata": {},
   "outputs": [],
   "source": [
    "def recommender(id, top_n=10):\n",
    "    cluster = predictions.filter(predictions.id == id).select('prediction').collect()[0][0]\n",
    "    recommended = predictions.filter(predictions.prediction == cluster)\n",
    "    components = recommended.filter(predictions.id == id)\\\n",
    "        .select(\"pca_features\").collect()[0][0]\n",
    "    recommended = recommended.withColumn('Dist', udf_euclidian_distance('pca_features'))\n",
    "    top_df = spark.createDataFrame(recommended.sort('Dist').take(top_n))\\\n",
    "        .select(['bairro',\n",
    "                 'andar',\n",
    "                 'area_util',\n",
    "                 'banheiros',\n",
    "                 'quartos',\n",
    "                 'suites',\n",
    "                 'vaga',\n",
    "                 'condominio',\n",
    "                 'iptu',\n",
    "                 'valor',\n",
    "                 'Zona Central',\n",
    "                 'Zona Norte',\n",
    "                 'Zona Oeste',\n",
    "                 'Zona Sul',\n",
    "                 'Academia',\n",
    "                 'Animais permitidos',\n",
    "                 'Churrasqueira',\n",
    "                 'Condomínio fechado',\n",
    "                 'Elevador',\n",
    "                 'Piscina',\n",
    "                 'Playground',\n",
    "                 'Portaria 24h',\n",
    "                 'Portão eletrônico',\n",
    "                 'Salão de festas',\n",
    "                 'id',\n",
    "                 'Dist',\n",
    "                 'prediction'])\n",
    "    return top_df"
   ]
  },
  {
   "cell_type": "code",
   "execution_count": 174,
   "id": "6d92bf5a-dd95-4a28-aa07-e1ddd2dce5a8",
   "metadata": {},
   "outputs": [
    {
     "name": "stdout",
     "output_type": "stream",
     "text": [
      "+------------------------------------+-----+---------+---------+-------+------+----+---------------+----------+-----+---------+------------+----------+----------+--------+--------+------------------+-------------+------------------+--------+-------+----------+------------+-----------------+---------------+----------+--------------------------------------------------------------------------------------------------------------+---------------------------------------------------------------------------------------------------------------------------------------------------------------------------------------------------------------------------------------------------------------------------------------------------------------------------------------------------------------------------------------------------------+-------------------------------------------------------------------------------------------------------------------------------------------+----------+\n",
      "|id                                  |andar|area_util|banheiros|quartos|suites|vaga|bairro         |condominio|iptu |valor    |Zona Central|Zona Norte|Zona Oeste|Zona Sul|Academia|Animais permitidos|Churrasqueira|Condomínio fechado|Elevador|Piscina|Playground|Portaria 24h|Portão eletrônico|Salão de festas|bairro_ind|features                                                                                                      |scaled_features                                                                                                                                                                                                                                                                                                                                                                                          |pca_features                                                                                                                               |prediction|\n",
      "+------------------------------------+-----+---------+---------+-------+------+----+---------------+----------+-----+---------+------------+----------+----------+--------+--------+------------------+-------------+------------------+--------+-------+----------+------------+-----------------+---------------+----------+--------------------------------------------------------------------------------------------------------------+---------------------------------------------------------------------------------------------------------------------------------------------------------------------------------------------------------------------------------------------------------------------------------------------------------------------------------------------------------------------------------------------------------+-------------------------------------------------------------------------------------------------------------------------------------------+----------+\n",
      "|00002dd9-cc74-4809-b5a5-850adf0e7526|2    |35       |1        |1      |0.0   |0.0 |Santo Cristo   |100.0     |100.0|245000.0 |1           |0         |0         |0       |1       |1                 |1            |1                 |1       |1      |1         |1           |1                |1              |27.0      |[2.0,35.0,1.0,1.0,0.0,0.0,100.0,100.0,245000.0,1.0,0.0,0.0,0.0,1.0,1.0,1.0,1.0,1.0,1.0,1.0,1.0,1.0,1.0,27.0]  |[0.1360772624752411,0.39283471185863633,0.7362338819363577,1.100820243675378,0.0,0.0,9.600966052923244E-4,5.843293750925933E-4,0.16646329338847074,7.693539635100576,0.0,0.0,0.0,2.029288675697721,2.0063986358410992,2.00212608660304,2.0026140142259217,2.0917437099198977,1.9999864552247013,2.001812384720792,2.007706141209056,2.0142448870054395,2.000069820806827,1.4931118748131846]             |[-5.957771432450525,1.8635879887195763,-1.678170360471443,1.3222154306046523,-0.14914226452666124,-0.3092086836851551,-6.392309765915247]  |5         |\n",
      "|0009ca94-2b37-4381-b8b8-773ce0f92444|1    |84       |2        |2      |0.0   |1.0 |Tijuca         |770.0     |105.0|474980.0 |0           |1         |0         |0       |0       |0                 |1            |0                 |1       |0      |1         |1           |0                |1              |4.0       |[1.0,84.0,2.0,2.0,0.0,1.0,770.0,105.0,474980.0,0.0,1.0,0.0,0.0,0.0,0.0,1.0,0.0,1.0,0.0,1.0,1.0,0.0,1.0,4.0]   |[0.06803863123762055,0.9428033084607272,1.4724677638727155,2.201640487350756,0.0,0.7446700458431624,0.007392743860750898,6.13545843847223E-4,0.32272136772920745,0.0,2.6098864683972236,0.0,0.0,0.0,0.0,2.00212608660304,0.0,2.0917437099198977,0.0,2.001812384720792,2.007706141209056,0.0,2.000069820806827,0.22120175923158292]                                                                       |[-3.221782545340812,-0.8492175313953126,-0.26371395052729196,3.0656660778952762,-0.00225571896958997,1.3011969663343437,0.1336347135688913]|2         |\n",
      "|000e3d28-e3e5-4110-b488-69154931140e|0    |85       |2        |2      |0.0   |0.0 |Santa Teresa   |460.0     |661.0|290000.0 |0           |0         |0         |1       |0       |1                 |0            |0                 |1       |0      |0         |0           |0                |0              |57.0      |(24,[1,2,3,6,7,8,12,14,17,23],[85.0,2.0,2.0,460.0,661.0,290000.0,1.0,1.0,1.0,57.0])                           |(24,[1,2,3,6,7,8,12,14,17,23],[0.954027157370974,1.4724677638727155,2.201640487350756,0.004416444384344693,0.0038624171693620417,0.19703818401084292,2.165075093568037,2.0063986358410992,2.0917437099198977,3.1521250690500566])                                                                                                                                                                        |[-0.808734726635851,-1.0383779052753779,-2.2630643361324334,1.8922232738181548,0.05449266836224699,0.7195235125756205,-0.22752822816026572]|4         |\n",
      "|000fb707-6cad-496d-8cb7-d8046cb5ef37|0    |58       |1        |2      |0.0   |1.0 |Pechincha      |550.0     |550.0|249000.0 |0           |0         |1         |0       |0       |0                 |0            |0                 |0       |1      |1         |0           |0                |0              |12.0      |(24,[1,2,3,5,6,7,8,11,18,19,23],[58.0,1.0,2.0,1.0,550.0,550.0,249000.0,1.0,1.0,1.0,12.0])                     |(24,[1,2,3,5,6,7,8,11,18,19,23],[0.6509832367943117,0.7362338819363577,2.201640487350756,0.7446700458431624,0.005280531329107784,0.0032138115630092634,0.1691810614437927,2.0000643742960476,1.9999864552247013,2.001812384720792,0.6636052776947488])                                                                                                                                                   |[-1.9688015316493015,-1.5373505389235806,1.3731505143118774,0.494427320193014,0.006591052922889071,0.1284585838962922,-0.04805244572434278]|1         |\n",
      "|001b6db0-e88d-4eba-84e5-0ef94b091a64|0    |64       |2        |2      |1.0   |1.0 |Tijuca         |850.0     |0.0  |530000.0 |0           |1         |0         |0       |0       |0                 |0            |0                 |0       |0      |0         |0           |0                |0              |4.0       |(24,[1,2,3,4,5,6,8,10,23],[64.0,2.0,2.0,1.0,1.0,850.0,530000.0,1.0,4.0])                                      |(24,[1,2,3,4,5,6,8,10,23],[0.7183263302557922,1.4724677638727155,2.201640487350756,0.938470824178371,0.7446700458431624,0.008160821144984757,0.36010426733016115,2.6098864683972236,0.22120175923158292])                                                                                                                                                                                                |[-0.42553480351392914,-1.9642498014920522,-0.07565186232630365,2.757953277875721,0.174350617738913,-0.09597001240848016,0.2655674914900582]|1         |\n",
      "|002db67e-52cc-4807-ad36-7fc809fb90c2|0    |200      |6        |4      |4.0   |2.0 |Barra da Tijuca|2500.0    |420.0|2900000.0|0           |0         |1         |0       |1       |1                 |1            |1                 |1       |1      |1         |0           |0                |1              |0.0       |[0.0,200.0,6.0,4.0,4.0,2.0,2500.0,420.0,2900000.0,0.0,0.0,1.0,0.0,1.0,1.0,1.0,1.0,1.0,1.0,1.0,0.0,0.0,1.0,0.0]|[0.0,2.2447697820493504,4.417403291618147,4.403280974701512,3.753883296713484,1.4893400916863249,0.02400241513230811,0.002454183375388892,1.970381840108429,0.0,0.0,2.0000643742960476,0.0,2.029288675697721,2.0063986358410992,2.00212608660304,2.0026140142259217,2.0917437099198977,1.9999864552247013,2.001812384720792,0.0,0.0,2.000069820806827,0.0]                                               |[-7.013608659727492,-5.850748399848265,0.20653684043056736,1.9053490305082734,0.17252125823077868,0.8072010804816798,-0.48725309599233274] |3         |\n",
      "|002dc4e0-f1a5-4add-9c1c-3f43904645da|0    |70       |2        |2      |0.0   |0.0 |Vila Isabel    |570.0     |0.0  |389000.0 |0           |1         |0         |0       |0       |0                 |0            |0                 |1       |0      |0         |0           |0                |0              |14.0      |(24,[1,2,3,6,8,10,17,23],[70.0,2.0,2.0,570.0,389000.0,1.0,1.0,14.0])                                          |(24,[1,2,3,6,8,10,17,23],[0.7856694237172727,1.4724677638727155,2.201640487350756,0.0054725506501662495,0.2643029433800617,2.6098864683972236,2.0917437099198977,0.7742061573105402])                                                                                                                                                                                                                    |[-0.6575471066910874,-1.1492468983015964,-0.5581509544006731,2.8803288946985406,0.11831506450335894,0.2817381989453745,0.23837384456066818]|1         |\n",
      "|0030dd84-f657-41f3-8b86-0f2a72e0fb55|3    |70       |2        |2      |1.0   |1.0 |Pitangueiras   |670.0     |107.0|470000.0 |0           |1         |0         |0       |0       |0                 |0            |0                 |1       |0      |0         |0           |1                |0              |115.0     |(24,[0,1,2,3,4,5,6,7,8,10,17,21,23],[3.0,70.0,2.0,2.0,1.0,1.0,670.0,107.0,470000.0,1.0,1.0,1.0,115.0])        |(24,[0,1,2,3,4,5,6,7,8,10,17,21,23],[0.20411589371286165,0.7856694237172727,1.4724677638727155,2.201640487350756,0.938470824178371,0.7446700458431624,0.006432647255458573,6.252324313490748E-4,0.3193377465003316,2.6098864683972236,2.0917437099198977,2.0142448870054395,6.359550577908009])                                                                                                          |[-0.9160269877766304,-0.4776053608895061,-1.1575809162637059,6.030478899744594,0.22946570793698073,-0.4086594029299378,-0.1866135932744985]|2         |\n",
      "|003213bb-ec21-4ad9-b918-3d51f6300a0c|0    |302      |7        |4      |4.0   |2.0 |Barra da Tijuca|0.0       |0.0  |4400000.0|0           |0         |1         |0       |1       |0                 |1            |1                 |0       |1      |1         |0           |0                |1              |0.0       |(24,[1,2,3,4,5,8,11,13,15,16,18,19,22],[302.0,7.0,4.0,4.0,2.0,4400000.0,1.0,1.0,1.0,1.0,1.0,1.0,1.0])         |(24,[1,2,3,4,5,8,11,13,15,16,18,19,22],[3.3896023708945195,5.153637173554504,4.403280974701512,3.753883296713484,1.4893400916863249,2.9895448608541684,2.0000643742960476,2.029288675697721,2.00212608660304,2.0026140142259217,1.9999864552247013,2.001812384720792,2.000069820806827])                                                                                                                 |[-6.195670471539944,-7.409988111624509,0.9251711966600121,2.109649896751496,0.13807437796354133,1.1539972793120827,-0.9048680174511883]    |3         |\n",
      "|0032884c-aa5f-4558-b9eb-1d37892e466f|0    |41       |1        |1      |1.0   |1.0 |Cachambi       |450.0     |40.0 |269900.0 |0           |1         |0         |0       |1       |1                 |1            |1                 |1       |1      |1         |1           |1                |1              |18.0      |[0.0,41.0,1.0,1.0,1.0,1.0,450.0,40.0,269900.0,0.0,1.0,0.0,0.0,1.0,1.0,1.0,1.0,1.0,1.0,1.0,1.0,1.0,1.0,18.0]   |[0.0,0.4601778053201169,0.7362338819363577,1.100820243675378,0.938470824178371,0.7446700458431624,0.0043204347238154596,2.3373175003703732E-4,0.18338139953285,0.0,2.6098864683972236,0.0,0.0,2.029288675697721,2.0063986358410992,2.00212608660304,2.0026140142259217,2.0917437099198977,1.9999864552247013,2.001812384720792,2.007706141209056,2.0142448870054395,2.000069820806827,0.9954079165421231]|[-6.050435611251481,0.8092981404799382,-1.2182002392311728,3.1931532668663634,0.06271675074281363,0.839409122555791,0.29696168209966717]   |2         |\n",
      "+------------------------------------+-----+---------+---------+-------+------+----+---------------+----------+-----+---------+------------+----------+----------+--------+--------+------------------+-------------+------------------+--------+-------+----------+------------+-----------------+---------------+----------+--------------------------------------------------------------------------------------------------------------+---------------------------------------------------------------------------------------------------------------------------------------------------------------------------------------------------------------------------------------------------------------------------------------------------------------------------------------------------------------------------------------------------------+-------------------------------------------------------------------------------------------------------------------------------------------+----------+\n",
      "only showing top 10 rows\n",
      "\n"
     ]
    }
   ],
   "source": [
    "predictions.show(10, truncate=False)"
   ]
  },
  {
   "cell_type": "code",
   "execution_count": 175,
   "id": "18d823e1-5068-4de0-a34d-72cb8ceac881",
   "metadata": {},
   "outputs": [],
   "source": [
    "item_id = '0009ca94-2b37-4381-b8b8-773ce0f92444'"
   ]
  },
  {
   "cell_type": "code",
   "execution_count": 176,
   "id": "a4a378e4-d5d4-4086-b867-7eb9eaa8c256",
   "metadata": {},
   "outputs": [
    {
     "name": "stdout",
     "output_type": "stream",
     "text": [
      "+------------+-----+---------+---------+-------+------+----+----------+-----+--------+------------+----------+----------+--------+--------+------------------+-------------+------------------+--------+-------+----------+------------+-----------------+---------------+--------------------+------------------+----------+\n",
      "|      bairro|andar|area_util|banheiros|quartos|suites|vaga|condominio| iptu|   valor|Zona Central|Zona Norte|Zona Oeste|Zona Sul|Academia|Animais permitidos|Churrasqueira|Condomínio fechado|Elevador|Piscina|Playground|Portaria 24h|Portão eletrônico|Salão de festas|                  id|              Dist|prediction|\n",
      "+------------+-----+---------+---------+-------+------+----+----------+-----+--------+------------+----------+----------+--------+--------+------------------+-------------+------------------+--------+-------+----------+------------+-----------------+---------------+--------------------+------------------+----------+\n",
      "|     Estácio|    3|       69|        2|      2|   0.0| 1.0|     935.0| 25.0|380000.0|           1|         0|         0|       0|       1|                 1|            1|                 1|       1|      1|         1|           1|                1|              1|0427aa33-be6b-475...|2.0109918117523193|         2|\n",
      "|Santa Teresa|    3|       49|        1|      1|   0.0| 1.0|     590.0| 23.0|429000.0|           1|         0|         0|       0|       0|                 1|            1|                 1|       1|      0|         1|           1|                1|              1|ce0e7270-7aeb-4b9...|2.1099491119384766|         2|\n",
      "|     Estácio|    4|       62|        2|      2|   0.0| 1.0|     650.0|  0.0|250000.0|           1|         0|         0|       0|       0|                 1|            1|                 1|       1|      0|         1|           1|                1|              1|ca6631ad-6c0d-4dd...| 2.750296115875244|         2|\n",
      "|      Gamboa|    0|       30|        1|      1|   0.0| 0.0|       0.0|  0.0|268509.0|           1|         0|         0|       0|       1|                 1|            0|                 1|       1|      1|         1|           1|                1|              1|df1d21c0-dfbe-46d...|2.8141069412231445|         2|\n",
      "|     Estácio|    5|       83|        2|      2|   0.0| 1.0|    1050.0|891.0|330000.0|           1|         0|         0|       0|       0|                 1|            1|                 1|       1|      0|         1|           1|                1|              1|faa6efdc-f529-4a8...|2.8181753158569336|         2|\n",
      "|      Gamboa|   15|       44|        1|      2|   0.0| 0.0|     450.0|100.0|313000.0|           1|         0|         0|       0|       1|                 1|            1|                 1|       1|      1|         1|           1|                1|              0|742bcb59-81d1-43f...|  2.95536470413208|         2|\n",
      "|      Gamboa|    4|       45|        1|      2|   1.0| 1.0|     350.0| 50.0|336000.0|           1|         0|         0|       0|       1|                 1|            1|                 1|       1|      1|         1|           1|                1|              1|9cbc6876-1ee6-43d...|2.9581315517425537|         2|\n",
      "|      Gamboa|    5|       51|        1|      2|   1.0| 1.0|     400.0| 80.0|335500.0|           1|         0|         0|       0|       1|                 1|            1|                 1|       1|      1|         1|           1|                1|              1|d36c7544-64e4-45f...|2.9778900146484375|         2|\n",
      "|     Estácio|    5|       48|        1|      2|   0.0| 1.0|     150.0|  0.0|205000.0|           1|         0|         0|       0|       0|                 1|            1|                 1|       0|      0|         1|           1|                1|              1|132459f3-dc08-410...|  3.00148606300354|         2|\n",
      "| Cidade Nova|    0|       45|        1|      2|   0.0| 0.0|     320.0| 80.0|285000.0|           1|         0|         0|       0|       1|                 1|            1|                 1|       1|      1|         1|           1|                1|              1|4deb46b5-2b91-449...|  3.00260853767395|         2|\n",
      "|      Gamboa|   18|       30|        1|      1|   0.0| 0.0|       0.0|  0.0|278780.0|           1|         0|         0|       0|       1|                 1|            0|                 1|       1|      1|         1|           1|                1|              1|49c87022-aca8-4bd...|3.0102386474609375|         2|\n",
      "|     Estácio|    0|       66|        1|      2|   0.0| 0.0|     832.0|524.0|590000.0|           1|         0|         0|       0|       0|                 1|            0|                 1|       1|      1|         0|           1|                1|              1|0ed52f10-76e5-46c...| 3.064727544784546|         2|\n",
      "| Cidade Nova|   15|       63|        1|      2|   0.0| 0.0|     320.0|  0.0|285000.0|           1|         0|         0|       0|       1|                 1|            1|                 1|       1|      1|         1|           1|                1|              1|5b857b5d-6bf8-46f...|3.1486165523529053|         2|\n",
      "|       Saúde|    0|       55|        1|      2|   0.0| 1.0|     250.0| 36.0|245000.0|           1|         0|         0|       0|       1|                 1|            1|                 1|       1|      1|         1|           1|                1|              1|672e7ed8-2744-480...|3.2373886108398438|         2|\n",
      "|       Saúde|   10|       50|        1|      2|   0.0| 1.0|     350.0| 45.0|337000.0|           1|         0|         0|       0|       1|                 1|            1|                 1|       1|      1|         1|           1|                1|              1|24b1faa3-6c41-458...| 3.312103271484375|         2|\n",
      "|       Saúde|   12|       48|        1|      2|   0.0| 1.0|       0.0|  0.0|329900.0|           1|         0|         0|       0|       1|                 1|            1|                 1|       1|      1|         1|           1|                1|              1|207b59f3-1268-41e...| 3.330108404159546|         2|\n",
      "|     Estácio|    0|       32|        1|      1|   0.0| 0.0|     610.0|  0.0|170000.0|           1|         0|         0|       0|       0|                 1|            0|                 0|       1|      0|         1|           1|                1|              1|afb6b2f6-63c1-46b...| 3.354576826095581|         2|\n",
      "|     Catumbi|    7|       58|        1|      3|   0.0| 1.0|     600.0| 50.0|215000.0|           1|         0|         0|       0|       0|                 1|            1|                 1|       1|      0|         1|           1|                1|              1|53f8ca3b-7318-422...|3.5551064014434814|         2|\n",
      "| Cidade Nova|    2|       59|        2|      2|   0.0| 1.0|     693.0|565.0|315000.0|           1|         0|         0|       0|       0|                 1|            1|                 1|       1|      0|         1|           1|                1|              1|dad0eaf7-97b0-4db...|3.7684786319732666|         2|\n",
      "|     Catumbi|    3|       45|        1|      2|   0.0| 0.0|     450.0|  0.0|275000.0|           1|         0|         0|       0|       0|                 1|            0|                 1|       1|      0|         1|           1|                1|              1|74b107eb-963a-4d2...| 3.768899440765381|         2|\n",
      "+------------+-----+---------+---------+-------+------+----+----------+-----+--------+------------+----------+----------+--------+--------+------------------+-------------+------------------+--------+-------+----------+------------+-----------------+---------------+--------------------+------------------+----------+\n",
      "\n"
     ]
    }
   ],
   "source": [
    "top_df = recommender(item_id, 20)\n",
    "top_df.show()"
   ]
  },
  {
   "cell_type": "code",
   "execution_count": null,
   "id": "e77bbfa7-9928-494b-86cd-805f7900b0cb",
   "metadata": {},
   "outputs": [],
   "source": []
  },
  {
   "cell_type": "code",
   "execution_count": null,
   "id": "2c242633-f5cd-4d6d-ba22-4de7e4bad1cf",
   "metadata": {},
   "outputs": [],
   "source": []
  }
 ],
 "metadata": {
  "kernelspec": {
   "display_name": "Python 3 (ipykernel)",
   "language": "python",
   "name": "python3"
  },
  "language_info": {
   "codemirror_mode": {
    "name": "ipython",
    "version": 3
   },
   "file_extension": ".py",
   "mimetype": "text/x-python",
   "name": "python",
   "nbconvert_exporter": "python",
   "pygments_lexer": "ipython3",
   "version": "3.8.17"
  }
 },
 "nbformat": 4,
 "nbformat_minor": 5
}
