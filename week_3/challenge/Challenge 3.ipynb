{
 "cells": [
  {
   "cell_type": "code",
   "execution_count": 1,
   "id": "bac454d2",
   "metadata": {},
   "outputs": [
    {
     "data": {
      "text/html": [
       "<style>pre { white-space: pre !important; }</style>"
      ],
      "text/plain": [
       "<IPython.core.display.HTML object>"
      ]
     },
     "metadata": {},
     "output_type": "display_data"
    }
   ],
   "source": [
    "import os\n",
    "import findspark\n",
    "\n",
    "os.environ[\"SPARK_HOME\"] = \"C:\\spark\"\n",
    "findspark.init()\n",
    "\n",
    "# To display scroll:\n",
    "from IPython.core.display import HTML\n",
    "display(HTML(\"<style>pre { white-space: pre !important; }</style>\"))"
   ]
  },
  {
   "cell_type": "code",
   "execution_count": 3,
   "id": "c2773c85",
   "metadata": {},
   "outputs": [
    {
     "data": {
      "text/html": [
       "\n",
       "            <div>\n",
       "                <p><b>SparkSession - in-memory</b></p>\n",
       "                \n",
       "        <div>\n",
       "            <p><b>SparkContext</b></p>\n",
       "\n",
       "            <p><a href=\"http://DESKTOP-UG4G4E2:4040\">Spark UI</a></p>\n",
       "\n",
       "            <dl>\n",
       "              <dt>Version</dt>\n",
       "                <dd><code>v3.3.2</code></dd>\n",
       "              <dt>Master</dt>\n",
       "                <dd><code>local[*]</code></dd>\n",
       "              <dt>AppName</dt>\n",
       "                <dd><code>Challenge 3</code></dd>\n",
       "            </dl>\n",
       "        </div>\n",
       "        \n",
       "            </div>\n",
       "        "
      ],
      "text/plain": [
       "<pyspark.sql.session.SparkSession at 0x2138d134350>"
      ]
     },
     "execution_count": 3,
     "metadata": {},
     "output_type": "execute_result"
    }
   ],
   "source": [
    "from pyspark.sql import SparkSession\n",
    "spark = SparkSession.builder\\\n",
    "    .appName('Challenge 3')\\\n",
    "    .getOrCreate()\n",
    "spark"
   ]
  },
  {
   "cell_type": "code",
   "execution_count": 4,
   "id": "c3fd9142",
   "metadata": {},
   "outputs": [],
   "source": [
    "df = spark.read.parquet('dataset_ml_parquet')"
   ]
  },
  {
   "cell_type": "code",
   "execution_count": 5,
   "id": "8a065602",
   "metadata": {},
   "outputs": [
    {
     "name": "stdout",
     "output_type": "stream",
     "text": [
      "+--------------------+-----+---------+---------+-------+------+----+------------+----------+-----+--------+------------+----------+----------+--------+--------+------------------+-------------+------------------+--------+-------+----------+------------+-----------------+---------------+\n",
      "|                  id|andar|area_util|banheiros|quartos|suites|vaga|      bairro|condominio| iptu|   valor|Zona Central|Zona Norte|Zona Oeste|Zona Sul|Academia|Animais permitidos|Churrasqueira|Condomínio fechado|Elevador|Piscina|Playground|Portaria 24h|Portão eletrônico|Salão de festas|\n",
      "+--------------------+-----+---------+---------+-------+------+----+------------+----------+-----+--------+------------+----------+----------+--------+--------+------------------+-------------+------------------+--------+-------+----------+------------+-----------------+---------------+\n",
      "|00002dd9-cc74-480...|    2|       35|        1|      1|   0.0| 0.0|Santo Cristo|     100.0|100.0|245000.0|           1|         0|         0|       0|       1|                 1|            1|                 1|       1|      1|         1|           1|                1|              1|\n",
      "|0009ca94-2b37-438...|    1|       84|        2|      2|   0.0| 1.0|      Tijuca|     770.0|105.0|474980.0|           0|         1|         0|       0|       0|                 0|            1|                 0|       1|      0|         1|           1|                0|              1|\n",
      "|000e3d28-e3e5-411...|    0|       85|        2|      2|   0.0| 0.0|Santa Teresa|     460.0|661.0|290000.0|           0|         0|         0|       1|       0|                 1|            0|                 0|       1|      0|         0|           0|                0|              0|\n",
      "|000fb707-6cad-496...|    0|       58|        1|      2|   0.0| 1.0|   Pechincha|     550.0|550.0|249000.0|           0|         0|         1|       0|       0|                 0|            0|                 0|       0|      1|         1|           0|                0|              0|\n",
      "|001b6db0-e88d-4eb...|    0|       64|        2|      2|   1.0| 1.0|      Tijuca|     850.0|  0.0|530000.0|           0|         1|         0|       0|       0|                 0|            0|                 0|       0|      0|         0|           0|                0|              0|\n",
      "+--------------------+-----+---------+---------+-------+------+----+------------+----------+-----+--------+------------+----------+----------+--------+--------+------------------+-------------+------------------+--------+-------+----------+------------+-----------------+---------------+\n",
      "only showing top 5 rows\n",
      "\n"
     ]
    }
   ],
   "source": [
    "df.show(5)"
   ]
  },
  {
   "cell_type": "markdown",
   "id": "e0503f39",
   "metadata": {},
   "source": [
    "# Transforming data"
   ]
  },
  {
   "cell_type": "code",
   "execution_count": 12,
   "id": "41fda66f",
   "metadata": {},
   "outputs": [],
   "source": [
    "from pyspark.ml.feature import StringIndexer"
   ]
  },
  {
   "cell_type": "code",
   "execution_count": 15,
   "id": "d8dbe8ad",
   "metadata": {},
   "outputs": [],
   "source": [
    "# TODO: Try exploding into different columns\n",
    "indexed = StringIndexer(inputCol='bairro', outputCol='bairro_ind').fit(df).transform(df)"
   ]
  },
  {
   "cell_type": "code",
   "execution_count": 16,
   "id": "739b732d",
   "metadata": {},
   "outputs": [
    {
     "name": "stdout",
     "output_type": "stream",
     "text": [
      "+--------------------+-----+---------+---------+-------+------+----+------------+----------+-----+--------+------------+----------+----------+--------+--------+------------------+-------------+------------------+--------+-------+----------+------------+-----------------+---------------+----------+\n",
      "|                  id|andar|area_util|banheiros|quartos|suites|vaga|      bairro|condominio| iptu|   valor|Zona Central|Zona Norte|Zona Oeste|Zona Sul|Academia|Animais permitidos|Churrasqueira|Condomínio fechado|Elevador|Piscina|Playground|Portaria 24h|Portão eletrônico|Salão de festas|bairro_ind|\n",
      "+--------------------+-----+---------+---------+-------+------+----+------------+----------+-----+--------+------------+----------+----------+--------+--------+------------------+-------------+------------------+--------+-------+----------+------------+-----------------+---------------+----------+\n",
      "|00002dd9-cc74-480...|    2|       35|        1|      1|   0.0| 0.0|Santo Cristo|     100.0|100.0|245000.0|           1|         0|         0|       0|       1|                 1|            1|                 1|       1|      1|         1|           1|                1|              1|      27.0|\n",
      "|0009ca94-2b37-438...|    1|       84|        2|      2|   0.0| 1.0|      Tijuca|     770.0|105.0|474980.0|           0|         1|         0|       0|       0|                 0|            1|                 0|       1|      0|         1|           1|                0|              1|       4.0|\n",
      "|000e3d28-e3e5-411...|    0|       85|        2|      2|   0.0| 0.0|Santa Teresa|     460.0|661.0|290000.0|           0|         0|         0|       1|       0|                 1|            0|                 0|       1|      0|         0|           0|                0|              0|      57.0|\n",
      "|000fb707-6cad-496...|    0|       58|        1|      2|   0.0| 1.0|   Pechincha|     550.0|550.0|249000.0|           0|         0|         1|       0|       0|                 0|            0|                 0|       0|      1|         1|           0|                0|              0|      12.0|\n",
      "|001b6db0-e88d-4eb...|    0|       64|        2|      2|   1.0| 1.0|      Tijuca|     850.0|  0.0|530000.0|           0|         1|         0|       0|       0|                 0|            0|                 0|       0|      0|         0|           0|                0|              0|       4.0|\n",
      "+--------------------+-----+---------+---------+-------+------+----+------------+----------+-----+--------+------------+----------+----------+--------+--------+------------------+-------------+------------------+--------+-------+----------+------------+-----------------+---------------+----------+\n",
      "only showing top 5 rows\n",
      "\n"
     ]
    }
   ],
   "source": [
    "indexed.show(5)"
   ]
  },
  {
   "cell_type": "code",
   "execution_count": 17,
   "id": "4ec0e04b",
   "metadata": {},
   "outputs": [],
   "source": [
    "from pyspark.ml.feature import VectorAssembler"
   ]
  },
  {
   "cell_type": "code",
   "execution_count": 20,
   "id": "041525bc",
   "metadata": {},
   "outputs": [
    {
     "data": {
      "text/plain": [
       "['andar',\n",
       " 'area_util',\n",
       " 'banheiros',\n",
       " 'quartos',\n",
       " 'suites',\n",
       " 'vaga',\n",
       " 'condominio',\n",
       " 'iptu',\n",
       " 'valor',\n",
       " 'Zona Central',\n",
       " 'Zona Norte',\n",
       " 'Zona Oeste',\n",
       " 'Zona Sul',\n",
       " 'Academia',\n",
       " 'Animais permitidos',\n",
       " 'Churrasqueira',\n",
       " 'Condomínio fechado',\n",
       " 'Elevador',\n",
       " 'Piscina',\n",
       " 'Playground',\n",
       " 'Portaria 24h',\n",
       " 'Portão eletrônico',\n",
       " 'Salão de festas',\n",
       " 'bairro_ind']"
      ]
     },
     "execution_count": 20,
     "metadata": {},
     "output_type": "execute_result"
    }
   ],
   "source": [
    "X = [col for col in indexed.columns if col not in ['id', 'bairro']]\n",
    "X"
   ]
  },
  {
   "cell_type": "code",
   "execution_count": 22,
   "id": "e9ed52da",
   "metadata": {},
   "outputs": [],
   "source": [
    "vectorized = VectorAssembler(inputCols=X, outputCol='features')\\\n",
    "    .transform(indexed).select(['features'])"
   ]
  },
  {
   "cell_type": "code",
   "execution_count": 24,
   "id": "b0e30304",
   "metadata": {},
   "outputs": [
    {
     "name": "stdout",
     "output_type": "stream",
     "text": [
      "+--------------------+\n",
      "|            features|\n",
      "+--------------------+\n",
      "|[2.0,35.0,1.0,1.0...|\n",
      "|[1.0,84.0,2.0,2.0...|\n",
      "|(24,[1,2,3,6,7,8,...|\n",
      "|(24,[1,2,3,5,6,7,...|\n",
      "|(24,[1,2,3,4,5,6,...|\n",
      "|[0.0,200.0,6.0,4....|\n",
      "|(24,[1,2,3,6,8,10...|\n",
      "|(24,[0,1,2,3,4,5,...|\n",
      "|(24,[1,2,3,4,5,8,...|\n",
      "|[0.0,41.0,1.0,1.0...|\n",
      "|[5.0,78.0,1.0,2.0...|\n",
      "|[0.0,170.0,3.0,3....|\n",
      "|[0.0,173.0,3.0,3....|\n",
      "|(24,[1,2,3,4,5,6,...|\n",
      "|[9.0,120.0,2.0,2....|\n",
      "|[20.0,341.0,2.0,3...|\n",
      "|[0.0,194.0,5.0,4....|\n",
      "|(24,[1,2,3,8,10,2...|\n",
      "|(24,[0,1,2,3,8,10...|\n",
      "|[10.0,72.0,1.0,2....|\n",
      "+--------------------+\n",
      "only showing top 20 rows\n",
      "\n"
     ]
    }
   ],
   "source": [
    "vectorized.show()"
   ]
  },
  {
   "cell_type": "markdown",
   "id": "1668157e",
   "metadata": {},
   "source": [
    "# Scaling"
   ]
  },
  {
   "cell_type": "code",
   "execution_count": 25,
   "id": "06976045",
   "metadata": {},
   "outputs": [],
   "source": [
    "from pyspark.ml.feature import StandardScaler"
   ]
  },
  {
   "cell_type": "code",
   "execution_count": 26,
   "id": "410fe24b",
   "metadata": {},
   "outputs": [],
   "source": [
    "scaled = StandardScaler(inputCol='features', outputCol='scaled_features').fit(vectorized).transform(vectorized)"
   ]
  },
  {
   "cell_type": "code",
   "execution_count": 27,
   "id": "0ce8d424",
   "metadata": {},
   "outputs": [
    {
     "name": "stdout",
     "output_type": "stream",
     "text": [
      "+--------------------+--------------------+\n",
      "|            features|     scaled_features|\n",
      "+--------------------+--------------------+\n",
      "|[2.0,35.0,1.0,1.0...|[0.13607726247524...|\n",
      "|[1.0,84.0,2.0,2.0...|[0.06803863123762...|\n",
      "|(24,[1,2,3,6,7,8,...|(24,[1,2,3,6,7,8,...|\n",
      "|(24,[1,2,3,5,6,7,...|(24,[1,2,3,5,6,7,...|\n",
      "|(24,[1,2,3,4,5,6,...|(24,[1,2,3,4,5,6,...|\n",
      "|[0.0,200.0,6.0,4....|[0.0,2.2447697820...|\n",
      "|(24,[1,2,3,6,8,10...|(24,[1,2,3,6,8,10...|\n",
      "|(24,[0,1,2,3,4,5,...|(24,[0,1,2,3,4,5,...|\n",
      "|(24,[1,2,3,4,5,8,...|(24,[1,2,3,4,5,8,...|\n",
      "|[0.0,41.0,1.0,1.0...|[0.0,0.4601778053...|\n",
      "|[5.0,78.0,1.0,2.0...|[0.34019315618810...|\n",
      "|[0.0,170.0,3.0,3....|[0.0,1.9080543147...|\n",
      "|[0.0,173.0,3.0,3....|[0.0,1.9417258614...|\n",
      "|(24,[1,2,3,4,5,6,...|(24,[1,2,3,4,5,6,...|\n",
      "|[9.0,120.0,2.0,2....|[0.61234768113858...|\n",
      "|[20.0,341.0,2.0,3...|[1.36077262475241...|\n",
      "|[0.0,194.0,5.0,4....|[0.0,2.1774266885...|\n",
      "|(24,[1,2,3,8,10,2...|(24,[1,2,3,8,10,2...|\n",
      "|(24,[0,1,2,3,8,10...|(24,[0,1,2,3,8,10...|\n",
      "|[10.0,72.0,1.0,2....|[0.68038631237620...|\n",
      "+--------------------+--------------------+\n",
      "only showing top 20 rows\n",
      "\n"
     ]
    }
   ],
   "source": [
    "scaled.show()"
   ]
  },
  {
   "cell_type": "markdown",
   "id": "6a2340a1",
   "metadata": {},
   "source": [
    "# PCA"
   ]
  },
  {
   "cell_type": "code",
   "execution_count": 30,
   "id": "7089fbe4",
   "metadata": {},
   "outputs": [],
   "source": [
    "from pyspark.ml.feature import PCA"
   ]
  },
  {
   "cell_type": "code",
   "execution_count": 122,
   "id": "cd8e9520",
   "metadata": {},
   "outputs": [],
   "source": [
    "k = 6"
   ]
  },
  {
   "cell_type": "code",
   "execution_count": 123,
   "id": "a310ec18",
   "metadata": {},
   "outputs": [],
   "source": [
    "pca = PCA(k=k, inputCol='scaled_features', outputCol='pca_features')\n",
    "model_pca = pca.fit(scaled)\n",
    "df_pca = model_pca.transform(scaled)"
   ]
  },
  {
   "cell_type": "code",
   "execution_count": 124,
   "id": "5a376bb6",
   "metadata": {},
   "outputs": [
    {
     "data": {
      "text/plain": [
       "DenseVector([0.2562, 0.1692, 0.0875, 0.0624, 0.0501, 0.0447])"
      ]
     },
     "execution_count": 124,
     "metadata": {},
     "output_type": "execute_result"
    }
   ],
   "source": [
    "model_pca.explainedVariance"
   ]
  },
  {
   "cell_type": "code",
   "execution_count": 125,
   "id": "38fde383",
   "metadata": {},
   "outputs": [],
   "source": [
    "import numpy as np"
   ]
  },
  {
   "cell_type": "code",
   "execution_count": 126,
   "id": "f16033d9",
   "metadata": {},
   "outputs": [
    {
     "data": {
      "text/plain": [
       "array([0.25617114, 0.42541565, 0.51289371, 0.5753326 , 0.62539143,\n",
       "       0.67006927])"
      ]
     },
     "execution_count": 126,
     "metadata": {},
     "output_type": "execute_result"
    }
   ],
   "source": [
    "acc_variance = np.array([sum(model_pca.explainedVariance[0:i+1]) for i in range(k)])\n",
    "acc_variance"
   ]
  },
  {
   "cell_type": "code",
   "execution_count": 121,
   "id": "f667250e",
   "metadata": {},
   "outputs": [
    {
     "data": {
      "text/plain": [
       "6"
      ]
     },
     "execution_count": 121,
     "metadata": {},
     "output_type": "execute_result"
    }
   ],
   "source": [
    "k = np.where(acc_variance >= 0.7)[0][0]\n",
    "k"
   ]
  },
  {
   "cell_type": "code",
   "execution_count": null,
   "id": "71273a58",
   "metadata": {},
   "outputs": [],
   "source": []
  }
 ],
 "metadata": {
  "kernelspec": {
   "display_name": "Python 3 (ipykernel)",
   "language": "python",
   "name": "python3"
  },
  "language_info": {
   "codemirror_mode": {
    "name": "ipython",
    "version": 3
   },
   "file_extension": ".py",
   "mimetype": "text/x-python",
   "name": "python",
   "nbconvert_exporter": "python",
   "pygments_lexer": "ipython3",
   "version": "3.11.3"
  }
 },
 "nbformat": 4,
 "nbformat_minor": 5
}
