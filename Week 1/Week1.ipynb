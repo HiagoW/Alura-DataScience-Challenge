{
 "cells": [
  {
   "cell_type": "code",
   "execution_count": 1,
   "id": "5554bcb9",
   "metadata": {},
   "outputs": [],
   "source": [
    "import os\n",
    "\n",
    "os.environ[\"SPARK_HOME\"] = \"C:\\spark\""
   ]
  },
  {
   "cell_type": "code",
   "execution_count": 2,
   "id": "604afcc9",
   "metadata": {},
   "outputs": [],
   "source": [
    "import findspark\n",
    "findspark.init()"
   ]
  },
  {
   "cell_type": "code",
   "execution_count": 3,
   "id": "816b841b",
   "metadata": {},
   "outputs": [
    {
     "data": {
      "text/html": [
       "<style>pre { white-space: pre !important; }</style>"
      ],
      "text/plain": [
       "<IPython.core.display.HTML object>"
      ]
     },
     "metadata": {},
     "output_type": "display_data"
    }
   ],
   "source": [
    "from pyspark.sql import SparkSession\n",
    "import pyspark.sql.functions as f\n",
    "\n",
    "# To display scroll:\n",
    "from IPython.core.display import HTML\n",
    "display(HTML(\"<style>pre { white-space: pre !important; }</style>\"))"
   ]
  },
  {
   "cell_type": "code",
   "execution_count": 4,
   "id": "c7aec4d7",
   "metadata": {},
   "outputs": [],
   "source": [
    "spark = SparkSession.builder.master('local[*]').appName(\"Week1\").getOrCreate()"
   ]
  },
  {
   "cell_type": "code",
   "execution_count": 5,
   "id": "97af9eb9",
   "metadata": {},
   "outputs": [
    {
     "data": {
      "text/html": [
       "\n",
       "            <div>\n",
       "                <p><b>SparkSession - in-memory</b></p>\n",
       "                \n",
       "        <div>\n",
       "            <p><b>SparkContext</b></p>\n",
       "\n",
       "            <p><a href=\"http://DESKTOP-UG4G4E2:4040\">Spark UI</a></p>\n",
       "\n",
       "            <dl>\n",
       "              <dt>Version</dt>\n",
       "                <dd><code>v3.3.2</code></dd>\n",
       "              <dt>Master</dt>\n",
       "                <dd><code>local[*]</code></dd>\n",
       "              <dt>AppName</dt>\n",
       "                <dd><code>Week1</code></dd>\n",
       "            </dl>\n",
       "        </div>\n",
       "        \n",
       "            </div>\n",
       "        "
      ],
      "text/plain": [
       "<pyspark.sql.session.SparkSession at 0x2d8ff9bebd0>"
      ]
     },
     "execution_count": 5,
     "metadata": {},
     "output_type": "execute_result"
    }
   ],
   "source": [
    "spark"
   ]
  },
  {
   "cell_type": "code",
   "execution_count": 6,
   "id": "d56879e1",
   "metadata": {},
   "outputs": [],
   "source": [
    "path=os.path.abspath('C:\\\\Users\\\\Pichau\\\\Downloads\\\\semana-1\\\\dataset_bruto.json')"
   ]
  },
  {
   "cell_type": "code",
   "execution_count": 7,
   "id": "33cec958",
   "metadata": {},
   "outputs": [],
   "source": [
    "df = spark.read.json(path)"
   ]
  },
  {
   "cell_type": "code",
   "execution_count": 8,
   "id": "1c252d41",
   "metadata": {},
   "outputs": [
    {
     "name": "stdout",
     "output_type": "stream",
     "text": [
      "+--------------------+--------------------+--------------------+\n",
      "|             anuncio|             imagens|             usuario|\n",
      "+--------------------+--------------------+--------------------+\n",
      "|{0, [], [16], [0]...|[{39d6282a-71f3-4...|{9d44563d-3405-4e...|\n",
      "|{0, [], [14], [0]...|[{23d2b3ab-45b0-4...|{36245be7-70fe-40...|\n",
      "|{0, [1026], [1026...|[{1da65baa-368b-4...|{9dc415d8-1397-4d...|\n",
      "|{0, [120], [120],...|[{79b542c6-49b4-4...|{9911a2df-f299-4a...|\n",
      "|{0, [3], [3], [0]...|[{e2bc497b-6510-4...|{240a7aab-12e5-40...|\n",
      "+--------------------+--------------------+--------------------+\n",
      "only showing top 5 rows\n",
      "\n"
     ]
    }
   ],
   "source": [
    "df.show(5)"
   ]
  },
  {
   "cell_type": "code",
   "execution_count": 9,
   "id": "391a49f3",
   "metadata": {},
   "outputs": [
    {
     "data": {
      "text/plain": [
       "pyspark.sql.dataframe.DataFrame"
      ]
     },
     "execution_count": 9,
     "metadata": {},
     "output_type": "execute_result"
    }
   ],
   "source": [
    "type(df)"
   ]
  },
  {
   "cell_type": "code",
   "execution_count": 10,
   "id": "fd9871ff",
   "metadata": {},
   "outputs": [
    {
     "name": "stdout",
     "output_type": "stream",
     "text": [
      "root\n",
      " |-- anuncio: struct (nullable = true)\n",
      " |    |-- andar: long (nullable = true)\n",
      " |    |-- area_total: array (nullable = true)\n",
      " |    |    |-- element: string (containsNull = true)\n",
      " |    |-- area_util: array (nullable = true)\n",
      " |    |    |-- element: string (containsNull = true)\n",
      " |    |-- banheiros: array (nullable = true)\n",
      " |    |    |-- element: long (containsNull = true)\n",
      " |    |-- caracteristicas: array (nullable = true)\n",
      " |    |    |-- element: string (containsNull = true)\n",
      " |    |-- endereco: struct (nullable = true)\n",
      " |    |    |-- bairro: string (nullable = true)\n",
      " |    |    |-- cep: string (nullable = true)\n",
      " |    |    |-- cidade: string (nullable = true)\n",
      " |    |    |-- estado: string (nullable = true)\n",
      " |    |    |-- latitude: double (nullable = true)\n",
      " |    |    |-- longitude: double (nullable = true)\n",
      " |    |    |-- pais: string (nullable = true)\n",
      " |    |    |-- rua: string (nullable = true)\n",
      " |    |    |-- zona: string (nullable = true)\n",
      " |    |-- id: string (nullable = true)\n",
      " |    |-- quartos: array (nullable = true)\n",
      " |    |    |-- element: long (containsNull = true)\n",
      " |    |-- suites: array (nullable = true)\n",
      " |    |    |-- element: long (containsNull = true)\n",
      " |    |-- tipo_anuncio: string (nullable = true)\n",
      " |    |-- tipo_unidade: string (nullable = true)\n",
      " |    |-- tipo_uso: string (nullable = true)\n",
      " |    |-- vaga: array (nullable = true)\n",
      " |    |    |-- element: long (containsNull = true)\n",
      " |    |-- valores: array (nullable = true)\n",
      " |    |    |-- element: struct (containsNull = true)\n",
      " |    |    |    |-- condominio: string (nullable = true)\n",
      " |    |    |    |-- iptu: string (nullable = true)\n",
      " |    |    |    |-- tipo: string (nullable = true)\n",
      " |    |    |    |-- valor: string (nullable = true)\n",
      " |-- imagens: array (nullable = true)\n",
      " |    |-- element: struct (containsNull = true)\n",
      " |    |    |-- id: string (nullable = true)\n",
      " |    |    |-- url: string (nullable = true)\n",
      " |-- usuario: struct (nullable = true)\n",
      " |    |-- id: string (nullable = true)\n",
      " |    |-- nome: string (nullable = true)\n",
      "\n"
     ]
    }
   ],
   "source": [
    "df.printSchema()"
   ]
  },
  {
   "cell_type": "markdown",
   "id": "f9f398d5",
   "metadata": {},
   "source": [
    "# Create anuncio DF"
   ]
  },
  {
   "cell_type": "code",
   "execution_count": 11,
   "id": "54885c80",
   "metadata": {
    "scrolled": true
   },
   "outputs": [
    {
     "data": {
      "text/plain": [
       "'andar'"
      ]
     },
     "execution_count": 11,
     "metadata": {},
     "output_type": "execute_result"
    }
   ],
   "source": [
    "df.select(\"anuncio\").schema.fields[0].dataType.fields[0].name"
   ]
  },
  {
   "cell_type": "code",
   "execution_count": 12,
   "id": "396b90ca",
   "metadata": {},
   "outputs": [
    {
     "data": {
      "text/plain": [
       "[StructField('andar', LongType(), True),\n",
       " StructField('area_total', ArrayType(StringType(), True), True),\n",
       " StructField('area_util', ArrayType(StringType(), True), True),\n",
       " StructField('banheiros', ArrayType(LongType(), True), True),\n",
       " StructField('caracteristicas', ArrayType(StringType(), True), True),\n",
       " StructField('endereco', StructType([StructField('bairro', StringType(), True), StructField('cep', StringType(), True), StructField('cidade', StringType(), True), StructField('estado', StringType(), True), StructField('latitude', DoubleType(), True), StructField('longitude', DoubleType(), True), StructField('pais', StringType(), True), StructField('rua', StringType(), True), StructField('zona', StringType(), True)]), True),\n",
       " StructField('id', StringType(), True),\n",
       " StructField('quartos', ArrayType(LongType(), True), True),\n",
       " StructField('suites', ArrayType(LongType(), True), True),\n",
       " StructField('tipo_anuncio', StringType(), True),\n",
       " StructField('tipo_unidade', StringType(), True),\n",
       " StructField('tipo_uso', StringType(), True),\n",
       " StructField('vaga', ArrayType(LongType(), True), True),\n",
       " StructField('valores', ArrayType(StructType([StructField('condominio', StringType(), True), StructField('iptu', StringType(), True), StructField('tipo', StringType(), True), StructField('valor', StringType(), True)]), True), True)]"
      ]
     },
     "execution_count": 12,
     "metadata": {},
     "output_type": "execute_result"
    }
   ],
   "source": [
    "df.select(\"anuncio\").schema.fields[0].dataType.fields"
   ]
  },
  {
   "cell_type": "code",
   "execution_count": 13,
   "id": "b357d8ce",
   "metadata": {},
   "outputs": [],
   "source": [
    "anuncio = df.select(\n",
    "    *[f.col(\"anuncio\").getField(field.name).alias(field.name) for field in df.select(\"anuncio\").schema.fields[0].dataType.fields]\n",
    ")"
   ]
  },
  {
   "cell_type": "code",
   "execution_count": 14,
   "id": "59b1bdaf",
   "metadata": {},
   "outputs": [
    {
     "name": "stdout",
     "output_type": "stream",
     "text": [
      "root\n",
      " |-- andar: long (nullable = true)\n",
      " |-- area_total: array (nullable = true)\n",
      " |    |-- element: string (containsNull = true)\n",
      " |-- area_util: array (nullable = true)\n",
      " |    |-- element: string (containsNull = true)\n",
      " |-- banheiros: array (nullable = true)\n",
      " |    |-- element: long (containsNull = true)\n",
      " |-- caracteristicas: array (nullable = true)\n",
      " |    |-- element: string (containsNull = true)\n",
      " |-- endereco: struct (nullable = true)\n",
      " |    |-- bairro: string (nullable = true)\n",
      " |    |-- cep: string (nullable = true)\n",
      " |    |-- cidade: string (nullable = true)\n",
      " |    |-- estado: string (nullable = true)\n",
      " |    |-- latitude: double (nullable = true)\n",
      " |    |-- longitude: double (nullable = true)\n",
      " |    |-- pais: string (nullable = true)\n",
      " |    |-- rua: string (nullable = true)\n",
      " |    |-- zona: string (nullable = true)\n",
      " |-- id: string (nullable = true)\n",
      " |-- quartos: array (nullable = true)\n",
      " |    |-- element: long (containsNull = true)\n",
      " |-- suites: array (nullable = true)\n",
      " |    |-- element: long (containsNull = true)\n",
      " |-- tipo_anuncio: string (nullable = true)\n",
      " |-- tipo_unidade: string (nullable = true)\n",
      " |-- tipo_uso: string (nullable = true)\n",
      " |-- vaga: array (nullable = true)\n",
      " |    |-- element: long (containsNull = true)\n",
      " |-- valores: array (nullable = true)\n",
      " |    |-- element: struct (containsNull = true)\n",
      " |    |    |-- condominio: string (nullable = true)\n",
      " |    |    |-- iptu: string (nullable = true)\n",
      " |    |    |-- tipo: string (nullable = true)\n",
      " |    |    |-- valor: string (nullable = true)\n",
      "\n"
     ]
    }
   ],
   "source": [
    "anuncio.printSchema()"
   ]
  },
  {
   "cell_type": "code",
   "execution_count": 15,
   "id": "13ccf979",
   "metadata": {},
   "outputs": [
    {
     "name": "stdout",
     "output_type": "stream",
     "text": [
      "+-----+----------+---------+---------+-------------------------------------------------------------------------------------------------------------------------------+-----------------------------------------------------------------------------------------------------------------------------+------------------------------------+-------+------+------------+------------+-----------+----+----------------------------+\n",
      "|andar|area_total|area_util|banheiros|caracteristicas                                                                                                                |endereco                                                                                                                     |id                                  |quartos|suites|tipo_anuncio|tipo_unidade|tipo_uso   |vaga|valores                     |\n",
      "+-----+----------+---------+---------+-------------------------------------------------------------------------------------------------------------------------------+-----------------------------------------------------------------------------------------------------------------------------+------------------------------------+-------+------+------------+------------+-----------+----+----------------------------+\n",
      "|0    |[]        |[16]     |[0]      |[]                                                                                                                             |{Centro, 20061003, Rio de Janeiro, Rio de Janeiro, -22.906082, -43.18671, BR, Rua Buenos Aires, Zona Central}                |47d553e0-79f2-4a46-9390-5a3c962740c2|[0]    |[0]   |Usado       |Outros      |Comercial  |[1] |[{260, 107, Venda, 10000}]  |\n",
      "|0    |[]        |[14]     |[0]      |[]                                                                                                                             |{Centro, 20051040, Rio de Janeiro, Rio de Janeiro, -22.902536, -43.18434, BR, Avenida Passos, Zona Central}                  |b6ffbae1-17f6-4870-9950-e998ac1c8d6a|[0]    |[]    |Usado       |Outros      |Comercial  |[0] |[{260, 107, Venda, 10000}]  |\n",
      "|0    |[1026]    |[1026]   |[0]      |[]                                                                                                                             |{Maria da Graça, 20785360, Rio de Janeiro, Rio de Janeiro, -22.885516, -43.269083, BR, Rua Luís de Brito, Zona Norte}        |1fb030a5-9e3e-4a1d-93cd-cd2d8a215e11|[0]    |[]    |Usado       |Outros      |Comercial  |[0] |[{null, 1613, Venda, 10000}]|\n",
      "|0    |[120]     |[120]    |[0]      |[Portão eletrônico, Condomínio fechado]                                                                                        |{Campo Grande, 23095071, Rio de Janeiro, Rio de Janeiro, -22.885028, -43.561668, BR, Estrada Guandu do Sape, Zona Oeste}     |ac6cb348-69d6-45af-9589-dc34099370d8|[0]    |[]    |Usado       |Outros      |Residencial|[]  |[{80, null, Venda, 10000}]  |\n",
      "|0    |[3]       |[3]      |[0]      |[]                                                                                                                             |{São Cristóvão, 20931670, Rio de Janeiro, Rio de Janeiro, -22.885912, -43.219296, BR, Rua Monsenhor Manuel Gomes, Zona Norte}|e032b908-ef42-4d4a-8125-eba4792bacbe|[0]    |[]    |Usado       |Outros      |Residencial|[]  |[{0, 0, Venda, 5000}]       |\n",
      "|0    |[20]      |[15]     |[1]      |[]                                                                                                                             |{Centro, 20231047, Rio de Janeiro, Rio de Janeiro, -22.913152, -43.184043, BR, Rua dos Inválidos, Zona Central}              |df9cf0b8-b972-4334-88c9-87ef528806df|[0]    |[]    |Usado       |Outros      |Comercial  |[1] |[{223, 87, Venda, 18500}]   |\n",
      "|3    |[43]      |[43]     |[1]      |[Academia, Churrasqueira, Playground, Salão de festas, Condomínio fechado, Portão eletrônico, Portaria 24h, Animais permitidos]|{Paciência, 23585430, Rio de Janeiro, Rio de Janeiro, -22.919851, -43.634034, BR, Estrada de Santa Eugênia, Zona Oeste}      |d2e3a3aa-09b5-45a0-9dcd-918847cd3ca3|[2]    |[]    |Usado       |Apartamento |Residencial|[1] |[{245, null, Venda, 15000}] |\n",
      "|2    |[42]      |[42]     |[1]      |[Churrasqueira, Playground, Salão de festas, Condomínio fechado, Portão eletrônico, Portaria 24h, Animais permitidos]          |{Paciência, 23585430, Rio de Janeiro, Rio de Janeiro, -22.928108, -43.635375, BR, Estrada de Santa Eugênia, Zona Oeste}      |085bab2c-87ad-452a-bd0f-8b1451509f84|[2]    |[]    |Usado       |Apartamento |Residencial|[1] |[{0, 0, Venda, 15000}]      |\n",
      "|0    |[]        |[12]     |[0]      |[Portaria 24h, Elevador]                                                                                                       |{Centro, 20231047, Rio de Janeiro, Rio de Janeiro, -22.913152, -43.184043, BR, Rua dos Inválidos, Zona Central}              |096ad966-dc36-47bf-8795-5604f078713a|[0]    |[]    |Usado       |Outros      |Comercial  |[1] |[{250, null, Venda, 20000}] |\n",
      "|1    |[41]      |[41]     |[1]      |[Portaria 24h, Condomínio fechado, Playground, Salão de festas, Churrasqueira, Portão eletrônico]                              |{Guaratiba, 23036060, Rio de Janeiro, Rio de Janeiro, -22.948756, -43.582824, BR, Estrada Cabuçu de Baixo, Zona Oeste}       |18d22cbe-1b86-4764-8def-70c615f15a61|[2]    |[]    |Usado       |Apartamento |Residencial|[1] |[{0, 0, Venda, 20000}]      |\n",
      "|3    |[43]      |[43]     |[1]      |[Churrasqueira, Piscina, Playground, Salão de festas, Condomínio fechado, Portão eletrônico, Portaria 24h, Animais permitidos] |{Cosmos, 23066271, Rio de Janeiro, Rio de Janeiro, -22.888194, -43.629602, BR, Estrada da Paciência, Zona Oeste}             |bed8a354-9317-4426-b27e-1c798f864271|[2]    |[]    |Usado       |Apartamento |Residencial|[0] |[{285, null, Venda, 20000}] |\n",
      "|0    |[10]      |[4]      |[0]      |[Elevador, Portaria 24h]                                                                                                       |{Centro, 20080021, Rio de Janeiro, Rio de Janeiro, -22.900167, -43.183256, BR, Rua dos Andradas, Zona Central}               |b7d0fbd3-0b28-4203-b7d2-5a63b6f6f7aa|[0]    |[]    |Usado       |Outros      |Comercial  |[0] |[{200, 86, Venda, 11500}]   |\n",
      "|0    |[12]      |[12]     |[1]      |[Portaria 24h]                                                                                                                 |{Copacabana, 22021010, Rio de Janeiro, Rio de Janeiro, -22.965218, -43.179086, BR, Rua Ministro Viveiros de Castro, Zona Sul}|c6571c11-166e-4a4c-acdf-10da35afd5fa|[0]    |[]    |Usado       |Outros      |Comercial  |[]  |[{470, null, Venda, 12000}] |\n",
      "|0    |[17]      |[17]     |[0]      |[Elevador]                                                                                                                     |{Centro, 20070021, Rio de Janeiro, Rio de Janeiro, -22.902503, -43.177944, BR, Rua Buenos Aires, Zona Central}               |46d5b560-205f-45fe-9223-f2a4db04545c|[0]    |[]    |Usado       |Outros      |Comercial  |[1] |[{294, 98, Venda, 18000}]   |\n",
      "|1    |[32]      |[32]     |[]       |[Elevador, Condomínio fechado, Portão eletrônico]                                                                              |{Centro, 20090020, Rio de Janeiro, Rio de Janeiro, -22.898297, -43.178573, BR, Rua Cortines Laxe, Zona Central}              |db197997-00e6-4d6d-8066-45cbbf3ac56c|[]     |[]    |Usado       |Outros      |Comercial  |[1] |[{684, null, Venda, 15000}] |\n",
      "+-----+----------+---------+---------+-------------------------------------------------------------------------------------------------------------------------------+-----------------------------------------------------------------------------------------------------------------------------+------------------------------------+-------+------+------------+------------+-----------+----+----------------------------+\n",
      "only showing top 15 rows\n",
      "\n"
     ]
    }
   ],
   "source": [
    "anuncio.show(15, False)"
   ]
  },
  {
   "cell_type": "markdown",
   "id": "ef5ee4d3",
   "metadata": {},
   "source": [
    "# Data analysis"
   ]
  },
  {
   "cell_type": "code",
   "execution_count": 16,
   "id": "654e46a1",
   "metadata": {},
   "outputs": [],
   "source": [
    "array_columns = ['area_total','area_util','banheiros','caracteristicas','quartos','suites','vaga','valores']"
   ]
  },
  {
   "cell_type": "code",
   "execution_count": 17,
   "id": "37772d16",
   "metadata": {},
   "outputs": [],
   "source": [
    "max_area_total_items = anuncio.select(\n",
    "    *[f.max(f.size(f.col(colName))).alias('total_'+colName) for colName in array_columns]\n",
    ")"
   ]
  },
  {
   "cell_type": "code",
   "execution_count": 18,
   "id": "7fe9c5d2",
   "metadata": {},
   "outputs": [
    {
     "name": "stdout",
     "output_type": "stream",
     "text": [
      "+----------------+---------------+---------------+---------------------+-------------+------------+----------+-------------+\n",
      "|total_area_total|total_area_util|total_banheiros|total_caracteristicas|total_quartos|total_suites|total_vaga|total_valores|\n",
      "+----------------+---------------+---------------+---------------------+-------------+------------+----------+-------------+\n",
      "|               1|              2|              2|                   10|            2|           2|         2|            2|\n",
      "+----------------+---------------+---------------+---------------------+-------------+------------+----------+-------------+\n",
      "\n"
     ]
    }
   ],
   "source": [
    "max_area_total_items.show()"
   ]
  },
  {
   "cell_type": "code",
   "execution_count": 19,
   "id": "a44bd856",
   "metadata": {},
   "outputs": [
    {
     "name": "stdout",
     "output_type": "stream",
     "text": [
      "+-----------+-----+\n",
      "|   tipo_uso|total|\n",
      "+-----------+-----+\n",
      "|  Comercial| 4542|\n",
      "|Residencial|84541|\n",
      "+-----------+-----+\n",
      "\n"
     ]
    }
   ],
   "source": [
    "anuncio.select('tipo_uso').groupBy('tipo_uso').count()\\\n",
    "    .withColumnRenamed('count','total')\\\n",
    "    .orderBy('total')\\\n",
    "    .show()"
   ]
  },
  {
   "cell_type": "code",
   "execution_count": 20,
   "id": "3982e4bb",
   "metadata": {},
   "outputs": [
    {
     "name": "stdout",
     "output_type": "stream",
     "text": [
      "+------------+-----+\n",
      "|tipo_unidade|total|\n",
      "+------------+-----+\n",
      "|        Casa|10319|\n",
      "|      Outros|11963|\n",
      "| Apartamento|66801|\n",
      "+------------+-----+\n",
      "\n"
     ]
    }
   ],
   "source": [
    "anuncio.select('tipo_unidade').groupBy('tipo_unidade').count()\\\n",
    "    .withColumnRenamed('count','total')\\\n",
    "    .orderBy('total')\\\n",
    "    .show()"
   ]
  },
  {
   "cell_type": "code",
   "execution_count": 21,
   "id": "4ab7b008",
   "metadata": {},
   "outputs": [
    {
     "name": "stdout",
     "output_type": "stream",
     "text": [
      "+------------+-----+\n",
      "|tipo_anuncio|total|\n",
      "+------------+-----+\n",
      "|  Lançamento|  256|\n",
      "|       Usado|88827|\n",
      "+------------+-----+\n",
      "\n"
     ]
    }
   ],
   "source": [
    "anuncio.select('tipo_anuncio').groupBy('tipo_anuncio').count()\\\n",
    "    .withColumnRenamed('count','total')\\\n",
    "    .orderBy('total')\\\n",
    "    .show()"
   ]
  },
  {
   "cell_type": "code",
   "execution_count": 22,
   "id": "2913e590",
   "metadata": {},
   "outputs": [
    {
     "data": {
      "text/plain": [
       "89083"
      ]
     },
     "execution_count": 22,
     "metadata": {},
     "output_type": "execute_result"
    }
   ],
   "source": [
    "anuncio.count()"
   ]
  },
  {
   "cell_type": "markdown",
   "id": "c5581c54",
   "metadata": {},
   "source": [
    "# Filtering"
   ]
  },
  {
   "cell_type": "code",
   "execution_count": 23,
   "id": "3688b7d8",
   "metadata": {},
   "outputs": [],
   "source": [
    "anuncio_filtered = anuncio.where(\"tipo_uso=='Residencial' AND tipo_unidade=='Apartamento' AND tipo_anuncio=='Usado'\")"
   ]
  },
  {
   "cell_type": "code",
   "execution_count": 24,
   "id": "2dfb73b7",
   "metadata": {},
   "outputs": [
    {
     "data": {
      "text/plain": [
       "66562"
      ]
     },
     "execution_count": 24,
     "metadata": {},
     "output_type": "execute_result"
    }
   ],
   "source": [
    "anuncio_filtered.count()"
   ]
  },
  {
   "cell_type": "code",
   "execution_count": 25,
   "id": "0fa79850",
   "metadata": {},
   "outputs": [
    {
     "name": "stdout",
     "output_type": "stream",
     "text": [
      "+-----+----------+---------+---------+--------------------+--------------------+--------------------+-------+------+------------+------------+-----------+----+--------------------+\n",
      "|andar|area_total|area_util|banheiros|     caracteristicas|            endereco|                  id|quartos|suites|tipo_anuncio|tipo_unidade|   tipo_uso|vaga|             valores|\n",
      "+-----+----------+---------+---------+--------------------+--------------------+--------------------+-------+------+------------+------------+-----------+----+--------------------+\n",
      "|    3|      [43]|     [43]|      [1]|[Academia, Churra...|{Paciência, 23585...|d2e3a3aa-09b5-45a...|    [2]|    []|       Usado| Apartamento|Residencial| [1]|[{245, null, Vend...|\n",
      "|    2|      [42]|     [42]|      [1]|[Churrasqueira, P...|{Paciência, 23585...|085bab2c-87ad-452...|    [2]|    []|       Usado| Apartamento|Residencial| [1]|[{0, 0, Venda, 15...|\n",
      "|    1|      [41]|     [41]|      [1]|[Portaria 24h, Co...|{Guaratiba, 23036...|18d22cbe-1b86-476...|    [2]|    []|       Usado| Apartamento|Residencial| [1]|[{0, 0, Venda, 20...|\n",
      "|    3|      [43]|     [43]|      [1]|[Churrasqueira, P...|{Cosmos, 23066271...|bed8a354-9317-442...|    [2]|    []|       Usado| Apartamento|Residencial| [0]|[{285, null, Vend...|\n",
      "|    2|      [43]|     [43]|      [1]|[Academia, Churra...|{Guaratiba, 23036...|12a13315-d67f-48f...|    [2]|    []|       Usado| Apartamento|Residencial| [1]|[{245, null, Vend...|\n",
      "+-----+----------+---------+---------+--------------------+--------------------+--------------------+-------+------+------------+------------+-----------+----+--------------------+\n",
      "only showing top 5 rows\n",
      "\n"
     ]
    }
   ],
   "source": [
    "anuncio_filtered.show(5)"
   ]
  },
  {
   "cell_type": "markdown",
   "id": "c0609fce",
   "metadata": {},
   "source": [
    "# Column transformation"
   ]
  },
  {
   "cell_type": "code",
   "execution_count": 26,
   "id": "2c3c679e",
   "metadata": {},
   "outputs": [
    {
     "data": {
      "text/plain": [
       "['andar',\n",
       " 'area_total',\n",
       " 'area_util',\n",
       " 'banheiros',\n",
       " 'caracteristicas',\n",
       " 'endereco',\n",
       " 'id',\n",
       " 'quartos',\n",
       " 'suites',\n",
       " 'tipo_anuncio',\n",
       " 'tipo_unidade',\n",
       " 'tipo_uso',\n",
       " 'vaga',\n",
       " 'valores']"
      ]
     },
     "execution_count": 26,
     "metadata": {},
     "output_type": "execute_result"
    }
   ],
   "source": [
    "anuncio_filtered.columns"
   ]
  },
  {
   "cell_type": "code",
   "execution_count": 27,
   "id": "49000414",
   "metadata": {},
   "outputs": [],
   "source": [
    "anuncio_filtered = anuncio_filtered.select(\n",
    "     *[f.when(f.col(colName).getItem(0).isNull(), 0).otherwise(f.col(colName).getItem(0)).alias(colName)\\\n",
    "       if colName in ['quartos','suites','banheiros','vagas','area_total','area_util']\\\n",
    "       else f.col(colName)\\\n",
    "       for colName in anuncio_filtered.columns]\n",
    ")"
   ]
  },
  {
   "cell_type": "code",
   "execution_count": 28,
   "id": "59a23ea1",
   "metadata": {},
   "outputs": [
    {
     "name": "stdout",
     "output_type": "stream",
     "text": [
      "+-----+----------+---------+---------+--------------------+--------------------+--------------------+-------+------+------------+------------+-----------+----+--------------------+\n",
      "|andar|area_total|area_util|banheiros|     caracteristicas|            endereco|                  id|quartos|suites|tipo_anuncio|tipo_unidade|   tipo_uso|vaga|             valores|\n",
      "+-----+----------+---------+---------+--------------------+--------------------+--------------------+-------+------+------------+------------+-----------+----+--------------------+\n",
      "|    3|        43|       43|        1|[Academia, Churra...|{Paciência, 23585...|d2e3a3aa-09b5-45a...|      2|     0|       Usado| Apartamento|Residencial| [1]|[{245, null, Vend...|\n",
      "|    2|        42|       42|        1|[Churrasqueira, P...|{Paciência, 23585...|085bab2c-87ad-452...|      2|     0|       Usado| Apartamento|Residencial| [1]|[{0, 0, Venda, 15...|\n",
      "|    1|        41|       41|        1|[Portaria 24h, Co...|{Guaratiba, 23036...|18d22cbe-1b86-476...|      2|     0|       Usado| Apartamento|Residencial| [1]|[{0, 0, Venda, 20...|\n",
      "|    3|        43|       43|        1|[Churrasqueira, P...|{Cosmos, 23066271...|bed8a354-9317-442...|      2|     0|       Usado| Apartamento|Residencial| [0]|[{285, null, Vend...|\n",
      "|    2|        43|       43|        1|[Academia, Churra...|{Guaratiba, 23036...|12a13315-d67f-48f...|      2|     0|       Usado| Apartamento|Residencial| [1]|[{245, null, Vend...|\n",
      "+-----+----------+---------+---------+--------------------+--------------------+--------------------+-------+------+------------+------------+-----------+----+--------------------+\n",
      "only showing top 5 rows\n",
      "\n"
     ]
    }
   ],
   "source": [
    "anuncio_filtered.show(5)"
   ]
  },
  {
   "cell_type": "code",
   "execution_count": 29,
   "id": "83d33d13",
   "metadata": {},
   "outputs": [
    {
     "name": "stdout",
     "output_type": "stream",
     "text": [
      "+-----------------------------------------------------------------------------------------------------------------------+\n",
      "|endereco                                                                                                               |\n",
      "+-----------------------------------------------------------------------------------------------------------------------+\n",
      "|{Paciência, 23585430, Rio de Janeiro, Rio de Janeiro, -22.919851, -43.634034, BR, Estrada de Santa Eugênia, Zona Oeste}|\n",
      "|{Paciência, 23585430, Rio de Janeiro, Rio de Janeiro, -22.928108, -43.635375, BR, Estrada de Santa Eugênia, Zona Oeste}|\n",
      "|{Guaratiba, 23036060, Rio de Janeiro, Rio de Janeiro, -22.948756, -43.582824, BR, Estrada Cabuçu de Baixo, Zona Oeste} |\n",
      "|{Cosmos, 23066271, Rio de Janeiro, Rio de Janeiro, -22.888194, -43.629602, BR, Estrada da Paciência, Zona Oeste}       |\n",
      "|{Guaratiba, 23036060, Rio de Janeiro, Rio de Janeiro, -22.948291, -43.582205, BR, Estrada Cabuçu de Baixo, Zona Oeste} |\n",
      "+-----------------------------------------------------------------------------------------------------------------------+\n",
      "only showing top 5 rows\n",
      "\n"
     ]
    }
   ],
   "source": [
    "anuncio_filtered.select(\"endereco\").show(5, False)"
   ]
  },
  {
   "cell_type": "code",
   "execution_count": 30,
   "id": "a9358b16",
   "metadata": {},
   "outputs": [
    {
     "name": "stdout",
     "output_type": "stream",
     "text": [
      "root\n",
      " |-- endereco: struct (nullable = true)\n",
      " |    |-- bairro: string (nullable = true)\n",
      " |    |-- cep: string (nullable = true)\n",
      " |    |-- cidade: string (nullable = true)\n",
      " |    |-- estado: string (nullable = true)\n",
      " |    |-- latitude: double (nullable = true)\n",
      " |    |-- longitude: double (nullable = true)\n",
      " |    |-- pais: string (nullable = true)\n",
      " |    |-- rua: string (nullable = true)\n",
      " |    |-- zona: string (nullable = true)\n",
      "\n"
     ]
    }
   ],
   "source": [
    "anuncio_filtered.select(\"endereco\").printSchema()"
   ]
  },
  {
   "cell_type": "code",
   "execution_count": 31,
   "id": "57ea3ab5",
   "metadata": {},
   "outputs": [],
   "source": [
    "anuncio_filtered = anuncio_filtered\\\n",
    "    .withColumn('bairro', f.col('endereco.bairro'))\\\n",
    "    .withColumn('zona', f.col('endereco.zona'))\\\n",
    "    .drop('endereco')"
   ]
  },
  {
   "cell_type": "code",
   "execution_count": 32,
   "id": "cc44f5a8",
   "metadata": {},
   "outputs": [
    {
     "name": "stdout",
     "output_type": "stream",
     "text": [
      "+-----+----------+---------+---------+--------------------+--------------------+-------+------+------------+------------+-----------+----+--------------------+---------+----------+\n",
      "|andar|area_total|area_util|banheiros|     caracteristicas|                  id|quartos|suites|tipo_anuncio|tipo_unidade|   tipo_uso|vaga|             valores|   bairro|      zona|\n",
      "+-----+----------+---------+---------+--------------------+--------------------+-------+------+------------+------------+-----------+----+--------------------+---------+----------+\n",
      "|    3|        43|       43|        1|[Academia, Churra...|d2e3a3aa-09b5-45a...|      2|     0|       Usado| Apartamento|Residencial| [1]|[{245, null, Vend...|Paciência|Zona Oeste|\n",
      "|    2|        42|       42|        1|[Churrasqueira, P...|085bab2c-87ad-452...|      2|     0|       Usado| Apartamento|Residencial| [1]|[{0, 0, Venda, 15...|Paciência|Zona Oeste|\n",
      "|    1|        41|       41|        1|[Portaria 24h, Co...|18d22cbe-1b86-476...|      2|     0|       Usado| Apartamento|Residencial| [1]|[{0, 0, Venda, 20...|Guaratiba|Zona Oeste|\n",
      "|    3|        43|       43|        1|[Churrasqueira, P...|bed8a354-9317-442...|      2|     0|       Usado| Apartamento|Residencial| [0]|[{285, null, Vend...|   Cosmos|Zona Oeste|\n",
      "|    2|        43|       43|        1|[Academia, Churra...|12a13315-d67f-48f...|      2|     0|       Usado| Apartamento|Residencial| [1]|[{245, null, Vend...|Guaratiba|Zona Oeste|\n",
      "+-----+----------+---------+---------+--------------------+--------------------+-------+------+------------+------------+-----------+----+--------------------+---------+----------+\n",
      "only showing top 5 rows\n",
      "\n"
     ]
    }
   ],
   "source": [
    "anuncio_filtered.show(5)"
   ]
  },
  {
   "cell_type": "code",
   "execution_count": 33,
   "id": "be0c318d",
   "metadata": {},
   "outputs": [
    {
     "name": "stdout",
     "output_type": "stream",
     "text": [
      "root\n",
      " |-- valores: array (nullable = true)\n",
      " |    |-- element: struct (containsNull = true)\n",
      " |    |    |-- condominio: string (nullable = true)\n",
      " |    |    |-- iptu: string (nullable = true)\n",
      " |    |    |-- tipo: string (nullable = true)\n",
      " |    |    |-- valor: string (nullable = true)\n",
      "\n"
     ]
    }
   ],
   "source": [
    "anuncio_filtered.select(\"valores\").printSchema()"
   ]
  },
  {
   "cell_type": "code",
   "execution_count": 34,
   "id": "c215916f",
   "metadata": {},
   "outputs": [],
   "source": [
    "anuncio_filtered = anuncio_filtered\\\n",
    "    .withColumn('condominio', f.col(\"valores\").getItem('condominio'))\\\n",
    "    .withColumn('iptu', f.col(\"valores\").getItem('iptu'))\\\n",
    "    .withColumn('tipo', f.col(\"valores\").getItem('tipo'))\\\n",
    "    .withColumn('valor', f.col(\"valores\").getItem('valor'))\\\n",
    "    .drop('valores')"
   ]
  },
  {
   "cell_type": "code",
   "execution_count": 35,
   "id": "079ec00c",
   "metadata": {},
   "outputs": [
    {
     "name": "stdout",
     "output_type": "stream",
     "text": [
      "+-----+----------+---------+---------+--------------------+--------------------+-------+------+------------+------------+-----------+----+---------+----------+----------+------+-------+-------+\n",
      "|andar|area_total|area_util|banheiros|     caracteristicas|                  id|quartos|suites|tipo_anuncio|tipo_unidade|   tipo_uso|vaga|   bairro|      zona|condominio|  iptu|   tipo|  valor|\n",
      "+-----+----------+---------+---------+--------------------+--------------------+-------+------+------------+------------+-----------+----+---------+----------+----------+------+-------+-------+\n",
      "|    3|        43|       43|        1|[Academia, Churra...|d2e3a3aa-09b5-45a...|      2|     0|       Usado| Apartamento|Residencial| [1]|Paciência|Zona Oeste|     [245]|[null]|[Venda]|[15000]|\n",
      "|    2|        42|       42|        1|[Churrasqueira, P...|085bab2c-87ad-452...|      2|     0|       Usado| Apartamento|Residencial| [1]|Paciência|Zona Oeste|       [0]|   [0]|[Venda]|[15000]|\n",
      "|    1|        41|       41|        1|[Portaria 24h, Co...|18d22cbe-1b86-476...|      2|     0|       Usado| Apartamento|Residencial| [1]|Guaratiba|Zona Oeste|       [0]|   [0]|[Venda]|[20000]|\n",
      "|    3|        43|       43|        1|[Churrasqueira, P...|bed8a354-9317-442...|      2|     0|       Usado| Apartamento|Residencial| [0]|   Cosmos|Zona Oeste|     [285]|[null]|[Venda]|[20000]|\n",
      "|    2|        43|       43|        1|[Academia, Churra...|12a13315-d67f-48f...|      2|     0|       Usado| Apartamento|Residencial| [1]|Guaratiba|Zona Oeste|     [245]|[null]|[Venda]|[15000]|\n",
      "+-----+----------+---------+---------+--------------------+--------------------+-------+------+------------+------------+-----------+----+---------+----------+----------+------+-------+-------+\n",
      "only showing top 5 rows\n",
      "\n"
     ]
    }
   ],
   "source": [
    "anuncio_filtered.show(5)"
   ]
  },
  {
   "cell_type": "code",
   "execution_count": 36,
   "id": "a1ac0ccb",
   "metadata": {},
   "outputs": [
    {
     "data": {
      "text/plain": [
       "[Row(tipo=['Venda', 'Aluguel']),\n",
       " Row(tipo=['Aluguel', 'Venda']),\n",
       " Row(tipo=['Venda'])]"
      ]
     },
     "execution_count": 36,
     "metadata": {},
     "output_type": "execute_result"
    }
   ],
   "source": [
    "anuncio_filtered.select('tipo').distinct().collect()"
   ]
  },
  {
   "cell_type": "code",
   "execution_count": 37,
   "id": "b9767432",
   "metadata": {},
   "outputs": [
    {
     "name": "stdout",
     "output_type": "stream",
     "text": [
      "+-----+----------+---------+---------+--------------------+--------------------+-------+------+------------+------------+-----------+----+------------+------------+----------+------------+----------------+-------------+\n",
      "|andar|area_total|area_util|banheiros|     caracteristicas|                  id|quartos|suites|tipo_anuncio|tipo_unidade|   tipo_uso|vaga|      bairro|        zona|condominio|        iptu|            tipo|        valor|\n",
      "+-----+----------+---------+---------+--------------------+--------------------+-------+------+------------+------------+-----------+----+------------+------------+----------+------------+----------------+-------------+\n",
      "|    3|        48|       48|        1|[Churrasqueira, C...|c425f585-53e3-44b...|      2|     0|       Usado| Apartamento|Residencial| [0]|  Santa Cruz|  Zona Oeste|[350, 350]|    [20, 20]|[Venda, Aluguel]| [49000, 700]|\n",
      "|    3|         0|       46|        1|[Churrasqueira, C...|df481ce5-65d0-4c1...|      2|     0|       Usado| Apartamento|Residencial| [1]|      Cosmos|  Zona Oeste|    [0, 0]|[null, null]|[Venda, Aluguel]| [50000, 800]|\n",
      "|    0|        51|       51|        1|                  []|19a733e5-a656-424...|      2|     0|       Usado| Apartamento|Residencial| [0]|Campo Grande|  Zona Oeste|[200, 200]|      [0, 0]|[Aluguel, Venda]| [800, 55000]|\n",
      "|    0|         0|       19|        1|[Elevador, Condom...|68e375f8-8455-409...|      1|     0|       Usado| Apartamento|Residencial| [0]|      Centro|Zona Central|    [0, 0]|      [0, 0]|[Venda, Aluguel]|[70000, 1000]|\n",
      "|   16|        25|       25|        1|          [Elevador]|ed36f282-409e-4a7...|      0|     0|       Usado| Apartamento|Residencial| [0]|      Centro|Zona Central|[830, 830]|[1279, 1279]|[Aluguel, Venda]| [600, 70000]|\n",
      "+-----+----------+---------+---------+--------------------+--------------------+-------+------+------------+------------+-----------+----+------------+------------+----------+------------+----------------+-------------+\n",
      "only showing top 5 rows\n",
      "\n"
     ]
    }
   ],
   "source": [
    "anuncio_filtered.filter(f.array_contains(f.col('tipo'), 'Venda') & f.array_contains(f.col('tipo'),'Aluguel')).show(5)"
   ]
  },
  {
   "cell_type": "code",
   "execution_count": 38,
   "id": "057514df",
   "metadata": {},
   "outputs": [],
   "source": [
    "# https://stackoverflow.com/questions/59235308/explode-two-pyspark-arrays-and-keep-elements-from-same-positions/59238352#59238352\n",
    "transform_expr = \"transform(tipo, (tipoVal, i) -> struct(tipoVal as tipo, iptu[i] as iptu, valor[i] as valor, condominio[i] as condominio))\""
   ]
  },
  {
   "cell_type": "code",
   "execution_count": 39,
   "id": "ef0eccb0",
   "metadata": {},
   "outputs": [],
   "source": [
    "exploded_anuncio = anuncio_filtered.withColumn(\"merged_arrays\", f.explode(f.expr(transform_expr))) \\\n",
    "    .withColumn(\"tipo\", f.col(\"merged_arrays.tipo\")) \\\n",
    "    .withColumn(\"iptu\", f.col(\"merged_arrays.iptu\"))\\\n",
    "    .withColumn(\"condominio\", f.col(\"merged_arrays.condominio\"))\\\n",
    "    .withColumn(\"valor\", f.col(\"merged_arrays.valor\"))\\\n",
    "    .drop('merged_arrays')"
   ]
  },
  {
   "cell_type": "code",
   "execution_count": 40,
   "id": "1d375289",
   "metadata": {},
   "outputs": [
    {
     "data": {
      "text/plain": [
       "67183"
      ]
     },
     "execution_count": 40,
     "metadata": {},
     "output_type": "execute_result"
    }
   ],
   "source": [
    "exploded_anuncio.count()"
   ]
  },
  {
   "cell_type": "code",
   "execution_count": 41,
   "id": "c959b988",
   "metadata": {},
   "outputs": [
    {
     "data": {
      "text/plain": [
       "621"
      ]
     },
     "execution_count": 41,
     "metadata": {},
     "output_type": "execute_result"
    }
   ],
   "source": [
    "exploded_anuncio.filter('tipo == \"Aluguel\"').count()"
   ]
  },
  {
   "cell_type": "code",
   "execution_count": 42,
   "id": "b88ee56f",
   "metadata": {},
   "outputs": [],
   "source": [
    "anuncios_venda = exploded_anuncio.filter('tipo == \"Venda\"')"
   ]
  },
  {
   "cell_type": "code",
   "execution_count": 43,
   "id": "bc9ae1ba",
   "metadata": {},
   "outputs": [
    {
     "data": {
      "text/plain": [
       "66562"
      ]
     },
     "execution_count": 43,
     "metadata": {},
     "output_type": "execute_result"
    }
   ],
   "source": [
    "anuncios_venda.count()"
   ]
  },
  {
   "cell_type": "code",
   "execution_count": 44,
   "id": "facc43ff",
   "metadata": {},
   "outputs": [
    {
     "name": "stdout",
     "output_type": "stream",
     "text": [
      "+-----+----------+---------+---------+--------------------+--------------------+-------+------+------------+------------+-----------+----+---------+----------+----------+----+-----+-----+\n",
      "|andar|area_total|area_util|banheiros|     caracteristicas|                  id|quartos|suites|tipo_anuncio|tipo_unidade|   tipo_uso|vaga|   bairro|      zona|condominio|iptu| tipo|valor|\n",
      "+-----+----------+---------+---------+--------------------+--------------------+-------+------+------------+------------+-----------+----+---------+----------+----------+----+-----+-----+\n",
      "|    3|        43|       43|        1|[Academia, Churra...|d2e3a3aa-09b5-45a...|      2|     0|       Usado| Apartamento|Residencial| [1]|Paciência|Zona Oeste|       245|null|Venda|15000|\n",
      "|    2|        42|       42|        1|[Churrasqueira, P...|085bab2c-87ad-452...|      2|     0|       Usado| Apartamento|Residencial| [1]|Paciência|Zona Oeste|         0|   0|Venda|15000|\n",
      "|    1|        41|       41|        1|[Portaria 24h, Co...|18d22cbe-1b86-476...|      2|     0|       Usado| Apartamento|Residencial| [1]|Guaratiba|Zona Oeste|         0|   0|Venda|20000|\n",
      "|    3|        43|       43|        1|[Churrasqueira, P...|bed8a354-9317-442...|      2|     0|       Usado| Apartamento|Residencial| [0]|   Cosmos|Zona Oeste|       285|null|Venda|20000|\n",
      "|    2|        43|       43|        1|[Academia, Churra...|12a13315-d67f-48f...|      2|     0|       Usado| Apartamento|Residencial| [1]|Guaratiba|Zona Oeste|       245|null|Venda|15000|\n",
      "+-----+----------+---------+---------+--------------------+--------------------+-------+------+------------+------------+-----------+----+---------+----------+----------+----+-----+-----+\n",
      "only showing top 5 rows\n",
      "\n"
     ]
    }
   ],
   "source": [
    "anuncios_venda.show(5)"
   ]
  },
  {
   "cell_type": "markdown",
   "id": "e569b698",
   "metadata": {},
   "source": [
    "# Saving"
   ]
  },
  {
   "cell_type": "code",
   "execution_count": 83,
   "id": "fdc5a05b",
   "metadata": {},
   "outputs": [],
   "source": [
    "anuncios_venda.write.parquet('C:\\\\Users\\\\Pichau\\\\Downloads\\\\semana-1\\\\anuncios_venda.parquet')"
   ]
  },
  {
   "cell_type": "code",
   "execution_count": 88,
   "id": "5256bc5a",
   "metadata": {},
   "outputs": [],
   "source": [
    "anuncios_venda\\\n",
    "    .withColumn(\"caracteristicas\", f.col(\"caracteristicas\").cast(\"string\"))\\\n",
    "    .withColumn(\"vaga\", f.col(\"vaga\").cast(\"string\"))\\\n",
    "    .write.options(header=True).csv('C:\\\\Users\\\\Pichau\\\\Downloads\\\\semana-1\\\\anuncios_venda.csv')"
   ]
  },
  {
   "cell_type": "markdown",
   "id": "09aed174",
   "metadata": {},
   "source": [
    "# Testing"
   ]
  },
  {
   "cell_type": "code",
   "execution_count": 84,
   "id": "571530db",
   "metadata": {},
   "outputs": [],
   "source": [
    "anuncios_parquet = spark.read.parquet('C:\\\\Users\\\\Pichau\\\\Downloads\\\\semana-1\\\\anuncios_venda.parquet')"
   ]
  },
  {
   "cell_type": "code",
   "execution_count": 101,
   "id": "f30c5a7f",
   "metadata": {},
   "outputs": [
    {
     "name": "stdout",
     "output_type": "stream",
     "text": [
      "+------------+------------------+------------------+\n",
      "|tipo_unidade|             andar|      avg(quartos)|\n",
      "+------------+------------------+------------------+\n",
      "| Apartamento|2.3374598119046905|2.6121811243652533|\n",
      "+------------+------------------+------------------+\n",
      "\n",
      "CPU times: total: 0 ns\n",
      "Wall time: 73 ms\n"
     ]
    }
   ],
   "source": [
    "%%time\n",
    "anuncios_parquet\\\n",
    "    .groupBy('tipo_unidade')\\\n",
    "    .agg(\n",
    "        f.avg(\"andar\").alias('andar'),\n",
    "        f.avg(\"quartos\")\n",
    "    ).orderBy('andar').show()"
   ]
  },
  {
   "cell_type": "code",
   "execution_count": 96,
   "id": "ed8ab22e",
   "metadata": {},
   "outputs": [],
   "source": [
    "anuncios_csv = spark.read.options(header=True).csv('C:\\\\Users\\\\Pichau\\\\Downloads\\\\semana-1\\\\anuncios_venda.csv')"
   ]
  },
  {
   "cell_type": "code",
   "execution_count": 100,
   "id": "d4ddd328",
   "metadata": {},
   "outputs": [
    {
     "name": "stdout",
     "output_type": "stream",
     "text": [
      "+------------+------------------+------------------+\n",
      "|tipo_unidade|             andar|      avg(quartos)|\n",
      "+------------+------------------+------------------+\n",
      "| Apartamento|2.3374598119046905|2.6121811243652533|\n",
      "+------------+------------------+------------------+\n",
      "\n",
      "CPU times: total: 0 ns\n",
      "Wall time: 108 ms\n"
     ]
    }
   ],
   "source": [
    "%%time\n",
    "anuncios_csv\\\n",
    "    .groupBy('tipo_unidade')\\\n",
    "    .agg(\n",
    "        f.avg(\"andar\").alias('andar'),\n",
    "        f.avg(\"quartos\")\n",
    "    ).orderBy('andar').show()"
   ]
  }
 ],
 "metadata": {
  "kernelspec": {
   "display_name": "Python 3 (ipykernel)",
   "language": "python",
   "name": "python3"
  },
  "language_info": {
   "codemirror_mode": {
    "name": "ipython",
    "version": 3
   },
   "file_extension": ".py",
   "mimetype": "text/x-python",
   "name": "python",
   "nbconvert_exporter": "python",
   "pygments_lexer": "ipython3",
   "version": "3.11.3"
  }
 },
 "nbformat": 4,
 "nbformat_minor": 5
}
