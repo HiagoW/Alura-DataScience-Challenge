{
 "cells": [
  {
   "cell_type": "code",
   "execution_count": 75,
   "id": "9ea0f076",
   "metadata": {},
   "outputs": [],
   "source": [
    "import os\n",
    "\n",
    "os.environ[\"SPARK_HOME\"] = \"C:\\spark\"\n",
    "os.environ[\"HADOOP_HOME\"] = \"C:\\spark\""
   ]
  },
  {
   "cell_type": "code",
   "execution_count": 18,
   "id": "d7a70475",
   "metadata": {},
   "outputs": [],
   "source": [
    "import findspark\n",
    "findspark.init()"
   ]
  },
  {
   "cell_type": "code",
   "execution_count": 19,
   "id": "cb0cc3e9",
   "metadata": {},
   "outputs": [],
   "source": [
    "from pyspark.sql import SparkSession"
   ]
  },
  {
   "cell_type": "code",
   "execution_count": 20,
   "id": "85259031",
   "metadata": {},
   "outputs": [],
   "source": [
    "spark = SparkSession.builder.master('local[*]').appName(\"Iniciando com spark\").getOrCreate()"
   ]
  },
  {
   "cell_type": "code",
   "execution_count": 21,
   "id": "c94d1406",
   "metadata": {},
   "outputs": [
    {
     "data": {
      "text/html": [
       "\n",
       "            <div>\n",
       "                <p><b>SparkSession - in-memory</b></p>\n",
       "                \n",
       "        <div>\n",
       "            <p><b>SparkContext</b></p>\n",
       "\n",
       "            <p><a href=\"http://DESKTOP-UG4G4E2:4040\">Spark UI</a></p>\n",
       "\n",
       "            <dl>\n",
       "              <dt>Version</dt>\n",
       "                <dd><code>v3.4.1</code></dd>\n",
       "              <dt>Master</dt>\n",
       "                <dd><code>local[*]</code></dd>\n",
       "              <dt>AppName</dt>\n",
       "                <dd><code>Iniciando com spark</code></dd>\n",
       "            </dl>\n",
       "        </div>\n",
       "        \n",
       "            </div>\n",
       "        "
      ],
      "text/plain": [
       "<pyspark.sql.session.SparkSession at 0x14d1353df50>"
      ]
     },
     "execution_count": 21,
     "metadata": {},
     "output_type": "execute_result"
    }
   ],
   "source": [
    "spark"
   ]
  },
  {
   "cell_type": "markdown",
   "id": "e15f6ba4",
   "metadata": {},
   "source": [
    "## Carregamento de dados\n",
    "\n",
    "### Dados Públicos CNPJ\n",
    "#### Receita Federal\n",
    "\n",
    "> [Empresas](https://caelum-online-public.s3.amazonaws.com/2273-introducao-spark/01/empresas.zip)\n",
    "> \n",
    "> [Estabelecimentos](https://caelum-online-public.s3.amazonaws.com/2273-introducao-spark/01/estabelecimentos.zip)\n",
    "> \n",
    "> [Sócios](https://caelum-online-public.s3.amazonaws.com/2273-introducao-spark/01/socios.zip)\n",
    "\n",
    "[Fonte original dos dados](https://www.gov.br/receitafederal/pt-br/assuntos/orientacao-tributaria/cadastros/consultas/dados-publicos-cnpj)\n",
    "\n",
    "---\n",
    "[property SparkSession.read](https://spark.apache.org/docs/3.1.2/api/python/reference/api/pyspark.sql.SparkSession.read.html)\n",
    "\n",
    "[DataFrameReader.csv(*args)](https://spark.apache.org/docs/3.1.2/api/python/reference/api/pyspark.sql.DataFrameReader.csv.html)\n",
    "   "
   ]
  },
  {
   "cell_type": "code",
   "execution_count": 22,
   "id": "9cfe49d6",
   "metadata": {},
   "outputs": [],
   "source": [
    "def read_csvs(path):\n",
    "    res = []\n",
    "\n",
    "    for path in os.listdir(dir_path):\n",
    "        # check if current path is a file\n",
    "        if os.path.isfile(os.path.join(dir_path, path)):\n",
    "            res.append(os.path.join(dir_path, path))\n",
    "    return spark.read.csv(res, sep=';', inferSchema=True)"
   ]
  },
  {
   "cell_type": "code",
   "execution_count": 23,
   "id": "8eda8a27",
   "metadata": {},
   "outputs": [],
   "source": [
    "path = 'C:\\\\Users\\\\Pichau\\\\Downloads\\\\'"
   ]
  },
  {
   "cell_type": "code",
   "execution_count": 24,
   "id": "c8bb7707",
   "metadata": {},
   "outputs": [],
   "source": [
    "dir_path=os.path.abspath(path+\"empresas\")"
   ]
  },
  {
   "cell_type": "code",
   "execution_count": 25,
   "id": "3379c4df",
   "metadata": {},
   "outputs": [],
   "source": [
    "empresas = read_csvs(dir_path)"
   ]
  },
  {
   "cell_type": "code",
   "execution_count": 26,
   "id": "405960a7",
   "metadata": {},
   "outputs": [
    {
     "data": {
      "text/plain": [
       "4585679"
      ]
     },
     "execution_count": 26,
     "metadata": {},
     "output_type": "execute_result"
    }
   ],
   "source": [
    "empresas.count()"
   ]
  },
  {
   "cell_type": "code",
   "execution_count": 27,
   "id": "c252f363",
   "metadata": {},
   "outputs": [
    {
     "data": {
      "text/plain": [
       "2046430"
      ]
     },
     "execution_count": 27,
     "metadata": {},
     "output_type": "execute_result"
    }
   ],
   "source": [
    "dir_path=os.path.abspath(path+\"socios\")\n",
    "socios = read_csvs(dir_path)\n",
    "socios.count()"
   ]
  },
  {
   "cell_type": "code",
   "execution_count": 28,
   "id": "bb77542c",
   "metadata": {},
   "outputs": [
    {
     "data": {
      "text/plain": [
       "4836219"
      ]
     },
     "execution_count": 28,
     "metadata": {},
     "output_type": "execute_result"
    }
   ],
   "source": [
    "dir_path=os.path.abspath(path+\"estabelecimentos\")\n",
    "estabelecimentos = read_csvs(dir_path)\n",
    "estabelecimentos.count()"
   ]
  },
  {
   "cell_type": "markdown",
   "id": "240ef210",
   "metadata": {},
   "source": [
    "# Manipulando Dados\n",
    "\n",
    "## Operações básicas"
   ]
  },
  {
   "cell_type": "code",
   "execution_count": 29,
   "id": "67c16cca",
   "metadata": {},
   "outputs": [
    {
     "data": {
      "text/html": [
       "<div>\n",
       "<style scoped>\n",
       "    .dataframe tbody tr th:only-of-type {\n",
       "        vertical-align: middle;\n",
       "    }\n",
       "\n",
       "    .dataframe tbody tr th {\n",
       "        vertical-align: top;\n",
       "    }\n",
       "\n",
       "    .dataframe thead th {\n",
       "        text-align: right;\n",
       "    }\n",
       "</style>\n",
       "<table border=\"1\" class=\"dataframe\">\n",
       "  <thead>\n",
       "    <tr style=\"text-align: right;\">\n",
       "      <th></th>\n",
       "      <th>_c0</th>\n",
       "      <th>_c1</th>\n",
       "      <th>_c2</th>\n",
       "      <th>_c3</th>\n",
       "      <th>_c4</th>\n",
       "      <th>_c5</th>\n",
       "      <th>_c6</th>\n",
       "    </tr>\n",
       "  </thead>\n",
       "  <tbody>\n",
       "    <tr>\n",
       "      <th>0</th>\n",
       "      <td>4519</td>\n",
       "      <td>DANIELA DA SILVA CRUZ</td>\n",
       "      <td>2135</td>\n",
       "      <td>50</td>\n",
       "      <td>0,00</td>\n",
       "      <td>5</td>\n",
       "      <td>None</td>\n",
       "    </tr>\n",
       "    <tr>\n",
       "      <th>1</th>\n",
       "      <td>8638</td>\n",
       "      <td>JOAO DOS SANTOS FAGUNDES</td>\n",
       "      <td>2135</td>\n",
       "      <td>50</td>\n",
       "      <td>0,00</td>\n",
       "      <td>5</td>\n",
       "      <td>None</td>\n",
       "    </tr>\n",
       "    <tr>\n",
       "      <th>2</th>\n",
       "      <td>11748</td>\n",
       "      <td>PANIFICADORA E CONFEITARIA CONFIANCA RIO PRETO...</td>\n",
       "      <td>2062</td>\n",
       "      <td>49</td>\n",
       "      <td>0,00</td>\n",
       "      <td>1</td>\n",
       "      <td>None</td>\n",
       "    </tr>\n",
       "    <tr>\n",
       "      <th>3</th>\n",
       "      <td>12027</td>\n",
       "      <td>L G SORVETERIA LTDA</td>\n",
       "      <td>2062</td>\n",
       "      <td>49</td>\n",
       "      <td>0,00</td>\n",
       "      <td>5</td>\n",
       "      <td>None</td>\n",
       "    </tr>\n",
       "    <tr>\n",
       "      <th>4</th>\n",
       "      <td>13289</td>\n",
       "      <td>ANDREIA CRISTINA DELSIN EIRELI</td>\n",
       "      <td>2305</td>\n",
       "      <td>65</td>\n",
       "      <td>100000,00</td>\n",
       "      <td>1</td>\n",
       "      <td>None</td>\n",
       "    </tr>\n",
       "  </tbody>\n",
       "</table>\n",
       "</div>"
      ],
      "text/plain": [
       "     _c0                                                _c1   _c2  _c3  \\\n",
       "0   4519                              DANIELA DA SILVA CRUZ  2135   50   \n",
       "1   8638                           JOAO DOS SANTOS FAGUNDES  2135   50   \n",
       "2  11748  PANIFICADORA E CONFEITARIA CONFIANCA RIO PRETO...  2062   49   \n",
       "3  12027                                L G SORVETERIA LTDA  2062   49   \n",
       "4  13289                     ANDREIA CRISTINA DELSIN EIRELI  2305   65   \n",
       "\n",
       "         _c4  _c5   _c6  \n",
       "0       0,00    5  None  \n",
       "1       0,00    5  None  \n",
       "2       0,00    1  None  \n",
       "3       0,00    5  None  \n",
       "4  100000,00    1  None  "
      ]
     },
     "execution_count": 29,
     "metadata": {},
     "output_type": "execute_result"
    }
   ],
   "source": [
    "empresas.limit(5).toPandas()"
   ]
  },
  {
   "cell_type": "code",
   "execution_count": 30,
   "id": "e542bb12",
   "metadata": {},
   "outputs": [],
   "source": [
    "empresasColNames = ['cnpj_basico', 'razao_social_nome_empresarial', 'natureza_juridica', 'qualificacao_do_responsavel', 'capital_social_da_empresa', 'porte_da_empresa', 'ente_federativo_responsavel']"
   ]
  },
  {
   "cell_type": "code",
   "execution_count": 31,
   "id": "0ead3692",
   "metadata": {},
   "outputs": [
    {
     "name": "stdout",
     "output_type": "stream",
     "text": [
      "(0, 'cnpj_basico')\n",
      "(1, 'razao_social_nome_empresarial')\n",
      "(2, 'natureza_juridica')\n",
      "(3, 'qualificacao_do_responsavel')\n",
      "(4, 'capital_social_da_empresa')\n",
      "(5, 'porte_da_empresa')\n",
      "(6, 'ente_federativo_responsavel')\n"
     ]
    }
   ],
   "source": [
    "for item in enumerate(empresasColNames):\n",
    "    print(item)"
   ]
  },
  {
   "cell_type": "code",
   "execution_count": 32,
   "id": "94bccf44",
   "metadata": {},
   "outputs": [],
   "source": [
    "for index, colName in enumerate(empresasColNames):\n",
    "    empresas = empresas.withColumnRenamed(f'_c{index}',colName)"
   ]
  },
  {
   "cell_type": "code",
   "execution_count": 33,
   "id": "2ae8effe",
   "metadata": {},
   "outputs": [
    {
     "data": {
      "text/html": [
       "<div>\n",
       "<style scoped>\n",
       "    .dataframe tbody tr th:only-of-type {\n",
       "        vertical-align: middle;\n",
       "    }\n",
       "\n",
       "    .dataframe tbody tr th {\n",
       "        vertical-align: top;\n",
       "    }\n",
       "\n",
       "    .dataframe thead th {\n",
       "        text-align: right;\n",
       "    }\n",
       "</style>\n",
       "<table border=\"1\" class=\"dataframe\">\n",
       "  <thead>\n",
       "    <tr style=\"text-align: right;\">\n",
       "      <th></th>\n",
       "      <th>cnpj_basico</th>\n",
       "      <th>razao_social_nome_empresarial</th>\n",
       "      <th>natureza_juridica</th>\n",
       "      <th>qualificacao_do_responsavel</th>\n",
       "      <th>capital_social_da_empresa</th>\n",
       "      <th>porte_da_empresa</th>\n",
       "      <th>ente_federativo_responsavel</th>\n",
       "    </tr>\n",
       "  </thead>\n",
       "  <tbody>\n",
       "    <tr>\n",
       "      <th>0</th>\n",
       "      <td>4519</td>\n",
       "      <td>DANIELA DA SILVA CRUZ</td>\n",
       "      <td>2135</td>\n",
       "      <td>50</td>\n",
       "      <td>0,00</td>\n",
       "      <td>5</td>\n",
       "      <td>None</td>\n",
       "    </tr>\n",
       "    <tr>\n",
       "      <th>1</th>\n",
       "      <td>8638</td>\n",
       "      <td>JOAO DOS SANTOS FAGUNDES</td>\n",
       "      <td>2135</td>\n",
       "      <td>50</td>\n",
       "      <td>0,00</td>\n",
       "      <td>5</td>\n",
       "      <td>None</td>\n",
       "    </tr>\n",
       "    <tr>\n",
       "      <th>2</th>\n",
       "      <td>11748</td>\n",
       "      <td>PANIFICADORA E CONFEITARIA CONFIANCA RIO PRETO...</td>\n",
       "      <td>2062</td>\n",
       "      <td>49</td>\n",
       "      <td>0,00</td>\n",
       "      <td>1</td>\n",
       "      <td>None</td>\n",
       "    </tr>\n",
       "    <tr>\n",
       "      <th>3</th>\n",
       "      <td>12027</td>\n",
       "      <td>L G SORVETERIA LTDA</td>\n",
       "      <td>2062</td>\n",
       "      <td>49</td>\n",
       "      <td>0,00</td>\n",
       "      <td>5</td>\n",
       "      <td>None</td>\n",
       "    </tr>\n",
       "    <tr>\n",
       "      <th>4</th>\n",
       "      <td>13289</td>\n",
       "      <td>ANDREIA CRISTINA DELSIN EIRELI</td>\n",
       "      <td>2305</td>\n",
       "      <td>65</td>\n",
       "      <td>100000,00</td>\n",
       "      <td>1</td>\n",
       "      <td>None</td>\n",
       "    </tr>\n",
       "  </tbody>\n",
       "</table>\n",
       "</div>"
      ],
      "text/plain": [
       "   cnpj_basico                      razao_social_nome_empresarial  \\\n",
       "0         4519                              DANIELA DA SILVA CRUZ   \n",
       "1         8638                           JOAO DOS SANTOS FAGUNDES   \n",
       "2        11748  PANIFICADORA E CONFEITARIA CONFIANCA RIO PRETO...   \n",
       "3        12027                                L G SORVETERIA LTDA   \n",
       "4        13289                     ANDREIA CRISTINA DELSIN EIRELI   \n",
       "\n",
       "   natureza_juridica  qualificacao_do_responsavel capital_social_da_empresa  \\\n",
       "0               2135                           50                      0,00   \n",
       "1               2135                           50                      0,00   \n",
       "2               2062                           49                      0,00   \n",
       "3               2062                           49                      0,00   \n",
       "4               2305                           65                 100000,00   \n",
       "\n",
       "   porte_da_empresa ente_federativo_responsavel  \n",
       "0                 5                        None  \n",
       "1                 5                        None  \n",
       "2                 1                        None  \n",
       "3                 5                        None  \n",
       "4                 1                        None  "
      ]
     },
     "execution_count": 33,
     "metadata": {},
     "output_type": "execute_result"
    }
   ],
   "source": [
    "empresas.limit(5).toPandas()"
   ]
  },
  {
   "cell_type": "code",
   "execution_count": 34,
   "id": "f99dd3ff",
   "metadata": {},
   "outputs": [
    {
     "data": {
      "text/plain": [
       "['cnpj_basico',\n",
       " 'cnpj_ordem',\n",
       " 'cnpj_dv',\n",
       " 'identificador_matriz_filial',\n",
       " 'nome_fantasia',\n",
       " 'situacao_cadastral',\n",
       " 'data_situacao_cadastral',\n",
       " 'motivo_situacao_cadastral',\n",
       " 'nome_da_cidade_no_exterior',\n",
       " 'pais',\n",
       " 'data_de_inicio_atividade',\n",
       " 'cnae_fiscal_principal',\n",
       " 'cnae_fiscal_secundaria',\n",
       " 'tipo_de_logradouro',\n",
       " 'logradouro',\n",
       " 'numero',\n",
       " 'complemento',\n",
       " 'bairro',\n",
       " 'cep',\n",
       " 'uf',\n",
       " 'municipio',\n",
       " 'ddd_1',\n",
       " 'telefone_1',\n",
       " 'ddd_2',\n",
       " 'telefone_2',\n",
       " 'ddd_do_fax',\n",
       " 'fax',\n",
       " 'correio_eletronico',\n",
       " 'situacao_especial',\n",
       " 'data_da_situacao_especial']"
      ]
     },
     "execution_count": 34,
     "metadata": {},
     "output_type": "execute_result"
    }
   ],
   "source": [
    "estabsColNames = ['cnpj_basico', 'cnpj_ordem', 'cnpj_dv', 'identificador_matriz_filial', 'nome_fantasia', 'situacao_cadastral', 'data_situacao_cadastral', 'motivo_situacao_cadastral', 'nome_da_cidade_no_exterior', 'pais', 'data_de_inicio_atividade', 'cnae_fiscal_principal', 'cnae_fiscal_secundaria', 'tipo_de_logradouro', 'logradouro', 'numero', 'complemento', 'bairro', 'cep', 'uf', 'municipio', 'ddd_1', 'telefone_1', 'ddd_2', 'telefone_2', 'ddd_do_fax', 'fax', 'correio_eletronico', 'situacao_especial', 'data_da_situacao_especial']\n",
    "for index, colName in enumerate(estabsColNames):\n",
    "    estabelecimentos = estabelecimentos.withColumnRenamed(f'_c{index}',colName)\n",
    "estabelecimentos.columns"
   ]
  },
  {
   "cell_type": "code",
   "execution_count": 35,
   "id": "be0d60c3",
   "metadata": {},
   "outputs": [
    {
     "data": {
      "text/plain": [
       "['cnpj_basico',\n",
       " 'identificador_de_socio',\n",
       " 'nome_do_socio_ou_razao_social',\n",
       " 'cnpj_ou_cpf_do_socio',\n",
       " 'qualificacao_do_socio',\n",
       " 'data_de_entrada_sociedade',\n",
       " 'pais',\n",
       " 'representante_legal',\n",
       " 'nome_do_representante',\n",
       " 'qualificacao_do_representante_legal',\n",
       " 'faixa_etaria']"
      ]
     },
     "execution_count": 35,
     "metadata": {},
     "output_type": "execute_result"
    }
   ],
   "source": [
    "sociosColNames = ['cnpj_basico', 'identificador_de_socio', 'nome_do_socio_ou_razao_social', 'cnpj_ou_cpf_do_socio', 'qualificacao_do_socio', 'data_de_entrada_sociedade', 'pais', 'representante_legal', 'nome_do_representante', 'qualificacao_do_representante_legal', 'faixa_etaria']\n",
    "for index, colName in enumerate(sociosColNames):\n",
    "    socios = socios.withColumnRenamed(f'_c{index}',colName)\n",
    "socios.columns"
   ]
  },
  {
   "cell_type": "code",
   "execution_count": 36,
   "id": "ffe42811",
   "metadata": {},
   "outputs": [
    {
     "name": "stdout",
     "output_type": "stream",
     "text": [
      "root\n",
      " |-- cnpj_basico: integer (nullable = true)\n",
      " |-- razao_social_nome_empresarial: string (nullable = true)\n",
      " |-- natureza_juridica: integer (nullable = true)\n",
      " |-- qualificacao_do_responsavel: integer (nullable = true)\n",
      " |-- capital_social_da_empresa: string (nullable = true)\n",
      " |-- porte_da_empresa: integer (nullable = true)\n",
      " |-- ente_federativo_responsavel: string (nullable = true)\n",
      "\n"
     ]
    }
   ],
   "source": [
    "empresas.printSchema()"
   ]
  },
  {
   "cell_type": "code",
   "execution_count": 37,
   "id": "80eb8485",
   "metadata": {},
   "outputs": [
    {
     "name": "stdout",
     "output_type": "stream",
     "text": [
      "root\n",
      " |-- cnpj_basico: integer (nullable = true)\n",
      " |-- identificador_de_socio: integer (nullable = true)\n",
      " |-- nome_do_socio_ou_razao_social: string (nullable = true)\n",
      " |-- cnpj_ou_cpf_do_socio: string (nullable = true)\n",
      " |-- qualificacao_do_socio: integer (nullable = true)\n",
      " |-- data_de_entrada_sociedade: integer (nullable = true)\n",
      " |-- pais: integer (nullable = true)\n",
      " |-- representante_legal: string (nullable = true)\n",
      " |-- nome_do_representante: string (nullable = true)\n",
      " |-- qualificacao_do_representante_legal: integer (nullable = true)\n",
      " |-- faixa_etaria: integer (nullable = true)\n",
      "\n"
     ]
    }
   ],
   "source": [
    "socios.printSchema()"
   ]
  },
  {
   "cell_type": "code",
   "execution_count": 38,
   "id": "4a3c25b7",
   "metadata": {},
   "outputs": [
    {
     "name": "stdout",
     "output_type": "stream",
     "text": [
      "root\n",
      " |-- cnpj_basico: integer (nullable = true)\n",
      " |-- cnpj_ordem: integer (nullable = true)\n",
      " |-- cnpj_dv: integer (nullable = true)\n",
      " |-- identificador_matriz_filial: integer (nullable = true)\n",
      " |-- nome_fantasia: string (nullable = true)\n",
      " |-- situacao_cadastral: integer (nullable = true)\n",
      " |-- data_situacao_cadastral: integer (nullable = true)\n",
      " |-- motivo_situacao_cadastral: integer (nullable = true)\n",
      " |-- nome_da_cidade_no_exterior: string (nullable = true)\n",
      " |-- pais: integer (nullable = true)\n",
      " |-- data_de_inicio_atividade: integer (nullable = true)\n",
      " |-- cnae_fiscal_principal: integer (nullable = true)\n",
      " |-- cnae_fiscal_secundaria: string (nullable = true)\n",
      " |-- tipo_de_logradouro: string (nullable = true)\n",
      " |-- logradouro: string (nullable = true)\n",
      " |-- numero: string (nullable = true)\n",
      " |-- complemento: string (nullable = true)\n",
      " |-- bairro: string (nullable = true)\n",
      " |-- cep: integer (nullable = true)\n",
      " |-- uf: string (nullable = true)\n",
      " |-- municipio: integer (nullable = true)\n",
      " |-- ddd_1: string (nullable = true)\n",
      " |-- telefone_1: string (nullable = true)\n",
      " |-- ddd_2: string (nullable = true)\n",
      " |-- telefone_2: string (nullable = true)\n",
      " |-- ddd_do_fax: integer (nullable = true)\n",
      " |-- fax: string (nullable = true)\n",
      " |-- correio_eletronico: string (nullable = true)\n",
      " |-- situacao_especial: string (nullable = true)\n",
      " |-- data_da_situacao_especial: integer (nullable = true)\n",
      "\n"
     ]
    }
   ],
   "source": [
    "estabelecimentos.printSchema()"
   ]
  },
  {
   "cell_type": "markdown",
   "id": "54cc6758",
   "metadata": {},
   "source": [
    "# Convertendo tipos"
   ]
  },
  {
   "cell_type": "code",
   "execution_count": 39,
   "id": "181dd4c0",
   "metadata": {},
   "outputs": [],
   "source": [
    "from pyspark.sql.types import DoubleType, StringType\n",
    "from pyspark.sql import functions as f"
   ]
  },
  {
   "cell_type": "code",
   "execution_count": 40,
   "id": "4165487a",
   "metadata": {},
   "outputs": [],
   "source": [
    "empresas = empresas.withColumn('capital_social_da_empresa', f.regexp_replace('capital_social_da_empresa',',','.'))"
   ]
  },
  {
   "cell_type": "code",
   "execution_count": 41,
   "id": "bc32003a",
   "metadata": {},
   "outputs": [
    {
     "data": {
      "text/html": [
       "<div>\n",
       "<style scoped>\n",
       "    .dataframe tbody tr th:only-of-type {\n",
       "        vertical-align: middle;\n",
       "    }\n",
       "\n",
       "    .dataframe tbody tr th {\n",
       "        vertical-align: top;\n",
       "    }\n",
       "\n",
       "    .dataframe thead th {\n",
       "        text-align: right;\n",
       "    }\n",
       "</style>\n",
       "<table border=\"1\" class=\"dataframe\">\n",
       "  <thead>\n",
       "    <tr style=\"text-align: right;\">\n",
       "      <th></th>\n",
       "      <th>cnpj_basico</th>\n",
       "      <th>razao_social_nome_empresarial</th>\n",
       "      <th>natureza_juridica</th>\n",
       "      <th>qualificacao_do_responsavel</th>\n",
       "      <th>capital_social_da_empresa</th>\n",
       "      <th>porte_da_empresa</th>\n",
       "      <th>ente_federativo_responsavel</th>\n",
       "    </tr>\n",
       "  </thead>\n",
       "  <tbody>\n",
       "    <tr>\n",
       "      <th>0</th>\n",
       "      <td>4519</td>\n",
       "      <td>DANIELA DA SILVA CRUZ</td>\n",
       "      <td>2135</td>\n",
       "      <td>50</td>\n",
       "      <td>0.00</td>\n",
       "      <td>5</td>\n",
       "      <td>None</td>\n",
       "    </tr>\n",
       "    <tr>\n",
       "      <th>1</th>\n",
       "      <td>8638</td>\n",
       "      <td>JOAO DOS SANTOS FAGUNDES</td>\n",
       "      <td>2135</td>\n",
       "      <td>50</td>\n",
       "      <td>0.00</td>\n",
       "      <td>5</td>\n",
       "      <td>None</td>\n",
       "    </tr>\n",
       "    <tr>\n",
       "      <th>2</th>\n",
       "      <td>11748</td>\n",
       "      <td>PANIFICADORA E CONFEITARIA CONFIANCA RIO PRETO...</td>\n",
       "      <td>2062</td>\n",
       "      <td>49</td>\n",
       "      <td>0.00</td>\n",
       "      <td>1</td>\n",
       "      <td>None</td>\n",
       "    </tr>\n",
       "    <tr>\n",
       "      <th>3</th>\n",
       "      <td>12027</td>\n",
       "      <td>L G SORVETERIA LTDA</td>\n",
       "      <td>2062</td>\n",
       "      <td>49</td>\n",
       "      <td>0.00</td>\n",
       "      <td>5</td>\n",
       "      <td>None</td>\n",
       "    </tr>\n",
       "    <tr>\n",
       "      <th>4</th>\n",
       "      <td>13289</td>\n",
       "      <td>ANDREIA CRISTINA DELSIN EIRELI</td>\n",
       "      <td>2305</td>\n",
       "      <td>65</td>\n",
       "      <td>100000.00</td>\n",
       "      <td>1</td>\n",
       "      <td>None</td>\n",
       "    </tr>\n",
       "  </tbody>\n",
       "</table>\n",
       "</div>"
      ],
      "text/plain": [
       "   cnpj_basico                      razao_social_nome_empresarial  \\\n",
       "0         4519                              DANIELA DA SILVA CRUZ   \n",
       "1         8638                           JOAO DOS SANTOS FAGUNDES   \n",
       "2        11748  PANIFICADORA E CONFEITARIA CONFIANCA RIO PRETO...   \n",
       "3        12027                                L G SORVETERIA LTDA   \n",
       "4        13289                     ANDREIA CRISTINA DELSIN EIRELI   \n",
       "\n",
       "   natureza_juridica  qualificacao_do_responsavel capital_social_da_empresa  \\\n",
       "0               2135                           50                      0.00   \n",
       "1               2135                           50                      0.00   \n",
       "2               2062                           49                      0.00   \n",
       "3               2062                           49                      0.00   \n",
       "4               2305                           65                 100000.00   \n",
       "\n",
       "   porte_da_empresa ente_federativo_responsavel  \n",
       "0                 5                        None  \n",
       "1                 5                        None  \n",
       "2                 1                        None  \n",
       "3                 5                        None  \n",
       "4                 1                        None  "
      ]
     },
     "execution_count": 41,
     "metadata": {},
     "output_type": "execute_result"
    }
   ],
   "source": [
    "empresas.limit(5).toPandas()"
   ]
  },
  {
   "cell_type": "code",
   "execution_count": 42,
   "id": "3e5a7951",
   "metadata": {},
   "outputs": [
    {
     "data": {
      "text/html": [
       "<div>\n",
       "<style scoped>\n",
       "    .dataframe tbody tr th:only-of-type {\n",
       "        vertical-align: middle;\n",
       "    }\n",
       "\n",
       "    .dataframe tbody tr th {\n",
       "        vertical-align: top;\n",
       "    }\n",
       "\n",
       "    .dataframe thead th {\n",
       "        text-align: right;\n",
       "    }\n",
       "</style>\n",
       "<table border=\"1\" class=\"dataframe\">\n",
       "  <thead>\n",
       "    <tr style=\"text-align: right;\">\n",
       "      <th></th>\n",
       "      <th>cnpj_basico</th>\n",
       "      <th>razao_social_nome_empresarial</th>\n",
       "      <th>natureza_juridica</th>\n",
       "      <th>qualificacao_do_responsavel</th>\n",
       "      <th>capital_social_da_empresa</th>\n",
       "      <th>porte_da_empresa</th>\n",
       "      <th>ente_federativo_responsavel</th>\n",
       "    </tr>\n",
       "  </thead>\n",
       "  <tbody>\n",
       "    <tr>\n",
       "      <th>0</th>\n",
       "      <td>4519</td>\n",
       "      <td>DANIELA DA SILVA CRUZ</td>\n",
       "      <td>2135</td>\n",
       "      <td>50</td>\n",
       "      <td>0.0</td>\n",
       "      <td>5</td>\n",
       "      <td>None</td>\n",
       "    </tr>\n",
       "    <tr>\n",
       "      <th>1</th>\n",
       "      <td>8638</td>\n",
       "      <td>JOAO DOS SANTOS FAGUNDES</td>\n",
       "      <td>2135</td>\n",
       "      <td>50</td>\n",
       "      <td>0.0</td>\n",
       "      <td>5</td>\n",
       "      <td>None</td>\n",
       "    </tr>\n",
       "    <tr>\n",
       "      <th>2</th>\n",
       "      <td>11748</td>\n",
       "      <td>PANIFICADORA E CONFEITARIA CONFIANCA RIO PRETO...</td>\n",
       "      <td>2062</td>\n",
       "      <td>49</td>\n",
       "      <td>0.0</td>\n",
       "      <td>1</td>\n",
       "      <td>None</td>\n",
       "    </tr>\n",
       "    <tr>\n",
       "      <th>3</th>\n",
       "      <td>12027</td>\n",
       "      <td>L G SORVETERIA LTDA</td>\n",
       "      <td>2062</td>\n",
       "      <td>49</td>\n",
       "      <td>0.0</td>\n",
       "      <td>5</td>\n",
       "      <td>None</td>\n",
       "    </tr>\n",
       "    <tr>\n",
       "      <th>4</th>\n",
       "      <td>13289</td>\n",
       "      <td>ANDREIA CRISTINA DELSIN EIRELI</td>\n",
       "      <td>2305</td>\n",
       "      <td>65</td>\n",
       "      <td>100000.0</td>\n",
       "      <td>1</td>\n",
       "      <td>None</td>\n",
       "    </tr>\n",
       "  </tbody>\n",
       "</table>\n",
       "</div>"
      ],
      "text/plain": [
       "   cnpj_basico                      razao_social_nome_empresarial  \\\n",
       "0         4519                              DANIELA DA SILVA CRUZ   \n",
       "1         8638                           JOAO DOS SANTOS FAGUNDES   \n",
       "2        11748  PANIFICADORA E CONFEITARIA CONFIANCA RIO PRETO...   \n",
       "3        12027                                L G SORVETERIA LTDA   \n",
       "4        13289                     ANDREIA CRISTINA DELSIN EIRELI   \n",
       "\n",
       "   natureza_juridica  qualificacao_do_responsavel  capital_social_da_empresa  \\\n",
       "0               2135                           50                        0.0   \n",
       "1               2135                           50                        0.0   \n",
       "2               2062                           49                        0.0   \n",
       "3               2062                           49                        0.0   \n",
       "4               2305                           65                   100000.0   \n",
       "\n",
       "   porte_da_empresa ente_federativo_responsavel  \n",
       "0                 5                        None  \n",
       "1                 5                        None  \n",
       "2                 1                        None  \n",
       "3                 5                        None  \n",
       "4                 1                        None  "
      ]
     },
     "execution_count": 42,
     "metadata": {},
     "output_type": "execute_result"
    }
   ],
   "source": [
    "empresas = empresas.withColumn('capital_social_da_empresa', empresas['capital_social_da_empresa'].cast(DoubleType()))\n",
    "empresas.limit(5).toPandas()"
   ]
  },
  {
   "cell_type": "code",
   "execution_count": 43,
   "id": "4f0bc771",
   "metadata": {},
   "outputs": [
    {
     "name": "stdout",
     "output_type": "stream",
     "text": [
      "root\n",
      " |-- cnpj_basico: integer (nullable = true)\n",
      " |-- razao_social_nome_empresarial: string (nullable = true)\n",
      " |-- natureza_juridica: integer (nullable = true)\n",
      " |-- qualificacao_do_responsavel: integer (nullable = true)\n",
      " |-- capital_social_da_empresa: double (nullable = true)\n",
      " |-- porte_da_empresa: integer (nullable = true)\n",
      " |-- ente_federativo_responsavel: string (nullable = true)\n",
      "\n"
     ]
    }
   ],
   "source": [
    "empresas.printSchema()"
   ]
  },
  {
   "cell_type": "code",
   "execution_count": 44,
   "id": "c0884986",
   "metadata": {},
   "outputs": [
    {
     "name": "stdout",
     "output_type": "stream",
     "text": [
      "root\n",
      " |-- cnpj_basico: integer (nullable = true)\n",
      " |-- cnpj_ordem: integer (nullable = true)\n",
      " |-- cnpj_dv: integer (nullable = true)\n",
      " |-- identificador_matriz_filial: integer (nullable = true)\n",
      " |-- nome_fantasia: string (nullable = true)\n",
      " |-- situacao_cadastral: integer (nullable = true)\n",
      " |-- data_situacao_cadastral: date (nullable = true)\n",
      " |-- motivo_situacao_cadastral: integer (nullable = true)\n",
      " |-- nome_da_cidade_no_exterior: string (nullable = true)\n",
      " |-- pais: integer (nullable = true)\n",
      " |-- data_de_inicio_atividade: date (nullable = true)\n",
      " |-- cnae_fiscal_principal: integer (nullable = true)\n",
      " |-- cnae_fiscal_secundaria: string (nullable = true)\n",
      " |-- tipo_de_logradouro: string (nullable = true)\n",
      " |-- logradouro: string (nullable = true)\n",
      " |-- numero: string (nullable = true)\n",
      " |-- complemento: string (nullable = true)\n",
      " |-- bairro: string (nullable = true)\n",
      " |-- cep: integer (nullable = true)\n",
      " |-- uf: string (nullable = true)\n",
      " |-- municipio: integer (nullable = true)\n",
      " |-- ddd_1: string (nullable = true)\n",
      " |-- telefone_1: string (nullable = true)\n",
      " |-- ddd_2: string (nullable = true)\n",
      " |-- telefone_2: string (nullable = true)\n",
      " |-- ddd_do_fax: integer (nullable = true)\n",
      " |-- fax: string (nullable = true)\n",
      " |-- correio_eletronico: string (nullable = true)\n",
      " |-- situacao_especial: string (nullable = true)\n",
      " |-- data_da_situacao_especial: date (nullable = true)\n",
      "\n"
     ]
    },
    {
     "data": {
      "text/html": [
       "<div>\n",
       "<style scoped>\n",
       "    .dataframe tbody tr th:only-of-type {\n",
       "        vertical-align: middle;\n",
       "    }\n",
       "\n",
       "    .dataframe tbody tr th {\n",
       "        vertical-align: top;\n",
       "    }\n",
       "\n",
       "    .dataframe thead th {\n",
       "        text-align: right;\n",
       "    }\n",
       "</style>\n",
       "<table border=\"1\" class=\"dataframe\">\n",
       "  <thead>\n",
       "    <tr style=\"text-align: right;\">\n",
       "      <th></th>\n",
       "      <th>cnpj_basico</th>\n",
       "      <th>cnpj_ordem</th>\n",
       "      <th>cnpj_dv</th>\n",
       "      <th>identificador_matriz_filial</th>\n",
       "      <th>nome_fantasia</th>\n",
       "      <th>situacao_cadastral</th>\n",
       "      <th>data_situacao_cadastral</th>\n",
       "      <th>motivo_situacao_cadastral</th>\n",
       "      <th>nome_da_cidade_no_exterior</th>\n",
       "      <th>pais</th>\n",
       "      <th>...</th>\n",
       "      <th>municipio</th>\n",
       "      <th>ddd_1</th>\n",
       "      <th>telefone_1</th>\n",
       "      <th>ddd_2</th>\n",
       "      <th>telefone_2</th>\n",
       "      <th>ddd_do_fax</th>\n",
       "      <th>fax</th>\n",
       "      <th>correio_eletronico</th>\n",
       "      <th>situacao_especial</th>\n",
       "      <th>data_da_situacao_especial</th>\n",
       "    </tr>\n",
       "  </thead>\n",
       "  <tbody>\n",
       "    <tr>\n",
       "      <th>0</th>\n",
       "      <td>4519</td>\n",
       "      <td>1</td>\n",
       "      <td>48</td>\n",
       "      <td>1</td>\n",
       "      <td>GIRAFFAS</td>\n",
       "      <td>8</td>\n",
       "      <td>1995-03-31</td>\n",
       "      <td>1</td>\n",
       "      <td>None</td>\n",
       "      <td>NaN</td>\n",
       "      <td>...</td>\n",
       "      <td>6219</td>\n",
       "      <td>None</td>\n",
       "      <td>None</td>\n",
       "      <td>None</td>\n",
       "      <td>None</td>\n",
       "      <td>NaN</td>\n",
       "      <td>None</td>\n",
       "      <td>None</td>\n",
       "      <td>None</td>\n",
       "      <td>None</td>\n",
       "    </tr>\n",
       "    <tr>\n",
       "      <th>1</th>\n",
       "      <td>8638</td>\n",
       "      <td>1</td>\n",
       "      <td>79</td>\n",
       "      <td>1</td>\n",
       "      <td>AGROPECUARIA FAGUNDES</td>\n",
       "      <td>8</td>\n",
       "      <td>2015-02-09</td>\n",
       "      <td>73</td>\n",
       "      <td>None</td>\n",
       "      <td>NaN</td>\n",
       "      <td>...</td>\n",
       "      <td>7255</td>\n",
       "      <td>None</td>\n",
       "      <td>None</td>\n",
       "      <td>None</td>\n",
       "      <td>None</td>\n",
       "      <td>NaN</td>\n",
       "      <td>None</td>\n",
       "      <td>None</td>\n",
       "      <td>None</td>\n",
       "      <td>None</td>\n",
       "    </tr>\n",
       "    <tr>\n",
       "      <th>2</th>\n",
       "      <td>11748</td>\n",
       "      <td>1</td>\n",
       "      <td>90</td>\n",
       "      <td>1</td>\n",
       "      <td>None</td>\n",
       "      <td>4</td>\n",
       "      <td>2018-12-19</td>\n",
       "      <td>63</td>\n",
       "      <td>None</td>\n",
       "      <td>NaN</td>\n",
       "      <td>...</td>\n",
       "      <td>7097</td>\n",
       "      <td>None</td>\n",
       "      <td>None</td>\n",
       "      <td>None</td>\n",
       "      <td>None</td>\n",
       "      <td>NaN</td>\n",
       "      <td>None</td>\n",
       "      <td>None</td>\n",
       "      <td>None</td>\n",
       "      <td>None</td>\n",
       "    </tr>\n",
       "    <tr>\n",
       "      <th>3</th>\n",
       "      <td>12027</td>\n",
       "      <td>1</td>\n",
       "      <td>2</td>\n",
       "      <td>1</td>\n",
       "      <td>None</td>\n",
       "      <td>8</td>\n",
       "      <td>2008-12-31</td>\n",
       "      <td>71</td>\n",
       "      <td>None</td>\n",
       "      <td>NaN</td>\n",
       "      <td>...</td>\n",
       "      <td>7107</td>\n",
       "      <td>None</td>\n",
       "      <td>None</td>\n",
       "      <td>None</td>\n",
       "      <td>None</td>\n",
       "      <td>NaN</td>\n",
       "      <td>None</td>\n",
       "      <td>None</td>\n",
       "      <td>None</td>\n",
       "      <td>None</td>\n",
       "    </tr>\n",
       "    <tr>\n",
       "      <th>4</th>\n",
       "      <td>13289</td>\n",
       "      <td>1</td>\n",
       "      <td>83</td>\n",
       "      <td>1</td>\n",
       "      <td>JS MATERIAIS DE CONSTRUCAO</td>\n",
       "      <td>2</td>\n",
       "      <td>2004-01-23</td>\n",
       "      <td>0</td>\n",
       "      <td>None</td>\n",
       "      <td>NaN</td>\n",
       "      <td>...</td>\n",
       "      <td>6915</td>\n",
       "      <td>19</td>\n",
       "      <td>35811286</td>\n",
       "      <td>None</td>\n",
       "      <td>None</td>\n",
       "      <td>NaN</td>\n",
       "      <td>None</td>\n",
       "      <td>CONTATO@LEONECONTABIL.COM.BR</td>\n",
       "      <td>None</td>\n",
       "      <td>None</td>\n",
       "    </tr>\n",
       "  </tbody>\n",
       "</table>\n",
       "<p>5 rows × 30 columns</p>\n",
       "</div>"
      ],
      "text/plain": [
       "   cnpj_basico  cnpj_ordem  cnpj_dv  identificador_matriz_filial  \\\n",
       "0         4519           1       48                            1   \n",
       "1         8638           1       79                            1   \n",
       "2        11748           1       90                            1   \n",
       "3        12027           1        2                            1   \n",
       "4        13289           1       83                            1   \n",
       "\n",
       "                nome_fantasia  situacao_cadastral data_situacao_cadastral  \\\n",
       "0                    GIRAFFAS                   8              1995-03-31   \n",
       "1       AGROPECUARIA FAGUNDES                   8              2015-02-09   \n",
       "2                        None                   4              2018-12-19   \n",
       "3                        None                   8              2008-12-31   \n",
       "4  JS MATERIAIS DE CONSTRUCAO                   2              2004-01-23   \n",
       "\n",
       "   motivo_situacao_cadastral nome_da_cidade_no_exterior  pais  ... municipio  \\\n",
       "0                          1                       None   NaN  ...      6219   \n",
       "1                         73                       None   NaN  ...      7255   \n",
       "2                         63                       None   NaN  ...      7097   \n",
       "3                         71                       None   NaN  ...      7107   \n",
       "4                          0                       None   NaN  ...      6915   \n",
       "\n",
       "   ddd_1 telefone_1 ddd_2 telefone_2 ddd_do_fax   fax  \\\n",
       "0   None       None  None       None        NaN  None   \n",
       "1   None       None  None       None        NaN  None   \n",
       "2   None       None  None       None        NaN  None   \n",
       "3   None       None  None       None        NaN  None   \n",
       "4     19   35811286  None       None        NaN  None   \n",
       "\n",
       "             correio_eletronico  situacao_especial data_da_situacao_especial  \n",
       "0                          None               None                      None  \n",
       "1                          None               None                      None  \n",
       "2                          None               None                      None  \n",
       "3                          None               None                      None  \n",
       "4  CONTATO@LEONECONTABIL.COM.BR               None                      None  \n",
       "\n",
       "[5 rows x 30 columns]"
      ]
     },
     "execution_count": 44,
     "metadata": {},
     "output_type": "execute_result"
    }
   ],
   "source": [
    "estabelecimentos = estabelecimentos\\\n",
    "    .withColumn(\n",
    "        \"data_situacao_cadastral\",\n",
    "        f.to_date(estabelecimentos.data_situacao_cadastral.cast(StringType()), 'yyyyMMdd')\n",
    "    )\\\n",
    "    .withColumn(\n",
    "        \"data_de_inicio_atividade\",\n",
    "        f.to_date(estabelecimentos.data_de_inicio_atividade.cast(StringType()), 'yyyyMMdd')\n",
    "    )\\\n",
    "    .withColumn(\n",
    "        \"data_da_situacao_especial\",\n",
    "        f.to_date(estabelecimentos.data_da_situacao_especial.cast(StringType()), 'yyyyMMdd')\n",
    "    )\\\n",
    "\n",
    "estabelecimentos.printSchema()\n",
    "estabelecimentos.limit(5).toPandas()"
   ]
  },
  {
   "cell_type": "code",
   "execution_count": 45,
   "id": "cb8986ae",
   "metadata": {},
   "outputs": [
    {
     "name": "stdout",
     "output_type": "stream",
     "text": [
      "root\n",
      " |-- cnpj_basico: integer (nullable = true)\n",
      " |-- identificador_de_socio: integer (nullable = true)\n",
      " |-- nome_do_socio_ou_razao_social: string (nullable = true)\n",
      " |-- cnpj_ou_cpf_do_socio: string (nullable = true)\n",
      " |-- qualificacao_do_socio: integer (nullable = true)\n",
      " |-- data_de_entrada_sociedade: date (nullable = true)\n",
      " |-- pais: integer (nullable = true)\n",
      " |-- representante_legal: string (nullable = true)\n",
      " |-- nome_do_representante: string (nullable = true)\n",
      " |-- qualificacao_do_representante_legal: integer (nullable = true)\n",
      " |-- faixa_etaria: integer (nullable = true)\n",
      "\n"
     ]
    },
    {
     "data": {
      "text/html": [
       "<div>\n",
       "<style scoped>\n",
       "    .dataframe tbody tr th:only-of-type {\n",
       "        vertical-align: middle;\n",
       "    }\n",
       "\n",
       "    .dataframe tbody tr th {\n",
       "        vertical-align: top;\n",
       "    }\n",
       "\n",
       "    .dataframe thead th {\n",
       "        text-align: right;\n",
       "    }\n",
       "</style>\n",
       "<table border=\"1\" class=\"dataframe\">\n",
       "  <thead>\n",
       "    <tr style=\"text-align: right;\">\n",
       "      <th></th>\n",
       "      <th>cnpj_basico</th>\n",
       "      <th>identificador_de_socio</th>\n",
       "      <th>nome_do_socio_ou_razao_social</th>\n",
       "      <th>cnpj_ou_cpf_do_socio</th>\n",
       "      <th>qualificacao_do_socio</th>\n",
       "      <th>data_de_entrada_sociedade</th>\n",
       "      <th>pais</th>\n",
       "      <th>representante_legal</th>\n",
       "      <th>nome_do_representante</th>\n",
       "      <th>qualificacao_do_representante_legal</th>\n",
       "      <th>faixa_etaria</th>\n",
       "    </tr>\n",
       "  </thead>\n",
       "  <tbody>\n",
       "    <tr>\n",
       "      <th>0</th>\n",
       "      <td>411</td>\n",
       "      <td>2</td>\n",
       "      <td>LILIANA PATRICIA GUASTAVINO</td>\n",
       "      <td>***678188**</td>\n",
       "      <td>22</td>\n",
       "      <td>1994-07-25</td>\n",
       "      <td>NaN</td>\n",
       "      <td>***000000**</td>\n",
       "      <td>None</td>\n",
       "      <td>0</td>\n",
       "      <td>7</td>\n",
       "    </tr>\n",
       "    <tr>\n",
       "      <th>1</th>\n",
       "      <td>411</td>\n",
       "      <td>2</td>\n",
       "      <td>CRISTINA HUNDERTMARK</td>\n",
       "      <td>***637848**</td>\n",
       "      <td>28</td>\n",
       "      <td>1994-07-25</td>\n",
       "      <td>NaN</td>\n",
       "      <td>***000000**</td>\n",
       "      <td>None</td>\n",
       "      <td>0</td>\n",
       "      <td>7</td>\n",
       "    </tr>\n",
       "    <tr>\n",
       "      <th>2</th>\n",
       "      <td>5813</td>\n",
       "      <td>2</td>\n",
       "      <td>CELSO EDUARDO DE CASTRO STEPHAN</td>\n",
       "      <td>***786068**</td>\n",
       "      <td>49</td>\n",
       "      <td>1994-05-16</td>\n",
       "      <td>NaN</td>\n",
       "      <td>***000000**</td>\n",
       "      <td>None</td>\n",
       "      <td>0</td>\n",
       "      <td>8</td>\n",
       "    </tr>\n",
       "    <tr>\n",
       "      <th>3</th>\n",
       "      <td>5813</td>\n",
       "      <td>2</td>\n",
       "      <td>EDUARDO BERRINGER STEPHAN</td>\n",
       "      <td>***442348**</td>\n",
       "      <td>49</td>\n",
       "      <td>1994-05-16</td>\n",
       "      <td>NaN</td>\n",
       "      <td>***000000**</td>\n",
       "      <td>None</td>\n",
       "      <td>0</td>\n",
       "      <td>5</td>\n",
       "    </tr>\n",
       "    <tr>\n",
       "      <th>4</th>\n",
       "      <td>14798</td>\n",
       "      <td>2</td>\n",
       "      <td>HANNE MAHFOUD FADEL</td>\n",
       "      <td>***760388**</td>\n",
       "      <td>49</td>\n",
       "      <td>1994-06-09</td>\n",
       "      <td>NaN</td>\n",
       "      <td>***000000**</td>\n",
       "      <td>None</td>\n",
       "      <td>0</td>\n",
       "      <td>8</td>\n",
       "    </tr>\n",
       "  </tbody>\n",
       "</table>\n",
       "</div>"
      ],
      "text/plain": [
       "   cnpj_basico  identificador_de_socio    nome_do_socio_ou_razao_social  \\\n",
       "0          411                       2      LILIANA PATRICIA GUASTAVINO   \n",
       "1          411                       2             CRISTINA HUNDERTMARK   \n",
       "2         5813                       2  CELSO EDUARDO DE CASTRO STEPHAN   \n",
       "3         5813                       2        EDUARDO BERRINGER STEPHAN   \n",
       "4        14798                       2              HANNE MAHFOUD FADEL   \n",
       "\n",
       "  cnpj_ou_cpf_do_socio  qualificacao_do_socio data_de_entrada_sociedade  pais  \\\n",
       "0          ***678188**                     22                1994-07-25   NaN   \n",
       "1          ***637848**                     28                1994-07-25   NaN   \n",
       "2          ***786068**                     49                1994-05-16   NaN   \n",
       "3          ***442348**                     49                1994-05-16   NaN   \n",
       "4          ***760388**                     49                1994-06-09   NaN   \n",
       "\n",
       "  representante_legal nome_do_representante  \\\n",
       "0         ***000000**                  None   \n",
       "1         ***000000**                  None   \n",
       "2         ***000000**                  None   \n",
       "3         ***000000**                  None   \n",
       "4         ***000000**                  None   \n",
       "\n",
       "   qualificacao_do_representante_legal  faixa_etaria  \n",
       "0                                    0             7  \n",
       "1                                    0             7  \n",
       "2                                    0             8  \n",
       "3                                    0             5  \n",
       "4                                    0             8  "
      ]
     },
     "execution_count": 45,
     "metadata": {},
     "output_type": "execute_result"
    }
   ],
   "source": [
    "socios = socios\\\n",
    "    .withColumn(\n",
    "        \"data_de_entrada_sociedade\",\n",
    "        f.to_date(socios.data_de_entrada_sociedade.cast(StringType()), 'yyyyMMdd')\n",
    "    )\n",
    "\n",
    "socios.printSchema()\n",
    "socios.limit(5).toPandas()"
   ]
  },
  {
   "cell_type": "markdown",
   "id": "619e7b34",
   "metadata": {},
   "source": [
    "# Seleções e consultas"
   ]
  },
  {
   "cell_type": "code",
   "execution_count": 46,
   "id": "67a46096",
   "metadata": {},
   "outputs": [
    {
     "name": "stdout",
     "output_type": "stream",
     "text": [
      "+-----------------+----------------+-------------------------+\n",
      "|natureza_juridica|porte_da_empresa|capital_social_da_empresa|\n",
      "+-----------------+----------------+-------------------------+\n",
      "|             2135|               5|                      0.0|\n",
      "|             2135|               5|                      0.0|\n",
      "|             2062|               1|                      0.0|\n",
      "|             2062|               5|                      0.0|\n",
      "|             2305|               1|                 100000.0|\n",
      "+-----------------+----------------+-------------------------+\n",
      "only showing top 5 rows\n",
      "\n"
     ]
    }
   ],
   "source": [
    "empresas\\\n",
    "    .select('natureza_juridica','porte_da_empresa','capital_social_da_empresa').show(5)"
   ]
  },
  {
   "cell_type": "code",
   "execution_count": 47,
   "id": "83e3633d",
   "metadata": {},
   "outputs": [
    {
     "name": "stdout",
     "output_type": "stream",
     "text": [
      "+-------------------------------+------------+--------------+\n",
      "|nome_do_socio_ou_razao_social  |faixa_etaria|ano_de_entrada|\n",
      "+-------------------------------+------------+--------------+\n",
      "|LILIANA PATRICIA GUASTAVINO    |7           |1994          |\n",
      "|CRISTINA HUNDERTMARK           |7           |1994          |\n",
      "|CELSO EDUARDO DE CASTRO STEPHAN|8           |1994          |\n",
      "|EDUARDO BERRINGER STEPHAN      |5           |1994          |\n",
      "|HANNE MAHFOUD FADEL            |8           |1994          |\n",
      "+-------------------------------+------------+--------------+\n",
      "only showing top 5 rows\n",
      "\n"
     ]
    }
   ],
   "source": [
    "socios\\\n",
    "    .select('nome_do_socio_ou_razao_social','faixa_etaria',f.year('data_de_entrada_sociedade').alias('ano_de_entrada'))\\\n",
    "    .show(5, False)"
   ]
  },
  {
   "cell_type": "code",
   "execution_count": 48,
   "id": "de337f58",
   "metadata": {},
   "outputs": [
    {
     "name": "stdout",
     "output_type": "stream",
     "text": [
      "+--------------------+---------+-----------------------+-----------------------+\n",
      "|       nome_fantasia|municipio|mes_de_inicio_atividade|ano_de_inicio_atividade|\n",
      "+--------------------+---------+-----------------------+-----------------------+\n",
      "|            GIRAFFAS|     6219|                      5|                   1994|\n",
      "|AGROPECUARIA FAGU...|     7255|                      5|                   1994|\n",
      "|                null|     7097|                      5|                   1994|\n",
      "|                null|     7107|                      6|                   1994|\n",
      "|JS MATERIAIS DE C...|     6915|                      6|                   1994|\n",
      "+--------------------+---------+-----------------------+-----------------------+\n",
      "only showing top 5 rows\n",
      "\n"
     ]
    }
   ],
   "source": [
    "estabelecimentos\\\n",
    "    .select('nome_fantasia','municipio',f.month('data_de_inicio_atividade').alias('mes_de_inicio_atividade'),\\\n",
    "           f.year('data_de_inicio_atividade').alias('ano_de_inicio_atividade')).show(5)"
   ]
  },
  {
   "cell_type": "markdown",
   "id": "54c1c50c",
   "metadata": {},
   "source": [
    "# Null values"
   ]
  },
  {
   "cell_type": "code",
   "execution_count": 49,
   "id": "601eae70",
   "metadata": {},
   "outputs": [
    {
     "data": {
      "text/html": [
       "<style>pre { white-space: pre !important; }</style>"
      ],
      "text/plain": [
       "<IPython.core.display.HTML object>"
      ]
     },
     "metadata": {},
     "output_type": "display_data"
    },
    {
     "name": "stdout",
     "output_type": "stream",
     "text": [
      "+-----------+----------------------+-----------------------------+--------------------+---------------------+-------------------------+-------+-------------------+---------------------+-----------------------------------+------------+\n",
      "|cnpj_basico|identificador_de_socio|nome_do_socio_ou_razao_social|cnpj_ou_cpf_do_socio|qualificacao_do_socio|data_de_entrada_sociedade|   pais|representante_legal|nome_do_representante|qualificacao_do_representante_legal|faixa_etaria|\n",
      "+-----------+----------------------+-----------------------------+--------------------+---------------------+-------------------------+-------+-------------------+---------------------+-----------------------------------+------------+\n",
      "|          0|                     0|                          208|                1234|                    0|                        1|2038255|                  0|              1995432|                                  0|           0|\n",
      "+-----------+----------------------+-----------------------------+--------------------+---------------------+-------------------------+-------+-------------------+---------------------+-----------------------------------+------------+\n",
      "\n"
     ]
    }
   ],
   "source": [
    "# To display scroll:\n",
    "from IPython.core.display import HTML\n",
    "display(HTML(\"<style>pre { white-space: pre !important; }</style>\"))\n",
    "\n",
    "socios.select([f.count(f.when(f.isnull(c), 1)).alias(c) for c in socios.columns]).show()"
   ]
  },
  {
   "cell_type": "code",
   "execution_count": 50,
   "id": "cf13d5a2",
   "metadata": {},
   "outputs": [
    {
     "data": {
      "text/html": [
       "<div>\n",
       "<style scoped>\n",
       "    .dataframe tbody tr th:only-of-type {\n",
       "        vertical-align: middle;\n",
       "    }\n",
       "\n",
       "    .dataframe tbody tr th {\n",
       "        vertical-align: top;\n",
       "    }\n",
       "\n",
       "    .dataframe thead th {\n",
       "        text-align: right;\n",
       "    }\n",
       "</style>\n",
       "<table border=\"1\" class=\"dataframe\">\n",
       "  <thead>\n",
       "    <tr style=\"text-align: right;\">\n",
       "      <th></th>\n",
       "      <th>cnpj_basico</th>\n",
       "      <th>identificador_de_socio</th>\n",
       "      <th>nome_do_socio_ou_razao_social</th>\n",
       "      <th>cnpj_ou_cpf_do_socio</th>\n",
       "      <th>qualificacao_do_socio</th>\n",
       "      <th>data_de_entrada_sociedade</th>\n",
       "      <th>pais</th>\n",
       "      <th>representante_legal</th>\n",
       "      <th>nome_do_representante</th>\n",
       "      <th>qualificacao_do_representante_legal</th>\n",
       "      <th>faixa_etaria</th>\n",
       "    </tr>\n",
       "  </thead>\n",
       "  <tbody>\n",
       "    <tr>\n",
       "      <th>0</th>\n",
       "      <td>411</td>\n",
       "      <td>2</td>\n",
       "      <td>LILIANA PATRICIA GUASTAVINO</td>\n",
       "      <td>***678188**</td>\n",
       "      <td>22</td>\n",
       "      <td>1994-07-25</td>\n",
       "      <td>0</td>\n",
       "      <td>***000000**</td>\n",
       "      <td>None</td>\n",
       "      <td>0</td>\n",
       "      <td>7</td>\n",
       "    </tr>\n",
       "    <tr>\n",
       "      <th>1</th>\n",
       "      <td>411</td>\n",
       "      <td>2</td>\n",
       "      <td>CRISTINA HUNDERTMARK</td>\n",
       "      <td>***637848**</td>\n",
       "      <td>28</td>\n",
       "      <td>1994-07-25</td>\n",
       "      <td>0</td>\n",
       "      <td>***000000**</td>\n",
       "      <td>None</td>\n",
       "      <td>0</td>\n",
       "      <td>7</td>\n",
       "    </tr>\n",
       "    <tr>\n",
       "      <th>2</th>\n",
       "      <td>5813</td>\n",
       "      <td>2</td>\n",
       "      <td>CELSO EDUARDO DE CASTRO STEPHAN</td>\n",
       "      <td>***786068**</td>\n",
       "      <td>49</td>\n",
       "      <td>1994-05-16</td>\n",
       "      <td>0</td>\n",
       "      <td>***000000**</td>\n",
       "      <td>None</td>\n",
       "      <td>0</td>\n",
       "      <td>8</td>\n",
       "    </tr>\n",
       "    <tr>\n",
       "      <th>3</th>\n",
       "      <td>5813</td>\n",
       "      <td>2</td>\n",
       "      <td>EDUARDO BERRINGER STEPHAN</td>\n",
       "      <td>***442348**</td>\n",
       "      <td>49</td>\n",
       "      <td>1994-05-16</td>\n",
       "      <td>0</td>\n",
       "      <td>***000000**</td>\n",
       "      <td>None</td>\n",
       "      <td>0</td>\n",
       "      <td>5</td>\n",
       "    </tr>\n",
       "    <tr>\n",
       "      <th>4</th>\n",
       "      <td>14798</td>\n",
       "      <td>2</td>\n",
       "      <td>HANNE MAHFOUD FADEL</td>\n",
       "      <td>***760388**</td>\n",
       "      <td>49</td>\n",
       "      <td>1994-06-09</td>\n",
       "      <td>0</td>\n",
       "      <td>***000000**</td>\n",
       "      <td>None</td>\n",
       "      <td>0</td>\n",
       "      <td>8</td>\n",
       "    </tr>\n",
       "  </tbody>\n",
       "</table>\n",
       "</div>"
      ],
      "text/plain": [
       "   cnpj_basico  identificador_de_socio    nome_do_socio_ou_razao_social  \\\n",
       "0          411                       2      LILIANA PATRICIA GUASTAVINO   \n",
       "1          411                       2             CRISTINA HUNDERTMARK   \n",
       "2         5813                       2  CELSO EDUARDO DE CASTRO STEPHAN   \n",
       "3         5813                       2        EDUARDO BERRINGER STEPHAN   \n",
       "4        14798                       2              HANNE MAHFOUD FADEL   \n",
       "\n",
       "  cnpj_ou_cpf_do_socio  qualificacao_do_socio data_de_entrada_sociedade  pais  \\\n",
       "0          ***678188**                     22                1994-07-25     0   \n",
       "1          ***637848**                     28                1994-07-25     0   \n",
       "2          ***786068**                     49                1994-05-16     0   \n",
       "3          ***442348**                     49                1994-05-16     0   \n",
       "4          ***760388**                     49                1994-06-09     0   \n",
       "\n",
       "  representante_legal nome_do_representante  \\\n",
       "0         ***000000**                  None   \n",
       "1         ***000000**                  None   \n",
       "2         ***000000**                  None   \n",
       "3         ***000000**                  None   \n",
       "4         ***000000**                  None   \n",
       "\n",
       "   qualificacao_do_representante_legal  faixa_etaria  \n",
       "0                                    0             7  \n",
       "1                                    0             7  \n",
       "2                                    0             8  \n",
       "3                                    0             5  \n",
       "4                                    0             8  "
      ]
     },
     "execution_count": 50,
     "metadata": {},
     "output_type": "execute_result"
    }
   ],
   "source": [
    "# Will replace int columns\n",
    "socios.na.fill(0).limit(5).toPandas()"
   ]
  },
  {
   "cell_type": "code",
   "execution_count": 51,
   "id": "b37ea524",
   "metadata": {},
   "outputs": [
    {
     "data": {
      "text/html": [
       "<div>\n",
       "<style scoped>\n",
       "    .dataframe tbody tr th:only-of-type {\n",
       "        vertical-align: middle;\n",
       "    }\n",
       "\n",
       "    .dataframe tbody tr th {\n",
       "        vertical-align: top;\n",
       "    }\n",
       "\n",
       "    .dataframe thead th {\n",
       "        text-align: right;\n",
       "    }\n",
       "</style>\n",
       "<table border=\"1\" class=\"dataframe\">\n",
       "  <thead>\n",
       "    <tr style=\"text-align: right;\">\n",
       "      <th></th>\n",
       "      <th>cnpj_basico</th>\n",
       "      <th>identificador_de_socio</th>\n",
       "      <th>nome_do_socio_ou_razao_social</th>\n",
       "      <th>cnpj_ou_cpf_do_socio</th>\n",
       "      <th>qualificacao_do_socio</th>\n",
       "      <th>data_de_entrada_sociedade</th>\n",
       "      <th>pais</th>\n",
       "      <th>representante_legal</th>\n",
       "      <th>nome_do_representante</th>\n",
       "      <th>qualificacao_do_representante_legal</th>\n",
       "      <th>faixa_etaria</th>\n",
       "    </tr>\n",
       "  </thead>\n",
       "  <tbody>\n",
       "    <tr>\n",
       "      <th>0</th>\n",
       "      <td>411</td>\n",
       "      <td>2</td>\n",
       "      <td>LILIANA PATRICIA GUASTAVINO</td>\n",
       "      <td>***678188**</td>\n",
       "      <td>22</td>\n",
       "      <td>1994-07-25</td>\n",
       "      <td>NaN</td>\n",
       "      <td>***000000**</td>\n",
       "      <td>-</td>\n",
       "      <td>0</td>\n",
       "      <td>7</td>\n",
       "    </tr>\n",
       "    <tr>\n",
       "      <th>1</th>\n",
       "      <td>411</td>\n",
       "      <td>2</td>\n",
       "      <td>CRISTINA HUNDERTMARK</td>\n",
       "      <td>***637848**</td>\n",
       "      <td>28</td>\n",
       "      <td>1994-07-25</td>\n",
       "      <td>NaN</td>\n",
       "      <td>***000000**</td>\n",
       "      <td>-</td>\n",
       "      <td>0</td>\n",
       "      <td>7</td>\n",
       "    </tr>\n",
       "    <tr>\n",
       "      <th>2</th>\n",
       "      <td>5813</td>\n",
       "      <td>2</td>\n",
       "      <td>CELSO EDUARDO DE CASTRO STEPHAN</td>\n",
       "      <td>***786068**</td>\n",
       "      <td>49</td>\n",
       "      <td>1994-05-16</td>\n",
       "      <td>NaN</td>\n",
       "      <td>***000000**</td>\n",
       "      <td>-</td>\n",
       "      <td>0</td>\n",
       "      <td>8</td>\n",
       "    </tr>\n",
       "    <tr>\n",
       "      <th>3</th>\n",
       "      <td>5813</td>\n",
       "      <td>2</td>\n",
       "      <td>EDUARDO BERRINGER STEPHAN</td>\n",
       "      <td>***442348**</td>\n",
       "      <td>49</td>\n",
       "      <td>1994-05-16</td>\n",
       "      <td>NaN</td>\n",
       "      <td>***000000**</td>\n",
       "      <td>-</td>\n",
       "      <td>0</td>\n",
       "      <td>5</td>\n",
       "    </tr>\n",
       "    <tr>\n",
       "      <th>4</th>\n",
       "      <td>14798</td>\n",
       "      <td>2</td>\n",
       "      <td>HANNE MAHFOUD FADEL</td>\n",
       "      <td>***760388**</td>\n",
       "      <td>49</td>\n",
       "      <td>1994-06-09</td>\n",
       "      <td>NaN</td>\n",
       "      <td>***000000**</td>\n",
       "      <td>-</td>\n",
       "      <td>0</td>\n",
       "      <td>8</td>\n",
       "    </tr>\n",
       "  </tbody>\n",
       "</table>\n",
       "</div>"
      ],
      "text/plain": [
       "   cnpj_basico  identificador_de_socio    nome_do_socio_ou_razao_social  \\\n",
       "0          411                       2      LILIANA PATRICIA GUASTAVINO   \n",
       "1          411                       2             CRISTINA HUNDERTMARK   \n",
       "2         5813                       2  CELSO EDUARDO DE CASTRO STEPHAN   \n",
       "3         5813                       2        EDUARDO BERRINGER STEPHAN   \n",
       "4        14798                       2              HANNE MAHFOUD FADEL   \n",
       "\n",
       "  cnpj_ou_cpf_do_socio  qualificacao_do_socio data_de_entrada_sociedade  pais  \\\n",
       "0          ***678188**                     22                1994-07-25   NaN   \n",
       "1          ***637848**                     28                1994-07-25   NaN   \n",
       "2          ***786068**                     49                1994-05-16   NaN   \n",
       "3          ***442348**                     49                1994-05-16   NaN   \n",
       "4          ***760388**                     49                1994-06-09   NaN   \n",
       "\n",
       "  representante_legal nome_do_representante  \\\n",
       "0         ***000000**                     -   \n",
       "1         ***000000**                     -   \n",
       "2         ***000000**                     -   \n",
       "3         ***000000**                     -   \n",
       "4         ***000000**                     -   \n",
       "\n",
       "   qualificacao_do_representante_legal  faixa_etaria  \n",
       "0                                    0             7  \n",
       "1                                    0             7  \n",
       "2                                    0             8  \n",
       "3                                    0             5  \n",
       "4                                    0             8  "
      ]
     },
     "execution_count": 51,
     "metadata": {},
     "output_type": "execute_result"
    }
   ],
   "source": [
    "# Will replace string columns\n",
    "socios.na.fill('-').limit(5).toPandas()"
   ]
  },
  {
   "cell_type": "markdown",
   "id": "7f7ff9ee",
   "metadata": {},
   "source": [
    "# Ordering and Filtering"
   ]
  },
  {
   "cell_type": "code",
   "execution_count": 52,
   "id": "12696d50",
   "metadata": {},
   "outputs": [
    {
     "name": "stdout",
     "output_type": "stream",
     "text": [
      "+-----------------------------+------------+--------------+\n",
      "|nome_do_socio_ou_razao_social|faixa_etaria|ano_de_entrada|\n",
      "+-----------------------------+------------+--------------+\n",
      "|ARMANDO FRANZEN              |9           |2021          |\n",
      "|MARIZE DA ROSA LIMA          |9           |2021          |\n",
      "|JOAO FERREIRA PEREIRA        |9           |2021          |\n",
      "|HUMBERTO PERES BARREIRO      |9           |2021          |\n",
      "|JANYR BELLUCI MIDUATI        |9           |2021          |\n",
      "+-----------------------------+------------+--------------+\n",
      "only showing top 5 rows\n",
      "\n"
     ]
    }
   ],
   "source": [
    "# sort = sort by partition (does not guarantee that will be 100% sorted)\n",
    "# order = sort all data\n",
    "socios\\\n",
    "    .select('nome_do_socio_ou_razao_social','faixa_etaria',f.year('data_de_entrada_sociedade').alias('ano_de_entrada'))\\\n",
    "    .orderBy(['ano_de_entrada','faixa_etaria'], ascending=[False,False])\\\n",
    "    .show(5, False)"
   ]
  },
  {
   "cell_type": "code",
   "execution_count": 53,
   "id": "ee41d896",
   "metadata": {},
   "outputs": [
    {
     "name": "stdout",
     "output_type": "stream",
     "text": [
      "+-----------+--------------------------------------------+-----------------+---------------------------+-------------------------+----------------+---------------------------+\n",
      "|cnpj_basico|razao_social_nome_empresarial               |natureza_juridica|qualificacao_do_responsavel|capital_social_da_empresa|porte_da_empresa|ente_federativo_responsavel|\n",
      "+-----------+--------------------------------------------+-----------------+---------------------------+-------------------------+----------------+---------------------------+\n",
      "|14715041   |LIDIANE MARIA DO NASCIMENTO 14542418707     |2135             |50                         |50.0                     |1               |null                       |\n",
      "|20601885   |CRISTIANO AKIHITO BORDIN 04370949955        |2135             |50                         |50.0                     |1               |null                       |\n",
      "|23661983   |VITOR ALOISIO DO NASCIMENTO GUIA 12663882739|2135             |50                         |50.0                     |1               |null                       |\n",
      "|23714726   |JOSELINA PANSINI CORREIA 05265948708        |2135             |50                         |50.0                     |1               |null                       |\n",
      "|26022246   |SUZANE SILVA DE OLIVEIRA 06850709992        |2135             |50                         |50.0                     |1               |null                       |\n",
      "+-----------+--------------------------------------------+-----------------+---------------------------+-------------------------+----------------+---------------------------+\n",
      "only showing top 5 rows\n",
      "\n"
     ]
    }
   ],
   "source": [
    "# where = filter\n",
    "empresas\\\n",
    "    .where(\"capital_social_da_empresa==50\")\\\n",
    "    .show(5,False)"
   ]
  },
  {
   "cell_type": "code",
   "execution_count": 54,
   "id": "4cc72312",
   "metadata": {},
   "outputs": [
    {
     "data": {
      "text/html": [
       "<div>\n",
       "<style scoped>\n",
       "    .dataframe tbody tr th:only-of-type {\n",
       "        vertical-align: middle;\n",
       "    }\n",
       "\n",
       "    .dataframe tbody tr th {\n",
       "        vertical-align: top;\n",
       "    }\n",
       "\n",
       "    .dataframe thead th {\n",
       "        text-align: right;\n",
       "    }\n",
       "</style>\n",
       "<table border=\"1\" class=\"dataframe\">\n",
       "  <thead>\n",
       "    <tr style=\"text-align: right;\">\n",
       "      <th></th>\n",
       "      <th>nome_do_socio_ou_razao_social</th>\n",
       "    </tr>\n",
       "  </thead>\n",
       "  <tbody>\n",
       "    <tr>\n",
       "      <th>0</th>\n",
       "      <td>RODRIGO BENASSI DIAS</td>\n",
       "    </tr>\n",
       "    <tr>\n",
       "      <th>1</th>\n",
       "      <td>RODRIGO RUDIBERTO DIAS</td>\n",
       "    </tr>\n",
       "    <tr>\n",
       "      <th>2</th>\n",
       "      <td>RODRIGO AURELIANO DIAS</td>\n",
       "    </tr>\n",
       "    <tr>\n",
       "      <th>3</th>\n",
       "      <td>RODRIGO SIMOES LEMOS DIAS</td>\n",
       "    </tr>\n",
       "    <tr>\n",
       "      <th>4</th>\n",
       "      <td>RODRIGO GEORGE DIAS</td>\n",
       "    </tr>\n",
       "    <tr>\n",
       "      <th>5</th>\n",
       "      <td>RODRIGO AUGUSTO FELICIO DIAS</td>\n",
       "    </tr>\n",
       "    <tr>\n",
       "      <th>6</th>\n",
       "      <td>RODRIGO FERNANDES DIAS</td>\n",
       "    </tr>\n",
       "    <tr>\n",
       "      <th>7</th>\n",
       "      <td>RODRIGO GARRIDO DIAS</td>\n",
       "    </tr>\n",
       "    <tr>\n",
       "      <th>8</th>\n",
       "      <td>RODRIGO OLIVEIRA DIAS</td>\n",
       "    </tr>\n",
       "    <tr>\n",
       "      <th>9</th>\n",
       "      <td>RODRIGO GONCALVES DIAS</td>\n",
       "    </tr>\n",
       "  </tbody>\n",
       "</table>\n",
       "</div>"
      ],
      "text/plain": [
       "  nome_do_socio_ou_razao_social\n",
       "0          RODRIGO BENASSI DIAS\n",
       "1        RODRIGO RUDIBERTO DIAS\n",
       "2        RODRIGO AURELIANO DIAS\n",
       "3     RODRIGO SIMOES LEMOS DIAS\n",
       "4           RODRIGO GEORGE DIAS\n",
       "5  RODRIGO AUGUSTO FELICIO DIAS\n",
       "6        RODRIGO FERNANDES DIAS\n",
       "7          RODRIGO GARRIDO DIAS\n",
       "8         RODRIGO OLIVEIRA DIAS\n",
       "9        RODRIGO GONCALVES DIAS"
      ]
     },
     "execution_count": 54,
     "metadata": {},
     "output_type": "execute_result"
    }
   ],
   "source": [
    "socios\\\n",
    "    .select(\"nome_do_socio_ou_razao_social\")\\\n",
    "    .filter(socios.nome_do_socio_ou_razao_social.startswith(\"RODRIGO\"))\\\n",
    "    .filter(socios.nome_do_socio_ou_razao_social.endswith(\"DIAS\"))\\\n",
    "    .limit(10)\\\n",
    "    .toPandas()"
   ]
  },
  {
   "cell_type": "code",
   "execution_count": 55,
   "id": "b5ccd213",
   "metadata": {},
   "outputs": [
    {
     "name": "stdout",
     "output_type": "stream",
     "text": [
      "+--------------------------------+---+\n",
      "|nome_fantasia                   |uf |\n",
      "+--------------------------------+---+\n",
      "|RESTAURANTE E LANCHONETE STILLUS|GO |\n",
      "|RESTAURANTE EL SHADDAI          |SP |\n",
      "|RESTAURANTE TRADICAO            |RS |\n",
      "|RESTAURANTE NIR                 |SP |\n",
      "|RESTAURANTE KI-SABOR            |AM |\n",
      "|RESTAURANTE E BOATE PRIVET      |PA |\n",
      "|RESTAURANTE TOKYO               |RO |\n",
      "|RESTAURANTE RETIRO DOS PADRES   |SC |\n",
      "|RESTAURANTE LA MAMMA            |PR |\n",
      "|RESTAURANTE E PIZZARIA LUIS GOES|SP |\n",
      "+--------------------------------+---+\n",
      "only showing top 10 rows\n",
      "\n"
     ]
    }
   ],
   "source": [
    "estabelecimentos\\\n",
    "    .select(\"nome_fantasia\",\"uf\")\\\n",
    "    .where(f.upper(estabelecimentos.nome_fantasia).like('RESTAURANTE%'))\\\n",
    "    .show(10, False)"
   ]
  },
  {
   "cell_type": "markdown",
   "id": "65af4a9c",
   "metadata": {},
   "source": [
    "## Aggregations and Joins"
   ]
  },
  {
   "cell_type": "code",
   "execution_count": 56,
   "id": "d0ef1dbd",
   "metadata": {},
   "outputs": [
    {
     "name": "stdout",
     "output_type": "stream",
     "text": [
      "+--------------+------+\n",
      "|ano_de_entrada| count|\n",
      "+--------------+------+\n",
      "|          2010| 79337|\n",
      "|          2011| 83906|\n",
      "|          2012| 80101|\n",
      "|          2013| 83919|\n",
      "|          2014| 80590|\n",
      "|          2015| 80906|\n",
      "|          2016| 81587|\n",
      "|          2017| 90221|\n",
      "|          2018| 99935|\n",
      "|          2019|118248|\n",
      "|          2020|125927|\n",
      "|          2021| 56316|\n",
      "+--------------+------+\n",
      "\n"
     ]
    }
   ],
   "source": [
    "socios\\\n",
    "    .select(f.year('data_de_entrada_sociedade').alias('ano_de_entrada'))\\\n",
    "    .where('ano_de_entrada >= 2010')\\\n",
    "    .groupBy('ano_de_entrada')\\\n",
    "    .count()\\\n",
    "    .orderBy('ano_de_entrada',asciending=True)\\\n",
    "    .show()"
   ]
  },
  {
   "cell_type": "code",
   "execution_count": 57,
   "id": "85ebfd42",
   "metadata": {},
   "outputs": [
    {
     "name": "stdout",
     "output_type": "stream",
     "text": [
      "+----------------+--------------------+----------+\n",
      "|porte_da_empresa|capital_social_medio|frequencia|\n",
      "+----------------+--------------------+----------+\n",
      "|            null|    8.35421888053467|      5985|\n",
      "|               1|   339994.5331350705|   3129043|\n",
      "|               3|  2601001.7677092687|    115151|\n",
      "|               5|   708660.4208249793|   1335500|\n",
      "+----------------+--------------------+----------+\n",
      "\n"
     ]
    }
   ],
   "source": [
    "empresas\\\n",
    "    .select('cnpj_basico','porte_da_empresa','capital_social_da_empresa')\\\n",
    "    .groupBy('porte_da_empresa')\\\n",
    "    .agg(\n",
    "        f.avg('capital_social_da_empresa').alias('capital_social_medio'),\n",
    "        f.count(\"cnpj_basico\").alias('frequencia')\n",
    "    )\\\n",
    "    .orderBy('porte_da_empresa')\\\n",
    "    .show()"
   ]
  },
  {
   "cell_type": "code",
   "execution_count": 58,
   "id": "92d450be",
   "metadata": {},
   "outputs": [
    {
     "name": "stdout",
     "output_type": "stream",
     "text": [
      "+-------+-------------------------+\n",
      "|summary|capital_social_da_empresa|\n",
      "+-------+-------------------------+\n",
      "|  count|                  4585679|\n",
      "|   mean|        503694.5478542674|\n",
      "| stddev|     2.1118691490537742E8|\n",
      "|    min|                      0.0|\n",
      "|    25%|                      0.0|\n",
      "|    50%|                   1000.0|\n",
      "|    75%|                   7000.0|\n",
      "|    max|         3.22014670262E11|\n",
      "+-------+-------------------------+\n",
      "\n"
     ]
    }
   ],
   "source": [
    "empresas\\\n",
    "    .select(\"capital_social_da_empresa\")\\\n",
    "    .summary()\\\n",
    "    .show()"
   ]
  },
  {
   "cell_type": "code",
   "execution_count": 59,
   "id": "3fdd9742",
   "metadata": {},
   "outputs": [],
   "source": [
    "# how = inner, left, right, outer\n",
    "empresas_join = estabelecimentos.join(empresas, 'cnpj_basico', how='inner')"
   ]
  },
  {
   "cell_type": "code",
   "execution_count": 60,
   "id": "b7482282",
   "metadata": {},
   "outputs": [],
   "source": [
    "freq = empresas_join\\\n",
    "    .select(\n",
    "        'cnpj_basico',\n",
    "        f.year('data_de_inicio_atividade').alias('data_de_inicio')\n",
    "    )\\\n",
    "    .where('data_de_inicio >= 2010')\\\n",
    "    .groupBy('data_de_inicio')\\\n",
    "    .agg(f.count('cnpj_basico').alias('frequencia'))\\\n",
    "    .orderBy('data_de_inicio')"
   ]
  },
  {
   "cell_type": "code",
   "execution_count": 61,
   "id": "7e471334",
   "metadata": {},
   "outputs": [
    {
     "data": {
      "text/html": [
       "<div>\n",
       "<style scoped>\n",
       "    .dataframe tbody tr th:only-of-type {\n",
       "        vertical-align: middle;\n",
       "    }\n",
       "\n",
       "    .dataframe tbody tr th {\n",
       "        vertical-align: top;\n",
       "    }\n",
       "\n",
       "    .dataframe thead th {\n",
       "        text-align: right;\n",
       "    }\n",
       "</style>\n",
       "<table border=\"1\" class=\"dataframe\">\n",
       "  <thead>\n",
       "    <tr style=\"text-align: right;\">\n",
       "      <th></th>\n",
       "      <th>data_de_inicio</th>\n",
       "      <th>frequencia</th>\n",
       "    </tr>\n",
       "  </thead>\n",
       "  <tbody>\n",
       "    <tr>\n",
       "      <th>0</th>\n",
       "      <td>2010</td>\n",
       "      <td>154159</td>\n",
       "    </tr>\n",
       "    <tr>\n",
       "      <th>1</th>\n",
       "      <td>2011</td>\n",
       "      <td>172677</td>\n",
       "    </tr>\n",
       "    <tr>\n",
       "      <th>2</th>\n",
       "      <td>2012</td>\n",
       "      <td>232480</td>\n",
       "    </tr>\n",
       "    <tr>\n",
       "      <th>3</th>\n",
       "      <td>2013</td>\n",
       "      <td>198424</td>\n",
       "    </tr>\n",
       "    <tr>\n",
       "      <th>4</th>\n",
       "      <td>2014</td>\n",
       "      <td>202276</td>\n",
       "    </tr>\n",
       "    <tr>\n",
       "      <th>5</th>\n",
       "      <td>2015</td>\n",
       "      <td>212523</td>\n",
       "    </tr>\n",
       "    <tr>\n",
       "      <th>6</th>\n",
       "      <td>2016</td>\n",
       "      <td>265417</td>\n",
       "    </tr>\n",
       "    <tr>\n",
       "      <th>7</th>\n",
       "      <td>2017</td>\n",
       "      <td>237292</td>\n",
       "    </tr>\n",
       "    <tr>\n",
       "      <th>8</th>\n",
       "      <td>2018</td>\n",
       "      <td>275435</td>\n",
       "    </tr>\n",
       "    <tr>\n",
       "      <th>9</th>\n",
       "      <td>2019</td>\n",
       "      <td>325922</td>\n",
       "    </tr>\n",
       "    <tr>\n",
       "      <th>10</th>\n",
       "      <td>2020</td>\n",
       "      <td>400654</td>\n",
       "    </tr>\n",
       "    <tr>\n",
       "      <th>11</th>\n",
       "      <td>2021</td>\n",
       "      <td>153275</td>\n",
       "    </tr>\n",
       "  </tbody>\n",
       "</table>\n",
       "</div>"
      ],
      "text/plain": [
       "    data_de_inicio  frequencia\n",
       "0             2010      154159\n",
       "1             2011      172677\n",
       "2             2012      232480\n",
       "3             2013      198424\n",
       "4             2014      202276\n",
       "5             2015      212523\n",
       "6             2016      265417\n",
       "7             2017      237292\n",
       "8             2018      275435\n",
       "9             2019      325922\n",
       "10            2020      400654\n",
       "11            2021      153275"
      ]
     },
     "execution_count": 61,
     "metadata": {},
     "output_type": "execute_result"
    }
   ],
   "source": [
    "freq.toPandas()"
   ]
  },
  {
   "cell_type": "code",
   "execution_count": 62,
   "id": "c29cee33",
   "metadata": {},
   "outputs": [
    {
     "name": "stdout",
     "output_type": "stream",
     "text": [
      "+--------------+----------+\n",
      "|data_de_inicio|frequencia|\n",
      "+--------------+----------+\n",
      "|          2010|    154159|\n",
      "|          2011|    172677|\n",
      "|          2012|    232480|\n",
      "|          2013|    198424|\n",
      "|          2014|    202276|\n",
      "|          2015|    212523|\n",
      "|          2016|    265417|\n",
      "|          2017|    237292|\n",
      "|          2018|    275435|\n",
      "|          2019|    325922|\n",
      "|          2020|    400654|\n",
      "|          2021|    153275|\n",
      "|         Total|   2830534|\n",
      "+--------------+----------+\n",
      "\n"
     ]
    }
   ],
   "source": [
    "freq.union(\n",
    "    freq.select(\n",
    "        f.lit('Total').alias('data_de_inicio'),\n",
    "        f.sum(freq.frequencia).alias('frequencia')\n",
    "    )\n",
    ").show()"
   ]
  },
  {
   "cell_type": "markdown",
   "id": "7e2d2413",
   "metadata": {},
   "source": [
    "## Spark SQL"
   ]
  },
  {
   "cell_type": "code",
   "execution_count": 63,
   "id": "e9e06094",
   "metadata": {},
   "outputs": [],
   "source": [
    "empresas.createOrReplaceTempView('empresasView')"
   ]
  },
  {
   "cell_type": "code",
   "execution_count": 64,
   "id": "a21fddee",
   "metadata": {},
   "outputs": [
    {
     "name": "stdout",
     "output_type": "stream",
     "text": [
      "+-----------+-----------------------------+-----------------+---------------------------+-------------------------+----------------+---------------------------+\n",
      "|cnpj_basico|razao_social_nome_empresarial|natureza_juridica|qualificacao_do_responsavel|capital_social_da_empresa|porte_da_empresa|ente_federativo_responsavel|\n",
      "+-----------+-----------------------------+-----------------+---------------------------+-------------------------+----------------+---------------------------+\n",
      "|       4519|         DANIELA DA SILVA ...|             2135|                         50|                      0.0|               5|                       null|\n",
      "|       8638|         JOAO DOS SANTOS F...|             2135|                         50|                      0.0|               5|                       null|\n",
      "|      11748|         PANIFICADORA E CO...|             2062|                         49|                      0.0|               1|                       null|\n",
      "|      12027|          L G SORVETERIA LTDA|             2062|                         49|                      0.0|               5|                       null|\n",
      "|      13289|         ANDREIA CRISTINA ...|             2305|                         65|                 100000.0|               1|                       null|\n",
      "+-----------+-----------------------------+-----------------+---------------------------+-------------------------+----------------+---------------------------+\n",
      "\n"
     ]
    }
   ],
   "source": [
    "spark.sql('SELECT * FROM empresasView LIMIT 5').show(5)"
   ]
  },
  {
   "cell_type": "code",
   "execution_count": 65,
   "id": "2478262b",
   "metadata": {},
   "outputs": [
    {
     "name": "stdout",
     "output_type": "stream",
     "text": [
      "+-----------+-----------------------------+-----------------+---------------------------+-------------------------+----------------+---------------------------+\n",
      "|cnpj_basico|razao_social_nome_empresarial|natureza_juridica|qualificacao_do_responsavel|capital_social_da_empresa|porte_da_empresa|ente_federativo_responsavel|\n",
      "+-----------+-----------------------------+-----------------+---------------------------+-------------------------+----------------+---------------------------+\n",
      "|   14715041|         LIDIANE MARIA DO ...|             2135|                         50|                     50.0|               1|                       null|\n",
      "|   20601885|         CRISTIANO AKIHITO...|             2135|                         50|                     50.0|               1|                       null|\n",
      "|   23661983|         VITOR ALOISIO DO ...|             2135|                         50|                     50.0|               1|                       null|\n",
      "|   23714726|         JOSELINA PANSINI ...|             2135|                         50|                     50.0|               1|                       null|\n",
      "|   26022246|         SUZANE SILVA DE O...|             2135|                         50|                     50.0|               1|                       null|\n",
      "+-----------+-----------------------------+-----------------+---------------------------+-------------------------+----------------+---------------------------+\n",
      "only showing top 5 rows\n",
      "\n"
     ]
    }
   ],
   "source": [
    "spark.sql(\"\"\"\n",
    "    SELECT *\n",
    "        FROM empresasView\n",
    "            WHERE capital_social_da_empresa = 50\n",
    "\"\"\").show(5)"
   ]
  },
  {
   "cell_type": "code",
   "execution_count": 66,
   "id": "7fcfee2f",
   "metadata": {},
   "outputs": [
    {
     "name": "stdout",
     "output_type": "stream",
     "text": [
      "+----------------+------------------+\n",
      "|porte_da_empresa|             Media|\n",
      "+----------------+------------------+\n",
      "|            null|  8.35421888053467|\n",
      "|               1| 339994.5331350705|\n",
      "|               3|2601001.7677092687|\n",
      "|               5| 708660.4208249793|\n",
      "+----------------+------------------+\n",
      "\n"
     ]
    }
   ],
   "source": [
    "spark.sql(\"\"\"\n",
    "    SELECT porte_da_empresa, MEAN(capital_social_da_empresa) AS Media\n",
    "        FROM empresasView\n",
    "            GROUP BY porte_da_empresa\n",
    "\"\"\").show(5)"
   ]
  },
  {
   "cell_type": "code",
   "execution_count": 67,
   "id": "f4cdb461",
   "metadata": {},
   "outputs": [],
   "source": [
    "empresas_join.createOrReplaceTempView('empresasJoinView')"
   ]
  },
  {
   "cell_type": "code",
   "execution_count": 68,
   "id": "fcadf2c6",
   "metadata": {},
   "outputs": [],
   "source": [
    "freq = spark\\\n",
    "    .sql(\"\"\"\n",
    "        SELECT YEAR(data_de_inicio_atividade) AS data_de_inicio, COUNT(cnpj_basico) AS count\n",
    "            FROM empresasJoinView\n",
    "            WHERE YEAR(data_de_inicio_atividade) >= 2010\n",
    "            GROUP BY data_de_inicio\n",
    "            ORDER BY data_de_inicio\n",
    "    \"\"\")"
   ]
  },
  {
   "cell_type": "code",
   "execution_count": 69,
   "id": "43e538c9",
   "metadata": {},
   "outputs": [],
   "source": [
    "freq.createOrReplaceTempView(\"freqView\")"
   ]
  },
  {
   "cell_type": "code",
   "execution_count": 70,
   "id": "26449f9a",
   "metadata": {},
   "outputs": [
    {
     "name": "stdout",
     "output_type": "stream",
     "text": [
      "+--------------+-------+\n",
      "|data_de_inicio|  count|\n",
      "+--------------+-------+\n",
      "|          2010| 154159|\n",
      "|          2011| 172677|\n",
      "|          2012| 232480|\n",
      "|          2013| 198424|\n",
      "|          2014| 202276|\n",
      "|          2015| 212523|\n",
      "|          2016| 265417|\n",
      "|          2017| 237292|\n",
      "|          2018| 275435|\n",
      "|          2019| 325922|\n",
      "|          2020| 400654|\n",
      "|          2021| 153275|\n",
      "|         Total|2830534|\n",
      "+--------------+-------+\n",
      "\n"
     ]
    }
   ],
   "source": [
    "spark.sql(\"\"\"\n",
    "    SELECT * FROM freqView\n",
    "        UNION ALL\n",
    "    SELECT 'Total' AS data_de_inicio, SUM(count) AS count FROM freqView\n",
    "\"\"\").show()"
   ]
  },
  {
   "cell_type": "markdown",
   "id": "9b2afda1",
   "metadata": {},
   "source": [
    "## Armazenamento"
   ]
  },
  {
   "cell_type": "code",
   "execution_count": 72,
   "id": "285c8e14",
   "metadata": {},
   "outputs": [
    {
     "ename": "Py4JJavaError",
     "evalue": "An error occurred while calling o462.csv.\n: java.lang.UnsatisfiedLinkError: org.apache.hadoop.io.nativeio.NativeIO$Windows.access0(Ljava/lang/String;I)Z\r\n\tat org.apache.hadoop.io.nativeio.NativeIO$Windows.access0(Native Method)\r\n\tat org.apache.hadoop.io.nativeio.NativeIO$Windows.access(NativeIO.java:793)\r\n\tat org.apache.hadoop.fs.FileUtil.canRead(FileUtil.java:1249)\r\n\tat org.apache.hadoop.fs.FileUtil.list(FileUtil.java:1454)\r\n\tat org.apache.hadoop.fs.RawLocalFileSystem.listStatus(RawLocalFileSystem.java:601)\r\n\tat org.apache.hadoop.fs.FileSystem.listStatus(FileSystem.java:1972)\r\n\tat org.apache.hadoop.fs.FileSystem.listStatus(FileSystem.java:2014)\r\n\tat org.apache.hadoop.fs.ChecksumFileSystem.listStatus(ChecksumFileSystem.java:761)\r\n\tat org.apache.hadoop.fs.FileSystem.listStatus(FileSystem.java:1972)\r\n\tat org.apache.hadoop.fs.FileSystem.listStatus(FileSystem.java:2014)\r\n\tat org.apache.hadoop.mapreduce.lib.output.FileOutputCommitter.getAllCommittedTaskPaths(FileOutputCommitter.java:334)\r\n\tat org.apache.hadoop.mapreduce.lib.output.FileOutputCommitter.commitJobInternal(FileOutputCommitter.java:404)\r\n\tat org.apache.hadoop.mapreduce.lib.output.FileOutputCommitter.commitJob(FileOutputCommitter.java:377)\r\n\tat org.apache.spark.internal.io.HadoopMapReduceCommitProtocol.commitJob(HadoopMapReduceCommitProtocol.scala:192)\r\n\tat org.apache.spark.sql.execution.datasources.FileFormatWriter$.$anonfun$writeAndCommit$3(FileFormatWriter.scala:275)\r\n\tat scala.runtime.java8.JFunction0$mcV$sp.apply(JFunction0$mcV$sp.java:23)\r\n\tat org.apache.spark.util.Utils$.timeTakenMs(Utils.scala:640)\r\n\tat org.apache.spark.sql.execution.datasources.FileFormatWriter$.writeAndCommit(FileFormatWriter.scala:275)\r\n\tat org.apache.spark.sql.execution.datasources.FileFormatWriter$.executeWrite(FileFormatWriter.scala:304)\r\n\tat org.apache.spark.sql.execution.datasources.FileFormatWriter$.write(FileFormatWriter.scala:190)\r\n\tat org.apache.spark.sql.execution.datasources.InsertIntoHadoopFsRelationCommand.run(InsertIntoHadoopFsRelationCommand.scala:190)\r\n\tat org.apache.spark.sql.execution.command.DataWritingCommandExec.sideEffectResult$lzycompute(commands.scala:113)\r\n\tat org.apache.spark.sql.execution.command.DataWritingCommandExec.sideEffectResult(commands.scala:111)\r\n\tat org.apache.spark.sql.execution.command.DataWritingCommandExec.executeCollect(commands.scala:125)\r\n\tat org.apache.spark.sql.execution.QueryExecution$$anonfun$eagerlyExecuteCommands$1.$anonfun$applyOrElse$1(QueryExecution.scala:98)\r\n\tat org.apache.spark.sql.execution.SQLExecution$.$anonfun$withNewExecutionId$6(SQLExecution.scala:118)\r\n\tat org.apache.spark.sql.execution.SQLExecution$.withSQLConfPropagated(SQLExecution.scala:195)\r\n\tat org.apache.spark.sql.execution.SQLExecution$.$anonfun$withNewExecutionId$1(SQLExecution.scala:103)\r\n\tat org.apache.spark.sql.SparkSession.withActive(SparkSession.scala:827)\r\n\tat org.apache.spark.sql.execution.SQLExecution$.withNewExecutionId(SQLExecution.scala:65)\r\n\tat org.apache.spark.sql.execution.QueryExecution$$anonfun$eagerlyExecuteCommands$1.applyOrElse(QueryExecution.scala:98)\r\n\tat org.apache.spark.sql.execution.QueryExecution$$anonfun$eagerlyExecuteCommands$1.applyOrElse(QueryExecution.scala:94)\r\n\tat org.apache.spark.sql.catalyst.trees.TreeNode.$anonfun$transformDownWithPruning$1(TreeNode.scala:512)\r\n\tat org.apache.spark.sql.catalyst.trees.CurrentOrigin$.withOrigin(TreeNode.scala:104)\r\n\tat org.apache.spark.sql.catalyst.trees.TreeNode.transformDownWithPruning(TreeNode.scala:512)\r\n\tat org.apache.spark.sql.catalyst.plans.logical.LogicalPlan.org$apache$spark$sql$catalyst$plans$logical$AnalysisHelper$$super$transformDownWithPruning(LogicalPlan.scala:31)\r\n\tat org.apache.spark.sql.catalyst.plans.logical.AnalysisHelper.transformDownWithPruning(AnalysisHelper.scala:267)\r\n\tat org.apache.spark.sql.catalyst.plans.logical.AnalysisHelper.transformDownWithPruning$(AnalysisHelper.scala:263)\r\n\tat org.apache.spark.sql.catalyst.plans.logical.LogicalPlan.transformDownWithPruning(LogicalPlan.scala:31)\r\n\tat org.apache.spark.sql.catalyst.plans.logical.LogicalPlan.transformDownWithPruning(LogicalPlan.scala:31)\r\n\tat org.apache.spark.sql.catalyst.trees.TreeNode.transformDown(TreeNode.scala:488)\r\n\tat org.apache.spark.sql.execution.QueryExecution.eagerlyExecuteCommands(QueryExecution.scala:94)\r\n\tat org.apache.spark.sql.execution.QueryExecution.commandExecuted$lzycompute(QueryExecution.scala:81)\r\n\tat org.apache.spark.sql.execution.QueryExecution.commandExecuted(QueryExecution.scala:79)\r\n\tat org.apache.spark.sql.execution.QueryExecution.assertCommandExecuted(QueryExecution.scala:133)\r\n\tat org.apache.spark.sql.DataFrameWriter.runCommand(DataFrameWriter.scala:856)\r\n\tat org.apache.spark.sql.DataFrameWriter.saveToV1Source(DataFrameWriter.scala:387)\r\n\tat org.apache.spark.sql.DataFrameWriter.saveInternal(DataFrameWriter.scala:360)\r\n\tat org.apache.spark.sql.DataFrameWriter.save(DataFrameWriter.scala:239)\r\n\tat org.apache.spark.sql.DataFrameWriter.csv(DataFrameWriter.scala:847)\r\n\tat sun.reflect.NativeMethodAccessorImpl.invoke0(Native Method)\r\n\tat sun.reflect.NativeMethodAccessorImpl.invoke(Unknown Source)\r\n\tat sun.reflect.DelegatingMethodAccessorImpl.invoke(Unknown Source)\r\n\tat java.lang.reflect.Method.invoke(Unknown Source)\r\n\tat py4j.reflection.MethodInvoker.invoke(MethodInvoker.java:244)\r\n\tat py4j.reflection.ReflectionEngine.invoke(ReflectionEngine.java:374)\r\n\tat py4j.Gateway.invoke(Gateway.java:282)\r\n\tat py4j.commands.AbstractCommand.invokeMethod(AbstractCommand.java:132)\r\n\tat py4j.commands.CallCommand.execute(CallCommand.java:79)\r\n\tat py4j.ClientServerConnection.waitForCommands(ClientServerConnection.java:182)\r\n\tat py4j.ClientServerConnection.run(ClientServerConnection.java:106)\r\n\tat java.lang.Thread.run(Unknown Source)\r\n",
     "output_type": "error",
     "traceback": [
      "\u001b[1;31m---------------------------------------------------------------------------\u001b[0m",
      "\u001b[1;31mPy4JJavaError\u001b[0m                             Traceback (most recent call last)",
      "Cell \u001b[1;32mIn[72], line 2\u001b[0m\n\u001b[0;32m      1\u001b[0m dir_path\u001b[38;5;241m=\u001b[39mos\u001b[38;5;241m.\u001b[39mpath\u001b[38;5;241m.\u001b[39mabspath(path\u001b[38;5;241m+\u001b[39m\u001b[38;5;124m\"\u001b[39m\u001b[38;5;124mempresas\u001b[39m\u001b[38;5;130;01m\\\\\u001b[39;00m\u001b[38;5;124mcsv\u001b[39m\u001b[38;5;124m\"\u001b[39m)\n\u001b[1;32m----> 2\u001b[0m empresas\u001b[38;5;241m.\u001b[39mwrite\u001b[38;5;241m.\u001b[39mcsv(\n\u001b[0;32m      3\u001b[0m     path\u001b[38;5;241m=\u001b[39mpath\u001b[38;5;241m+\u001b[39m\u001b[38;5;124m\"\u001b[39m\u001b[38;5;124mempresas\u001b[39m\u001b[38;5;130;01m\\\\\u001b[39;00m\u001b[38;5;124mcsv\u001b[39m\u001b[38;5;124m\"\u001b[39m,\n\u001b[0;32m      4\u001b[0m     mode\u001b[38;5;241m=\u001b[39m\u001b[38;5;124m'\u001b[39m\u001b[38;5;124moverwrite\u001b[39m\u001b[38;5;124m'\u001b[39m,\n\u001b[0;32m      5\u001b[0m     sep\u001b[38;5;241m=\u001b[39m\u001b[38;5;124m'\u001b[39m\u001b[38;5;124m;\u001b[39m\u001b[38;5;124m'\u001b[39m,\n\u001b[0;32m      6\u001b[0m     header\u001b[38;5;241m=\u001b[39m\u001b[38;5;28;01mTrue\u001b[39;00m\n\u001b[0;32m      7\u001b[0m )\n",
      "File \u001b[1;32mC:\\spark\\python\\pyspark\\sql\\readwriter.py:1799\u001b[0m, in \u001b[0;36mDataFrameWriter.csv\u001b[1;34m(self, path, mode, compression, sep, quote, escape, header, nullValue, escapeQuotes, quoteAll, dateFormat, timestampFormat, ignoreLeadingWhiteSpace, ignoreTrailingWhiteSpace, charToEscapeQuoteEscaping, encoding, emptyValue, lineSep)\u001b[0m\n\u001b[0;32m   1780\u001b[0m \u001b[38;5;28mself\u001b[39m\u001b[38;5;241m.\u001b[39mmode(mode)\n\u001b[0;32m   1781\u001b[0m \u001b[38;5;28mself\u001b[39m\u001b[38;5;241m.\u001b[39m_set_opts(\n\u001b[0;32m   1782\u001b[0m     compression\u001b[38;5;241m=\u001b[39mcompression,\n\u001b[0;32m   1783\u001b[0m     sep\u001b[38;5;241m=\u001b[39msep,\n\u001b[1;32m   (...)\u001b[0m\n\u001b[0;32m   1797\u001b[0m     lineSep\u001b[38;5;241m=\u001b[39mlineSep,\n\u001b[0;32m   1798\u001b[0m )\n\u001b[1;32m-> 1799\u001b[0m \u001b[38;5;28mself\u001b[39m\u001b[38;5;241m.\u001b[39m_jwrite\u001b[38;5;241m.\u001b[39mcsv(path)\n",
      "File \u001b[1;32mC:\\spark\\python\\lib\\py4j-0.10.9.7-src.zip\\py4j\\java_gateway.py:1322\u001b[0m, in \u001b[0;36mJavaMember.__call__\u001b[1;34m(self, *args)\u001b[0m\n\u001b[0;32m   1316\u001b[0m command \u001b[38;5;241m=\u001b[39m proto\u001b[38;5;241m.\u001b[39mCALL_COMMAND_NAME \u001b[38;5;241m+\u001b[39m\\\n\u001b[0;32m   1317\u001b[0m     \u001b[38;5;28mself\u001b[39m\u001b[38;5;241m.\u001b[39mcommand_header \u001b[38;5;241m+\u001b[39m\\\n\u001b[0;32m   1318\u001b[0m     args_command \u001b[38;5;241m+\u001b[39m\\\n\u001b[0;32m   1319\u001b[0m     proto\u001b[38;5;241m.\u001b[39mEND_COMMAND_PART\n\u001b[0;32m   1321\u001b[0m answer \u001b[38;5;241m=\u001b[39m \u001b[38;5;28mself\u001b[39m\u001b[38;5;241m.\u001b[39mgateway_client\u001b[38;5;241m.\u001b[39msend_command(command)\n\u001b[1;32m-> 1322\u001b[0m return_value \u001b[38;5;241m=\u001b[39m get_return_value(\n\u001b[0;32m   1323\u001b[0m     answer, \u001b[38;5;28mself\u001b[39m\u001b[38;5;241m.\u001b[39mgateway_client, \u001b[38;5;28mself\u001b[39m\u001b[38;5;241m.\u001b[39mtarget_id, \u001b[38;5;28mself\u001b[39m\u001b[38;5;241m.\u001b[39mname)\n\u001b[0;32m   1325\u001b[0m \u001b[38;5;28;01mfor\u001b[39;00m temp_arg \u001b[38;5;129;01min\u001b[39;00m temp_args:\n\u001b[0;32m   1326\u001b[0m     \u001b[38;5;28;01mif\u001b[39;00m \u001b[38;5;28mhasattr\u001b[39m(temp_arg, \u001b[38;5;124m\"\u001b[39m\u001b[38;5;124m_detach\u001b[39m\u001b[38;5;124m\"\u001b[39m):\n",
      "File \u001b[1;32mC:\\spark\\python\\pyspark\\errors\\exceptions\\captured.py:169\u001b[0m, in \u001b[0;36mcapture_sql_exception.<locals>.deco\u001b[1;34m(*a, **kw)\u001b[0m\n\u001b[0;32m    167\u001b[0m \u001b[38;5;28;01mdef\u001b[39;00m \u001b[38;5;21mdeco\u001b[39m(\u001b[38;5;241m*\u001b[39ma: Any, \u001b[38;5;241m*\u001b[39m\u001b[38;5;241m*\u001b[39mkw: Any) \u001b[38;5;241m-\u001b[39m\u001b[38;5;241m>\u001b[39m Any:\n\u001b[0;32m    168\u001b[0m     \u001b[38;5;28;01mtry\u001b[39;00m:\n\u001b[1;32m--> 169\u001b[0m         \u001b[38;5;28;01mreturn\u001b[39;00m f(\u001b[38;5;241m*\u001b[39ma, \u001b[38;5;241m*\u001b[39m\u001b[38;5;241m*\u001b[39mkw)\n\u001b[0;32m    170\u001b[0m     \u001b[38;5;28;01mexcept\u001b[39;00m Py4JJavaError \u001b[38;5;28;01mas\u001b[39;00m e:\n\u001b[0;32m    171\u001b[0m         converted \u001b[38;5;241m=\u001b[39m convert_exception(e\u001b[38;5;241m.\u001b[39mjava_exception)\n",
      "File \u001b[1;32mC:\\spark\\python\\lib\\py4j-0.10.9.7-src.zip\\py4j\\protocol.py:326\u001b[0m, in \u001b[0;36mget_return_value\u001b[1;34m(answer, gateway_client, target_id, name)\u001b[0m\n\u001b[0;32m    324\u001b[0m value \u001b[38;5;241m=\u001b[39m OUTPUT_CONVERTER[\u001b[38;5;28mtype\u001b[39m](answer[\u001b[38;5;241m2\u001b[39m:], gateway_client)\n\u001b[0;32m    325\u001b[0m \u001b[38;5;28;01mif\u001b[39;00m answer[\u001b[38;5;241m1\u001b[39m] \u001b[38;5;241m==\u001b[39m REFERENCE_TYPE:\n\u001b[1;32m--> 326\u001b[0m     \u001b[38;5;28;01mraise\u001b[39;00m Py4JJavaError(\n\u001b[0;32m    327\u001b[0m         \u001b[38;5;124m\"\u001b[39m\u001b[38;5;124mAn error occurred while calling \u001b[39m\u001b[38;5;132;01m{0}\u001b[39;00m\u001b[38;5;132;01m{1}\u001b[39;00m\u001b[38;5;132;01m{2}\u001b[39;00m\u001b[38;5;124m.\u001b[39m\u001b[38;5;130;01m\\n\u001b[39;00m\u001b[38;5;124m\"\u001b[39m\u001b[38;5;241m.\u001b[39m\n\u001b[0;32m    328\u001b[0m         \u001b[38;5;28mformat\u001b[39m(target_id, \u001b[38;5;124m\"\u001b[39m\u001b[38;5;124m.\u001b[39m\u001b[38;5;124m\"\u001b[39m, name), value)\n\u001b[0;32m    329\u001b[0m \u001b[38;5;28;01melse\u001b[39;00m:\n\u001b[0;32m    330\u001b[0m     \u001b[38;5;28;01mraise\u001b[39;00m Py4JError(\n\u001b[0;32m    331\u001b[0m         \u001b[38;5;124m\"\u001b[39m\u001b[38;5;124mAn error occurred while calling \u001b[39m\u001b[38;5;132;01m{0}\u001b[39;00m\u001b[38;5;132;01m{1}\u001b[39;00m\u001b[38;5;132;01m{2}\u001b[39;00m\u001b[38;5;124m. Trace:\u001b[39m\u001b[38;5;130;01m\\n\u001b[39;00m\u001b[38;5;132;01m{3}\u001b[39;00m\u001b[38;5;130;01m\\n\u001b[39;00m\u001b[38;5;124m\"\u001b[39m\u001b[38;5;241m.\u001b[39m\n\u001b[0;32m    332\u001b[0m         \u001b[38;5;28mformat\u001b[39m(target_id, \u001b[38;5;124m\"\u001b[39m\u001b[38;5;124m.\u001b[39m\u001b[38;5;124m\"\u001b[39m, name, value))\n",
      "\u001b[1;31mPy4JJavaError\u001b[0m: An error occurred while calling o462.csv.\n: java.lang.UnsatisfiedLinkError: org.apache.hadoop.io.nativeio.NativeIO$Windows.access0(Ljava/lang/String;I)Z\r\n\tat org.apache.hadoop.io.nativeio.NativeIO$Windows.access0(Native Method)\r\n\tat org.apache.hadoop.io.nativeio.NativeIO$Windows.access(NativeIO.java:793)\r\n\tat org.apache.hadoop.fs.FileUtil.canRead(FileUtil.java:1249)\r\n\tat org.apache.hadoop.fs.FileUtil.list(FileUtil.java:1454)\r\n\tat org.apache.hadoop.fs.RawLocalFileSystem.listStatus(RawLocalFileSystem.java:601)\r\n\tat org.apache.hadoop.fs.FileSystem.listStatus(FileSystem.java:1972)\r\n\tat org.apache.hadoop.fs.FileSystem.listStatus(FileSystem.java:2014)\r\n\tat org.apache.hadoop.fs.ChecksumFileSystem.listStatus(ChecksumFileSystem.java:761)\r\n\tat org.apache.hadoop.fs.FileSystem.listStatus(FileSystem.java:1972)\r\n\tat org.apache.hadoop.fs.FileSystem.listStatus(FileSystem.java:2014)\r\n\tat org.apache.hadoop.mapreduce.lib.output.FileOutputCommitter.getAllCommittedTaskPaths(FileOutputCommitter.java:334)\r\n\tat org.apache.hadoop.mapreduce.lib.output.FileOutputCommitter.commitJobInternal(FileOutputCommitter.java:404)\r\n\tat org.apache.hadoop.mapreduce.lib.output.FileOutputCommitter.commitJob(FileOutputCommitter.java:377)\r\n\tat org.apache.spark.internal.io.HadoopMapReduceCommitProtocol.commitJob(HadoopMapReduceCommitProtocol.scala:192)\r\n\tat org.apache.spark.sql.execution.datasources.FileFormatWriter$.$anonfun$writeAndCommit$3(FileFormatWriter.scala:275)\r\n\tat scala.runtime.java8.JFunction0$mcV$sp.apply(JFunction0$mcV$sp.java:23)\r\n\tat org.apache.spark.util.Utils$.timeTakenMs(Utils.scala:640)\r\n\tat org.apache.spark.sql.execution.datasources.FileFormatWriter$.writeAndCommit(FileFormatWriter.scala:275)\r\n\tat org.apache.spark.sql.execution.datasources.FileFormatWriter$.executeWrite(FileFormatWriter.scala:304)\r\n\tat org.apache.spark.sql.execution.datasources.FileFormatWriter$.write(FileFormatWriter.scala:190)\r\n\tat org.apache.spark.sql.execution.datasources.InsertIntoHadoopFsRelationCommand.run(InsertIntoHadoopFsRelationCommand.scala:190)\r\n\tat org.apache.spark.sql.execution.command.DataWritingCommandExec.sideEffectResult$lzycompute(commands.scala:113)\r\n\tat org.apache.spark.sql.execution.command.DataWritingCommandExec.sideEffectResult(commands.scala:111)\r\n\tat org.apache.spark.sql.execution.command.DataWritingCommandExec.executeCollect(commands.scala:125)\r\n\tat org.apache.spark.sql.execution.QueryExecution$$anonfun$eagerlyExecuteCommands$1.$anonfun$applyOrElse$1(QueryExecution.scala:98)\r\n\tat org.apache.spark.sql.execution.SQLExecution$.$anonfun$withNewExecutionId$6(SQLExecution.scala:118)\r\n\tat org.apache.spark.sql.execution.SQLExecution$.withSQLConfPropagated(SQLExecution.scala:195)\r\n\tat org.apache.spark.sql.execution.SQLExecution$.$anonfun$withNewExecutionId$1(SQLExecution.scala:103)\r\n\tat org.apache.spark.sql.SparkSession.withActive(SparkSession.scala:827)\r\n\tat org.apache.spark.sql.execution.SQLExecution$.withNewExecutionId(SQLExecution.scala:65)\r\n\tat org.apache.spark.sql.execution.QueryExecution$$anonfun$eagerlyExecuteCommands$1.applyOrElse(QueryExecution.scala:98)\r\n\tat org.apache.spark.sql.execution.QueryExecution$$anonfun$eagerlyExecuteCommands$1.applyOrElse(QueryExecution.scala:94)\r\n\tat org.apache.spark.sql.catalyst.trees.TreeNode.$anonfun$transformDownWithPruning$1(TreeNode.scala:512)\r\n\tat org.apache.spark.sql.catalyst.trees.CurrentOrigin$.withOrigin(TreeNode.scala:104)\r\n\tat org.apache.spark.sql.catalyst.trees.TreeNode.transformDownWithPruning(TreeNode.scala:512)\r\n\tat org.apache.spark.sql.catalyst.plans.logical.LogicalPlan.org$apache$spark$sql$catalyst$plans$logical$AnalysisHelper$$super$transformDownWithPruning(LogicalPlan.scala:31)\r\n\tat org.apache.spark.sql.catalyst.plans.logical.AnalysisHelper.transformDownWithPruning(AnalysisHelper.scala:267)\r\n\tat org.apache.spark.sql.catalyst.plans.logical.AnalysisHelper.transformDownWithPruning$(AnalysisHelper.scala:263)\r\n\tat org.apache.spark.sql.catalyst.plans.logical.LogicalPlan.transformDownWithPruning(LogicalPlan.scala:31)\r\n\tat org.apache.spark.sql.catalyst.plans.logical.LogicalPlan.transformDownWithPruning(LogicalPlan.scala:31)\r\n\tat org.apache.spark.sql.catalyst.trees.TreeNode.transformDown(TreeNode.scala:488)\r\n\tat org.apache.spark.sql.execution.QueryExecution.eagerlyExecuteCommands(QueryExecution.scala:94)\r\n\tat org.apache.spark.sql.execution.QueryExecution.commandExecuted$lzycompute(QueryExecution.scala:81)\r\n\tat org.apache.spark.sql.execution.QueryExecution.commandExecuted(QueryExecution.scala:79)\r\n\tat org.apache.spark.sql.execution.QueryExecution.assertCommandExecuted(QueryExecution.scala:133)\r\n\tat org.apache.spark.sql.DataFrameWriter.runCommand(DataFrameWriter.scala:856)\r\n\tat org.apache.spark.sql.DataFrameWriter.saveToV1Source(DataFrameWriter.scala:387)\r\n\tat org.apache.spark.sql.DataFrameWriter.saveInternal(DataFrameWriter.scala:360)\r\n\tat org.apache.spark.sql.DataFrameWriter.save(DataFrameWriter.scala:239)\r\n\tat org.apache.spark.sql.DataFrameWriter.csv(DataFrameWriter.scala:847)\r\n\tat sun.reflect.NativeMethodAccessorImpl.invoke0(Native Method)\r\n\tat sun.reflect.NativeMethodAccessorImpl.invoke(Unknown Source)\r\n\tat sun.reflect.DelegatingMethodAccessorImpl.invoke(Unknown Source)\r\n\tat java.lang.reflect.Method.invoke(Unknown Source)\r\n\tat py4j.reflection.MethodInvoker.invoke(MethodInvoker.java:244)\r\n\tat py4j.reflection.ReflectionEngine.invoke(ReflectionEngine.java:374)\r\n\tat py4j.Gateway.invoke(Gateway.java:282)\r\n\tat py4j.commands.AbstractCommand.invokeMethod(AbstractCommand.java:132)\r\n\tat py4j.commands.CallCommand.execute(CallCommand.java:79)\r\n\tat py4j.ClientServerConnection.waitForCommands(ClientServerConnection.java:182)\r\n\tat py4j.ClientServerConnection.run(ClientServerConnection.java:106)\r\n\tat java.lang.Thread.run(Unknown Source)\r\n"
     ]
    }
   ],
   "source": [
    "empresas.write.csv(\n",
    "    path=path+\"empresas\\\\csv\",\n",
    "    mode='overwrite',\n",
    "    sep=';',\n",
    "    header=True\n",
    ")"
   ]
  },
  {
   "cell_type": "code",
   "execution_count": 76,
   "id": "991c8977",
   "metadata": {},
   "outputs": [
    {
     "ename": "Py4JJavaError",
     "evalue": "An error occurred while calling o468.parquet.\n: java.lang.UnsatisfiedLinkError: org.apache.hadoop.io.nativeio.NativeIO$Windows.access0(Ljava/lang/String;I)Z\r\n\tat org.apache.hadoop.io.nativeio.NativeIO$Windows.access0(Native Method)\r\n\tat org.apache.hadoop.io.nativeio.NativeIO$Windows.access(NativeIO.java:793)\r\n\tat org.apache.hadoop.fs.FileUtil.canRead(FileUtil.java:1249)\r\n\tat org.apache.hadoop.fs.FileUtil.list(FileUtil.java:1454)\r\n\tat org.apache.hadoop.fs.RawLocalFileSystem.listStatus(RawLocalFileSystem.java:601)\r\n\tat org.apache.hadoop.fs.FileSystem.listStatus(FileSystem.java:1972)\r\n\tat org.apache.hadoop.fs.FileSystem.listStatus(FileSystem.java:2014)\r\n\tat org.apache.hadoop.fs.ChecksumFileSystem.listStatus(ChecksumFileSystem.java:761)\r\n\tat org.apache.hadoop.fs.FileSystem.listStatus(FileSystem.java:1972)\r\n\tat org.apache.hadoop.fs.FileSystem.listStatus(FileSystem.java:2014)\r\n\tat org.apache.hadoop.mapreduce.lib.output.FileOutputCommitter.getAllCommittedTaskPaths(FileOutputCommitter.java:334)\r\n\tat org.apache.hadoop.mapreduce.lib.output.FileOutputCommitter.commitJobInternal(FileOutputCommitter.java:404)\r\n\tat org.apache.hadoop.mapreduce.lib.output.FileOutputCommitter.commitJob(FileOutputCommitter.java:377)\r\n\tat org.apache.parquet.hadoop.ParquetOutputCommitter.commitJob(ParquetOutputCommitter.java:48)\r\n\tat org.apache.spark.internal.io.HadoopMapReduceCommitProtocol.commitJob(HadoopMapReduceCommitProtocol.scala:192)\r\n\tat org.apache.spark.sql.execution.datasources.FileFormatWriter$.$anonfun$writeAndCommit$3(FileFormatWriter.scala:275)\r\n\tat scala.runtime.java8.JFunction0$mcV$sp.apply(JFunction0$mcV$sp.java:23)\r\n\tat org.apache.spark.util.Utils$.timeTakenMs(Utils.scala:640)\r\n\tat org.apache.spark.sql.execution.datasources.FileFormatWriter$.writeAndCommit(FileFormatWriter.scala:275)\r\n\tat org.apache.spark.sql.execution.datasources.FileFormatWriter$.executeWrite(FileFormatWriter.scala:304)\r\n\tat org.apache.spark.sql.execution.datasources.FileFormatWriter$.write(FileFormatWriter.scala:190)\r\n\tat org.apache.spark.sql.execution.datasources.InsertIntoHadoopFsRelationCommand.run(InsertIntoHadoopFsRelationCommand.scala:190)\r\n\tat org.apache.spark.sql.execution.command.DataWritingCommandExec.sideEffectResult$lzycompute(commands.scala:113)\r\n\tat org.apache.spark.sql.execution.command.DataWritingCommandExec.sideEffectResult(commands.scala:111)\r\n\tat org.apache.spark.sql.execution.command.DataWritingCommandExec.executeCollect(commands.scala:125)\r\n\tat org.apache.spark.sql.execution.QueryExecution$$anonfun$eagerlyExecuteCommands$1.$anonfun$applyOrElse$1(QueryExecution.scala:98)\r\n\tat org.apache.spark.sql.execution.SQLExecution$.$anonfun$withNewExecutionId$6(SQLExecution.scala:118)\r\n\tat org.apache.spark.sql.execution.SQLExecution$.withSQLConfPropagated(SQLExecution.scala:195)\r\n\tat org.apache.spark.sql.execution.SQLExecution$.$anonfun$withNewExecutionId$1(SQLExecution.scala:103)\r\n\tat org.apache.spark.sql.SparkSession.withActive(SparkSession.scala:827)\r\n\tat org.apache.spark.sql.execution.SQLExecution$.withNewExecutionId(SQLExecution.scala:65)\r\n\tat org.apache.spark.sql.execution.QueryExecution$$anonfun$eagerlyExecuteCommands$1.applyOrElse(QueryExecution.scala:98)\r\n\tat org.apache.spark.sql.execution.QueryExecution$$anonfun$eagerlyExecuteCommands$1.applyOrElse(QueryExecution.scala:94)\r\n\tat org.apache.spark.sql.catalyst.trees.TreeNode.$anonfun$transformDownWithPruning$1(TreeNode.scala:512)\r\n\tat org.apache.spark.sql.catalyst.trees.CurrentOrigin$.withOrigin(TreeNode.scala:104)\r\n\tat org.apache.spark.sql.catalyst.trees.TreeNode.transformDownWithPruning(TreeNode.scala:512)\r\n\tat org.apache.spark.sql.catalyst.plans.logical.LogicalPlan.org$apache$spark$sql$catalyst$plans$logical$AnalysisHelper$$super$transformDownWithPruning(LogicalPlan.scala:31)\r\n\tat org.apache.spark.sql.catalyst.plans.logical.AnalysisHelper.transformDownWithPruning(AnalysisHelper.scala:267)\r\n\tat org.apache.spark.sql.catalyst.plans.logical.AnalysisHelper.transformDownWithPruning$(AnalysisHelper.scala:263)\r\n\tat org.apache.spark.sql.catalyst.plans.logical.LogicalPlan.transformDownWithPruning(LogicalPlan.scala:31)\r\n\tat org.apache.spark.sql.catalyst.plans.logical.LogicalPlan.transformDownWithPruning(LogicalPlan.scala:31)\r\n\tat org.apache.spark.sql.catalyst.trees.TreeNode.transformDown(TreeNode.scala:488)\r\n\tat org.apache.spark.sql.execution.QueryExecution.eagerlyExecuteCommands(QueryExecution.scala:94)\r\n\tat org.apache.spark.sql.execution.QueryExecution.commandExecuted$lzycompute(QueryExecution.scala:81)\r\n\tat org.apache.spark.sql.execution.QueryExecution.commandExecuted(QueryExecution.scala:79)\r\n\tat org.apache.spark.sql.execution.QueryExecution.assertCommandExecuted(QueryExecution.scala:133)\r\n\tat org.apache.spark.sql.DataFrameWriter.runCommand(DataFrameWriter.scala:856)\r\n\tat org.apache.spark.sql.DataFrameWriter.saveToV1Source(DataFrameWriter.scala:387)\r\n\tat org.apache.spark.sql.DataFrameWriter.saveInternal(DataFrameWriter.scala:360)\r\n\tat org.apache.spark.sql.DataFrameWriter.save(DataFrameWriter.scala:239)\r\n\tat org.apache.spark.sql.DataFrameWriter.parquet(DataFrameWriter.scala:789)\r\n\tat sun.reflect.NativeMethodAccessorImpl.invoke0(Native Method)\r\n\tat sun.reflect.NativeMethodAccessorImpl.invoke(Unknown Source)\r\n\tat sun.reflect.DelegatingMethodAccessorImpl.invoke(Unknown Source)\r\n\tat java.lang.reflect.Method.invoke(Unknown Source)\r\n\tat py4j.reflection.MethodInvoker.invoke(MethodInvoker.java:244)\r\n\tat py4j.reflection.ReflectionEngine.invoke(ReflectionEngine.java:374)\r\n\tat py4j.Gateway.invoke(Gateway.java:282)\r\n\tat py4j.commands.AbstractCommand.invokeMethod(AbstractCommand.java:132)\r\n\tat py4j.commands.CallCommand.execute(CallCommand.java:79)\r\n\tat py4j.ClientServerConnection.waitForCommands(ClientServerConnection.java:182)\r\n\tat py4j.ClientServerConnection.run(ClientServerConnection.java:106)\r\n\tat java.lang.Thread.run(Unknown Source)\r\n",
     "output_type": "error",
     "traceback": [
      "\u001b[1;31m---------------------------------------------------------------------------\u001b[0m",
      "\u001b[1;31mPy4JJavaError\u001b[0m                             Traceback (most recent call last)",
      "Cell \u001b[1;32mIn[76], line 1\u001b[0m\n\u001b[1;32m----> 1\u001b[0m empresas\u001b[38;5;241m.\u001b[39mwrite\u001b[38;5;241m.\u001b[39mparquet(\n\u001b[0;32m      2\u001b[0m     path\u001b[38;5;241m=\u001b[39mpath\u001b[38;5;241m+\u001b[39m\u001b[38;5;124m\"\u001b[39m\u001b[38;5;124mempresas\u001b[39m\u001b[38;5;130;01m\\\\\u001b[39;00m\u001b[38;5;124mparquet\u001b[39m\u001b[38;5;124m\"\u001b[39m,\n\u001b[0;32m      3\u001b[0m     mode\u001b[38;5;241m=\u001b[39m\u001b[38;5;124m'\u001b[39m\u001b[38;5;124moverwrite\u001b[39m\u001b[38;5;124m'\u001b[39m\n\u001b[0;32m      4\u001b[0m )\n",
      "File \u001b[1;32mC:\\spark\\python\\pyspark\\sql\\readwriter.py:1656\u001b[0m, in \u001b[0;36mDataFrameWriter.parquet\u001b[1;34m(self, path, mode, partitionBy, compression)\u001b[0m\n\u001b[0;32m   1654\u001b[0m     \u001b[38;5;28mself\u001b[39m\u001b[38;5;241m.\u001b[39mpartitionBy(partitionBy)\n\u001b[0;32m   1655\u001b[0m \u001b[38;5;28mself\u001b[39m\u001b[38;5;241m.\u001b[39m_set_opts(compression\u001b[38;5;241m=\u001b[39mcompression)\n\u001b[1;32m-> 1656\u001b[0m \u001b[38;5;28mself\u001b[39m\u001b[38;5;241m.\u001b[39m_jwrite\u001b[38;5;241m.\u001b[39mparquet(path)\n",
      "File \u001b[1;32mC:\\spark\\python\\lib\\py4j-0.10.9.7-src.zip\\py4j\\java_gateway.py:1322\u001b[0m, in \u001b[0;36mJavaMember.__call__\u001b[1;34m(self, *args)\u001b[0m\n\u001b[0;32m   1316\u001b[0m command \u001b[38;5;241m=\u001b[39m proto\u001b[38;5;241m.\u001b[39mCALL_COMMAND_NAME \u001b[38;5;241m+\u001b[39m\\\n\u001b[0;32m   1317\u001b[0m     \u001b[38;5;28mself\u001b[39m\u001b[38;5;241m.\u001b[39mcommand_header \u001b[38;5;241m+\u001b[39m\\\n\u001b[0;32m   1318\u001b[0m     args_command \u001b[38;5;241m+\u001b[39m\\\n\u001b[0;32m   1319\u001b[0m     proto\u001b[38;5;241m.\u001b[39mEND_COMMAND_PART\n\u001b[0;32m   1321\u001b[0m answer \u001b[38;5;241m=\u001b[39m \u001b[38;5;28mself\u001b[39m\u001b[38;5;241m.\u001b[39mgateway_client\u001b[38;5;241m.\u001b[39msend_command(command)\n\u001b[1;32m-> 1322\u001b[0m return_value \u001b[38;5;241m=\u001b[39m get_return_value(\n\u001b[0;32m   1323\u001b[0m     answer, \u001b[38;5;28mself\u001b[39m\u001b[38;5;241m.\u001b[39mgateway_client, \u001b[38;5;28mself\u001b[39m\u001b[38;5;241m.\u001b[39mtarget_id, \u001b[38;5;28mself\u001b[39m\u001b[38;5;241m.\u001b[39mname)\n\u001b[0;32m   1325\u001b[0m \u001b[38;5;28;01mfor\u001b[39;00m temp_arg \u001b[38;5;129;01min\u001b[39;00m temp_args:\n\u001b[0;32m   1326\u001b[0m     \u001b[38;5;28;01mif\u001b[39;00m \u001b[38;5;28mhasattr\u001b[39m(temp_arg, \u001b[38;5;124m\"\u001b[39m\u001b[38;5;124m_detach\u001b[39m\u001b[38;5;124m\"\u001b[39m):\n",
      "File \u001b[1;32mC:\\spark\\python\\pyspark\\errors\\exceptions\\captured.py:169\u001b[0m, in \u001b[0;36mcapture_sql_exception.<locals>.deco\u001b[1;34m(*a, **kw)\u001b[0m\n\u001b[0;32m    167\u001b[0m \u001b[38;5;28;01mdef\u001b[39;00m \u001b[38;5;21mdeco\u001b[39m(\u001b[38;5;241m*\u001b[39ma: Any, \u001b[38;5;241m*\u001b[39m\u001b[38;5;241m*\u001b[39mkw: Any) \u001b[38;5;241m-\u001b[39m\u001b[38;5;241m>\u001b[39m Any:\n\u001b[0;32m    168\u001b[0m     \u001b[38;5;28;01mtry\u001b[39;00m:\n\u001b[1;32m--> 169\u001b[0m         \u001b[38;5;28;01mreturn\u001b[39;00m f(\u001b[38;5;241m*\u001b[39ma, \u001b[38;5;241m*\u001b[39m\u001b[38;5;241m*\u001b[39mkw)\n\u001b[0;32m    170\u001b[0m     \u001b[38;5;28;01mexcept\u001b[39;00m Py4JJavaError \u001b[38;5;28;01mas\u001b[39;00m e:\n\u001b[0;32m    171\u001b[0m         converted \u001b[38;5;241m=\u001b[39m convert_exception(e\u001b[38;5;241m.\u001b[39mjava_exception)\n",
      "File \u001b[1;32mC:\\spark\\python\\lib\\py4j-0.10.9.7-src.zip\\py4j\\protocol.py:326\u001b[0m, in \u001b[0;36mget_return_value\u001b[1;34m(answer, gateway_client, target_id, name)\u001b[0m\n\u001b[0;32m    324\u001b[0m value \u001b[38;5;241m=\u001b[39m OUTPUT_CONVERTER[\u001b[38;5;28mtype\u001b[39m](answer[\u001b[38;5;241m2\u001b[39m:], gateway_client)\n\u001b[0;32m    325\u001b[0m \u001b[38;5;28;01mif\u001b[39;00m answer[\u001b[38;5;241m1\u001b[39m] \u001b[38;5;241m==\u001b[39m REFERENCE_TYPE:\n\u001b[1;32m--> 326\u001b[0m     \u001b[38;5;28;01mraise\u001b[39;00m Py4JJavaError(\n\u001b[0;32m    327\u001b[0m         \u001b[38;5;124m\"\u001b[39m\u001b[38;5;124mAn error occurred while calling \u001b[39m\u001b[38;5;132;01m{0}\u001b[39;00m\u001b[38;5;132;01m{1}\u001b[39;00m\u001b[38;5;132;01m{2}\u001b[39;00m\u001b[38;5;124m.\u001b[39m\u001b[38;5;130;01m\\n\u001b[39;00m\u001b[38;5;124m\"\u001b[39m\u001b[38;5;241m.\u001b[39m\n\u001b[0;32m    328\u001b[0m         \u001b[38;5;28mformat\u001b[39m(target_id, \u001b[38;5;124m\"\u001b[39m\u001b[38;5;124m.\u001b[39m\u001b[38;5;124m\"\u001b[39m, name), value)\n\u001b[0;32m    329\u001b[0m \u001b[38;5;28;01melse\u001b[39;00m:\n\u001b[0;32m    330\u001b[0m     \u001b[38;5;28;01mraise\u001b[39;00m Py4JError(\n\u001b[0;32m    331\u001b[0m         \u001b[38;5;124m\"\u001b[39m\u001b[38;5;124mAn error occurred while calling \u001b[39m\u001b[38;5;132;01m{0}\u001b[39;00m\u001b[38;5;132;01m{1}\u001b[39;00m\u001b[38;5;132;01m{2}\u001b[39;00m\u001b[38;5;124m. Trace:\u001b[39m\u001b[38;5;130;01m\\n\u001b[39;00m\u001b[38;5;132;01m{3}\u001b[39;00m\u001b[38;5;130;01m\\n\u001b[39;00m\u001b[38;5;124m\"\u001b[39m\u001b[38;5;241m.\u001b[39m\n\u001b[0;32m    332\u001b[0m         \u001b[38;5;28mformat\u001b[39m(target_id, \u001b[38;5;124m\"\u001b[39m\u001b[38;5;124m.\u001b[39m\u001b[38;5;124m\"\u001b[39m, name, value))\n",
      "\u001b[1;31mPy4JJavaError\u001b[0m: An error occurred while calling o468.parquet.\n: java.lang.UnsatisfiedLinkError: org.apache.hadoop.io.nativeio.NativeIO$Windows.access0(Ljava/lang/String;I)Z\r\n\tat org.apache.hadoop.io.nativeio.NativeIO$Windows.access0(Native Method)\r\n\tat org.apache.hadoop.io.nativeio.NativeIO$Windows.access(NativeIO.java:793)\r\n\tat org.apache.hadoop.fs.FileUtil.canRead(FileUtil.java:1249)\r\n\tat org.apache.hadoop.fs.FileUtil.list(FileUtil.java:1454)\r\n\tat org.apache.hadoop.fs.RawLocalFileSystem.listStatus(RawLocalFileSystem.java:601)\r\n\tat org.apache.hadoop.fs.FileSystem.listStatus(FileSystem.java:1972)\r\n\tat org.apache.hadoop.fs.FileSystem.listStatus(FileSystem.java:2014)\r\n\tat org.apache.hadoop.fs.ChecksumFileSystem.listStatus(ChecksumFileSystem.java:761)\r\n\tat org.apache.hadoop.fs.FileSystem.listStatus(FileSystem.java:1972)\r\n\tat org.apache.hadoop.fs.FileSystem.listStatus(FileSystem.java:2014)\r\n\tat org.apache.hadoop.mapreduce.lib.output.FileOutputCommitter.getAllCommittedTaskPaths(FileOutputCommitter.java:334)\r\n\tat org.apache.hadoop.mapreduce.lib.output.FileOutputCommitter.commitJobInternal(FileOutputCommitter.java:404)\r\n\tat org.apache.hadoop.mapreduce.lib.output.FileOutputCommitter.commitJob(FileOutputCommitter.java:377)\r\n\tat org.apache.parquet.hadoop.ParquetOutputCommitter.commitJob(ParquetOutputCommitter.java:48)\r\n\tat org.apache.spark.internal.io.HadoopMapReduceCommitProtocol.commitJob(HadoopMapReduceCommitProtocol.scala:192)\r\n\tat org.apache.spark.sql.execution.datasources.FileFormatWriter$.$anonfun$writeAndCommit$3(FileFormatWriter.scala:275)\r\n\tat scala.runtime.java8.JFunction0$mcV$sp.apply(JFunction0$mcV$sp.java:23)\r\n\tat org.apache.spark.util.Utils$.timeTakenMs(Utils.scala:640)\r\n\tat org.apache.spark.sql.execution.datasources.FileFormatWriter$.writeAndCommit(FileFormatWriter.scala:275)\r\n\tat org.apache.spark.sql.execution.datasources.FileFormatWriter$.executeWrite(FileFormatWriter.scala:304)\r\n\tat org.apache.spark.sql.execution.datasources.FileFormatWriter$.write(FileFormatWriter.scala:190)\r\n\tat org.apache.spark.sql.execution.datasources.InsertIntoHadoopFsRelationCommand.run(InsertIntoHadoopFsRelationCommand.scala:190)\r\n\tat org.apache.spark.sql.execution.command.DataWritingCommandExec.sideEffectResult$lzycompute(commands.scala:113)\r\n\tat org.apache.spark.sql.execution.command.DataWritingCommandExec.sideEffectResult(commands.scala:111)\r\n\tat org.apache.spark.sql.execution.command.DataWritingCommandExec.executeCollect(commands.scala:125)\r\n\tat org.apache.spark.sql.execution.QueryExecution$$anonfun$eagerlyExecuteCommands$1.$anonfun$applyOrElse$1(QueryExecution.scala:98)\r\n\tat org.apache.spark.sql.execution.SQLExecution$.$anonfun$withNewExecutionId$6(SQLExecution.scala:118)\r\n\tat org.apache.spark.sql.execution.SQLExecution$.withSQLConfPropagated(SQLExecution.scala:195)\r\n\tat org.apache.spark.sql.execution.SQLExecution$.$anonfun$withNewExecutionId$1(SQLExecution.scala:103)\r\n\tat org.apache.spark.sql.SparkSession.withActive(SparkSession.scala:827)\r\n\tat org.apache.spark.sql.execution.SQLExecution$.withNewExecutionId(SQLExecution.scala:65)\r\n\tat org.apache.spark.sql.execution.QueryExecution$$anonfun$eagerlyExecuteCommands$1.applyOrElse(QueryExecution.scala:98)\r\n\tat org.apache.spark.sql.execution.QueryExecution$$anonfun$eagerlyExecuteCommands$1.applyOrElse(QueryExecution.scala:94)\r\n\tat org.apache.spark.sql.catalyst.trees.TreeNode.$anonfun$transformDownWithPruning$1(TreeNode.scala:512)\r\n\tat org.apache.spark.sql.catalyst.trees.CurrentOrigin$.withOrigin(TreeNode.scala:104)\r\n\tat org.apache.spark.sql.catalyst.trees.TreeNode.transformDownWithPruning(TreeNode.scala:512)\r\n\tat org.apache.spark.sql.catalyst.plans.logical.LogicalPlan.org$apache$spark$sql$catalyst$plans$logical$AnalysisHelper$$super$transformDownWithPruning(LogicalPlan.scala:31)\r\n\tat org.apache.spark.sql.catalyst.plans.logical.AnalysisHelper.transformDownWithPruning(AnalysisHelper.scala:267)\r\n\tat org.apache.spark.sql.catalyst.plans.logical.AnalysisHelper.transformDownWithPruning$(AnalysisHelper.scala:263)\r\n\tat org.apache.spark.sql.catalyst.plans.logical.LogicalPlan.transformDownWithPruning(LogicalPlan.scala:31)\r\n\tat org.apache.spark.sql.catalyst.plans.logical.LogicalPlan.transformDownWithPruning(LogicalPlan.scala:31)\r\n\tat org.apache.spark.sql.catalyst.trees.TreeNode.transformDown(TreeNode.scala:488)\r\n\tat org.apache.spark.sql.execution.QueryExecution.eagerlyExecuteCommands(QueryExecution.scala:94)\r\n\tat org.apache.spark.sql.execution.QueryExecution.commandExecuted$lzycompute(QueryExecution.scala:81)\r\n\tat org.apache.spark.sql.execution.QueryExecution.commandExecuted(QueryExecution.scala:79)\r\n\tat org.apache.spark.sql.execution.QueryExecution.assertCommandExecuted(QueryExecution.scala:133)\r\n\tat org.apache.spark.sql.DataFrameWriter.runCommand(DataFrameWriter.scala:856)\r\n\tat org.apache.spark.sql.DataFrameWriter.saveToV1Source(DataFrameWriter.scala:387)\r\n\tat org.apache.spark.sql.DataFrameWriter.saveInternal(DataFrameWriter.scala:360)\r\n\tat org.apache.spark.sql.DataFrameWriter.save(DataFrameWriter.scala:239)\r\n\tat org.apache.spark.sql.DataFrameWriter.parquet(DataFrameWriter.scala:789)\r\n\tat sun.reflect.NativeMethodAccessorImpl.invoke0(Native Method)\r\n\tat sun.reflect.NativeMethodAccessorImpl.invoke(Unknown Source)\r\n\tat sun.reflect.DelegatingMethodAccessorImpl.invoke(Unknown Source)\r\n\tat java.lang.reflect.Method.invoke(Unknown Source)\r\n\tat py4j.reflection.MethodInvoker.invoke(MethodInvoker.java:244)\r\n\tat py4j.reflection.ReflectionEngine.invoke(ReflectionEngine.java:374)\r\n\tat py4j.Gateway.invoke(Gateway.java:282)\r\n\tat py4j.commands.AbstractCommand.invokeMethod(AbstractCommand.java:132)\r\n\tat py4j.commands.CallCommand.execute(CallCommand.java:79)\r\n\tat py4j.ClientServerConnection.waitForCommands(ClientServerConnection.java:182)\r\n\tat py4j.ClientServerConnection.run(ClientServerConnection.java:106)\r\n\tat java.lang.Thread.run(Unknown Source)\r\n"
     ]
    }
   ],
   "source": [
    "empresas.write.parquet(\n",
    "    path=path+\"empresas\\\\parquet\",\n",
    "    mode='overwrite'\n",
    ")"
   ]
  },
  {
   "cell_type": "code",
   "execution_count": 77,
   "id": "77f2f754",
   "metadata": {},
   "outputs": [],
   "source": [
    "spark.stop()"
   ]
  }
 ],
 "metadata": {
  "kernelspec": {
   "display_name": "Python 3 (ipykernel)",
   "language": "python",
   "name": "python3"
  },
  "language_info": {
   "codemirror_mode": {
    "name": "ipython",
    "version": 3
   },
   "file_extension": ".py",
   "mimetype": "text/x-python",
   "name": "python",
   "nbconvert_exporter": "python",
   "pygments_lexer": "ipython3",
   "version": "3.11.3"
  }
 },
 "nbformat": 4,
 "nbformat_minor": 5
}
